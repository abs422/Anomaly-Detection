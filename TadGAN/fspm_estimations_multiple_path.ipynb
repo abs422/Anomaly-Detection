{
  "nbformat": 4,
  "nbformat_minor": 0,
  "metadata": {
    "colab": {
      "provenance": []
    },
    "kernelspec": {
      "name": "python3",
      "display_name": "Python 3"
    },
    "language_info": {
      "name": "python"
    }
  },
  "cells": [
    {
      "cell_type": "code",
      "execution_count": 38,
      "metadata": {
        "id": "HoVaMSK6r96S"
      },
      "outputs": [],
      "source": [
        "import math # Mathematical functions\n",
        "import numpy as np # Fundamental package for scientific computing with Python\n",
        "import pandas as pd # Additional functions for analysing and manipulating data\n",
        "from datetime import date, timedelta, datetime # Date Functions\n",
        "from pandas.plotting import register_matplotlib_converters # This function adds plotting functions for calender dates\n",
        "import matplotlib.pyplot as plt # Important package for visualization - we use this to plot the market data\n",
        "import matplotlib.dates as mdates # Formatting dates\n",
        "import tensorflow as tf\n",
        "from sklearn.metrics import mean_absolute_error, mean_squared_error # Packages for measuring model performance / errors\n",
        "from tensorflow.keras import Sequential # Deep learning library, used for neural networks\n",
        "from tensorflow.keras.layers import LSTM, Dense, Dropout # Deep learning classes for recurrent and regular densely-connected layers\n",
        "from tensorflow.keras.callbacks import EarlyStopping # EarlyStopping during model training\n",
        "from sklearn.preprocessing import RobustScaler, MinMaxScaler # This Scaler removes the median and scales the data according to the quantile range to normalize the price data\n",
        "import seaborn as sns # Visualization\n",
        "sns.set_style('white', { 'axes.spines.right': False, 'axes.spines.top': False})"
      ]
    },
    {
      "cell_type": "code",
      "source": [
        "import xml.etree.ElementTree as et\n",
        "import pandas as pd\n",
        "import numpy as np\n",
        "import sys\n",
        "import os\n",
        "\n",
        "xtree = et.parse(\"/content/drive/MyDrive/Rick- Anomaly Detection/Data/SUMO/sumoTrace_v4.xml\")\n",
        "xroot = xtree.getroot()"
      ],
      "metadata": {
        "id": "xuxbFp6WsCKP"
      },
      "execution_count": 39,
      "outputs": []
    },
    {
      "cell_type": "code",
      "source": [
        "# Initialize empty lists to store data\n",
        "data = {\n",
        "    'time': [],\n",
        "    'vehicle_id': [],\n",
        "    'x': [],\n",
        "    'y': [],\n",
        "\n",
        "    'speed': [],\n",
        "    'pos': [],\n",
        "\n",
        "}\n"
      ],
      "metadata": {
        "id": "BMAK-6W7sEMc"
      },
      "execution_count": 40,
      "outputs": []
    },
    {
      "cell_type": "code",
      "source": [
        "# Iterate over timestep elements and extract data\n",
        "for timestep in xroot.findall('timestep'):\n",
        "    time = float(timestep.get('time'))\n",
        "    for vehicle in timestep.findall('vehicle'):\n",
        "        vehicle_id = int(vehicle.get('id'))\n",
        "        x = float(vehicle.get('x'))\n",
        "        y = float(vehicle.get('y'))\n",
        "\n",
        "        speed = float(vehicle.get('speed'))\n",
        "        pos = float(vehicle.get('pos'))\n",
        "\n",
        "\n",
        "        # Append data to respective lists\n",
        "        data['time'].append(time)\n",
        "        data['vehicle_id'].append(vehicle_id)\n",
        "        data['x'].append(x)\n",
        "        data['y'].append(y)\n",
        "\n",
        "        data['speed'].append(speed)\n",
        "        data['pos'].append(pos)\n",
        "\n",
        "\n",
        "# Create DataFrame from the collected data\n",
        "data = pd.DataFrame(data)\n",
        "\n",
        "# Print the resulting DataFrame\n",
        "print(data)"
      ],
      "metadata": {
        "colab": {
          "base_uri": "https://localhost:8080/"
        },
        "id": "YUxtu8Y_sMqg",
        "outputId": "e3e74547-d333-47fe-a86f-0c6d73bd152f"
      },
      "execution_count": 41,
      "outputs": [
        {
          "output_type": "stream",
          "name": "stdout",
          "text": [
            "         time  vehicle_id        x        y  speed    pos\n",
            "0         0.0           0  3669.96  4203.11   0.00   5.10\n",
            "1         0.5           0  3669.42  4203.09   1.07   5.63\n",
            "2         1.0           0  3668.30  4203.03   2.26   6.76\n",
            "3         1.5           0  3666.52  4202.94   3.55   8.54\n",
            "4         2.0           0  3664.15  4202.82   4.76  10.92\n",
            "...       ...         ...      ...      ...    ...    ...\n",
            "113483  788.0         179  2267.78   988.21  15.76   8.63\n",
            "113484  788.5         179  2266.92   996.10  15.88  16.57\n",
            "113485  789.0         179  2266.06  1003.98  15.83   6.64\n",
            "113486  789.5         179  2265.21  1011.73  15.60   5.04\n",
            "113487  790.0         179  2264.34  1019.69  16.02  13.05\n",
            "\n",
            "[113488 rows x 6 columns]\n"
          ]
        }
      ]
    },
    {
      "cell_type": "code",
      "source": [
        "# Change id here for different paths from SUMO\n",
        "id = 10\n",
        "\n",
        "df_x0 = data[data['vehicle_id'] == id]"
      ],
      "metadata": {
        "id": "h8SY05qAsO2u"
      },
      "execution_count": 93,
      "outputs": []
    },
    {
      "cell_type": "code",
      "source": [
        "\n",
        "def extreme_random_interpolation(point1, point2, num_points):\n",
        "    # Calculate the step size for interpolation\n",
        "    step = 1.0 / (num_points - 1)\n",
        "\n",
        "    # Initialize the result list with the first point\n",
        "    interpolated_points = [point1]\n",
        "\n",
        "    # Perform extreme random interpolation\n",
        "    for i in range(1, num_points - 1):\n",
        "        # Generate a random number between -1 and 1\n",
        "        randomness = np.random.uniform(-1, 1)\n",
        "\n",
        "        # Calculate the interpolated value with added randomness\n",
        "        interpolated_value = point1 + (point2 - point1) * step * i + randomness\n",
        "\n",
        "        # Append the interpolated value to the result list\n",
        "        interpolated_points.append(interpolated_value)\n",
        "\n",
        "    # Append the second point to complete the interpolation\n",
        "    interpolated_points.append(point2)\n",
        "\n",
        "    return interpolated_points\n",
        "\n",
        "def create_sensor_data(num_noise_columns = 40, std = .01, num_attacked = 2, data = df_x0):\n",
        "  # Create Unattacked data\n",
        "  # Create new columns with Gaussian noise added to 'x'\n",
        "  df_un = data[['time', 'vehicle_id', 'x']]\n",
        "\n",
        "  for i in range(num_noise_columns):\n",
        "      column_name = f'x_{i + 1}'\n",
        "      noise = np.random.normal(0, std, size=len(df_un))\n",
        "      df_un[column_name] = df_un['x'] + noise\n",
        "\n",
        "  # df_unattacked = df_un.drop(columns=['x', 'time', 'vehicle_id'])\n",
        "  df_unattacked = df_un.drop(columns=['time', 'vehicle_id'])\n",
        "\n",
        "  # Create attacked data\n",
        "  # df_x = df_un.drop(columns=['x', 'time', 'vehicle_id'])\n",
        "  df_x = df_un.drop(columns=['time', 'vehicle_id'])\n",
        "  df_x = df_x.reset_index()\n",
        "  df_x = df_x.drop(columns = ['index'])\n",
        "  # Create new columns with Gaussian noise added to 'x' (with consecutive missing values)\n",
        "  for i in range((num_noise_columns-num_attacked), df_unattacked.shape[1]):\n",
        "      # Introduce consecutive missing values in the new column\n",
        "      missing_start = np.random.choice(range(10, len(df_x)))\n",
        "      missing_end = np.random.choice(range(missing_start, len(df_x)))\n",
        "      if missing_end- missing_start <= 1:\n",
        "        missing_end = missing_start + 4\n",
        "      df_x.loc[missing_start:missing_end, f'x_{i}'] = np.nan\n",
        "\n",
        "\n",
        "  for column in df_x.columns:\n",
        "    # df_x[column] = fill_consecutive_nans_with_interpolation(df_x[column])\n",
        "    if df_x[column].isna().any() == True:\n",
        "      nan_indices = df_x[df_x[column].isna()].index\n",
        "      first_index = min(nan_indices)\n",
        "      last_index = max(nan_indices)\n",
        "\n",
        "      first_value = df_x.loc[first_index-1, column]\n",
        "      if last_index == len(df_x)-1:\n",
        "        last_value = df_x.loc[last_index, column]\n",
        "      elif last_index < len(df_x)-1:\n",
        "        last_value = df_x.loc[last_index+1, column]\n",
        "      num_points = last_index - first_index + 1\n",
        "      interpolated = extreme_random_interpolation(first_value, last_value, num_points)\n",
        "\n",
        "      df_x.loc[first_index:last_index, column] = interpolated\n",
        "\n",
        "\n",
        "\n",
        "  return df_un, df_unattacked, df_x"
      ],
      "metadata": {
        "id": "C9Rx-hW0sVyz"
      },
      "execution_count": 186,
      "outputs": []
    },
    {
      "cell_type": "markdown",
      "source": [
        "#### testing the create sensor function"
      ],
      "metadata": {
        "id": "72rWqjwPxHKM"
      }
    },
    {
      "cell_type": "code",
      "source": [
        "df_un, df_unattacked, df_x = create_sensor_data(num_attacked=20, data=df_x0)"
      ],
      "metadata": {
        "colab": {
          "base_uri": "https://localhost:8080/"
        },
        "id": "ukwJNFwPwr8u",
        "outputId": "48c6fbdb-247d-42d1-c89e-211419afd531"
      },
      "execution_count": 185,
      "outputs": [
        {
          "output_type": "stream",
          "name": "stderr",
          "text": [
            "<ipython-input-171-53997450bf65>:32: SettingWithCopyWarning: \n",
            "A value is trying to be set on a copy of a slice from a DataFrame.\n",
            "Try using .loc[row_indexer,col_indexer] = value instead\n",
            "\n",
            "See the caveats in the documentation: https://pandas.pydata.org/pandas-docs/stable/user_guide/indexing.html#returning-a-view-versus-a-copy\n",
            "  df_un[column_name] = df_un['x'] + noise\n",
            "<ipython-input-171-53997450bf65>:32: SettingWithCopyWarning: \n",
            "A value is trying to be set on a copy of a slice from a DataFrame.\n",
            "Try using .loc[row_indexer,col_indexer] = value instead\n",
            "\n",
            "See the caveats in the documentation: https://pandas.pydata.org/pandas-docs/stable/user_guide/indexing.html#returning-a-view-versus-a-copy\n",
            "  df_un[column_name] = df_un['x'] + noise\n"
          ]
        }
      ]
    },
    {
      "cell_type": "code",
      "source": [
        "df_x.head()"
      ],
      "metadata": {
        "colab": {
          "base_uri": "https://localhost:8080/",
          "height": 299
        },
        "id": "w7jYYDmCfu6a",
        "outputId": "8988dacc-e953-475a-ff00-572237112ada"
      },
      "execution_count": 8,
      "outputs": [
        {
          "output_type": "execute_result",
          "data": {
            "text/plain": [
              "         x          x_1          x_2          x_3          x_4          x_5  \\\n",
              "0  1204.82  1204.817596  1204.820812  1204.815701  1204.820652  1204.826074   \n",
              "1  1204.83  1204.824677  1204.817605  1204.826433  1204.817172  1204.820559   \n",
              "2  1204.85  1204.856034  1204.845709  1204.857840  1204.862595  1204.861599   \n",
              "3  1204.88  1204.878629  1204.888380  1204.878807  1204.885643  1204.870614   \n",
              "4  1204.92  1204.912221  1204.910365  1204.929121  1204.914616  1204.923936   \n",
              "\n",
              "           x_6          x_7          x_8          x_9  ...         x_31  \\\n",
              "0  1204.829190  1204.819507  1204.827810  1204.817630  ...  1204.820221   \n",
              "1  1204.829458  1204.828623  1204.835445  1204.839685  ...  1204.813041   \n",
              "2  1204.846011  1204.835983  1204.855854  1204.866332  ...  1204.861376   \n",
              "3  1204.872932  1204.886603  1204.879773  1204.868603  ...  1204.872236   \n",
              "4  1204.926647  1204.926860  1204.925202  1204.911430  ...  1204.909829   \n",
              "\n",
              "          x_32         x_33         x_34         x_35         x_36  \\\n",
              "0  1204.819450  1204.805000  1204.813688  1204.804255  1204.818587   \n",
              "1  1204.828816  1204.832412  1204.828535  1204.820037  1204.825039   \n",
              "2  1204.854864  1204.858872  1204.860157  1204.856425  1204.853578   \n",
              "3  1204.892415  1204.881014  1204.881915  1204.872874  1204.886237   \n",
              "4  1204.925279  1204.921447  1204.919279  1204.931489  1204.908314   \n",
              "\n",
              "          x_37         x_38         x_39         x_40  \n",
              "0  1204.825118  1204.830717  1204.820362  1204.816188  \n",
              "1  1204.827146  1204.837542  1204.843365  1204.827444  \n",
              "2  1204.853842  1204.848004  1204.867426  1204.845543  \n",
              "3  1204.878923  1204.887549  1204.881432  1204.885426  \n",
              "4  1204.923154  1204.922392  1204.918378  1204.920454  \n",
              "\n",
              "[5 rows x 41 columns]"
            ],
            "text/html": [
              "\n",
              "\n",
              "  <div id=\"df-0e68bfc2-471c-43bb-9bf4-a070d9a25d50\">\n",
              "    <div class=\"colab-df-container\">\n",
              "      <div>\n",
              "<style scoped>\n",
              "    .dataframe tbody tr th:only-of-type {\n",
              "        vertical-align: middle;\n",
              "    }\n",
              "\n",
              "    .dataframe tbody tr th {\n",
              "        vertical-align: top;\n",
              "    }\n",
              "\n",
              "    .dataframe thead th {\n",
              "        text-align: right;\n",
              "    }\n",
              "</style>\n",
              "<table border=\"1\" class=\"dataframe\">\n",
              "  <thead>\n",
              "    <tr style=\"text-align: right;\">\n",
              "      <th></th>\n",
              "      <th>x</th>\n",
              "      <th>x_1</th>\n",
              "      <th>x_2</th>\n",
              "      <th>x_3</th>\n",
              "      <th>x_4</th>\n",
              "      <th>x_5</th>\n",
              "      <th>x_6</th>\n",
              "      <th>x_7</th>\n",
              "      <th>x_8</th>\n",
              "      <th>x_9</th>\n",
              "      <th>...</th>\n",
              "      <th>x_31</th>\n",
              "      <th>x_32</th>\n",
              "      <th>x_33</th>\n",
              "      <th>x_34</th>\n",
              "      <th>x_35</th>\n",
              "      <th>x_36</th>\n",
              "      <th>x_37</th>\n",
              "      <th>x_38</th>\n",
              "      <th>x_39</th>\n",
              "      <th>x_40</th>\n",
              "    </tr>\n",
              "  </thead>\n",
              "  <tbody>\n",
              "    <tr>\n",
              "      <th>0</th>\n",
              "      <td>1204.82</td>\n",
              "      <td>1204.817596</td>\n",
              "      <td>1204.820812</td>\n",
              "      <td>1204.815701</td>\n",
              "      <td>1204.820652</td>\n",
              "      <td>1204.826074</td>\n",
              "      <td>1204.829190</td>\n",
              "      <td>1204.819507</td>\n",
              "      <td>1204.827810</td>\n",
              "      <td>1204.817630</td>\n",
              "      <td>...</td>\n",
              "      <td>1204.820221</td>\n",
              "      <td>1204.819450</td>\n",
              "      <td>1204.805000</td>\n",
              "      <td>1204.813688</td>\n",
              "      <td>1204.804255</td>\n",
              "      <td>1204.818587</td>\n",
              "      <td>1204.825118</td>\n",
              "      <td>1204.830717</td>\n",
              "      <td>1204.820362</td>\n",
              "      <td>1204.816188</td>\n",
              "    </tr>\n",
              "    <tr>\n",
              "      <th>1</th>\n",
              "      <td>1204.83</td>\n",
              "      <td>1204.824677</td>\n",
              "      <td>1204.817605</td>\n",
              "      <td>1204.826433</td>\n",
              "      <td>1204.817172</td>\n",
              "      <td>1204.820559</td>\n",
              "      <td>1204.829458</td>\n",
              "      <td>1204.828623</td>\n",
              "      <td>1204.835445</td>\n",
              "      <td>1204.839685</td>\n",
              "      <td>...</td>\n",
              "      <td>1204.813041</td>\n",
              "      <td>1204.828816</td>\n",
              "      <td>1204.832412</td>\n",
              "      <td>1204.828535</td>\n",
              "      <td>1204.820037</td>\n",
              "      <td>1204.825039</td>\n",
              "      <td>1204.827146</td>\n",
              "      <td>1204.837542</td>\n",
              "      <td>1204.843365</td>\n",
              "      <td>1204.827444</td>\n",
              "    </tr>\n",
              "    <tr>\n",
              "      <th>2</th>\n",
              "      <td>1204.85</td>\n",
              "      <td>1204.856034</td>\n",
              "      <td>1204.845709</td>\n",
              "      <td>1204.857840</td>\n",
              "      <td>1204.862595</td>\n",
              "      <td>1204.861599</td>\n",
              "      <td>1204.846011</td>\n",
              "      <td>1204.835983</td>\n",
              "      <td>1204.855854</td>\n",
              "      <td>1204.866332</td>\n",
              "      <td>...</td>\n",
              "      <td>1204.861376</td>\n",
              "      <td>1204.854864</td>\n",
              "      <td>1204.858872</td>\n",
              "      <td>1204.860157</td>\n",
              "      <td>1204.856425</td>\n",
              "      <td>1204.853578</td>\n",
              "      <td>1204.853842</td>\n",
              "      <td>1204.848004</td>\n",
              "      <td>1204.867426</td>\n",
              "      <td>1204.845543</td>\n",
              "    </tr>\n",
              "    <tr>\n",
              "      <th>3</th>\n",
              "      <td>1204.88</td>\n",
              "      <td>1204.878629</td>\n",
              "      <td>1204.888380</td>\n",
              "      <td>1204.878807</td>\n",
              "      <td>1204.885643</td>\n",
              "      <td>1204.870614</td>\n",
              "      <td>1204.872932</td>\n",
              "      <td>1204.886603</td>\n",
              "      <td>1204.879773</td>\n",
              "      <td>1204.868603</td>\n",
              "      <td>...</td>\n",
              "      <td>1204.872236</td>\n",
              "      <td>1204.892415</td>\n",
              "      <td>1204.881014</td>\n",
              "      <td>1204.881915</td>\n",
              "      <td>1204.872874</td>\n",
              "      <td>1204.886237</td>\n",
              "      <td>1204.878923</td>\n",
              "      <td>1204.887549</td>\n",
              "      <td>1204.881432</td>\n",
              "      <td>1204.885426</td>\n",
              "    </tr>\n",
              "    <tr>\n",
              "      <th>4</th>\n",
              "      <td>1204.92</td>\n",
              "      <td>1204.912221</td>\n",
              "      <td>1204.910365</td>\n",
              "      <td>1204.929121</td>\n",
              "      <td>1204.914616</td>\n",
              "      <td>1204.923936</td>\n",
              "      <td>1204.926647</td>\n",
              "      <td>1204.926860</td>\n",
              "      <td>1204.925202</td>\n",
              "      <td>1204.911430</td>\n",
              "      <td>...</td>\n",
              "      <td>1204.909829</td>\n",
              "      <td>1204.925279</td>\n",
              "      <td>1204.921447</td>\n",
              "      <td>1204.919279</td>\n",
              "      <td>1204.931489</td>\n",
              "      <td>1204.908314</td>\n",
              "      <td>1204.923154</td>\n",
              "      <td>1204.922392</td>\n",
              "      <td>1204.918378</td>\n",
              "      <td>1204.920454</td>\n",
              "    </tr>\n",
              "  </tbody>\n",
              "</table>\n",
              "<p>5 rows × 41 columns</p>\n",
              "</div>\n",
              "      <button class=\"colab-df-convert\" onclick=\"convertToInteractive('df-0e68bfc2-471c-43bb-9bf4-a070d9a25d50')\"\n",
              "              title=\"Convert this dataframe to an interactive table.\"\n",
              "              style=\"display:none;\">\n",
              "\n",
              "  <svg xmlns=\"http://www.w3.org/2000/svg\" height=\"24px\"viewBox=\"0 0 24 24\"\n",
              "       width=\"24px\">\n",
              "    <path d=\"M0 0h24v24H0V0z\" fill=\"none\"/>\n",
              "    <path d=\"M18.56 5.44l.94 2.06.94-2.06 2.06-.94-2.06-.94-.94-2.06-.94 2.06-2.06.94zm-11 1L8.5 8.5l.94-2.06 2.06-.94-2.06-.94L8.5 2.5l-.94 2.06-2.06.94zm10 10l.94 2.06.94-2.06 2.06-.94-2.06-.94-.94-2.06-.94 2.06-2.06.94z\"/><path d=\"M17.41 7.96l-1.37-1.37c-.4-.4-.92-.59-1.43-.59-.52 0-1.04.2-1.43.59L10.3 9.45l-7.72 7.72c-.78.78-.78 2.05 0 2.83L4 21.41c.39.39.9.59 1.41.59.51 0 1.02-.2 1.41-.59l7.78-7.78 2.81-2.81c.8-.78.8-2.07 0-2.86zM5.41 20L4 18.59l7.72-7.72 1.47 1.35L5.41 20z\"/>\n",
              "  </svg>\n",
              "      </button>\n",
              "\n",
              "\n",
              "\n",
              "    <div id=\"df-17e3f30d-4b8c-4028-afda-274e395488db\">\n",
              "      <button class=\"colab-df-quickchart\" onclick=\"quickchart('df-17e3f30d-4b8c-4028-afda-274e395488db')\"\n",
              "              title=\"Suggest charts.\"\n",
              "              style=\"display:none;\">\n",
              "\n",
              "<svg xmlns=\"http://www.w3.org/2000/svg\" height=\"24px\"viewBox=\"0 0 24 24\"\n",
              "     width=\"24px\">\n",
              "    <g>\n",
              "        <path d=\"M19 3H5c-1.1 0-2 .9-2 2v14c0 1.1.9 2 2 2h14c1.1 0 2-.9 2-2V5c0-1.1-.9-2-2-2zM9 17H7v-7h2v7zm4 0h-2V7h2v10zm4 0h-2v-4h2v4z\"/>\n",
              "    </g>\n",
              "</svg>\n",
              "      </button>\n",
              "    </div>\n",
              "\n",
              "<style>\n",
              "  .colab-df-quickchart {\n",
              "    background-color: #E8F0FE;\n",
              "    border: none;\n",
              "    border-radius: 50%;\n",
              "    cursor: pointer;\n",
              "    display: none;\n",
              "    fill: #1967D2;\n",
              "    height: 32px;\n",
              "    padding: 0 0 0 0;\n",
              "    width: 32px;\n",
              "  }\n",
              "\n",
              "  .colab-df-quickchart:hover {\n",
              "    background-color: #E2EBFA;\n",
              "    box-shadow: 0px 1px 2px rgba(60, 64, 67, 0.3), 0px 1px 3px 1px rgba(60, 64, 67, 0.15);\n",
              "    fill: #174EA6;\n",
              "  }\n",
              "\n",
              "  [theme=dark] .colab-df-quickchart {\n",
              "    background-color: #3B4455;\n",
              "    fill: #D2E3FC;\n",
              "  }\n",
              "\n",
              "  [theme=dark] .colab-df-quickchart:hover {\n",
              "    background-color: #434B5C;\n",
              "    box-shadow: 0px 1px 3px 1px rgba(0, 0, 0, 0.15);\n",
              "    filter: drop-shadow(0px 1px 2px rgba(0, 0, 0, 0.3));\n",
              "    fill: #FFFFFF;\n",
              "  }\n",
              "</style>\n",
              "\n",
              "    <script>\n",
              "      async function quickchart(key) {\n",
              "        const containerElement = document.querySelector('#' + key);\n",
              "        const charts = await google.colab.kernel.invokeFunction(\n",
              "            'suggestCharts', [key], {});\n",
              "      }\n",
              "    </script>\n",
              "\n",
              "      <script>\n",
              "\n",
              "function displayQuickchartButton(domScope) {\n",
              "  let quickchartButtonEl =\n",
              "    domScope.querySelector('#df-17e3f30d-4b8c-4028-afda-274e395488db button.colab-df-quickchart');\n",
              "  quickchartButtonEl.style.display =\n",
              "    google.colab.kernel.accessAllowed ? 'block' : 'none';\n",
              "}\n",
              "\n",
              "        displayQuickchartButton(document);\n",
              "      </script>\n",
              "      <style>\n",
              "    .colab-df-container {\n",
              "      display:flex;\n",
              "      flex-wrap:wrap;\n",
              "      gap: 12px;\n",
              "    }\n",
              "\n",
              "    .colab-df-convert {\n",
              "      background-color: #E8F0FE;\n",
              "      border: none;\n",
              "      border-radius: 50%;\n",
              "      cursor: pointer;\n",
              "      display: none;\n",
              "      fill: #1967D2;\n",
              "      height: 32px;\n",
              "      padding: 0 0 0 0;\n",
              "      width: 32px;\n",
              "    }\n",
              "\n",
              "    .colab-df-convert:hover {\n",
              "      background-color: #E2EBFA;\n",
              "      box-shadow: 0px 1px 2px rgba(60, 64, 67, 0.3), 0px 1px 3px 1px rgba(60, 64, 67, 0.15);\n",
              "      fill: #174EA6;\n",
              "    }\n",
              "\n",
              "    [theme=dark] .colab-df-convert {\n",
              "      background-color: #3B4455;\n",
              "      fill: #D2E3FC;\n",
              "    }\n",
              "\n",
              "    [theme=dark] .colab-df-convert:hover {\n",
              "      background-color: #434B5C;\n",
              "      box-shadow: 0px 1px 3px 1px rgba(0, 0, 0, 0.15);\n",
              "      filter: drop-shadow(0px 1px 2px rgba(0, 0, 0, 0.3));\n",
              "      fill: #FFFFFF;\n",
              "    }\n",
              "  </style>\n",
              "\n",
              "      <script>\n",
              "        const buttonEl =\n",
              "          document.querySelector('#df-0e68bfc2-471c-43bb-9bf4-a070d9a25d50 button.colab-df-convert');\n",
              "        buttonEl.style.display =\n",
              "          google.colab.kernel.accessAllowed ? 'block' : 'none';\n",
              "\n",
              "        async function convertToInteractive(key) {\n",
              "          const element = document.querySelector('#df-0e68bfc2-471c-43bb-9bf4-a070d9a25d50');\n",
              "          const dataTable =\n",
              "            await google.colab.kernel.invokeFunction('convertToInteractive',\n",
              "                                                     [key], {});\n",
              "          if (!dataTable) return;\n",
              "\n",
              "          const docLinkHtml = 'Like what you see? Visit the ' +\n",
              "            '<a target=\"_blank\" href=https://colab.research.google.com/notebooks/data_table.ipynb>data table notebook</a>'\n",
              "            + ' to learn more about interactive tables.';\n",
              "          element.innerHTML = '';\n",
              "          dataTable['output_type'] = 'display_data';\n",
              "          await google.colab.output.renderOutput(dataTable, element);\n",
              "          const docLink = document.createElement('div');\n",
              "          docLink.innerHTML = docLinkHtml;\n",
              "          element.appendChild(docLink);\n",
              "        }\n",
              "      </script>\n",
              "    </div>\n",
              "  </div>\n"
            ]
          },
          "metadata": {},
          "execution_count": 8
        }
      ]
    },
    {
      "cell_type": "code",
      "source": [
        "# Plot each noise column\n",
        "for column in df_unattacked.columns:\n",
        "  # color_values = df['vehicle_id'].map({'red': 'r', 'green': 'g', 'blue': 'b'})\n",
        "  plt.plot(range(0, len(df_unattacked)), df_unattacked[column], label=column)\n",
        "\n",
        "# Add labels and legend\n",
        "plt.xlabel('time')\n",
        "plt.ylabel('x')\n",
        "# plt.legend()\n",
        "\n",
        "# Show the plot\n",
        "plt.show()"
      ],
      "metadata": {
        "colab": {
          "base_uri": "https://localhost:8080/",
          "height": 449
        },
        "id": "OuK7qwO5xAC1",
        "outputId": "91d50c30-ab54-4e73-f4eb-ee7a748b4513"
      },
      "execution_count": 9,
      "outputs": [
        {
          "output_type": "display_data",
          "data": {
            "text/plain": [
              "<Figure size 640x480 with 1 Axes>"
            ],
            "image/png": "[encoded data removed]"
          },
          "metadata": {}
        }
      ]
    },
    {
      "cell_type": "code",
      "source": [
        "# Plot each noise column\n",
        "for column in df_x.columns:\n",
        "  # color_values = df['vehicle_id'].map({'red': 'r', 'green': 'g', 'blue': 'b'})\n",
        "  plt.plot(range(0, len(df_x)), df_x[column], label=column)\n",
        "\n",
        "# Add labels and legend\n",
        "plt.xlabel('time')\n",
        "plt.ylabel('x')\n",
        "# plt.legend()\n",
        "\n",
        "# Show the plot\n",
        "plt.show()"
      ],
      "metadata": {
        "colab": {
          "base_uri": "https://localhost:8080/",
          "height": 449
        },
        "id": "J62O1aYk24wV",
        "outputId": "922c7349-4f20-4f22-e5a7-eb6729deea24"
      },
      "execution_count": 10,
      "outputs": [
        {
          "output_type": "display_data",
          "data": {
            "text/plain": [
              "<Figure size 640x480 with 1 Axes>"
            ],
            "image/png": "[encoded data removed]"
          },
          "metadata": {}
        }
      ]
    },
    {
      "cell_type": "code",
      "source": [
        "# To identify attacked sensors\n",
        "def get_difference_and_remove_margin_value_training(sensor_training, sensor_testing, percentile=95):\n",
        "    difference_training = []\n",
        "    difference_testing = []\n",
        "    for i in range(len(sensor_training) - 1):\n",
        "        difference1 = (sensor_training[i + 1] - sensor_training[0])/sensor_training[0]\n",
        "        difference_training.append(difference1)\n",
        "    difference_training = np.array(difference_training)\n",
        "\n",
        "    for i in range(len(sensor_testing) - 1):\n",
        "        difference2 = (sensor_testing[i + 1] - sensor_testing[0])/sensor_testing[0]\n",
        "        difference_testing.append(difference2)\n",
        "    difference_testing = np.array(difference_testing)\n",
        "\n",
        "    # Compute the 95% quantile of difference_training\n",
        "    # percentile = percentile\n",
        "    d2 = np.percentile(difference_training, 100 - (100-percentile)/2)\n",
        "    d1 = np.percentile(difference_training, 0+(100-percentile)/2)\n",
        "    # Filter out values in difference_testing that fall within [-d, d]\n",
        "    mask = np.logical_and(difference_testing >= d1, difference_testing <= d2)\n",
        "    Difference_after_remove = difference_testing[mask]\n",
        "\n",
        "    # Obtain the indices of the remaining values\n",
        "    indices_after_remove = np.where(mask)[0]\n",
        "\n",
        "    return Difference_after_remove, indices_after_remove"
      ],
      "metadata": {
        "id": "GGDApJxluIVf"
      },
      "execution_count": 11,
      "outputs": []
    },
    {
      "cell_type": "markdown",
      "source": [
        "#### Train the SAITs for missing value imputation"
      ],
      "metadata": {
        "id": "eiazbpiqxOpK"
      }
    },
    {
      "cell_type": "code",
      "source": [
        "pip install pypots"
      ],
      "metadata": {
        "colab": {
          "base_uri": "https://localhost:8080/"
        },
        "id": "xoF3Z85rtcsB",
        "outputId": "4ad9b2ec-ed33-4fbe-c4b2-d8b061145d54"
      },
      "execution_count": 12,
      "outputs": [
        {
          "output_type": "stream",
          "name": "stdout",
          "text": [
            "Collecting pypots\n",
            "  Downloading pypots-0.1.1-py3-none-any.whl (149 kB)\n",
            "\u001b[?25l     \u001b[90m━━━━━━━━━━━━━━━━━━━━━━━━━━━━━━━━━━━━━━━━\u001b[0m \u001b[32m0.0/150.0 kB\u001b[0m \u001b[31m?\u001b[0m eta \u001b[36m-:--:--\u001b[0m\r\u001b[2K     \u001b[91m━━━━━━━━━━━━━━━━━━━\u001b[0m\u001b[90m╺\u001b[0m\u001b[90m━━━━━━━━━━━━━━━━━━━━\u001b[0m \u001b[32m71.7/150.0 kB\u001b[0m \u001b[31m2.0 MB/s\u001b[0m eta \u001b[36m0:00:01\u001b[0m\r\u001b[2K     \u001b[90m━━━━━━━━━━━━━━━━━━━━━━━━━━━━━━━━━━━━━━━\u001b[0m \u001b[32m150.0/150.0 kB\u001b[0m \u001b[31m3.0 MB/s\u001b[0m eta \u001b[36m0:00:00\u001b[0m\n",
            "\u001b[?25hRequirement already satisfied: numpy in /usr/local/lib/python3.10/dist-packages (from pypots) (1.22.4)\n",
            "Requirement already satisfied: scikit-learn in /usr/local/lib/python3.10/dist-packages (from pypots) (1.2.2)\n",
            "Requirement already satisfied: scipy in /usr/local/lib/python3.10/dist-packages (from pypots) (1.10.1)\n",
            "Requirement already satisfied: torch>=1.10.0 in /usr/local/lib/python3.10/dist-packages (from pypots) (2.0.1+cu118)\n",
            "Requirement already satisfied: tensorboard in /usr/local/lib/python3.10/dist-packages (from pypots) (2.12.3)\n",
            "Requirement already satisfied: pandas<2.0.0 in /usr/local/lib/python3.10/dist-packages (from pypots) (1.5.3)\n",
            "Collecting pycorruptor (from pypots)\n",
            "  Downloading pycorruptor-0.0.4-py3-none-any.whl (17 kB)\n",
            "Collecting tsdb (from pypots)\n",
            "  Downloading tsdb-0.1-py3-none-any.whl (35 kB)\n",
            "Requirement already satisfied: h5py in /usr/local/lib/python3.10/dist-packages (from pypots) (3.8.0)\n",
            "Requirement already satisfied: python-dateutil>=2.8.1 in /usr/local/lib/python3.10/dist-packages (from pandas<2.0.0->pypots) (2.8.2)\n",
            "Requirement already satisfied: pytz>=2020.1 in /usr/local/lib/python3.10/dist-packages (from pandas<2.0.0->pypots) (2022.7.1)\n",
            "Requirement already satisfied: filelock in /usr/local/lib/python3.10/dist-packages (from torch>=1.10.0->pypots) (3.12.2)\n",
            "Requirement already satisfied: typing-extensions in /usr/local/lib/python3.10/dist-packages (from torch>=1.10.0->pypots) (4.7.1)\n",
            "Requirement already satisfied: sympy in /usr/local/lib/python3.10/dist-packages (from torch>=1.10.0->pypots) (1.11.1)\n",
            "Requirement already satisfied: networkx in /usr/local/lib/python3.10/dist-packages (from torch>=1.10.0->pypots) (3.1)\n",
            "Requirement already satisfied: jinja2 in /usr/local/lib/python3.10/dist-packages (from torch>=1.10.0->pypots) (3.1.2)\n",
            "Requirement already satisfied: triton==2.0.0 in /usr/local/lib/python3.10/dist-packages (from torch>=1.10.0->pypots) (2.0.0)\n",
            "Requirement already satisfied: cmake in /usr/local/lib/python3.10/dist-packages (from triton==2.0.0->torch>=1.10.0->pypots) (3.25.2)\n",
            "Requirement already satisfied: lit in /usr/local/lib/python3.10/dist-packages (from triton==2.0.0->torch>=1.10.0->pypots) (16.0.6)\n",
            "Requirement already satisfied: joblib>=1.1.1 in /usr/local/lib/python3.10/dist-packages (from scikit-learn->pypots) (1.3.1)\n",
            "Requirement already satisfied: threadpoolctl>=2.0.0 in /usr/local/lib/python3.10/dist-packages (from scikit-learn->pypots) (3.2.0)\n",
            "Requirement already satisfied: absl-py>=0.4 in /usr/local/lib/python3.10/dist-packages (from tensorboard->pypots) (1.4.0)\n",
            "Requirement already satisfied: grpcio>=1.48.2 in /usr/local/lib/python3.10/dist-packages (from tensorboard->pypots) (1.56.2)\n",
            "Requirement already satisfied: google-auth<3,>=1.6.3 in /usr/local/lib/python3.10/dist-packages (from tensorboard->pypots) (2.17.3)\n",
            "Requirement already satisfied: google-auth-oauthlib<1.1,>=0.5 in /usr/local/lib/python3.10/dist-packages (from tensorboard->pypots) (1.0.0)\n",
            "Requirement already satisfied: markdown>=2.6.8 in /usr/local/lib/python3.10/dist-packages (from tensorboard->pypots) (3.4.4)\n",
            "Requirement already satisfied: protobuf>=3.19.6 in /usr/local/lib/python3.10/dist-packages (from tensorboard->pypots) (3.20.3)\n",
            "Requirement already satisfied: requests<3,>=2.21.0 in /usr/local/lib/python3.10/dist-packages (from tensorboard->pypots) (2.27.1)\n",
            "Requirement already satisfied: setuptools>=41.0.0 in /usr/local/lib/python3.10/dist-packages (from tensorboard->pypots) (67.7.2)\n",
            "Requirement already satisfied: tensorboard-data-server<0.8.0,>=0.7.0 in /usr/local/lib/python3.10/dist-packages (from tensorboard->pypots) (0.7.1)\n",
            "Requirement already satisfied: werkzeug>=1.0.1 in /usr/local/lib/python3.10/dist-packages (from tensorboard->pypots) (2.3.6)\n",
            "Requirement already satisfied: wheel>=0.26 in /usr/local/lib/python3.10/dist-packages (from tensorboard->pypots) (0.41.0)\n",
            "Requirement already satisfied: cachetools<6.0,>=2.0.0 in /usr/local/lib/python3.10/dist-packages (from google-auth<3,>=1.6.3->tensorboard->pypots) (5.3.1)\n",
            "Requirement already satisfied: pyasn1-modules>=0.2.1 in /usr/local/lib/python3.10/dist-packages (from google-auth<3,>=1.6.3->tensorboard->pypots) (0.3.0)\n",
            "Requirement already satisfied: six>=1.9.0 in /usr/local/lib/python3.10/dist-packages (from google-auth<3,>=1.6.3->tensorboard->pypots) (1.16.0)\n",
            "Requirement already satisfied: rsa<5,>=3.1.4 in /usr/local/lib/python3.10/dist-packages (from google-auth<3,>=1.6.3->tensorboard->pypots) (4.9)\n",
            "Requirement already satisfied: requests-oauthlib>=0.7.0 in /usr/local/lib/python3.10/dist-packages (from google-auth-oauthlib<1.1,>=0.5->tensorboard->pypots) (1.3.1)\n",
            "Requirement already satisfied: urllib3<1.27,>=1.21.1 in /usr/local/lib/python3.10/dist-packages (from requests<3,>=2.21.0->tensorboard->pypots) (1.26.16)\n",
            "Requirement already satisfied: certifi>=2017.4.17 in /usr/local/lib/python3.10/dist-packages (from requests<3,>=2.21.0->tensorboard->pypots) (2023.7.22)\n",
            "Requirement already satisfied: charset-normalizer~=2.0.0 in /usr/local/lib/python3.10/dist-packages (from requests<3,>=2.21.0->tensorboard->pypots) (2.0.12)\n",
            "Requirement already satisfied: idna<4,>=2.5 in /usr/local/lib/python3.10/dist-packages (from requests<3,>=2.21.0->tensorboard->pypots) (3.4)\n",
            "Requirement already satisfied: MarkupSafe>=2.1.1 in /usr/local/lib/python3.10/dist-packages (from werkzeug>=1.0.1->tensorboard->pypots) (2.1.3)\n",
            "Requirement already satisfied: mpmath>=0.19 in /usr/local/lib/python3.10/dist-packages (from sympy->torch>=1.10.0->pypots) (1.3.0)\n",
            "Requirement already satisfied: pyasn1<0.6.0,>=0.4.6 in /usr/local/lib/python3.10/dist-packages (from pyasn1-modules>=0.2.1->google-auth<3,>=1.6.3->tensorboard->pypots) (0.5.0)\n",
            "Requirement already satisfied: oauthlib>=3.0.0 in /usr/local/lib/python3.10/dist-packages (from requests-oauthlib>=0.7.0->google-auth-oauthlib<1.1,>=0.5->tensorboard->pypots) (3.2.2)\n",
            "Installing collected packages: tsdb, pycorruptor, pypots\n",
            "Successfully installed pycorruptor-0.0.4 pypots-0.1.1 tsdb-0.1\n"
          ]
        }
      ]
    },
    {
      "cell_type": "code",
      "source": [
        "# Install PyPOTS first: pip install pypots==0.1.1\n",
        "import numpy as np\n",
        "from sklearn.preprocessing import StandardScaler\n",
        "from pypots.data import load_specific_dataset, mcar, masked_fill\n",
        "from pypots.imputation import SAITS\n",
        "from pypots.utils.metrics import cal_mae\n"
      ],
      "metadata": {
        "id": "5UXFcoWKt94G"
      },
      "execution_count": 13,
      "outputs": []
    },
    {
      "cell_type": "code",
      "source": [
        "# Data preprocessing. Tedious, but PyPOTS can help.\n",
        "# data = load_specific_dataset('physionet_2012')  # For datasets in PyPOTS database, PyPOTS will automatically download and extract it.\n",
        "X = df_unattacked[:10000].to_numpy()\n",
        "\n",
        "timesteps = 1\n",
        "features = len(df_unattacked.columns)\n",
        "\n",
        "number_of_samples = X.shape[0] // timesteps\n",
        "\n",
        "X = X[:number_of_samples * timesteps, :].reshape(number_of_samples, timesteps, features)\n",
        "\n",
        "X_intact, X, missing_mask, indicating_mask = mcar(X, 0.20) # hold out 10% observed values as ground truth\n",
        "X = masked_fill(X, 1 - missing_mask, np.nan)"
      ],
      "metadata": {
        "id": "nQkBqlvOuCFZ"
      },
      "execution_count": 14,
      "outputs": []
    },
    {
      "cell_type": "code",
      "source": [
        "# Model training. This is PyPOTS showtime.\n",
        "saits = SAITS(n_steps=timesteps, n_features=features, n_layers=2, d_model=256, d_inner=128, n_heads=4, d_k=64, d_v=64, dropout=0.1, epochs=2000)\n",
        "dataset = {\"X\": X}\n",
        "saits.fit(dataset)  # train the model. Here I use the whole dataset as the training set, because ground truth is not visible to the model.\n",
        "imputation = saits.impute(dataset)  # impute the originally-missing values and artificially-missing values\n",
        "mae = cal_mae(imputation, X_intact, indicating_mask)  # calculate mean absolute error on the ground truth (artificially-missing values)"
      ],
      "metadata": {
        "colab": {
          "base_uri": "https://localhost:8080/"
        },
        "id": "rFnCHvhLuEjc",
        "outputId": "2a729052-a660-40b1-96fa-d521094b422f"
      },
      "execution_count": 15,
      "outputs": [
        {
          "output_type": "stream",
          "name": "stderr",
          "text": [
            "2023-08-08 16:15:46 [INFO]: No given device, using default device: cpu\n",
            "2023-08-08 16:15:46 [INFO]: saving_path not given. Model files and tensorboard file will not be saved.\n",
            "2023-08-08 16:15:46 [INFO]: Model initialized successfully with the number of trainable parameters: 1,383,407\n",
            "2023-08-08 16:15:48 [INFO]: epoch 0: training loss 2787.5876\n",
            "2023-08-08 16:15:49 [INFO]: epoch 1: training loss 970.4139\n",
            "2023-08-08 16:15:50 [INFO]: epoch 2: training loss 528.6087\n",
            "2023-08-08 16:15:51 [INFO]: epoch 3: training loss 378.6794\n",
            "2023-08-08 16:15:52 [INFO]: epoch 4: training loss 330.1700\n",
            "2023-08-08 16:15:53 [INFO]: epoch 5: training loss 290.7546\n",
            "2023-08-08 16:15:54 [INFO]: epoch 6: training loss 257.1273\n",
            "2023-08-08 16:15:55 [INFO]: epoch 7: training loss 249.8051\n",
            "2023-08-08 16:15:55 [INFO]: epoch 8: training loss 248.7677\n",
            "2023-08-08 16:15:56 [INFO]: epoch 9: training loss 240.9270\n",
            "2023-08-08 16:15:56 [INFO]: epoch 10: training loss 232.9928\n",
            "2023-08-08 16:15:57 [INFO]: epoch 11: training loss 222.2881\n",
            "2023-08-08 16:15:57 [INFO]: epoch 12: training loss 211.6657\n",
            "2023-08-08 16:15:58 [INFO]: epoch 13: training loss 213.4825\n",
            "2023-08-08 16:15:59 [INFO]: epoch 14: training loss 209.5105\n",
            "2023-08-08 16:15:59 [INFO]: epoch 15: training loss 266.4166\n",
            "2023-08-08 16:16:00 [INFO]: epoch 16: training loss 235.3087\n",
            "2023-08-08 16:16:01 [INFO]: epoch 17: training loss 218.1367\n",
            "2023-08-08 16:16:01 [INFO]: epoch 18: training loss 199.0134\n",
            "2023-08-08 16:16:02 [INFO]: epoch 19: training loss 196.8607\n",
            "2023-08-08 16:16:02 [INFO]: epoch 20: training loss 187.6708\n",
            "2023-08-08 16:16:02 [INFO]: epoch 21: training loss 195.0569\n",
            "2023-08-08 16:16:03 [INFO]: epoch 22: training loss 192.0871\n",
            "2023-08-08 16:16:03 [INFO]: epoch 23: training loss 195.8727\n",
            "2023-08-08 16:16:04 [INFO]: epoch 24: training loss 177.4428\n",
            "2023-08-08 16:16:04 [INFO]: epoch 25: training loss 189.6136\n",
            "2023-08-08 16:16:05 [INFO]: epoch 26: training loss 186.5634\n",
            "2023-08-08 16:16:05 [INFO]: epoch 27: training loss 187.4686\n",
            "2023-08-08 16:16:06 [INFO]: epoch 28: training loss 184.3824\n",
            "2023-08-08 16:16:06 [INFO]: epoch 29: training loss 225.6264\n",
            "2023-08-08 16:16:06 [INFO]: epoch 30: training loss 184.8262\n",
            "2023-08-08 16:16:07 [INFO]: epoch 31: training loss 174.1835\n",
            "2023-08-08 16:16:07 [INFO]: epoch 32: training loss 170.4393\n",
            "2023-08-08 16:16:08 [INFO]: epoch 33: training loss 165.4039\n",
            "2023-08-08 16:16:08 [INFO]: epoch 34: training loss 161.8798\n",
            "2023-08-08 16:16:09 [INFO]: epoch 35: training loss 160.6178\n",
            "2023-08-08 16:16:09 [INFO]: epoch 36: training loss 163.7439\n",
            "2023-08-08 16:16:10 [INFO]: epoch 37: training loss 169.3761\n",
            "2023-08-08 16:16:10 [INFO]: epoch 38: training loss 180.6455\n",
            "2023-08-08 16:16:10 [INFO]: epoch 39: training loss 162.3952\n",
            "2023-08-08 16:16:11 [INFO]: epoch 40: training loss 178.2908\n",
            "2023-08-08 16:16:12 [INFO]: epoch 41: training loss 170.2110\n",
            "2023-08-08 16:16:12 [INFO]: epoch 42: training loss 159.1585\n",
            "2023-08-08 16:16:13 [INFO]: epoch 43: training loss 156.0024\n",
            "2023-08-08 16:16:14 [INFO]: epoch 44: training loss 164.3653\n",
            "2023-08-08 16:16:14 [INFO]: epoch 45: training loss 168.7877\n",
            "2023-08-08 16:16:15 [INFO]: epoch 46: training loss 178.7691\n",
            "2023-08-08 16:16:15 [INFO]: epoch 47: training loss 177.4812\n",
            "2023-08-08 16:16:16 [INFO]: epoch 48: training loss 175.0684\n",
            "2023-08-08 16:16:16 [INFO]: epoch 49: training loss 161.2491\n",
            "2023-08-08 16:16:17 [INFO]: epoch 50: training loss 159.3483\n",
            "2023-08-08 16:16:17 [INFO]: epoch 51: training loss 154.8072\n",
            "2023-08-08 16:16:18 [INFO]: epoch 52: training loss 150.7926\n",
            "2023-08-08 16:16:18 [INFO]: epoch 53: training loss 151.8846\n",
            "2023-08-08 16:16:19 [INFO]: epoch 54: training loss 151.5509\n",
            "2023-08-08 16:16:20 [INFO]: epoch 55: training loss 159.6048\n",
            "2023-08-08 16:16:20 [INFO]: epoch 56: training loss 154.7116\n",
            "2023-08-08 16:16:21 [INFO]: epoch 57: training loss 160.8422\n",
            "2023-08-08 16:16:21 [INFO]: epoch 58: training loss 141.8940\n",
            "2023-08-08 16:16:22 [INFO]: epoch 59: training loss 158.6110\n",
            "2023-08-08 16:16:22 [INFO]: epoch 60: training loss 152.5455\n",
            "2023-08-08 16:16:23 [INFO]: epoch 61: training loss 155.5478\n",
            "2023-08-08 16:16:23 [INFO]: epoch 62: training loss 159.4607\n",
            "2023-08-08 16:16:24 [INFO]: epoch 63: training loss 187.3234\n",
            "2023-08-08 16:16:24 [INFO]: epoch 64: training loss 166.3100\n",
            "2023-08-08 16:16:25 [INFO]: epoch 65: training loss 144.7970\n",
            "2023-08-08 16:16:25 [INFO]: epoch 66: training loss 142.8144\n",
            "2023-08-08 16:16:26 [INFO]: epoch 67: training loss 155.8518\n",
            "2023-08-08 16:16:27 [INFO]: epoch 68: training loss 180.0593\n",
            "2023-08-08 16:16:27 [INFO]: epoch 69: training loss 164.3592\n",
            "2023-08-08 16:16:28 [INFO]: epoch 70: training loss 173.9269\n",
            "2023-08-08 16:16:29 [INFO]: epoch 71: training loss 140.7564\n",
            "2023-08-08 16:16:29 [INFO]: epoch 72: training loss 144.4877\n",
            "2023-08-08 16:16:30 [INFO]: epoch 73: training loss 144.5609\n",
            "2023-08-08 16:16:30 [INFO]: epoch 74: training loss 148.5337\n",
            "2023-08-08 16:16:31 [INFO]: epoch 75: training loss 139.2882\n",
            "2023-08-08 16:16:31 [INFO]: epoch 76: training loss 153.0089\n",
            "2023-08-08 16:16:32 [INFO]: epoch 77: training loss 148.8046\n",
            "2023-08-08 16:16:32 [INFO]: epoch 78: training loss 130.9438\n",
            "2023-08-08 16:16:33 [INFO]: epoch 79: training loss 151.4649\n",
            "2023-08-08 16:16:33 [INFO]: epoch 80: training loss 137.9416\n",
            "2023-08-08 16:16:34 [INFO]: epoch 81: training loss 151.0621\n",
            "2023-08-08 16:16:34 [INFO]: epoch 82: training loss 136.0784\n",
            "2023-08-08 16:16:35 [INFO]: epoch 83: training loss 144.9387\n",
            "2023-08-08 16:16:35 [INFO]: epoch 84: training loss 162.2865\n",
            "2023-08-08 16:16:36 [INFO]: epoch 85: training loss 144.3739\n",
            "2023-08-08 16:16:36 [INFO]: epoch 86: training loss 163.9134\n",
            "2023-08-08 16:16:37 [INFO]: epoch 87: training loss 152.1844\n",
            "2023-08-08 16:16:38 [INFO]: epoch 88: training loss 140.5078\n",
            "2023-08-08 16:16:39 [INFO]: epoch 89: training loss 129.1063\n",
            "2023-08-08 16:16:41 [INFO]: epoch 90: training loss 129.8112\n",
            "2023-08-08 16:16:43 [INFO]: epoch 91: training loss 126.1222\n",
            "2023-08-08 16:16:44 [INFO]: epoch 92: training loss 136.6779\n",
            "2023-08-08 16:16:45 [INFO]: epoch 93: training loss 133.6999\n",
            "2023-08-08 16:16:46 [INFO]: epoch 94: training loss 130.1696\n",
            "2023-08-08 16:16:47 [INFO]: epoch 95: training loss 133.5297\n",
            "2023-08-08 16:16:48 [INFO]: epoch 96: training loss 137.5472\n",
            "2023-08-08 16:16:49 [INFO]: epoch 97: training loss 136.3699\n",
            "2023-08-08 16:16:50 [INFO]: epoch 98: training loss 134.2597\n",
            "2023-08-08 16:16:51 [INFO]: epoch 99: training loss 128.2551\n",
            "2023-08-08 16:16:52 [INFO]: epoch 100: training loss 127.6945\n",
            "2023-08-08 16:16:53 [INFO]: epoch 101: training loss 131.9072\n",
            "2023-08-08 16:16:55 [INFO]: epoch 102: training loss 119.9122\n",
            "2023-08-08 16:16:57 [INFO]: epoch 103: training loss 145.6657\n",
            "2023-08-08 16:16:57 [INFO]: epoch 104: training loss 133.7220\n",
            "2023-08-08 16:16:58 [INFO]: epoch 105: training loss 149.4358\n",
            "2023-08-08 16:16:59 [INFO]: epoch 106: training loss 149.2353\n",
            "2023-08-08 16:16:59 [INFO]: epoch 107: training loss 139.7317\n",
            "2023-08-08 16:17:00 [INFO]: epoch 108: training loss 118.8029\n",
            "2023-08-08 16:17:00 [INFO]: epoch 109: training loss 119.2783\n",
            "2023-08-08 16:17:01 [INFO]: epoch 110: training loss 147.9691\n",
            "2023-08-08 16:17:01 [INFO]: epoch 111: training loss 148.0852\n",
            "2023-08-08 16:17:01 [INFO]: epoch 112: training loss 142.7726\n",
            "2023-08-08 16:17:02 [INFO]: epoch 113: training loss 134.3041\n",
            "2023-08-08 16:17:02 [INFO]: epoch 114: training loss 132.9287\n",
            "2023-08-08 16:17:03 [INFO]: epoch 115: training loss 125.1514\n",
            "2023-08-08 16:17:03 [INFO]: epoch 116: training loss 124.1720\n",
            "2023-08-08 16:17:04 [INFO]: epoch 117: training loss 124.5103\n",
            "2023-08-08 16:17:04 [INFO]: epoch 118: training loss 124.9594\n",
            "2023-08-08 16:17:05 [INFO]: epoch 119: training loss 126.2989\n",
            "2023-08-08 16:17:05 [INFO]: epoch 120: training loss 119.7328\n",
            "2023-08-08 16:17:06 [INFO]: epoch 121: training loss 119.8849\n",
            "2023-08-08 16:17:06 [INFO]: epoch 122: training loss 121.6762\n",
            "2023-08-08 16:17:07 [INFO]: epoch 123: training loss 125.5674\n",
            "2023-08-08 16:17:07 [INFO]: epoch 124: training loss 144.3075\n",
            "2023-08-08 16:17:08 [INFO]: epoch 125: training loss 162.0210\n",
            "2023-08-08 16:17:08 [INFO]: epoch 126: training loss 134.4188\n",
            "2023-08-08 16:17:09 [INFO]: epoch 127: training loss 125.1412\n",
            "2023-08-08 16:17:11 [INFO]: epoch 128: training loss 123.8825\n",
            "2023-08-08 16:17:14 [INFO]: epoch 129: training loss 140.0266\n",
            "2023-08-08 16:17:16 [INFO]: epoch 130: training loss 138.7141\n",
            "2023-08-08 16:17:18 [INFO]: epoch 131: training loss 125.2485\n",
            "2023-08-08 16:17:19 [INFO]: epoch 132: training loss 117.1528\n",
            "2023-08-08 16:17:22 [INFO]: epoch 133: training loss 131.8189\n",
            "2023-08-08 16:17:24 [INFO]: epoch 134: training loss 155.7437\n",
            "2023-08-08 16:17:25 [INFO]: epoch 135: training loss 207.1578\n",
            "2023-08-08 16:17:26 [INFO]: epoch 136: training loss 159.4844\n",
            "2023-08-08 16:17:26 [INFO]: epoch 137: training loss 115.7257\n",
            "2023-08-08 16:17:26 [INFO]: epoch 138: training loss 142.4177\n",
            "2023-08-08 16:17:27 [INFO]: epoch 139: training loss 151.7138\n",
            "2023-08-08 16:17:28 [INFO]: epoch 140: training loss 125.6780\n",
            "2023-08-08 16:17:29 [INFO]: epoch 141: training loss 123.4271\n",
            "2023-08-08 16:17:29 [INFO]: epoch 142: training loss 111.9866\n",
            "2023-08-08 16:17:30 [INFO]: epoch 143: training loss 119.3787\n",
            "2023-08-08 16:17:31 [INFO]: epoch 144: training loss 143.4404\n",
            "2023-08-08 16:17:31 [INFO]: epoch 145: training loss 117.0553\n",
            "2023-08-08 16:17:32 [INFO]: epoch 146: training loss 116.2919\n",
            "2023-08-08 16:17:32 [INFO]: epoch 147: training loss 129.9802\n",
            "2023-08-08 16:17:33 [INFO]: epoch 148: training loss 111.8252\n",
            "2023-08-08 16:17:33 [INFO]: epoch 149: training loss 130.2846\n",
            "2023-08-08 16:17:34 [INFO]: epoch 150: training loss 125.5958\n",
            "2023-08-08 16:17:34 [INFO]: epoch 151: training loss 116.5424\n",
            "2023-08-08 16:17:35 [INFO]: epoch 152: training loss 126.4649\n",
            "2023-08-08 16:17:35 [INFO]: epoch 153: training loss 124.6301\n",
            "2023-08-08 16:17:36 [INFO]: epoch 154: training loss 117.0882\n",
            "2023-08-08 16:17:36 [INFO]: epoch 155: training loss 110.3002\n",
            "2023-08-08 16:17:37 [INFO]: epoch 156: training loss 117.4859\n",
            "2023-08-08 16:17:37 [INFO]: epoch 157: training loss 121.4885\n",
            "2023-08-08 16:17:38 [INFO]: epoch 158: training loss 119.7600\n",
            "2023-08-08 16:17:38 [INFO]: epoch 159: training loss 127.0062\n",
            "2023-08-08 16:17:39 [INFO]: epoch 160: training loss 146.5221\n",
            "2023-08-08 16:17:39 [INFO]: epoch 161: training loss 128.2462\n",
            "2023-08-08 16:17:40 [INFO]: epoch 162: training loss 108.7068\n",
            "2023-08-08 16:17:40 [INFO]: epoch 163: training loss 110.5589\n",
            "2023-08-08 16:17:41 [INFO]: epoch 164: training loss 108.0521\n",
            "2023-08-08 16:17:41 [INFO]: epoch 165: training loss 113.5171\n",
            "2023-08-08 16:17:42 [INFO]: epoch 166: training loss 117.1112\n",
            "2023-08-08 16:17:43 [INFO]: epoch 167: training loss 108.8411\n",
            "2023-08-08 16:17:43 [INFO]: epoch 168: training loss 114.8025\n",
            "2023-08-08 16:17:44 [INFO]: epoch 169: training loss 150.1801\n",
            "2023-08-08 16:17:45 [INFO]: epoch 170: training loss 139.9016\n",
            "2023-08-08 16:17:45 [INFO]: epoch 171: training loss 123.7873\n",
            "2023-08-08 16:17:46 [INFO]: epoch 172: training loss 121.4666\n",
            "2023-08-08 16:17:46 [INFO]: epoch 173: training loss 112.3036\n",
            "2023-08-08 16:17:47 [INFO]: epoch 174: training loss 122.8657\n",
            "2023-08-08 16:17:47 [INFO]: epoch 175: training loss 132.1272\n",
            "2023-08-08 16:17:48 [INFO]: epoch 176: training loss 121.8287\n",
            "2023-08-08 16:17:48 [INFO]: epoch 177: training loss 116.6223\n",
            "2023-08-08 16:17:49 [INFO]: epoch 178: training loss 109.0315\n",
            "2023-08-08 16:17:49 [INFO]: epoch 179: training loss 106.6206\n",
            "2023-08-08 16:17:50 [INFO]: epoch 180: training loss 115.5929\n",
            "2023-08-08 16:17:50 [INFO]: epoch 181: training loss 112.0507\n",
            "2023-08-08 16:17:51 [INFO]: epoch 182: training loss 105.0377\n",
            "2023-08-08 16:17:51 [INFO]: epoch 183: training loss 100.9465\n",
            "2023-08-08 16:17:52 [INFO]: epoch 184: training loss 118.0574\n",
            "2023-08-08 16:17:52 [INFO]: epoch 185: training loss 122.3986\n",
            "2023-08-08 16:17:53 [INFO]: epoch 186: training loss 105.6515\n",
            "2023-08-08 16:17:53 [INFO]: epoch 187: training loss 109.1846\n",
            "2023-08-08 16:17:54 [INFO]: epoch 188: training loss 108.8464\n",
            "2023-08-08 16:17:54 [INFO]: epoch 189: training loss 105.8203\n",
            "2023-08-08 16:17:55 [INFO]: epoch 190: training loss 120.2946\n",
            "2023-08-08 16:17:55 [INFO]: epoch 191: training loss 120.7251\n",
            "2023-08-08 16:17:56 [INFO]: epoch 192: training loss 114.7182\n",
            "2023-08-08 16:17:56 [INFO]: epoch 193: training loss 110.4405\n",
            "2023-08-08 16:17:57 [INFO]: epoch 194: training loss 123.5800\n",
            "2023-08-08 16:17:58 [INFO]: epoch 195: training loss 118.8220\n",
            "2023-08-08 16:17:58 [INFO]: epoch 196: training loss 129.5652\n",
            "2023-08-08 16:17:59 [INFO]: epoch 197: training loss 117.5454\n",
            "2023-08-08 16:18:00 [INFO]: epoch 198: training loss 111.3322\n",
            "2023-08-08 16:18:00 [INFO]: epoch 199: training loss 118.0105\n",
            "2023-08-08 16:18:01 [INFO]: epoch 200: training loss 103.8566\n",
            "2023-08-08 16:18:01 [INFO]: epoch 201: training loss 120.3458\n",
            "2023-08-08 16:18:02 [INFO]: epoch 202: training loss 125.7482\n",
            "2023-08-08 16:18:02 [INFO]: epoch 203: training loss 117.2343\n",
            "2023-08-08 16:18:03 [INFO]: epoch 204: training loss 122.0921\n",
            "2023-08-08 16:18:03 [INFO]: epoch 205: training loss 117.5909\n",
            "2023-08-08 16:18:04 [INFO]: epoch 206: training loss 97.6612\n",
            "2023-08-08 16:18:04 [INFO]: epoch 207: training loss 104.1928\n",
            "2023-08-08 16:18:04 [INFO]: epoch 208: training loss 115.6458\n",
            "2023-08-08 16:18:05 [INFO]: epoch 209: training loss 116.5021\n",
            "2023-08-08 16:18:05 [INFO]: epoch 210: training loss 102.5599\n",
            "2023-08-08 16:18:06 [INFO]: epoch 211: training loss 99.2262\n",
            "2023-08-08 16:18:06 [INFO]: epoch 212: training loss 121.2203\n",
            "2023-08-08 16:18:07 [INFO]: epoch 213: training loss 135.1110\n",
            "2023-08-08 16:18:07 [INFO]: epoch 214: training loss 129.9204\n",
            "2023-08-08 16:18:08 [INFO]: epoch 215: training loss 138.3476\n",
            "2023-08-08 16:18:08 [INFO]: epoch 216: training loss 106.1366\n",
            "2023-08-08 16:18:09 [INFO]: epoch 217: training loss 102.3845\n",
            "2023-08-08 16:18:09 [INFO]: epoch 218: training loss 100.3474\n",
            "2023-08-08 16:18:10 [INFO]: epoch 219: training loss 113.3699\n",
            "2023-08-08 16:18:11 [INFO]: epoch 220: training loss 106.0802\n",
            "2023-08-08 16:18:11 [INFO]: epoch 221: training loss 115.9632\n",
            "2023-08-08 16:18:12 [INFO]: epoch 222: training loss 122.5879\n",
            "2023-08-08 16:18:13 [INFO]: epoch 223: training loss 114.7836\n",
            "2023-08-08 16:18:14 [INFO]: epoch 224: training loss 98.5661\n",
            "2023-08-08 16:18:14 [INFO]: epoch 225: training loss 112.4814\n",
            "2023-08-08 16:18:15 [INFO]: epoch 226: training loss 95.1039\n",
            "2023-08-08 16:18:15 [INFO]: epoch 227: training loss 106.1151\n",
            "2023-08-08 16:18:15 [INFO]: epoch 228: training loss 113.5318\n",
            "2023-08-08 16:18:16 [INFO]: epoch 229: training loss 100.4957\n",
            "2023-08-08 16:18:16 [INFO]: epoch 230: training loss 106.9447\n",
            "2023-08-08 16:18:17 [INFO]: epoch 231: training loss 105.1972\n",
            "2023-08-08 16:18:17 [INFO]: epoch 232: training loss 100.8807\n",
            "2023-08-08 16:18:18 [INFO]: epoch 233: training loss 103.5622\n",
            "2023-08-08 16:18:18 [INFO]: epoch 234: training loss 106.9715\n",
            "2023-08-08 16:18:19 [INFO]: epoch 235: training loss 96.7873\n",
            "2023-08-08 16:18:19 [INFO]: epoch 236: training loss 105.0064\n",
            "2023-08-08 16:18:20 [INFO]: epoch 237: training loss 118.7153\n",
            "2023-08-08 16:18:20 [INFO]: epoch 238: training loss 106.0931\n",
            "2023-08-08 16:18:21 [INFO]: epoch 239: training loss 97.9791\n",
            "2023-08-08 16:18:21 [INFO]: epoch 240: training loss 103.7152\n",
            "2023-08-08 16:18:22 [INFO]: epoch 241: training loss 115.5005\n",
            "2023-08-08 16:18:22 [INFO]: epoch 242: training loss 114.9433\n",
            "2023-08-08 16:18:23 [INFO]: epoch 243: training loss 105.9550\n",
            "2023-08-08 16:18:23 [INFO]: epoch 244: training loss 123.8289\n",
            "2023-08-08 16:18:24 [INFO]: epoch 245: training loss 115.6223\n",
            "2023-08-08 16:18:24 [INFO]: epoch 246: training loss 98.6411\n",
            "2023-08-08 16:18:25 [INFO]: epoch 247: training loss 129.0091\n",
            "2023-08-08 16:18:26 [INFO]: epoch 248: training loss 96.7145\n",
            "2023-08-08 16:18:27 [INFO]: epoch 249: training loss 107.3391\n",
            "2023-08-08 16:18:27 [INFO]: epoch 250: training loss 97.3813\n",
            "2023-08-08 16:18:28 [INFO]: epoch 251: training loss 102.3452\n",
            "2023-08-08 16:18:28 [INFO]: epoch 252: training loss 93.6313\n",
            "2023-08-08 16:18:29 [INFO]: epoch 253: training loss 94.5816\n",
            "2023-08-08 16:18:29 [INFO]: epoch 254: training loss 103.2313\n",
            "2023-08-08 16:18:30 [INFO]: epoch 255: training loss 97.7390\n",
            "2023-08-08 16:18:31 [INFO]: epoch 256: training loss 98.9851\n",
            "2023-08-08 16:18:31 [INFO]: epoch 257: training loss 100.4527\n",
            "2023-08-08 16:18:32 [INFO]: epoch 258: training loss 91.5582\n",
            "2023-08-08 16:18:32 [INFO]: epoch 259: training loss 92.3507\n",
            "2023-08-08 16:18:33 [INFO]: epoch 260: training loss 91.8098\n",
            "2023-08-08 16:18:33 [INFO]: epoch 261: training loss 101.7294\n",
            "2023-08-08 16:18:34 [INFO]: epoch 262: training loss 87.1563\n",
            "2023-08-08 16:18:34 [INFO]: epoch 263: training loss 127.5204\n",
            "2023-08-08 16:18:35 [INFO]: epoch 264: training loss 111.0673\n",
            "2023-08-08 16:18:35 [INFO]: epoch 265: training loss 88.6027\n",
            "2023-08-08 16:18:36 [INFO]: epoch 266: training loss 89.9868\n",
            "2023-08-08 16:18:36 [INFO]: epoch 267: training loss 105.9338\n",
            "2023-08-08 16:18:37 [INFO]: epoch 268: training loss 104.6313\n",
            "2023-08-08 16:18:37 [INFO]: epoch 269: training loss 91.4987\n",
            "2023-08-08 16:18:38 [INFO]: epoch 270: training loss 92.1226\n",
            "2023-08-08 16:18:38 [INFO]: epoch 271: training loss 90.1852\n",
            "2023-08-08 16:18:39 [INFO]: epoch 272: training loss 94.0813\n",
            "2023-08-08 16:18:40 [INFO]: epoch 273: training loss 92.5725\n",
            "2023-08-08 16:18:40 [INFO]: epoch 274: training loss 100.4402\n",
            "2023-08-08 16:18:41 [INFO]: epoch 275: training loss 102.7297\n",
            "2023-08-08 16:18:42 [INFO]: epoch 276: training loss 89.8488\n",
            "2023-08-08 16:18:42 [INFO]: epoch 277: training loss 95.9985\n",
            "2023-08-08 16:18:43 [INFO]: epoch 278: training loss 100.1712\n",
            "2023-08-08 16:18:43 [INFO]: epoch 279: training loss 98.2800\n",
            "2023-08-08 16:18:44 [INFO]: epoch 280: training loss 97.0952\n",
            "2023-08-08 16:18:44 [INFO]: epoch 281: training loss 87.7803\n",
            "2023-08-08 16:18:45 [INFO]: epoch 282: training loss 111.8412\n",
            "2023-08-08 16:18:45 [INFO]: epoch 283: training loss 95.0543\n",
            "2023-08-08 16:18:46 [INFO]: epoch 284: training loss 95.9049\n",
            "2023-08-08 16:18:46 [INFO]: epoch 285: training loss 87.4409\n",
            "2023-08-08 16:18:47 [INFO]: epoch 286: training loss 102.0804\n",
            "2023-08-08 16:18:47 [INFO]: epoch 287: training loss 91.0606\n",
            "2023-08-08 16:18:48 [INFO]: epoch 288: training loss 93.3695\n",
            "2023-08-08 16:18:48 [INFO]: epoch 289: training loss 94.8256\n",
            "2023-08-08 16:18:49 [INFO]: epoch 290: training loss 127.9250\n",
            "2023-08-08 16:18:49 [INFO]: epoch 291: training loss 101.5838\n",
            "2023-08-08 16:18:50 [INFO]: epoch 292: training loss 96.3177\n",
            "2023-08-08 16:18:50 [INFO]: epoch 293: training loss 89.0255\n",
            "2023-08-08 16:18:51 [INFO]: epoch 294: training loss 90.0567\n",
            "2023-08-08 16:18:51 [INFO]: epoch 295: training loss 88.8191\n",
            "2023-08-08 16:18:52 [INFO]: epoch 296: training loss 88.7158\n",
            "2023-08-08 16:18:52 [INFO]: epoch 297: training loss 92.2904\n",
            "2023-08-08 16:18:53 [INFO]: epoch 298: training loss 94.7178\n",
            "2023-08-08 16:18:54 [INFO]: epoch 299: training loss 84.0334\n",
            "2023-08-08 16:18:54 [INFO]: epoch 300: training loss 90.9737\n",
            "2023-08-08 16:18:55 [INFO]: epoch 301: training loss 97.3401\n",
            "2023-08-08 16:18:56 [INFO]: epoch 302: training loss 89.1491\n",
            "2023-08-08 16:18:56 [INFO]: epoch 303: training loss 106.5791\n",
            "2023-08-08 16:18:57 [INFO]: epoch 304: training loss 93.2939\n",
            "2023-08-08 16:18:57 [INFO]: epoch 305: training loss 85.3724\n",
            "2023-08-08 16:18:58 [INFO]: epoch 306: training loss 100.0041\n",
            "2023-08-08 16:18:58 [INFO]: epoch 307: training loss 88.3770\n",
            "2023-08-08 16:18:59 [INFO]: epoch 308: training loss 83.8301\n",
            "2023-08-08 16:18:59 [INFO]: epoch 309: training loss 79.8566\n",
            "2023-08-08 16:19:00 [INFO]: epoch 310: training loss 80.5561\n",
            "2023-08-08 16:19:00 [INFO]: epoch 311: training loss 79.8900\n",
            "2023-08-08 16:19:01 [INFO]: epoch 312: training loss 90.5414\n",
            "2023-08-08 16:19:01 [INFO]: epoch 313: training loss 86.7702\n",
            "2023-08-08 16:19:02 [INFO]: epoch 314: training loss 94.2560\n",
            "2023-08-08 16:19:02 [INFO]: epoch 315: training loss 91.1600\n",
            "2023-08-08 16:19:03 [INFO]: epoch 316: training loss 78.5174\n",
            "2023-08-08 16:19:04 [INFO]: epoch 317: training loss 85.6787\n",
            "2023-08-08 16:19:04 [INFO]: epoch 318: training loss 82.6041\n",
            "2023-08-08 16:19:05 [INFO]: epoch 319: training loss 87.6966\n",
            "2023-08-08 16:19:05 [INFO]: epoch 320: training loss 83.6510\n",
            "2023-08-08 16:19:06 [INFO]: epoch 321: training loss 80.1257\n",
            "2023-08-08 16:19:06 [INFO]: epoch 322: training loss 107.4936\n",
            "2023-08-08 16:19:07 [INFO]: epoch 323: training loss 104.8317\n",
            "2023-08-08 16:19:08 [INFO]: epoch 324: training loss 80.7664\n",
            "2023-08-08 16:19:08 [INFO]: epoch 325: training loss 87.9422\n",
            "2023-08-08 16:19:09 [INFO]: epoch 326: training loss 94.6079\n",
            "2023-08-08 16:19:10 [INFO]: epoch 327: training loss 82.6493\n",
            "2023-08-08 16:19:10 [INFO]: epoch 328: training loss 82.0216\n",
            "2023-08-08 16:19:11 [INFO]: epoch 329: training loss 95.3414\n",
            "2023-08-08 16:19:11 [INFO]: epoch 330: training loss 98.9698\n",
            "2023-08-08 16:19:12 [INFO]: epoch 331: training loss 77.1999\n",
            "2023-08-08 16:19:12 [INFO]: epoch 332: training loss 102.8245\n",
            "2023-08-08 16:19:13 [INFO]: epoch 333: training loss 91.6695\n",
            "2023-08-08 16:19:13 [INFO]: epoch 334: training loss 79.9589\n",
            "2023-08-08 16:19:14 [INFO]: epoch 335: training loss 84.9258\n",
            "2023-08-08 16:19:14 [INFO]: epoch 336: training loss 80.9251\n",
            "2023-08-08 16:19:15 [INFO]: epoch 337: training loss 87.4925\n",
            "2023-08-08 16:19:15 [INFO]: epoch 338: training loss 95.9092\n",
            "2023-08-08 16:19:16 [INFO]: epoch 339: training loss 110.5040\n",
            "2023-08-08 16:19:16 [INFO]: epoch 340: training loss 91.5453\n",
            "2023-08-08 16:19:17 [INFO]: epoch 341: training loss 85.5686\n",
            "2023-08-08 16:19:17 [INFO]: epoch 342: training loss 82.2459\n",
            "2023-08-08 16:19:18 [INFO]: epoch 343: training loss 76.2124\n",
            "2023-08-08 16:19:18 [INFO]: epoch 344: training loss 74.8503\n",
            "2023-08-08 16:19:19 [INFO]: epoch 345: training loss 71.8328\n",
            "2023-08-08 16:19:19 [INFO]: epoch 346: training loss 84.0947\n",
            "2023-08-08 16:19:20 [INFO]: epoch 347: training loss 91.5415\n",
            "2023-08-08 16:19:20 [INFO]: epoch 348: training loss 79.2118\n",
            "2023-08-08 16:19:21 [INFO]: epoch 349: training loss 92.5911\n",
            "2023-08-08 16:19:21 [INFO]: epoch 350: training loss 79.9044\n",
            "2023-08-08 16:19:22 [INFO]: epoch 351: training loss 72.7517\n",
            "2023-08-08 16:19:23 [INFO]: epoch 352: training loss 70.0248\n",
            "2023-08-08 16:19:23 [INFO]: epoch 353: training loss 79.1228\n",
            "2023-08-08 16:19:24 [INFO]: epoch 354: training loss 82.6204\n",
            "2023-08-08 16:19:25 [INFO]: epoch 355: training loss 90.0674\n",
            "2023-08-08 16:19:25 [INFO]: epoch 356: training loss 90.5441\n",
            "2023-08-08 16:19:26 [INFO]: epoch 357: training loss 97.0639\n",
            "2023-08-08 16:19:26 [INFO]: epoch 358: training loss 79.9465\n",
            "2023-08-08 16:19:27 [INFO]: epoch 359: training loss 89.8443\n",
            "2023-08-08 16:19:27 [INFO]: epoch 360: training loss 83.6464\n",
            "2023-08-08 16:19:28 [INFO]: epoch 361: training loss 77.7028\n",
            "2023-08-08 16:19:28 [INFO]: epoch 362: training loss 72.2610\n",
            "2023-08-08 16:19:29 [INFO]: epoch 363: training loss 75.9169\n",
            "2023-08-08 16:19:29 [INFO]: epoch 364: training loss 85.0178\n",
            "2023-08-08 16:19:30 [INFO]: epoch 365: training loss 84.4336\n",
            "2023-08-08 16:19:30 [INFO]: epoch 366: training loss 72.2078\n",
            "2023-08-08 16:19:31 [INFO]: epoch 367: training loss 79.7941\n",
            "2023-08-08 16:19:31 [INFO]: epoch 368: training loss 83.6348\n",
            "2023-08-08 16:19:32 [INFO]: epoch 369: training loss 86.6981\n",
            "2023-08-08 16:19:32 [INFO]: epoch 370: training loss 76.5808\n",
            "2023-08-08 16:19:33 [INFO]: epoch 371: training loss 74.6270\n",
            "2023-08-08 16:19:33 [INFO]: epoch 372: training loss 81.8395\n",
            "2023-08-08 16:19:34 [INFO]: epoch 373: training loss 72.4732\n",
            "2023-08-08 16:19:34 [INFO]: epoch 374: training loss 81.1772\n",
            "2023-08-08 16:19:34 [INFO]: epoch 375: training loss 87.1507\n",
            "2023-08-08 16:19:35 [INFO]: epoch 376: training loss 71.7329\n",
            "2023-08-08 16:19:36 [INFO]: epoch 377: training loss 84.7196\n",
            "2023-08-08 16:19:37 [INFO]: epoch 378: training loss 78.0140\n",
            "2023-08-08 16:19:37 [INFO]: epoch 379: training loss 84.4289\n",
            "2023-08-08 16:19:38 [INFO]: epoch 380: training loss 74.2202\n",
            "2023-08-08 16:19:39 [INFO]: epoch 381: training loss 73.7067\n",
            "2023-08-08 16:19:39 [INFO]: epoch 382: training loss 89.0923\n",
            "2023-08-08 16:19:40 [INFO]: epoch 383: training loss 93.1898\n",
            "2023-08-08 16:19:40 [INFO]: epoch 384: training loss 83.1819\n",
            "2023-08-08 16:19:41 [INFO]: epoch 385: training loss 87.8093\n",
            "2023-08-08 16:19:41 [INFO]: epoch 386: training loss 75.3363\n",
            "2023-08-08 16:19:42 [INFO]: epoch 387: training loss 72.6645\n",
            "2023-08-08 16:19:42 [INFO]: epoch 388: training loss 76.5532\n",
            "2023-08-08 16:19:43 [INFO]: epoch 389: training loss 68.6231\n",
            "2023-08-08 16:19:43 [INFO]: epoch 390: training loss 94.2768\n",
            "2023-08-08 16:19:44 [INFO]: epoch 391: training loss 74.9076\n",
            "2023-08-08 16:19:44 [INFO]: epoch 392: training loss 72.3287\n",
            "2023-08-08 16:19:45 [INFO]: epoch 393: training loss 73.4973\n",
            "2023-08-08 16:19:45 [INFO]: epoch 394: training loss 83.7946\n",
            "2023-08-08 16:19:45 [INFO]: epoch 395: training loss 77.2050\n",
            "2023-08-08 16:19:46 [INFO]: epoch 396: training loss 78.1871\n",
            "2023-08-08 16:19:46 [INFO]: epoch 397: training loss 92.4392\n",
            "2023-08-08 16:19:47 [INFO]: epoch 398: training loss 70.4353\n",
            "2023-08-08 16:19:47 [INFO]: epoch 399: training loss 81.1488\n",
            "2023-08-08 16:19:48 [INFO]: epoch 400: training loss 81.4990\n",
            "2023-08-08 16:19:48 [INFO]: epoch 401: training loss 79.7281\n",
            "2023-08-08 16:19:49 [INFO]: epoch 402: training loss 65.4668\n",
            "2023-08-08 16:19:49 [INFO]: epoch 403: training loss 70.0676\n",
            "2023-08-08 16:19:50 [INFO]: epoch 404: training loss 68.0279\n",
            "2023-08-08 16:19:51 [INFO]: epoch 405: training loss 75.2386\n",
            "2023-08-08 16:19:52 [INFO]: epoch 406: training loss 75.9259\n",
            "2023-08-08 16:19:52 [INFO]: epoch 407: training loss 67.6682\n",
            "2023-08-08 16:19:53 [INFO]: epoch 408: training loss 60.7561\n",
            "2023-08-08 16:19:53 [INFO]: epoch 409: training loss 71.7638\n",
            "2023-08-08 16:19:54 [INFO]: epoch 410: training loss 69.2438\n",
            "2023-08-08 16:19:54 [INFO]: epoch 411: training loss 72.9705\n",
            "2023-08-08 16:19:55 [INFO]: epoch 412: training loss 74.3556\n",
            "2023-08-08 16:19:55 [INFO]: epoch 413: training loss 68.9602\n",
            "2023-08-08 16:19:56 [INFO]: epoch 414: training loss 68.8790\n",
            "2023-08-08 16:19:56 [INFO]: epoch 415: training loss 74.0870\n",
            "2023-08-08 16:19:57 [INFO]: epoch 416: training loss 71.9818\n",
            "2023-08-08 16:19:57 [INFO]: epoch 417: training loss 82.7347\n",
            "2023-08-08 16:19:58 [INFO]: epoch 418: training loss 90.5050\n",
            "2023-08-08 16:19:58 [INFO]: epoch 419: training loss 66.7746\n",
            "2023-08-08 16:19:59 [INFO]: epoch 420: training loss 70.3147\n",
            "2023-08-08 16:19:59 [INFO]: epoch 421: training loss 73.1711\n",
            "2023-08-08 16:20:00 [INFO]: epoch 422: training loss 69.2792\n",
            "2023-08-08 16:20:00 [INFO]: epoch 423: training loss 68.8200\n",
            "2023-08-08 16:20:01 [INFO]: epoch 424: training loss 83.7074\n",
            "2023-08-08 16:20:01 [INFO]: epoch 425: training loss 79.4514\n",
            "2023-08-08 16:20:02 [INFO]: epoch 426: training loss 66.9229\n",
            "2023-08-08 16:20:02 [INFO]: epoch 427: training loss 67.2416\n",
            "2023-08-08 16:20:03 [INFO]: epoch 428: training loss 75.5381\n",
            "2023-08-08 16:20:03 [INFO]: epoch 429: training loss 78.7626\n",
            "2023-08-08 16:20:04 [INFO]: epoch 430: training loss 73.9562\n",
            "2023-08-08 16:20:05 [INFO]: epoch 431: training loss 65.3500\n",
            "2023-08-08 16:20:05 [INFO]: epoch 432: training loss 70.5371\n",
            "2023-08-08 16:20:06 [INFO]: epoch 433: training loss 64.6483\n",
            "2023-08-08 16:20:07 [INFO]: epoch 434: training loss 80.5889\n",
            "2023-08-08 16:20:07 [INFO]: epoch 435: training loss 65.3477\n",
            "2023-08-08 16:20:08 [INFO]: epoch 436: training loss 67.2842\n",
            "2023-08-08 16:20:08 [INFO]: epoch 437: training loss 71.7021\n",
            "2023-08-08 16:20:09 [INFO]: epoch 438: training loss 70.5061\n",
            "2023-08-08 16:20:09 [INFO]: epoch 439: training loss 71.0843\n",
            "2023-08-08 16:20:10 [INFO]: epoch 440: training loss 70.6839\n",
            "2023-08-08 16:20:10 [INFO]: epoch 441: training loss 62.1137\n",
            "2023-08-08 16:20:11 [INFO]: epoch 442: training loss 67.8340\n",
            "2023-08-08 16:20:11 [INFO]: epoch 443: training loss 65.1128\n",
            "2023-08-08 16:20:12 [INFO]: epoch 444: training loss 68.1155\n",
            "2023-08-08 16:20:12 [INFO]: epoch 445: training loss 79.4164\n",
            "2023-08-08 16:20:13 [INFO]: epoch 446: training loss 71.1935\n",
            "2023-08-08 16:20:13 [INFO]: epoch 447: training loss 63.2388\n",
            "2023-08-08 16:20:14 [INFO]: epoch 448: training loss 66.0155\n",
            "2023-08-08 16:20:14 [INFO]: epoch 449: training loss 67.5075\n",
            "2023-08-08 16:20:15 [INFO]: epoch 450: training loss 61.0505\n",
            "2023-08-08 16:20:15 [INFO]: epoch 451: training loss 63.6141\n",
            "2023-08-08 16:20:15 [INFO]: epoch 452: training loss 65.8588\n",
            "2023-08-08 16:20:16 [INFO]: epoch 453: training loss 61.8100\n",
            "2023-08-08 16:20:17 [INFO]: epoch 454: training loss 62.7764\n",
            "2023-08-08 16:20:17 [INFO]: epoch 455: training loss 79.5051\n",
            "2023-08-08 16:20:18 [INFO]: epoch 456: training loss 65.3471\n",
            "2023-08-08 16:20:19 [INFO]: epoch 457: training loss 65.3280\n",
            "2023-08-08 16:20:20 [INFO]: epoch 458: training loss 65.3239\n",
            "2023-08-08 16:20:20 [INFO]: epoch 459: training loss 63.6882\n",
            "2023-08-08 16:20:21 [INFO]: epoch 460: training loss 68.0822\n",
            "2023-08-08 16:20:22 [INFO]: epoch 461: training loss 78.3016\n",
            "2023-08-08 16:20:22 [INFO]: epoch 462: training loss 66.7820\n",
            "2023-08-08 16:20:23 [INFO]: epoch 463: training loss 60.4513\n",
            "2023-08-08 16:20:23 [INFO]: epoch 464: training loss 59.0555\n",
            "2023-08-08 16:20:23 [INFO]: epoch 465: training loss 64.2762\n",
            "2023-08-08 16:20:24 [INFO]: epoch 466: training loss 71.8637\n",
            "2023-08-08 16:20:24 [INFO]: epoch 467: training loss 74.8984\n",
            "2023-08-08 16:20:25 [INFO]: epoch 468: training loss 63.2948\n",
            "2023-08-08 16:20:26 [INFO]: epoch 469: training loss 71.5212\n",
            "2023-08-08 16:20:27 [INFO]: epoch 470: training loss 71.2453\n",
            "2023-08-08 16:20:27 [INFO]: epoch 471: training loss 77.2649\n",
            "2023-08-08 16:20:28 [INFO]: epoch 472: training loss 75.7863\n",
            "2023-08-08 16:20:28 [INFO]: epoch 473: training loss 63.5364\n",
            "2023-08-08 16:20:29 [INFO]: epoch 474: training loss 63.7017\n",
            "2023-08-08 16:20:29 [INFO]: epoch 475: training loss 65.4092\n",
            "2023-08-08 16:20:30 [INFO]: epoch 476: training loss 65.7137\n",
            "2023-08-08 16:20:30 [INFO]: epoch 477: training loss 75.6647\n",
            "2023-08-08 16:20:31 [INFO]: epoch 478: training loss 76.9343\n",
            "2023-08-08 16:20:31 [INFO]: epoch 479: training loss 66.6221\n",
            "2023-08-08 16:20:32 [INFO]: epoch 480: training loss 72.3042\n",
            "2023-08-08 16:20:32 [INFO]: epoch 481: training loss 82.2629\n",
            "2023-08-08 16:20:33 [INFO]: epoch 482: training loss 81.4426\n",
            "2023-08-08 16:20:34 [INFO]: epoch 483: training loss 71.3025\n",
            "2023-08-08 16:20:34 [INFO]: epoch 484: training loss 72.5346\n",
            "2023-08-08 16:20:35 [INFO]: epoch 485: training loss 67.6063\n",
            "2023-08-08 16:20:36 [INFO]: epoch 486: training loss 70.1421\n",
            "2023-08-08 16:20:36 [INFO]: epoch 487: training loss 93.1789\n",
            "2023-08-08 16:20:37 [INFO]: epoch 488: training loss 80.4821\n",
            "2023-08-08 16:20:37 [INFO]: epoch 489: training loss 64.3521\n",
            "2023-08-08 16:20:38 [INFO]: epoch 490: training loss 64.2954\n",
            "2023-08-08 16:20:38 [INFO]: epoch 491: training loss 69.3608\n",
            "2023-08-08 16:20:39 [INFO]: epoch 492: training loss 63.7031\n",
            "2023-08-08 16:20:39 [INFO]: epoch 493: training loss 90.1721\n",
            "2023-08-08 16:20:40 [INFO]: epoch 494: training loss 74.1415\n",
            "2023-08-08 16:20:40 [INFO]: epoch 495: training loss 67.8844\n",
            "2023-08-08 16:20:40 [INFO]: epoch 496: training loss 63.2849\n",
            "2023-08-08 16:20:41 [INFO]: epoch 497: training loss 73.6623\n",
            "2023-08-08 16:20:41 [INFO]: epoch 498: training loss 65.3181\n",
            "2023-08-08 16:20:42 [INFO]: epoch 499: training loss 67.2748\n",
            "2023-08-08 16:20:42 [INFO]: epoch 500: training loss 63.2598\n",
            "2023-08-08 16:20:43 [INFO]: epoch 501: training loss 70.8105\n",
            "2023-08-08 16:20:43 [INFO]: epoch 502: training loss 59.9372\n",
            "2023-08-08 16:20:44 [INFO]: epoch 503: training loss 67.6814\n",
            "2023-08-08 16:20:44 [INFO]: epoch 504: training loss 70.5066\n",
            "2023-08-08 16:20:45 [INFO]: epoch 505: training loss 71.4144\n",
            "2023-08-08 16:20:45 [INFO]: epoch 506: training loss 63.3169\n",
            "2023-08-08 16:20:46 [INFO]: epoch 507: training loss 73.2114\n",
            "2023-08-08 16:20:46 [INFO]: epoch 508: training loss 56.0868\n",
            "2023-08-08 16:20:47 [INFO]: epoch 509: training loss 63.7015\n",
            "2023-08-08 16:20:48 [INFO]: epoch 510: training loss 64.4545\n",
            "2023-08-08 16:20:48 [INFO]: epoch 511: training loss 72.4830\n",
            "2023-08-08 16:20:49 [INFO]: epoch 512: training loss 56.4643\n",
            "2023-08-08 16:20:50 [INFO]: epoch 513: training loss 55.5878\n",
            "2023-08-08 16:20:50 [INFO]: epoch 514: training loss 53.9193\n",
            "2023-08-08 16:20:51 [INFO]: epoch 515: training loss 63.9586\n",
            "2023-08-08 16:20:51 [INFO]: epoch 516: training loss 69.9936\n",
            "2023-08-08 16:20:52 [INFO]: epoch 517: training loss 63.6843\n",
            "2023-08-08 16:20:52 [INFO]: epoch 518: training loss 61.6998\n",
            "2023-08-08 16:20:53 [INFO]: epoch 519: training loss 97.2555\n",
            "2023-08-08 16:20:53 [INFO]: epoch 520: training loss 76.6960\n",
            "2023-08-08 16:20:54 [INFO]: epoch 521: training loss 76.0934\n",
            "2023-08-08 16:20:54 [INFO]: epoch 522: training loss 79.9435\n",
            "2023-08-08 16:20:55 [INFO]: epoch 523: training loss 71.0625\n",
            "2023-08-08 16:20:55 [INFO]: epoch 524: training loss 67.8642\n",
            "2023-08-08 16:20:56 [INFO]: epoch 525: training loss 68.1396\n",
            "2023-08-08 16:20:56 [INFO]: epoch 526: training loss 68.6845\n",
            "2023-08-08 16:20:57 [INFO]: epoch 527: training loss 67.3223\n",
            "2023-08-08 16:20:57 [INFO]: epoch 528: training loss 61.4848\n",
            "2023-08-08 16:20:57 [INFO]: epoch 529: training loss 67.7842\n",
            "2023-08-08 16:20:58 [INFO]: epoch 530: training loss 58.6600\n",
            "2023-08-08 16:20:58 [INFO]: epoch 531: training loss 60.2815\n",
            "2023-08-08 16:20:59 [INFO]: epoch 532: training loss 55.1083\n",
            "2023-08-08 16:20:59 [INFO]: epoch 533: training loss 63.8907\n",
            "2023-08-08 16:21:00 [INFO]: epoch 534: training loss 61.2206\n",
            "2023-08-08 16:21:01 [INFO]: epoch 535: training loss 66.9765\n",
            "2023-08-08 16:21:01 [INFO]: epoch 536: training loss 57.3846\n",
            "2023-08-08 16:21:02 [INFO]: epoch 537: training loss 64.0345\n",
            "2023-08-08 16:21:03 [INFO]: epoch 538: training loss 60.5401\n",
            "2023-08-08 16:21:03 [INFO]: epoch 539: training loss 65.2801\n",
            "2023-08-08 16:21:04 [INFO]: epoch 540: training loss 66.9819\n",
            "2023-08-08 16:21:05 [INFO]: epoch 541: training loss 76.1701\n",
            "2023-08-08 16:21:05 [INFO]: epoch 542: training loss 66.8327\n",
            "2023-08-08 16:21:06 [INFO]: epoch 543: training loss 72.7174\n",
            "2023-08-08 16:21:06 [INFO]: epoch 544: training loss 64.5645\n",
            "2023-08-08 16:21:06 [INFO]: epoch 545: training loss 57.6028\n",
            "2023-08-08 16:21:07 [INFO]: epoch 546: training loss 55.6003\n",
            "2023-08-08 16:21:07 [INFO]: epoch 547: training loss 62.4954\n",
            "2023-08-08 16:21:08 [INFO]: epoch 548: training loss 58.0038\n",
            "2023-08-08 16:21:08 [INFO]: epoch 549: training loss 60.2084\n",
            "2023-08-08 16:21:09 [INFO]: epoch 550: training loss 63.9768\n",
            "2023-08-08 16:21:09 [INFO]: epoch 551: training loss 71.2348\n",
            "2023-08-08 16:21:10 [INFO]: epoch 552: training loss 68.7742\n",
            "2023-08-08 16:21:10 [INFO]: epoch 553: training loss 65.9926\n",
            "2023-08-08 16:21:11 [INFO]: epoch 554: training loss 58.9323\n",
            "2023-08-08 16:21:11 [INFO]: epoch 555: training loss 57.9846\n",
            "2023-08-08 16:21:12 [INFO]: epoch 556: training loss 59.4815\n",
            "2023-08-08 16:21:12 [INFO]: epoch 557: training loss 59.3308\n",
            "2023-08-08 16:21:13 [INFO]: epoch 558: training loss 68.6127\n",
            "2023-08-08 16:21:13 [INFO]: epoch 559: training loss 63.2677\n",
            "2023-08-08 16:21:14 [INFO]: epoch 560: training loss 52.9490\n",
            "2023-08-08 16:21:14 [INFO]: epoch 561: training loss 54.8641\n",
            "2023-08-08 16:21:15 [INFO]: epoch 562: training loss 67.3161\n",
            "2023-08-08 16:21:16 [INFO]: epoch 563: training loss 56.8162\n",
            "2023-08-08 16:21:16 [INFO]: epoch 564: training loss 56.9047\n",
            "2023-08-08 16:21:17 [INFO]: epoch 565: training loss 66.7744\n",
            "2023-08-08 16:21:18 [INFO]: epoch 566: training loss 68.7461\n",
            "2023-08-08 16:21:18 [INFO]: epoch 567: training loss 57.4018\n",
            "2023-08-08 16:21:19 [INFO]: epoch 568: training loss 65.7812\n",
            "2023-08-08 16:21:19 [INFO]: epoch 569: training loss 56.8541\n",
            "2023-08-08 16:21:20 [INFO]: epoch 570: training loss 57.2819\n",
            "2023-08-08 16:21:20 [INFO]: epoch 571: training loss 78.5765\n",
            "2023-08-08 16:21:21 [INFO]: epoch 572: training loss 71.6910\n",
            "2023-08-08 16:21:21 [INFO]: epoch 573: training loss 66.9132\n",
            "2023-08-08 16:21:22 [INFO]: epoch 574: training loss 71.1853\n",
            "2023-08-08 16:21:22 [INFO]: epoch 575: training loss 66.7461\n",
            "2023-08-08 16:21:23 [INFO]: epoch 576: training loss 60.1462\n",
            "2023-08-08 16:21:23 [INFO]: epoch 577: training loss 64.4145\n",
            "2023-08-08 16:21:24 [INFO]: epoch 578: training loss 70.2784\n",
            "2023-08-08 16:21:24 [INFO]: epoch 579: training loss 57.6414\n",
            "2023-08-08 16:21:25 [INFO]: epoch 580: training loss 57.5847\n",
            "2023-08-08 16:21:25 [INFO]: epoch 581: training loss 61.1555\n",
            "2023-08-08 16:21:26 [INFO]: epoch 582: training loss 62.8606\n",
            "2023-08-08 16:21:26 [INFO]: epoch 583: training loss 56.4900\n",
            "2023-08-08 16:21:27 [INFO]: epoch 584: training loss 57.1018\n",
            "2023-08-08 16:21:27 [INFO]: epoch 585: training loss 65.6787\n",
            "2023-08-08 16:21:28 [INFO]: epoch 586: training loss 51.9375\n",
            "2023-08-08 16:21:28 [INFO]: epoch 587: training loss 58.6441\n",
            "2023-08-08 16:21:29 [INFO]: epoch 588: training loss 52.5127\n",
            "2023-08-08 16:21:29 [INFO]: epoch 589: training loss 52.1903\n",
            "2023-08-08 16:21:30 [INFO]: epoch 590: training loss 63.6343\n",
            "2023-08-08 16:21:31 [INFO]: epoch 591: training loss 63.0057\n",
            "2023-08-08 16:21:31 [INFO]: epoch 592: training loss 53.8687\n",
            "2023-08-08 16:21:32 [INFO]: epoch 593: training loss 53.2835\n",
            "2023-08-08 16:21:33 [INFO]: epoch 594: training loss 57.5719\n",
            "2023-08-08 16:21:33 [INFO]: epoch 595: training loss 57.7095\n",
            "2023-08-08 16:21:34 [INFO]: epoch 596: training loss 50.0999\n",
            "2023-08-08 16:21:34 [INFO]: epoch 597: training loss 54.7328\n",
            "2023-08-08 16:21:35 [INFO]: epoch 598: training loss 50.4796\n",
            "2023-08-08 16:21:35 [INFO]: epoch 599: training loss 51.6760\n",
            "2023-08-08 16:21:36 [INFO]: epoch 600: training loss 58.6706\n",
            "2023-08-08 16:21:36 [INFO]: epoch 601: training loss 85.6765\n",
            "2023-08-08 16:21:37 [INFO]: epoch 602: training loss 89.0830\n",
            "2023-08-08 16:21:37 [INFO]: epoch 603: training loss 68.2060\n",
            "2023-08-08 16:21:38 [INFO]: epoch 604: training loss 56.8347\n",
            "2023-08-08 16:21:38 [INFO]: epoch 605: training loss 55.5562\n",
            "2023-08-08 16:21:38 [INFO]: epoch 606: training loss 56.6046\n",
            "2023-08-08 16:21:39 [INFO]: epoch 607: training loss 59.0395\n",
            "2023-08-08 16:21:39 [INFO]: epoch 608: training loss 51.3164\n",
            "2023-08-08 16:21:40 [INFO]: epoch 609: training loss 61.1104\n",
            "2023-08-08 16:21:40 [INFO]: epoch 610: training loss 53.3846\n",
            "2023-08-08 16:21:41 [INFO]: epoch 611: training loss 55.5408\n",
            "2023-08-08 16:21:41 [INFO]: epoch 612: training loss 52.2042\n",
            "2023-08-08 16:21:42 [INFO]: epoch 613: training loss 55.7146\n",
            "2023-08-08 16:21:42 [INFO]: epoch 614: training loss 57.5818\n",
            "2023-08-08 16:21:43 [INFO]: epoch 615: training loss 60.5397\n",
            "2023-08-08 16:21:44 [INFO]: epoch 616: training loss 57.0533\n",
            "2023-08-08 16:21:44 [INFO]: epoch 617: training loss 54.0787\n",
            "2023-08-08 16:21:45 [INFO]: epoch 618: training loss 51.8514\n",
            "2023-08-08 16:21:46 [INFO]: epoch 619: training loss 61.7301\n",
            "2023-08-08 16:21:47 [INFO]: epoch 620: training loss 53.6862\n",
            "2023-08-08 16:21:47 [INFO]: epoch 621: training loss 54.5312\n",
            "2023-08-08 16:21:48 [INFO]: epoch 622: training loss 61.4829\n",
            "2023-08-08 16:21:48 [INFO]: epoch 623: training loss 71.8049\n",
            "2023-08-08 16:21:48 [INFO]: epoch 624: training loss 69.9298\n",
            "2023-08-08 16:21:49 [INFO]: epoch 625: training loss 66.5917\n",
            "2023-08-08 16:21:49 [INFO]: epoch 626: training loss 55.8734\n",
            "2023-08-08 16:21:50 [INFO]: epoch 627: training loss 59.0926\n",
            "2023-08-08 16:21:50 [INFO]: epoch 628: training loss 59.5980\n",
            "2023-08-08 16:21:51 [INFO]: epoch 629: training loss 65.5074\n",
            "2023-08-08 16:21:51 [INFO]: epoch 630: training loss 63.9483\n",
            "2023-08-08 16:21:52 [INFO]: epoch 631: training loss 65.3644\n",
            "2023-08-08 16:21:52 [INFO]: epoch 632: training loss 56.0957\n",
            "2023-08-08 16:21:53 [INFO]: epoch 633: training loss 64.5688\n",
            "2023-08-08 16:21:53 [INFO]: epoch 634: training loss 58.4650\n",
            "2023-08-08 16:21:54 [INFO]: epoch 635: training loss 60.7344\n",
            "2023-08-08 16:21:54 [INFO]: epoch 636: training loss 56.9915\n",
            "2023-08-08 16:21:55 [INFO]: epoch 637: training loss 51.6212\n",
            "2023-08-08 16:21:55 [INFO]: epoch 638: training loss 51.8480\n",
            "2023-08-08 16:21:56 [INFO]: epoch 639: training loss 50.1709\n",
            "2023-08-08 16:21:56 [INFO]: epoch 640: training loss 51.6091\n",
            "2023-08-08 16:21:57 [INFO]: epoch 641: training loss 63.5038\n",
            "2023-08-08 16:21:57 [INFO]: epoch 642: training loss 71.3476\n",
            "2023-08-08 16:21:58 [INFO]: epoch 643: training loss 64.2386\n",
            "2023-08-08 16:21:59 [INFO]: epoch 644: training loss 49.6605\n",
            "2023-08-08 16:21:59 [INFO]: epoch 645: training loss 66.4117\n",
            "2023-08-08 16:22:00 [INFO]: epoch 646: training loss 69.8095\n",
            "2023-08-08 16:22:01 [INFO]: epoch 647: training loss 71.4322\n",
            "2023-08-08 16:22:01 [INFO]: epoch 648: training loss 58.9323\n",
            "2023-08-08 16:22:02 [INFO]: epoch 649: training loss 59.5228\n",
            "2023-08-08 16:22:03 [INFO]: epoch 650: training loss 55.0273\n",
            "2023-08-08 16:22:03 [INFO]: epoch 651: training loss 72.2064\n",
            "2023-08-08 16:22:04 [INFO]: epoch 652: training loss 64.1956\n",
            "2023-08-08 16:22:04 [INFO]: epoch 653: training loss 62.6933\n",
            "2023-08-08 16:22:05 [INFO]: epoch 654: training loss 47.8374\n",
            "2023-08-08 16:22:05 [INFO]: epoch 655: training loss 60.8806\n",
            "2023-08-08 16:22:06 [INFO]: epoch 656: training loss 53.3033\n",
            "2023-08-08 16:22:06 [INFO]: epoch 657: training loss 69.5681\n",
            "2023-08-08 16:22:06 [INFO]: epoch 658: training loss 58.1540\n",
            "2023-08-08 16:22:07 [INFO]: epoch 659: training loss 61.4170\n",
            "2023-08-08 16:22:07 [INFO]: epoch 660: training loss 55.1115\n",
            "2023-08-08 16:22:08 [INFO]: epoch 661: training loss 52.6600\n",
            "2023-08-08 16:22:08 [INFO]: epoch 662: training loss 50.6744\n",
            "2023-08-08 16:22:09 [INFO]: epoch 663: training loss 55.7782\n",
            "2023-08-08 16:22:09 [INFO]: epoch 664: training loss 58.8440\n",
            "2023-08-08 16:22:10 [INFO]: epoch 665: training loss 74.8140\n",
            "2023-08-08 16:22:10 [INFO]: epoch 666: training loss 61.1038\n",
            "2023-08-08 16:22:11 [INFO]: epoch 667: training loss 59.4511\n",
            "2023-08-08 16:22:12 [INFO]: epoch 668: training loss 61.1437\n",
            "2023-08-08 16:22:12 [INFO]: epoch 669: training loss 54.8876\n",
            "2023-08-08 16:22:13 [INFO]: epoch 670: training loss 62.4983\n",
            "2023-08-08 16:22:14 [INFO]: epoch 671: training loss 71.1464\n",
            "2023-08-08 16:22:14 [INFO]: epoch 672: training loss 61.4750\n",
            "2023-08-08 16:22:15 [INFO]: epoch 673: training loss 62.1144\n",
            "2023-08-08 16:22:15 [INFO]: epoch 674: training loss 55.8546\n",
            "2023-08-08 16:22:16 [INFO]: epoch 675: training loss 64.1364\n",
            "2023-08-08 16:22:17 [INFO]: epoch 676: training loss 55.1523\n",
            "2023-08-08 16:22:17 [INFO]: epoch 677: training loss 50.1557\n",
            "2023-08-08 16:22:18 [INFO]: epoch 678: training loss 61.6106\n",
            "2023-08-08 16:22:18 [INFO]: epoch 679: training loss 52.6101\n",
            "2023-08-08 16:22:19 [INFO]: epoch 680: training loss 53.9374\n",
            "2023-08-08 16:22:19 [INFO]: epoch 681: training loss 54.8958\n",
            "2023-08-08 16:22:19 [INFO]: epoch 682: training loss 52.4591\n",
            "2023-08-08 16:22:20 [INFO]: epoch 683: training loss 53.3887\n",
            "2023-08-08 16:22:21 [INFO]: epoch 684: training loss 50.1673\n",
            "2023-08-08 16:22:21 [INFO]: epoch 685: training loss 52.1568\n",
            "2023-08-08 16:22:22 [INFO]: epoch 686: training loss 55.5544\n",
            "2023-08-08 16:22:23 [INFO]: epoch 687: training loss 56.6428\n",
            "2023-08-08 16:22:23 [INFO]: epoch 688: training loss 55.6353\n",
            "2023-08-08 16:22:24 [INFO]: epoch 689: training loss 59.4706\n",
            "2023-08-08 16:22:25 [INFO]: epoch 690: training loss 64.6962\n",
            "2023-08-08 16:22:25 [INFO]: epoch 691: training loss 61.6911\n",
            "2023-08-08 16:22:26 [INFO]: epoch 692: training loss 63.3758\n",
            "2023-08-08 16:22:27 [INFO]: epoch 693: training loss 61.8035\n",
            "2023-08-08 16:22:27 [INFO]: epoch 694: training loss 56.1064\n",
            "2023-08-08 16:22:28 [INFO]: epoch 695: training loss 54.6903\n",
            "2023-08-08 16:22:29 [INFO]: epoch 696: training loss 53.2683\n",
            "2023-08-08 16:22:29 [INFO]: epoch 697: training loss 49.9599\n",
            "2023-08-08 16:22:30 [INFO]: epoch 698: training loss 57.6889\n",
            "2023-08-08 16:22:30 [INFO]: epoch 699: training loss 56.6643\n",
            "2023-08-08 16:22:31 [INFO]: epoch 700: training loss 54.7006\n",
            "2023-08-08 16:22:31 [INFO]: epoch 701: training loss 51.4310\n",
            "2023-08-08 16:22:32 [INFO]: epoch 702: training loss 49.5345\n",
            "2023-08-08 16:22:32 [INFO]: epoch 703: training loss 55.0190\n",
            "2023-08-08 16:22:33 [INFO]: epoch 704: training loss 49.0602\n",
            "2023-08-08 16:22:33 [INFO]: epoch 705: training loss 50.2078\n",
            "2023-08-08 16:22:34 [INFO]: epoch 706: training loss 61.8745\n",
            "2023-08-08 16:22:34 [INFO]: epoch 707: training loss 63.0837\n",
            "2023-08-08 16:22:35 [INFO]: epoch 708: training loss 75.1702\n",
            "2023-08-08 16:22:35 [INFO]: epoch 709: training loss 56.5249\n",
            "2023-08-08 16:22:36 [INFO]: epoch 710: training loss 51.1003\n",
            "2023-08-08 16:22:36 [INFO]: epoch 711: training loss 57.1887\n",
            "2023-08-08 16:22:37 [INFO]: epoch 712: training loss 50.4612\n",
            "2023-08-08 16:22:37 [INFO]: epoch 713: training loss 58.3981\n",
            "2023-08-08 16:22:38 [INFO]: epoch 714: training loss 55.3383\n",
            "2023-08-08 16:22:38 [INFO]: epoch 715: training loss 57.8076\n",
            "2023-08-08 16:22:38 [INFO]: epoch 716: training loss 64.4623\n",
            "2023-08-08 16:22:39 [INFO]: epoch 717: training loss 58.1436\n",
            "2023-08-08 16:22:40 [INFO]: epoch 718: training loss 56.8379\n",
            "2023-08-08 16:22:40 [INFO]: epoch 719: training loss 56.2779\n",
            "2023-08-08 16:22:41 [INFO]: epoch 720: training loss 49.2338\n",
            "2023-08-08 16:22:42 [INFO]: epoch 721: training loss 53.2269\n",
            "2023-08-08 16:22:42 [INFO]: epoch 722: training loss 60.4708\n",
            "2023-08-08 16:22:43 [INFO]: epoch 723: training loss 79.2332\n",
            "2023-08-08 16:22:44 [INFO]: epoch 724: training loss 56.0183\n",
            "2023-08-08 16:22:44 [INFO]: epoch 725: training loss 56.8174\n",
            "2023-08-08 16:22:45 [INFO]: epoch 726: training loss 54.5054\n",
            "2023-08-08 16:22:45 [INFO]: epoch 727: training loss 49.2022\n",
            "2023-08-08 16:22:46 [INFO]: epoch 728: training loss 60.9406\n",
            "2023-08-08 16:22:46 [INFO]: epoch 729: training loss 58.0440\n",
            "2023-08-08 16:22:47 [INFO]: epoch 730: training loss 56.8863\n",
            "2023-08-08 16:22:47 [INFO]: epoch 731: training loss 59.3950\n",
            "2023-08-08 16:22:47 [INFO]: epoch 732: training loss 54.8646\n",
            "2023-08-08 16:22:48 [INFO]: epoch 733: training loss 61.5144\n",
            "2023-08-08 16:22:48 [INFO]: epoch 734: training loss 51.1165\n",
            "2023-08-08 16:22:49 [INFO]: epoch 735: training loss 55.9710\n",
            "2023-08-08 16:22:49 [INFO]: epoch 736: training loss 51.3231\n",
            "2023-08-08 16:22:50 [INFO]: epoch 737: training loss 54.7502\n",
            "2023-08-08 16:22:50 [INFO]: epoch 738: training loss 56.4239\n",
            "2023-08-08 16:22:51 [INFO]: epoch 739: training loss 51.7314\n",
            "2023-08-08 16:22:51 [INFO]: epoch 740: training loss 49.5358\n",
            "2023-08-08 16:22:52 [INFO]: epoch 741: training loss 49.3384\n",
            "2023-08-08 16:22:52 [INFO]: epoch 742: training loss 50.7639\n",
            "2023-08-08 16:22:53 [INFO]: epoch 743: training loss 63.4071\n",
            "2023-08-08 16:22:53 [INFO]: epoch 744: training loss 54.2064\n",
            "2023-08-08 16:22:54 [INFO]: epoch 745: training loss 56.1736\n",
            "2023-08-08 16:22:55 [INFO]: epoch 746: training loss 64.8423\n",
            "2023-08-08 16:22:55 [INFO]: epoch 747: training loss 60.7668\n",
            "2023-08-08 16:22:56 [INFO]: epoch 748: training loss 66.7746\n",
            "2023-08-08 16:22:57 [INFO]: epoch 749: training loss 55.8014\n",
            "2023-08-08 16:22:58 [INFO]: epoch 750: training loss 54.2275\n",
            "2023-08-08 16:22:58 [INFO]: epoch 751: training loss 53.5392\n",
            "2023-08-08 16:22:59 [INFO]: epoch 752: training loss 46.5321\n",
            "2023-08-08 16:22:59 [INFO]: epoch 753: training loss 52.1238\n",
            "2023-08-08 16:22:59 [INFO]: epoch 754: training loss 69.6039\n",
            "2023-08-08 16:23:00 [INFO]: epoch 755: training loss 81.9007\n",
            "2023-08-08 16:23:00 [INFO]: epoch 756: training loss 62.9308\n",
            "2023-08-08 16:23:01 [INFO]: epoch 757: training loss 50.0867\n",
            "2023-08-08 16:23:01 [INFO]: epoch 758: training loss 58.7802\n",
            "2023-08-08 16:23:02 [INFO]: epoch 759: training loss 50.6632\n",
            "2023-08-08 16:23:02 [INFO]: epoch 760: training loss 54.2680\n",
            "2023-08-08 16:23:03 [INFO]: epoch 761: training loss 53.7074\n",
            "2023-08-08 16:23:03 [INFO]: epoch 762: training loss 65.0642\n",
            "2023-08-08 16:23:04 [INFO]: epoch 763: training loss 60.4540\n",
            "2023-08-08 16:23:04 [INFO]: epoch 764: training loss 52.6375\n",
            "2023-08-08 16:23:05 [INFO]: epoch 765: training loss 49.8361\n",
            "2023-08-08 16:23:05 [INFO]: epoch 766: training loss 54.2620\n",
            "2023-08-08 16:23:06 [INFO]: epoch 767: training loss 50.0748\n",
            "2023-08-08 16:23:06 [INFO]: epoch 768: training loss 57.8191\n",
            "2023-08-08 16:23:07 [INFO]: epoch 769: training loss 58.2297\n",
            "2023-08-08 16:23:07 [INFO]: epoch 770: training loss 61.8841\n",
            "2023-08-08 16:23:08 [INFO]: epoch 771: training loss 62.1299\n",
            "2023-08-08 16:23:08 [INFO]: epoch 772: training loss 50.1592\n",
            "2023-08-08 16:23:09 [INFO]: epoch 773: training loss 50.7575\n",
            "2023-08-08 16:23:10 [INFO]: epoch 774: training loss 55.0372\n",
            "2023-08-08 16:23:10 [INFO]: epoch 775: training loss 48.8602\n",
            "2023-08-08 16:23:11 [INFO]: epoch 776: training loss 51.1958\n",
            "2023-08-08 16:23:12 [INFO]: epoch 777: training loss 52.7055\n",
            "2023-08-08 16:23:12 [INFO]: epoch 778: training loss 57.5539\n",
            "2023-08-08 16:23:13 [INFO]: epoch 779: training loss 59.5882\n",
            "2023-08-08 16:23:13 [INFO]: epoch 780: training loss 49.8782\n",
            "2023-08-08 16:23:14 [INFO]: epoch 781: training loss 49.1370\n",
            "2023-08-08 16:23:14 [INFO]: epoch 782: training loss 52.3548\n",
            "2023-08-08 16:23:15 [INFO]: epoch 783: training loss 53.9941\n",
            "2023-08-08 16:23:15 [INFO]: epoch 784: training loss 50.1690\n",
            "2023-08-08 16:23:16 [INFO]: epoch 785: training loss 52.7122\n",
            "2023-08-08 16:23:16 [INFO]: epoch 786: training loss 67.2091\n",
            "2023-08-08 16:23:17 [INFO]: epoch 787: training loss 57.9779\n",
            "2023-08-08 16:23:17 [INFO]: epoch 788: training loss 63.3696\n",
            "2023-08-08 16:23:18 [INFO]: epoch 789: training loss 62.8697\n",
            "2023-08-08 16:23:18 [INFO]: epoch 790: training loss 62.3786\n",
            "2023-08-08 16:23:18 [INFO]: epoch 791: training loss 64.9673\n",
            "2023-08-08 16:23:19 [INFO]: epoch 792: training loss 72.3369\n",
            "2023-08-08 16:23:19 [INFO]: epoch 793: training loss 51.2773\n",
            "2023-08-08 16:23:20 [INFO]: epoch 794: training loss 49.4534\n",
            "2023-08-08 16:23:20 [INFO]: epoch 795: training loss 51.5697\n",
            "2023-08-08 16:23:21 [INFO]: epoch 796: training loss 51.1920\n",
            "2023-08-08 16:23:21 [INFO]: epoch 797: training loss 47.3306\n",
            "2023-08-08 16:23:22 [INFO]: epoch 798: training loss 50.9827\n",
            "2023-08-08 16:23:23 [INFO]: epoch 799: training loss 63.2995\n",
            "2023-08-08 16:23:23 [INFO]: epoch 800: training loss 66.4480\n",
            "2023-08-08 16:23:24 [INFO]: epoch 801: training loss 71.7074\n",
            "2023-08-08 16:23:25 [INFO]: epoch 802: training loss 53.3634\n",
            "2023-08-08 16:23:25 [INFO]: epoch 803: training loss 47.4504\n",
            "2023-08-08 16:23:26 [INFO]: epoch 804: training loss 56.7401\n",
            "2023-08-08 16:23:27 [INFO]: epoch 805: training loss 55.1210\n",
            "2023-08-08 16:23:27 [INFO]: epoch 806: training loss 59.9309\n",
            "2023-08-08 16:23:27 [INFO]: epoch 807: training loss 49.5410\n",
            "2023-08-08 16:23:28 [INFO]: epoch 808: training loss 49.2464\n",
            "2023-08-08 16:23:28 [INFO]: epoch 809: training loss 51.3371\n",
            "2023-08-08 16:23:29 [INFO]: epoch 810: training loss 58.3168\n",
            "2023-08-08 16:23:29 [INFO]: epoch 811: training loss 54.1225\n",
            "2023-08-08 16:23:30 [INFO]: epoch 812: training loss 54.7956\n",
            "2023-08-08 16:23:30 [INFO]: epoch 813: training loss 52.7281\n",
            "2023-08-08 16:23:31 [INFO]: epoch 814: training loss 53.7386\n",
            "2023-08-08 16:23:31 [INFO]: epoch 815: training loss 51.1898\n",
            "2023-08-08 16:23:32 [INFO]: epoch 816: training loss 53.3715\n",
            "2023-08-08 16:23:32 [INFO]: epoch 817: training loss 53.6903\n",
            "2023-08-08 16:23:33 [INFO]: epoch 818: training loss 50.1927\n",
            "2023-08-08 16:23:33 [INFO]: epoch 819: training loss 50.4187\n",
            "2023-08-08 16:23:34 [INFO]: epoch 820: training loss 49.3215\n",
            "2023-08-08 16:23:34 [INFO]: epoch 821: training loss 58.0734\n",
            "2023-08-08 16:23:35 [INFO]: epoch 822: training loss 66.3020\n",
            "2023-08-08 16:23:35 [INFO]: epoch 823: training loss 50.6574\n",
            "2023-08-08 16:23:36 [INFO]: epoch 824: training loss 53.3124\n",
            "2023-08-08 16:23:36 [INFO]: epoch 825: training loss 49.6348\n",
            "2023-08-08 16:23:37 [INFO]: epoch 826: training loss 56.3721\n",
            "2023-08-08 16:23:38 [INFO]: epoch 827: training loss 46.2113\n",
            "2023-08-08 16:23:38 [INFO]: epoch 828: training loss 51.0976\n",
            "2023-08-08 16:23:39 [INFO]: epoch 829: training loss 54.3646\n",
            "2023-08-08 16:23:40 [INFO]: epoch 830: training loss 69.0273\n",
            "2023-08-08 16:23:40 [INFO]: epoch 831: training loss 48.5414\n",
            "2023-08-08 16:23:41 [INFO]: epoch 832: training loss 72.2102\n",
            "2023-08-08 16:23:41 [INFO]: epoch 833: training loss 56.9482\n",
            "2023-08-08 16:23:42 [INFO]: epoch 834: training loss 50.8902\n",
            "2023-08-08 16:23:42 [INFO]: epoch 835: training loss 58.0313\n",
            "2023-08-08 16:23:43 [INFO]: epoch 836: training loss 79.6982\n",
            "2023-08-08 16:23:43 [INFO]: epoch 837: training loss 69.2093\n",
            "2023-08-08 16:23:44 [INFO]: epoch 838: training loss 53.1444\n",
            "2023-08-08 16:23:44 [INFO]: epoch 839: training loss 60.7068\n",
            "2023-08-08 16:23:45 [INFO]: epoch 840: training loss 59.2149\n",
            "2023-08-08 16:23:45 [INFO]: epoch 841: training loss 59.7212\n",
            "2023-08-08 16:23:46 [INFO]: epoch 842: training loss 57.0620\n",
            "2023-08-08 16:23:46 [INFO]: epoch 843: training loss 49.8150\n",
            "2023-08-08 16:23:46 [INFO]: epoch 844: training loss 54.9382\n",
            "2023-08-08 16:23:47 [INFO]: epoch 845: training loss 49.1400\n",
            "2023-08-08 16:23:47 [INFO]: epoch 846: training loss 50.0364\n",
            "2023-08-08 16:23:48 [INFO]: epoch 847: training loss 50.9366\n",
            "2023-08-08 16:23:48 [INFO]: epoch 848: training loss 49.2758\n",
            "2023-08-08 16:23:49 [INFO]: epoch 849: training loss 47.0695\n",
            "2023-08-08 16:23:49 [INFO]: epoch 850: training loss 53.9164\n",
            "2023-08-08 16:23:50 [INFO]: epoch 851: training loss 55.0768\n",
            "2023-08-08 16:23:50 [INFO]: epoch 852: training loss 57.4853\n",
            "2023-08-08 16:23:51 [INFO]: epoch 853: training loss 54.0802\n",
            "2023-08-08 16:23:52 [INFO]: epoch 854: training loss 63.9457\n",
            "2023-08-08 16:23:53 [INFO]: epoch 855: training loss 49.2586\n",
            "2023-08-08 16:23:53 [INFO]: epoch 856: training loss 51.7657\n",
            "2023-08-08 16:23:54 [INFO]: epoch 857: training loss 48.2344\n",
            "2023-08-08 16:23:54 [INFO]: epoch 858: training loss 47.4336\n",
            "2023-08-08 16:23:55 [INFO]: epoch 859: training loss 49.1647\n",
            "2023-08-08 16:23:55 [INFO]: epoch 860: training loss 45.9094\n",
            "2023-08-08 16:23:56 [INFO]: epoch 861: training loss 53.5898\n",
            "2023-08-08 16:23:56 [INFO]: epoch 862: training loss 64.9219\n",
            "2023-08-08 16:23:57 [INFO]: epoch 863: training loss 58.0392\n",
            "2023-08-08 16:23:57 [INFO]: epoch 864: training loss 58.4833\n",
            "2023-08-08 16:23:58 [INFO]: epoch 865: training loss 57.6103\n",
            "2023-08-08 16:23:58 [INFO]: epoch 866: training loss 53.2947\n",
            "2023-08-08 16:23:59 [INFO]: epoch 867: training loss 57.0416\n",
            "2023-08-08 16:23:59 [INFO]: epoch 868: training loss 51.1780\n",
            "2023-08-08 16:24:00 [INFO]: epoch 869: training loss 53.4236\n",
            "2023-08-08 16:24:00 [INFO]: epoch 870: training loss 54.1702\n",
            "2023-08-08 16:24:01 [INFO]: epoch 871: training loss 48.4561\n",
            "2023-08-08 16:24:01 [INFO]: epoch 872: training loss 50.4807\n",
            "2023-08-08 16:24:02 [INFO]: epoch 873: training loss 59.0321\n",
            "2023-08-08 16:24:02 [INFO]: epoch 874: training loss 54.8299\n",
            "2023-08-08 16:24:03 [INFO]: epoch 875: training loss 50.0746\n",
            "2023-08-08 16:24:03 [INFO]: epoch 876: training loss 52.9053\n",
            "2023-08-08 16:24:04 [INFO]: epoch 877: training loss 57.1579\n",
            "2023-08-08 16:24:04 [INFO]: epoch 878: training loss 49.7147\n",
            "2023-08-08 16:24:05 [INFO]: epoch 879: training loss 64.1905\n",
            "2023-08-08 16:24:05 [INFO]: epoch 880: training loss 67.9385\n",
            "2023-08-08 16:24:06 [INFO]: epoch 881: training loss 64.9367\n",
            "2023-08-08 16:24:07 [INFO]: epoch 882: training loss 61.8064\n",
            "2023-08-08 16:24:08 [INFO]: epoch 883: training loss 57.9442\n",
            "2023-08-08 16:24:08 [INFO]: epoch 884: training loss 52.7676\n",
            "2023-08-08 16:24:08 [INFO]: epoch 885: training loss 56.5892\n",
            "2023-08-08 16:24:09 [INFO]: epoch 886: training loss 51.5050\n",
            "2023-08-08 16:24:09 [INFO]: epoch 887: training loss 47.0992\n",
            "2023-08-08 16:24:10 [INFO]: epoch 888: training loss 55.3822\n",
            "2023-08-08 16:24:10 [INFO]: epoch 889: training loss 45.6596\n",
            "2023-08-08 16:24:11 [INFO]: epoch 890: training loss 58.9158\n",
            "2023-08-08 16:24:11 [INFO]: epoch 891: training loss 58.5179\n",
            "2023-08-08 16:24:12 [INFO]: epoch 892: training loss 59.7680\n",
            "2023-08-08 16:24:12 [INFO]: epoch 893: training loss 66.2146\n",
            "2023-08-08 16:24:13 [INFO]: epoch 894: training loss 62.0555\n",
            "2023-08-08 16:24:13 [INFO]: epoch 895: training loss 54.4378\n",
            "2023-08-08 16:24:14 [INFO]: epoch 896: training loss 55.2556\n",
            "2023-08-08 16:24:14 [INFO]: epoch 897: training loss 57.8731\n",
            "2023-08-08 16:24:15 [INFO]: epoch 898: training loss 49.8675\n",
            "2023-08-08 16:24:15 [INFO]: epoch 899: training loss 62.9810\n",
            "2023-08-08 16:24:16 [INFO]: epoch 900: training loss 60.7757\n",
            "2023-08-08 16:24:16 [INFO]: epoch 901: training loss 53.7393\n",
            "2023-08-08 16:24:16 [INFO]: epoch 902: training loss 46.6448\n",
            "2023-08-08 16:24:17 [INFO]: epoch 903: training loss 57.3062\n",
            "2023-08-08 16:24:17 [INFO]: epoch 904: training loss 61.8412\n",
            "2023-08-08 16:24:18 [INFO]: epoch 905: training loss 50.4168\n",
            "2023-08-08 16:24:19 [INFO]: epoch 906: training loss 51.9909\n",
            "2023-08-08 16:24:19 [INFO]: epoch 907: training loss 45.3639\n",
            "2023-08-08 16:24:20 [INFO]: epoch 908: training loss 55.4350\n",
            "2023-08-08 16:24:21 [INFO]: epoch 909: training loss 52.2318\n",
            "2023-08-08 16:24:21 [INFO]: epoch 910: training loss 48.5728\n",
            "2023-08-08 16:24:22 [INFO]: epoch 911: training loss 51.3605\n",
            "2023-08-08 16:24:22 [INFO]: epoch 912: training loss 51.7339\n",
            "2023-08-08 16:24:23 [INFO]: epoch 913: training loss 51.2166\n",
            "2023-08-08 16:24:23 [INFO]: epoch 914: training loss 54.2240\n",
            "2023-08-08 16:24:24 [INFO]: epoch 915: training loss 70.9413\n",
            "2023-08-08 16:24:24 [INFO]: epoch 916: training loss 52.2481\n",
            "2023-08-08 16:24:25 [INFO]: epoch 917: training loss 46.8724\n",
            "2023-08-08 16:24:25 [INFO]: epoch 918: training loss 47.6604\n",
            "2023-08-08 16:24:26 [INFO]: epoch 919: training loss 47.6440\n",
            "2023-08-08 16:24:26 [INFO]: epoch 920: training loss 54.5441\n",
            "2023-08-08 16:24:27 [INFO]: epoch 921: training loss 54.7618\n",
            "2023-08-08 16:24:27 [INFO]: epoch 922: training loss 49.3790\n",
            "2023-08-08 16:24:28 [INFO]: epoch 923: training loss 54.5177\n",
            "2023-08-08 16:24:28 [INFO]: epoch 924: training loss 61.1289\n",
            "2023-08-08 16:24:28 [INFO]: epoch 925: training loss 61.0130\n",
            "2023-08-08 16:24:29 [INFO]: epoch 926: training loss 49.2618\n",
            "2023-08-08 16:24:29 [INFO]: epoch 927: training loss 52.2318\n",
            "2023-08-08 16:24:30 [INFO]: epoch 928: training loss 49.9004\n",
            "2023-08-08 16:24:30 [INFO]: epoch 929: training loss 55.0769\n",
            "2023-08-08 16:24:31 [INFO]: epoch 930: training loss 69.4459\n",
            "2023-08-08 16:24:32 [INFO]: epoch 931: training loss 77.9657\n",
            "2023-08-08 16:24:32 [INFO]: epoch 932: training loss 52.9387\n",
            "2023-08-08 16:24:33 [INFO]: epoch 933: training loss 53.2691\n",
            "2023-08-08 16:24:34 [INFO]: epoch 934: training loss 52.3697\n",
            "2023-08-08 16:24:34 [INFO]: epoch 935: training loss 52.3351\n",
            "2023-08-08 16:24:35 [INFO]: epoch 936: training loss 48.2778\n",
            "2023-08-08 16:24:35 [INFO]: epoch 937: training loss 51.0803\n",
            "2023-08-08 16:24:36 [INFO]: epoch 938: training loss 51.7819\n",
            "2023-08-08 16:24:36 [INFO]: epoch 939: training loss 52.8555\n",
            "2023-08-08 16:24:37 [INFO]: epoch 940: training loss 56.1862\n",
            "2023-08-08 16:24:37 [INFO]: epoch 941: training loss 49.0140\n",
            "2023-08-08 16:24:38 [INFO]: epoch 942: training loss 46.5483\n",
            "2023-08-08 16:24:38 [INFO]: epoch 943: training loss 60.5736\n",
            "2023-08-08 16:24:39 [INFO]: epoch 944: training loss 58.5745\n",
            "2023-08-08 16:24:39 [INFO]: epoch 945: training loss 62.5249\n",
            "2023-08-08 16:24:40 [INFO]: epoch 946: training loss 47.2444\n",
            "2023-08-08 16:24:40 [INFO]: epoch 947: training loss 49.7190\n",
            "2023-08-08 16:24:41 [INFO]: epoch 948: training loss 51.9366\n",
            "2023-08-08 16:24:41 [INFO]: epoch 949: training loss 72.4529\n",
            "2023-08-08 16:24:41 [INFO]: epoch 950: training loss 73.5898\n",
            "2023-08-08 16:24:42 [INFO]: epoch 951: training loss 64.6549\n",
            "2023-08-08 16:24:42 [INFO]: epoch 952: training loss 51.3274\n",
            "2023-08-08 16:24:43 [INFO]: epoch 953: training loss 45.6547\n",
            "2023-08-08 16:24:43 [INFO]: epoch 954: training loss 49.8229\n",
            "2023-08-08 16:24:44 [INFO]: epoch 955: training loss 54.3005\n",
            "2023-08-08 16:24:45 [INFO]: epoch 956: training loss 53.9435\n",
            "2023-08-08 16:24:45 [INFO]: epoch 957: training loss 57.1884\n",
            "2023-08-08 16:24:46 [INFO]: epoch 958: training loss 59.4506\n",
            "2023-08-08 16:24:47 [INFO]: epoch 959: training loss 49.8268\n",
            "2023-08-08 16:24:47 [INFO]: epoch 960: training loss 50.7458\n",
            "2023-08-08 16:24:48 [INFO]: epoch 961: training loss 50.3538\n",
            "2023-08-08 16:24:48 [INFO]: epoch 962: training loss 53.9782\n",
            "2023-08-08 16:24:49 [INFO]: epoch 963: training loss 55.7538\n",
            "2023-08-08 16:24:49 [INFO]: epoch 964: training loss 63.7273\n",
            "2023-08-08 16:24:50 [INFO]: epoch 965: training loss 67.0654\n",
            "2023-08-08 16:24:50 [INFO]: epoch 966: training loss 60.6287\n",
            "2023-08-08 16:24:51 [INFO]: epoch 967: training loss 59.1555\n",
            "2023-08-08 16:24:51 [INFO]: epoch 968: training loss 51.3005\n",
            "2023-08-08 16:24:52 [INFO]: epoch 969: training loss 46.9343\n",
            "2023-08-08 16:24:52 [INFO]: epoch 970: training loss 50.8782\n",
            "2023-08-08 16:24:53 [INFO]: epoch 971: training loss 51.5888\n",
            "2023-08-08 16:24:53 [INFO]: epoch 972: training loss 48.8293\n",
            "2023-08-08 16:24:53 [INFO]: epoch 973: training loss 46.9369\n",
            "2023-08-08 16:24:54 [INFO]: epoch 974: training loss 48.7396\n",
            "2023-08-08 16:24:54 [INFO]: epoch 975: training loss 54.0596\n",
            "2023-08-08 16:24:55 [INFO]: epoch 976: training loss 51.9986\n",
            "2023-08-08 16:24:55 [INFO]: epoch 977: training loss 49.0443\n",
            "2023-08-08 16:24:56 [INFO]: epoch 978: training loss 57.8553\n",
            "2023-08-08 16:24:56 [INFO]: epoch 979: training loss 56.7219\n",
            "2023-08-08 16:24:57 [INFO]: epoch 980: training loss 66.9451\n",
            "2023-08-08 16:24:57 [INFO]: epoch 981: training loss 48.9456\n",
            "2023-08-08 16:24:58 [INFO]: epoch 982: training loss 48.3171\n",
            "2023-08-08 16:24:59 [INFO]: epoch 983: training loss 51.7118\n",
            "2023-08-08 16:25:00 [INFO]: epoch 984: training loss 48.9138\n",
            "2023-08-08 16:25:00 [INFO]: epoch 985: training loss 57.9728\n",
            "2023-08-08 16:25:01 [INFO]: epoch 986: training loss 47.3002\n",
            "2023-08-08 16:25:01 [INFO]: epoch 987: training loss 44.3590\n",
            "2023-08-08 16:25:02 [INFO]: epoch 988: training loss 43.9207\n",
            "2023-08-08 16:25:02 [INFO]: epoch 989: training loss 58.4975\n",
            "2023-08-08 16:25:03 [INFO]: epoch 990: training loss 48.9285\n",
            "2023-08-08 16:25:03 [INFO]: epoch 991: training loss 43.4146\n",
            "2023-08-08 16:25:04 [INFO]: epoch 992: training loss 55.2061\n",
            "2023-08-08 16:25:04 [INFO]: epoch 993: training loss 58.5503\n",
            "2023-08-08 16:25:05 [INFO]: epoch 994: training loss 51.0385\n",
            "2023-08-08 16:25:05 [INFO]: epoch 995: training loss 58.4028\n",
            "2023-08-08 16:25:06 [INFO]: epoch 996: training loss 52.3938\n",
            "2023-08-08 16:25:06 [INFO]: epoch 997: training loss 55.5285\n",
            "2023-08-08 16:25:07 [INFO]: epoch 998: training loss 55.2430\n",
            "2023-08-08 16:25:07 [INFO]: epoch 999: training loss 53.2097\n",
            "2023-08-08 16:25:08 [INFO]: epoch 1000: training loss 60.7117\n",
            "2023-08-08 16:25:08 [INFO]: epoch 1001: training loss 53.8363\n",
            "2023-08-08 16:25:09 [INFO]: epoch 1002: training loss 49.0712\n",
            "2023-08-08 16:25:09 [INFO]: epoch 1003: training loss 48.2832\n",
            "2023-08-08 16:25:10 [INFO]: epoch 1004: training loss 51.7482\n",
            "2023-08-08 16:25:10 [INFO]: epoch 1005: training loss 64.5380\n",
            "2023-08-08 16:25:11 [INFO]: epoch 1006: training loss 50.3330\n",
            "2023-08-08 16:25:11 [INFO]: epoch 1007: training loss 55.5956\n",
            "2023-08-08 16:25:12 [INFO]: epoch 1008: training loss 51.1438\n",
            "2023-08-08 16:25:13 [INFO]: epoch 1009: training loss 61.5693\n",
            "2023-08-08 16:25:13 [INFO]: epoch 1010: training loss 54.4121\n",
            "2023-08-08 16:25:14 [INFO]: epoch 1011: training loss 47.1145\n",
            "2023-08-08 16:25:15 [INFO]: epoch 1012: training loss 54.6573\n",
            "2023-08-08 16:25:15 [INFO]: epoch 1013: training loss 49.4128\n",
            "2023-08-08 16:25:16 [INFO]: epoch 1014: training loss 53.8953\n",
            "2023-08-08 16:25:16 [INFO]: epoch 1015: training loss 57.8554\n",
            "2023-08-08 16:25:17 [INFO]: epoch 1016: training loss 55.8986\n",
            "2023-08-08 16:25:17 [INFO]: epoch 1017: training loss 48.4369\n",
            "2023-08-08 16:25:18 [INFO]: epoch 1018: training loss 61.1733\n",
            "2023-08-08 16:25:18 [INFO]: epoch 1019: training loss 53.9227\n",
            "2023-08-08 16:25:19 [INFO]: epoch 1020: training loss 49.2455\n",
            "2023-08-08 16:25:19 [INFO]: epoch 1021: training loss 45.1393\n",
            "2023-08-08 16:25:20 [INFO]: epoch 1022: training loss 42.4928\n",
            "2023-08-08 16:25:20 [INFO]: epoch 1023: training loss 45.5542\n",
            "2023-08-08 16:25:21 [INFO]: epoch 1024: training loss 47.5856\n",
            "2023-08-08 16:25:21 [INFO]: epoch 1025: training loss 46.1338\n",
            "2023-08-08 16:25:22 [INFO]: epoch 1026: training loss 44.6807\n",
            "2023-08-08 16:25:22 [INFO]: epoch 1027: training loss 52.5305\n",
            "2023-08-08 16:25:23 [INFO]: epoch 1028: training loss 49.6328\n",
            "2023-08-08 16:25:23 [INFO]: epoch 1029: training loss 50.4480\n",
            "2023-08-08 16:25:23 [INFO]: epoch 1030: training loss 45.7330\n",
            "2023-08-08 16:25:24 [INFO]: epoch 1031: training loss 46.8523\n",
            "2023-08-08 16:25:25 [INFO]: epoch 1032: training loss 53.0604\n",
            "2023-08-08 16:25:26 [INFO]: epoch 1033: training loss 52.4792\n",
            "2023-08-08 16:25:26 [INFO]: epoch 1034: training loss 48.5322\n",
            "2023-08-08 16:25:27 [INFO]: epoch 1035: training loss 49.6964\n",
            "2023-08-08 16:25:28 [INFO]: epoch 1036: training loss 49.7027\n",
            "2023-08-08 16:25:28 [INFO]: epoch 1037: training loss 51.2168\n",
            "2023-08-08 16:25:29 [INFO]: epoch 1038: training loss 50.1496\n",
            "2023-08-08 16:25:29 [INFO]: epoch 1039: training loss 51.5084\n",
            "2023-08-08 16:25:30 [INFO]: epoch 1040: training loss 45.2793\n",
            "2023-08-08 16:25:30 [INFO]: epoch 1041: training loss 49.8959\n",
            "2023-08-08 16:25:30 [INFO]: epoch 1042: training loss 43.3277\n",
            "2023-08-08 16:25:31 [INFO]: epoch 1043: training loss 46.0522\n",
            "2023-08-08 16:25:31 [INFO]: epoch 1044: training loss 47.1945\n",
            "2023-08-08 16:25:32 [INFO]: epoch 1045: training loss 63.0874\n",
            "2023-08-08 16:25:32 [INFO]: epoch 1046: training loss 55.4541\n",
            "2023-08-08 16:25:33 [INFO]: epoch 1047: training loss 47.4394\n",
            "2023-08-08 16:25:33 [INFO]: epoch 1048: training loss 51.6199\n",
            "2023-08-08 16:25:34 [INFO]: epoch 1049: training loss 61.6301\n",
            "2023-08-08 16:25:34 [INFO]: epoch 1050: training loss 62.2190\n",
            "2023-08-08 16:25:35 [INFO]: epoch 1051: training loss 57.8811\n",
            "2023-08-08 16:25:35 [INFO]: epoch 1052: training loss 49.5395\n",
            "2023-08-08 16:25:36 [INFO]: epoch 1053: training loss 50.6793\n",
            "2023-08-08 16:25:36 [INFO]: epoch 1054: training loss 58.2622\n",
            "2023-08-08 16:25:37 [INFO]: epoch 1055: training loss 58.2443\n",
            "2023-08-08 16:25:37 [INFO]: epoch 1056: training loss 56.1198\n",
            "2023-08-08 16:25:38 [INFO]: epoch 1057: training loss 45.7326\n",
            "2023-08-08 16:25:39 [INFO]: epoch 1058: training loss 47.4272\n",
            "2023-08-08 16:25:39 [INFO]: epoch 1059: training loss 50.1830\n",
            "2023-08-08 16:25:40 [INFO]: epoch 1060: training loss 48.2081\n",
            "2023-08-08 16:25:41 [INFO]: epoch 1061: training loss 49.0031\n",
            "2023-08-08 16:25:41 [INFO]: epoch 1062: training loss 51.2521\n",
            "2023-08-08 16:25:42 [INFO]: epoch 1063: training loss 61.0801\n",
            "2023-08-08 16:25:42 [INFO]: epoch 1064: training loss 53.9454\n",
            "2023-08-08 16:25:43 [INFO]: epoch 1065: training loss 47.1364\n",
            "2023-08-08 16:25:43 [INFO]: epoch 1066: training loss 45.4376\n",
            "2023-08-08 16:25:44 [INFO]: epoch 1067: training loss 48.0673\n",
            "2023-08-08 16:25:44 [INFO]: epoch 1068: training loss 59.4090\n",
            "2023-08-08 16:25:44 [INFO]: epoch 1069: training loss 51.2279\n",
            "2023-08-08 16:25:45 [INFO]: epoch 1070: training loss 50.4730\n",
            "2023-08-08 16:25:45 [INFO]: epoch 1071: training loss 50.0220\n",
            "2023-08-08 16:25:46 [INFO]: epoch 1072: training loss 49.9389\n",
            "2023-08-08 16:25:46 [INFO]: epoch 1073: training loss 48.8842\n",
            "2023-08-08 16:25:47 [INFO]: epoch 1074: training loss 42.1572\n",
            "2023-08-08 16:25:47 [INFO]: epoch 1075: training loss 45.8131\n",
            "2023-08-08 16:25:48 [INFO]: epoch 1076: training loss 51.3137\n",
            "2023-08-08 16:25:48 [INFO]: epoch 1077: training loss 46.8052\n",
            "2023-08-08 16:25:49 [INFO]: epoch 1078: training loss 65.0609\n",
            "2023-08-08 16:25:49 [INFO]: epoch 1079: training loss 56.5018\n",
            "2023-08-08 16:25:50 [INFO]: epoch 1080: training loss 62.8431\n",
            "2023-08-08 16:25:50 [INFO]: epoch 1081: training loss 59.4390\n",
            "2023-08-08 16:25:51 [INFO]: epoch 1082: training loss 64.0098\n",
            "2023-08-08 16:25:51 [INFO]: epoch 1083: training loss 56.4796\n",
            "2023-08-08 16:25:52 [INFO]: epoch 1084: training loss 47.3856\n",
            "2023-08-08 16:25:53 [INFO]: epoch 1085: training loss 54.7759\n",
            "2023-08-08 16:25:54 [INFO]: epoch 1086: training loss 52.9513\n",
            "2023-08-08 16:25:54 [INFO]: epoch 1087: training loss 45.4990\n",
            "2023-08-08 16:25:55 [INFO]: epoch 1088: training loss 46.6196\n",
            "2023-08-08 16:25:55 [INFO]: epoch 1089: training loss 57.1127\n",
            "2023-08-08 16:25:56 [INFO]: epoch 1090: training loss 45.2764\n",
            "2023-08-08 16:25:56 [INFO]: epoch 1091: training loss 53.6364\n",
            "2023-08-08 16:25:57 [INFO]: epoch 1092: training loss 47.0550\n",
            "2023-08-08 16:25:57 [INFO]: epoch 1093: training loss 51.2169\n",
            "2023-08-08 16:25:57 [INFO]: epoch 1094: training loss 62.9147\n",
            "2023-08-08 16:25:58 [INFO]: epoch 1095: training loss 60.7231\n",
            "2023-08-08 16:25:58 [INFO]: epoch 1096: training loss 52.8257\n",
            "2023-08-08 16:25:59 [INFO]: epoch 1097: training loss 44.8122\n",
            "2023-08-08 16:25:59 [INFO]: epoch 1098: training loss 52.5009\n",
            "2023-08-08 16:26:00 [INFO]: epoch 1099: training loss 50.2852\n",
            "2023-08-08 16:26:00 [INFO]: epoch 1100: training loss 67.3225\n",
            "2023-08-08 16:26:01 [INFO]: epoch 1101: training loss 76.1732\n",
            "2023-08-08 16:26:01 [INFO]: epoch 1102: training loss 82.3925\n",
            "2023-08-08 16:26:02 [INFO]: epoch 1103: training loss 69.5839\n",
            "2023-08-08 16:26:02 [INFO]: epoch 1104: training loss 55.6218\n",
            "2023-08-08 16:26:03 [INFO]: epoch 1105: training loss 53.1646\n",
            "2023-08-08 16:26:03 [INFO]: epoch 1106: training loss 50.8814\n",
            "2023-08-08 16:26:04 [INFO]: epoch 1107: training loss 51.5202\n",
            "2023-08-08 16:26:04 [INFO]: epoch 1108: training loss 59.6018\n",
            "2023-08-08 16:26:05 [INFO]: epoch 1109: training loss 60.8305\n",
            "2023-08-08 16:26:06 [INFO]: epoch 1110: training loss 46.9141\n",
            "2023-08-08 16:26:06 [INFO]: epoch 1111: training loss 45.1804\n",
            "2023-08-08 16:26:07 [INFO]: epoch 1112: training loss 46.5482\n",
            "2023-08-08 16:26:08 [INFO]: epoch 1113: training loss 60.9726\n",
            "2023-08-08 16:26:08 [INFO]: epoch 1114: training loss 68.5454\n",
            "2023-08-08 16:26:09 [INFO]: epoch 1115: training loss 51.1593\n",
            "2023-08-08 16:26:09 [INFO]: epoch 1116: training loss 50.3743\n",
            "2023-08-08 16:26:09 [INFO]: epoch 1117: training loss 47.6462\n",
            "2023-08-08 16:26:10 [INFO]: epoch 1118: training loss 52.8881\n",
            "2023-08-08 16:26:10 [INFO]: epoch 1119: training loss 51.9355\n",
            "2023-08-08 16:26:11 [INFO]: epoch 1120: training loss 56.2140\n",
            "2023-08-08 16:26:11 [INFO]: epoch 1121: training loss 59.9242\n",
            "2023-08-08 16:26:12 [INFO]: epoch 1122: training loss 54.7864\n",
            "2023-08-08 16:26:12 [INFO]: epoch 1123: training loss 52.1561\n",
            "2023-08-08 16:26:13 [INFO]: epoch 1124: training loss 48.0574\n",
            "2023-08-08 16:26:13 [INFO]: epoch 1125: training loss 49.6312\n",
            "2023-08-08 16:26:14 [INFO]: epoch 1126: training loss 49.6112\n",
            "2023-08-08 16:26:14 [INFO]: epoch 1127: training loss 51.0305\n",
            "2023-08-08 16:26:15 [INFO]: epoch 1128: training loss 44.6967\n",
            "2023-08-08 16:26:15 [INFO]: epoch 1129: training loss 52.7815\n",
            "2023-08-08 16:26:16 [INFO]: epoch 1130: training loss 50.3805\n",
            "2023-08-08 16:26:16 [INFO]: epoch 1131: training loss 46.6673\n",
            "2023-08-08 16:26:17 [INFO]: epoch 1132: training loss 51.0293\n",
            "2023-08-08 16:26:17 [INFO]: epoch 1133: training loss 52.0756\n",
            "2023-08-08 16:26:18 [INFO]: epoch 1134: training loss 56.1460\n",
            "2023-08-08 16:26:18 [INFO]: epoch 1135: training loss 51.4847\n",
            "2023-08-08 16:26:19 [INFO]: epoch 1136: training loss 52.6762\n",
            "2023-08-08 16:26:20 [INFO]: epoch 1137: training loss 45.8921\n",
            "2023-08-08 16:26:20 [INFO]: epoch 1138: training loss 48.4457\n",
            "2023-08-08 16:26:21 [INFO]: epoch 1139: training loss 49.0634\n",
            "2023-08-08 16:26:21 [INFO]: epoch 1140: training loss 56.0527\n",
            "2023-08-08 16:26:22 [INFO]: epoch 1141: training loss 55.5605\n",
            "2023-08-08 16:26:22 [INFO]: epoch 1142: training loss 66.9969\n",
            "2023-08-08 16:26:23 [INFO]: epoch 1143: training loss 57.4544\n",
            "2023-08-08 16:26:23 [INFO]: epoch 1144: training loss 46.6421\n",
            "2023-08-08 16:26:24 [INFO]: epoch 1145: training loss 47.0776\n",
            "2023-08-08 16:26:24 [INFO]: epoch 1146: training loss 51.5037\n",
            "2023-08-08 16:26:25 [INFO]: epoch 1147: training loss 56.5263\n",
            "2023-08-08 16:26:25 [INFO]: epoch 1148: training loss 44.0463\n",
            "2023-08-08 16:26:26 [INFO]: epoch 1149: training loss 45.5372\n",
            "2023-08-08 16:26:26 [INFO]: epoch 1150: training loss 47.3971\n",
            "2023-08-08 16:26:27 [INFO]: epoch 1151: training loss 43.4119\n",
            "2023-08-08 16:26:27 [INFO]: epoch 1152: training loss 45.4262\n",
            "2023-08-08 16:26:28 [INFO]: epoch 1153: training loss 47.2252\n",
            "2023-08-08 16:26:28 [INFO]: epoch 1154: training loss 46.9479\n",
            "2023-08-08 16:26:29 [INFO]: epoch 1155: training loss 48.5214\n",
            "2023-08-08 16:26:29 [INFO]: epoch 1156: training loss 45.6751\n",
            "2023-08-08 16:26:30 [INFO]: epoch 1157: training loss 48.4695\n",
            "2023-08-08 16:26:30 [INFO]: epoch 1158: training loss 49.5998\n",
            "2023-08-08 16:26:31 [INFO]: epoch 1159: training loss 58.8127\n",
            "2023-08-08 16:26:31 [INFO]: epoch 1160: training loss 49.6404\n",
            "2023-08-08 16:26:32 [INFO]: epoch 1161: training loss 45.0671\n",
            "2023-08-08 16:26:33 [INFO]: epoch 1162: training loss 45.1957\n",
            "2023-08-08 16:26:34 [INFO]: epoch 1163: training loss 45.8216\n",
            "2023-08-08 16:26:34 [INFO]: epoch 1164: training loss 48.2760\n",
            "2023-08-08 16:26:34 [INFO]: epoch 1165: training loss 49.6523\n",
            "2023-08-08 16:26:35 [INFO]: epoch 1166: training loss 60.6472\n",
            "2023-08-08 16:26:35 [INFO]: epoch 1167: training loss 51.6214\n",
            "2023-08-08 16:26:36 [INFO]: epoch 1168: training loss 46.3558\n",
            "2023-08-08 16:26:36 [INFO]: epoch 1169: training loss 46.4055\n",
            "2023-08-08 16:26:37 [INFO]: epoch 1170: training loss 45.4227\n",
            "2023-08-08 16:26:37 [INFO]: epoch 1171: training loss 52.3047\n",
            "2023-08-08 16:26:38 [INFO]: epoch 1172: training loss 51.7719\n",
            "2023-08-08 16:26:38 [INFO]: epoch 1173: training loss 48.4783\n",
            "2023-08-08 16:26:39 [INFO]: epoch 1174: training loss 47.6244\n",
            "2023-08-08 16:26:39 [INFO]: epoch 1175: training loss 44.5644\n",
            "2023-08-08 16:26:40 [INFO]: epoch 1176: training loss 43.6959\n",
            "2023-08-08 16:26:40 [INFO]: epoch 1177: training loss 42.0263\n",
            "2023-08-08 16:26:41 [INFO]: epoch 1178: training loss 47.3869\n",
            "2023-08-08 16:26:41 [INFO]: epoch 1179: training loss 45.0612\n",
            "2023-08-08 16:26:42 [INFO]: epoch 1180: training loss 55.2858\n",
            "2023-08-08 16:26:42 [INFO]: epoch 1181: training loss 57.7002\n",
            "2023-08-08 16:26:43 [INFO]: epoch 1182: training loss 48.7684\n",
            "2023-08-08 16:26:43 [INFO]: epoch 1183: training loss 52.8430\n",
            "2023-08-08 16:26:44 [INFO]: epoch 1184: training loss 60.9094\n",
            "2023-08-08 16:26:44 [INFO]: epoch 1185: training loss 52.2970\n",
            "2023-08-08 16:26:45 [INFO]: epoch 1186: training loss 50.1143\n",
            "2023-08-08 16:26:46 [INFO]: epoch 1187: training loss 45.3089\n",
            "2023-08-08 16:26:46 [INFO]: epoch 1188: training loss 43.9830\n",
            "2023-08-08 16:26:47 [INFO]: epoch 1189: training loss 43.3775\n",
            "2023-08-08 16:26:47 [INFO]: epoch 1190: training loss 45.1987\n",
            "2023-08-08 16:26:48 [INFO]: epoch 1191: training loss 42.5744\n",
            "2023-08-08 16:26:48 [INFO]: epoch 1192: training loss 44.9903\n",
            "2023-08-08 16:26:49 [INFO]: epoch 1193: training loss 45.7870\n",
            "2023-08-08 16:26:49 [INFO]: epoch 1194: training loss 48.6520\n",
            "2023-08-08 16:26:50 [INFO]: epoch 1195: training loss 51.5172\n",
            "2023-08-08 16:26:50 [INFO]: epoch 1196: training loss 64.0388\n",
            "2023-08-08 16:26:51 [INFO]: epoch 1197: training loss 51.1971\n",
            "2023-08-08 16:26:51 [INFO]: epoch 1198: training loss 48.6601\n",
            "2023-08-08 16:26:52 [INFO]: epoch 1199: training loss 57.4750\n",
            "2023-08-08 16:26:52 [INFO]: epoch 1200: training loss 46.2712\n",
            "2023-08-08 16:26:53 [INFO]: epoch 1201: training loss 42.5318\n",
            "2023-08-08 16:26:53 [INFO]: epoch 1202: training loss 49.6088\n",
            "2023-08-08 16:26:54 [INFO]: epoch 1203: training loss 51.0405\n",
            "2023-08-08 16:26:54 [INFO]: epoch 1204: training loss 50.0627\n",
            "2023-08-08 16:26:55 [INFO]: epoch 1205: training loss 53.8134\n",
            "2023-08-08 16:26:55 [INFO]: epoch 1206: training loss 50.4580\n",
            "2023-08-08 16:26:56 [INFO]: epoch 1207: training loss 59.3359\n",
            "2023-08-08 16:26:56 [INFO]: epoch 1208: training loss 61.1382\n",
            "2023-08-08 16:26:56 [INFO]: epoch 1209: training loss 52.6612\n",
            "2023-08-08 16:26:57 [INFO]: epoch 1210: training loss 52.7213\n",
            "2023-08-08 16:26:58 [INFO]: epoch 1211: training loss 60.7888\n",
            "2023-08-08 16:26:59 [INFO]: epoch 1212: training loss 59.1881\n",
            "2023-08-08 16:26:59 [INFO]: epoch 1213: training loss 53.8282\n",
            "2023-08-08 16:27:00 [INFO]: epoch 1214: training loss 52.1266\n",
            "2023-08-08 16:27:00 [INFO]: epoch 1215: training loss 51.7323\n",
            "2023-08-08 16:27:01 [INFO]: epoch 1216: training loss 57.3017\n",
            "2023-08-08 16:27:01 [INFO]: epoch 1217: training loss 51.0178\n",
            "2023-08-08 16:27:02 [INFO]: epoch 1218: training loss 57.0733\n",
            "2023-08-08 16:27:02 [INFO]: epoch 1219: training loss 52.0683\n",
            "2023-08-08 16:27:03 [INFO]: epoch 1220: training loss 50.5507\n",
            "2023-08-08 16:27:03 [INFO]: epoch 1221: training loss 52.3039\n",
            "2023-08-08 16:27:04 [INFO]: epoch 1222: training loss 56.2647\n",
            "2023-08-08 16:27:04 [INFO]: epoch 1223: training loss 53.7610\n",
            "2023-08-08 16:27:05 [INFO]: epoch 1224: training loss 45.8252\n",
            "2023-08-08 16:27:05 [INFO]: epoch 1225: training loss 47.0356\n",
            "2023-08-08 16:27:06 [INFO]: epoch 1226: training loss 42.0198\n",
            "2023-08-08 16:27:06 [INFO]: epoch 1227: training loss 44.5056\n",
            "2023-08-08 16:27:07 [INFO]: epoch 1228: training loss 57.9390\n",
            "2023-08-08 16:27:07 [INFO]: epoch 1229: training loss 51.5322\n",
            "2023-08-08 16:27:08 [INFO]: epoch 1230: training loss 43.9446\n",
            "2023-08-08 16:27:08 [INFO]: epoch 1231: training loss 46.1810\n",
            "2023-08-08 16:27:09 [INFO]: epoch 1232: training loss 51.8591\n",
            "2023-08-08 16:27:09 [INFO]: epoch 1233: training loss 46.8683\n",
            "2023-08-08 16:27:10 [INFO]: epoch 1234: training loss 44.3599\n",
            "2023-08-08 16:27:10 [INFO]: epoch 1235: training loss 49.0094\n",
            "2023-08-08 16:27:11 [INFO]: epoch 1236: training loss 46.2170\n",
            "2023-08-08 16:27:11 [INFO]: epoch 1237: training loss 54.1395\n",
            "2023-08-08 16:27:12 [INFO]: epoch 1238: training loss 47.9059\n",
            "2023-08-08 16:27:13 [INFO]: epoch 1239: training loss 47.8281\n",
            "2023-08-08 16:27:13 [INFO]: epoch 1240: training loss 49.5781\n",
            "2023-08-08 16:27:14 [INFO]: epoch 1241: training loss 47.4392\n",
            "2023-08-08 16:27:14 [INFO]: epoch 1242: training loss 44.5643\n",
            "2023-08-08 16:27:15 [INFO]: epoch 1243: training loss 42.3294\n",
            "2023-08-08 16:27:15 [INFO]: epoch 1244: training loss 59.1921\n",
            "2023-08-08 16:27:16 [INFO]: epoch 1245: training loss 46.2037\n",
            "2023-08-08 16:27:16 [INFO]: epoch 1246: training loss 44.7434\n",
            "2023-08-08 16:27:17 [INFO]: epoch 1247: training loss 46.5549\n",
            "2023-08-08 16:27:17 [INFO]: epoch 1248: training loss 50.9202\n",
            "2023-08-08 16:27:18 [INFO]: epoch 1249: training loss 45.8919\n",
            "2023-08-08 16:27:18 [INFO]: epoch 1250: training loss 48.2558\n",
            "2023-08-08 16:27:19 [INFO]: epoch 1251: training loss 42.2911\n",
            "2023-08-08 16:27:19 [INFO]: epoch 1252: training loss 43.4646\n",
            "2023-08-08 16:27:20 [INFO]: epoch 1253: training loss 41.0154\n",
            "2023-08-08 16:27:20 [INFO]: epoch 1254: training loss 49.3928\n",
            "2023-08-08 16:27:21 [INFO]: epoch 1255: training loss 52.7051\n",
            "2023-08-08 16:27:21 [INFO]: epoch 1256: training loss 80.6185\n",
            "2023-08-08 16:27:22 [INFO]: epoch 1257: training loss 51.3975\n",
            "2023-08-08 16:27:23 [INFO]: epoch 1258: training loss 53.8287\n",
            "2023-08-08 16:27:23 [INFO]: epoch 1259: training loss 47.2746\n",
            "2023-08-08 16:27:24 [INFO]: epoch 1260: training loss 45.8832\n",
            "2023-08-08 16:27:25 [INFO]: epoch 1261: training loss 47.7146\n",
            "2023-08-08 16:27:26 [INFO]: epoch 1262: training loss 45.2499\n",
            "2023-08-08 16:27:26 [INFO]: epoch 1263: training loss 46.1745\n",
            "2023-08-08 16:27:27 [INFO]: epoch 1264: training loss 44.1478\n",
            "2023-08-08 16:27:28 [INFO]: epoch 1265: training loss 51.0184\n",
            "2023-08-08 16:27:28 [INFO]: epoch 1266: training loss 47.9818\n",
            "2023-08-08 16:27:29 [INFO]: epoch 1267: training loss 46.4197\n",
            "2023-08-08 16:27:30 [INFO]: epoch 1268: training loss 46.0218\n",
            "2023-08-08 16:27:30 [INFO]: epoch 1269: training loss 42.7173\n",
            "2023-08-08 16:27:31 [INFO]: epoch 1270: training loss 68.6369\n",
            "2023-08-08 16:27:32 [INFO]: epoch 1271: training loss 70.6107\n",
            "2023-08-08 16:27:32 [INFO]: epoch 1272: training loss 59.5483\n",
            "2023-08-08 16:27:33 [INFO]: epoch 1273: training loss 62.1521\n",
            "2023-08-08 16:27:33 [INFO]: epoch 1274: training loss 56.4250\n",
            "2023-08-08 16:27:34 [INFO]: epoch 1275: training loss 48.7499\n",
            "2023-08-08 16:27:35 [INFO]: epoch 1276: training loss 44.9184\n",
            "2023-08-08 16:27:36 [INFO]: epoch 1277: training loss 41.9062\n",
            "2023-08-08 16:27:37 [INFO]: epoch 1278: training loss 43.9611\n",
            "2023-08-08 16:27:38 [INFO]: epoch 1279: training loss 42.6150\n",
            "2023-08-08 16:27:38 [INFO]: epoch 1280: training loss 46.5216\n",
            "2023-08-08 16:27:39 [INFO]: epoch 1281: training loss 52.5072\n",
            "2023-08-08 16:27:40 [INFO]: epoch 1282: training loss 44.7153\n",
            "2023-08-08 16:27:40 [INFO]: epoch 1283: training loss 50.1393\n",
            "2023-08-08 16:27:41 [INFO]: epoch 1284: training loss 47.0658\n",
            "2023-08-08 16:27:42 [INFO]: epoch 1285: training loss 64.6122\n",
            "2023-08-08 16:27:42 [INFO]: epoch 1286: training loss 53.9907\n",
            "2023-08-08 16:27:43 [INFO]: epoch 1287: training loss 47.3115\n",
            "2023-08-08 16:27:43 [INFO]: epoch 1288: training loss 49.7588\n",
            "2023-08-08 16:27:44 [INFO]: epoch 1289: training loss 44.5523\n",
            "2023-08-08 16:27:44 [INFO]: epoch 1290: training loss 50.6904\n",
            "2023-08-08 16:27:45 [INFO]: epoch 1291: training loss 47.8488\n",
            "2023-08-08 16:27:45 [INFO]: epoch 1292: training loss 51.8663\n",
            "2023-08-08 16:27:45 [INFO]: epoch 1293: training loss 60.6752\n",
            "2023-08-08 16:27:46 [INFO]: epoch 1294: training loss 49.9665\n",
            "2023-08-08 16:27:46 [INFO]: epoch 1295: training loss 45.7389\n",
            "2023-08-08 16:27:47 [INFO]: epoch 1296: training loss 51.8111\n",
            "2023-08-08 16:27:47 [INFO]: epoch 1297: training loss 48.5610\n",
            "2023-08-08 16:27:48 [INFO]: epoch 1298: training loss 54.2472\n",
            "2023-08-08 16:27:48 [INFO]: epoch 1299: training loss 47.2590\n",
            "2023-08-08 16:27:49 [INFO]: epoch 1300: training loss 46.2558\n",
            "2023-08-08 16:27:49 [INFO]: epoch 1301: training loss 55.2730\n",
            "2023-08-08 16:27:50 [INFO]: epoch 1302: training loss 62.3767\n",
            "2023-08-08 16:27:50 [INFO]: epoch 1303: training loss 57.4470\n",
            "2023-08-08 16:27:51 [INFO]: epoch 1304: training loss 49.2921\n",
            "2023-08-08 16:27:51 [INFO]: epoch 1305: training loss 44.5674\n",
            "2023-08-08 16:27:52 [INFO]: epoch 1306: training loss 49.3277\n",
            "2023-08-08 16:27:53 [INFO]: epoch 1307: training loss 43.2242\n",
            "2023-08-08 16:27:53 [INFO]: epoch 1308: training loss 42.9898\n",
            "2023-08-08 16:27:54 [INFO]: epoch 1309: training loss 44.6637\n",
            "2023-08-08 16:27:55 [INFO]: epoch 1310: training loss 43.2185\n",
            "2023-08-08 16:27:55 [INFO]: epoch 1311: training loss 51.8009\n",
            "2023-08-08 16:27:56 [INFO]: epoch 1312: training loss 57.6391\n",
            "2023-08-08 16:27:56 [INFO]: epoch 1313: training loss 55.4694\n",
            "2023-08-08 16:27:57 [INFO]: epoch 1314: training loss 58.1110\n",
            "2023-08-08 16:27:57 [INFO]: epoch 1315: training loss 44.6464\n",
            "2023-08-08 16:27:58 [INFO]: epoch 1316: training loss 48.7891\n",
            "2023-08-08 16:27:58 [INFO]: epoch 1317: training loss 49.8203\n",
            "2023-08-08 16:27:59 [INFO]: epoch 1318: training loss 50.5839\n",
            "2023-08-08 16:27:59 [INFO]: epoch 1319: training loss 47.0076\n",
            "2023-08-08 16:27:59 [INFO]: epoch 1320: training loss 44.5788\n",
            "2023-08-08 16:28:00 [INFO]: epoch 1321: training loss 50.6579\n",
            "2023-08-08 16:28:00 [INFO]: epoch 1322: training loss 46.6737\n",
            "2023-08-08 16:28:01 [INFO]: epoch 1323: training loss 51.3538\n",
            "2023-08-08 16:28:01 [INFO]: epoch 1324: training loss 53.2605\n",
            "2023-08-08 16:28:02 [INFO]: epoch 1325: training loss 44.2430\n",
            "2023-08-08 16:28:02 [INFO]: epoch 1326: training loss 46.5824\n",
            "2023-08-08 16:28:03 [INFO]: epoch 1327: training loss 48.7472\n",
            "2023-08-08 16:28:03 [INFO]: epoch 1328: training loss 55.9356\n",
            "2023-08-08 16:28:04 [INFO]: epoch 1329: training loss 45.8197\n",
            "2023-08-08 16:28:04 [INFO]: epoch 1330: training loss 51.4197\n",
            "2023-08-08 16:28:05 [INFO]: epoch 1331: training loss 44.8495\n",
            "2023-08-08 16:28:06 [INFO]: epoch 1332: training loss 42.2619\n",
            "2023-08-08 16:28:06 [INFO]: epoch 1333: training loss 48.9956\n",
            "2023-08-08 16:28:07 [INFO]: epoch 1334: training loss 47.0867\n",
            "2023-08-08 16:28:08 [INFO]: epoch 1335: training loss 46.6304\n",
            "2023-08-08 16:28:08 [INFO]: epoch 1336: training loss 61.0855\n",
            "2023-08-08 16:28:09 [INFO]: epoch 1337: training loss 63.7022\n",
            "2023-08-08 16:28:09 [INFO]: epoch 1338: training loss 56.0566\n",
            "2023-08-08 16:28:10 [INFO]: epoch 1339: training loss 49.6348\n",
            "2023-08-08 16:28:10 [INFO]: epoch 1340: training loss 54.5685\n",
            "2023-08-08 16:28:11 [INFO]: epoch 1341: training loss 54.3975\n",
            "2023-08-08 16:28:11 [INFO]: epoch 1342: training loss 55.0354\n",
            "2023-08-08 16:28:11 [INFO]: epoch 1343: training loss 43.7296\n",
            "2023-08-08 16:28:12 [INFO]: epoch 1344: training loss 46.9299\n",
            "2023-08-08 16:28:12 [INFO]: epoch 1345: training loss 43.0805\n",
            "2023-08-08 16:28:13 [INFO]: epoch 1346: training loss 46.4810\n",
            "2023-08-08 16:28:13 [INFO]: epoch 1347: training loss 45.2840\n",
            "2023-08-08 16:28:14 [INFO]: epoch 1348: training loss 50.2246\n",
            "2023-08-08 16:28:14 [INFO]: epoch 1349: training loss 53.1543\n",
            "2023-08-08 16:28:15 [INFO]: epoch 1350: training loss 58.7367\n",
            "2023-08-08 16:28:15 [INFO]: epoch 1351: training loss 72.8472\n",
            "2023-08-08 16:28:16 [INFO]: epoch 1352: training loss 68.0229\n",
            "2023-08-08 16:28:16 [INFO]: epoch 1353: training loss 48.6771\n",
            "2023-08-08 16:28:17 [INFO]: epoch 1354: training loss 47.1502\n",
            "2023-08-08 16:28:17 [INFO]: epoch 1355: training loss 50.9270\n",
            "2023-08-08 16:28:18 [INFO]: epoch 1356: training loss 48.0774\n",
            "2023-08-08 16:28:18 [INFO]: epoch 1357: training loss 50.4403\n",
            "2023-08-08 16:28:19 [INFO]: epoch 1358: training loss 54.0433\n",
            "2023-08-08 16:28:20 [INFO]: epoch 1359: training loss 52.7930\n",
            "2023-08-08 16:28:21 [INFO]: epoch 1360: training loss 45.9336\n",
            "2023-08-08 16:28:21 [INFO]: epoch 1361: training loss 46.8981\n",
            "2023-08-08 16:28:22 [INFO]: epoch 1362: training loss 49.6375\n",
            "2023-08-08 16:28:22 [INFO]: epoch 1363: training loss 45.2613\n",
            "2023-08-08 16:28:23 [INFO]: epoch 1364: training loss 47.2165\n",
            "2023-08-08 16:28:23 [INFO]: epoch 1365: training loss 47.1805\n",
            "2023-08-08 16:28:24 [INFO]: epoch 1366: training loss 43.6273\n",
            "2023-08-08 16:28:24 [INFO]: epoch 1367: training loss 50.3658\n",
            "2023-08-08 16:28:25 [INFO]: epoch 1368: training loss 50.2283\n",
            "2023-08-08 16:28:25 [INFO]: epoch 1369: training loss 46.9136\n",
            "2023-08-08 16:28:26 [INFO]: epoch 1370: training loss 45.4209\n",
            "2023-08-08 16:28:26 [INFO]: epoch 1371: training loss 47.8159\n",
            "2023-08-08 16:28:27 [INFO]: epoch 1372: training loss 54.8743\n",
            "2023-08-08 16:28:27 [INFO]: epoch 1373: training loss 53.0238\n",
            "2023-08-08 16:28:27 [INFO]: epoch 1374: training loss 45.7031\n",
            "2023-08-08 16:28:28 [INFO]: epoch 1375: training loss 47.8878\n",
            "2023-08-08 16:28:28 [INFO]: epoch 1376: training loss 50.3882\n",
            "2023-08-08 16:28:29 [INFO]: epoch 1377: training loss 55.8704\n",
            "2023-08-08 16:28:29 [INFO]: epoch 1378: training loss 45.9038\n",
            "2023-08-08 16:28:30 [INFO]: epoch 1379: training loss 47.2300\n",
            "2023-08-08 16:28:30 [INFO]: epoch 1380: training loss 53.4861\n",
            "2023-08-08 16:28:31 [INFO]: epoch 1381: training loss 52.6606\n",
            "2023-08-08 16:28:31 [INFO]: epoch 1382: training loss 49.9072\n",
            "2023-08-08 16:28:32 [INFO]: epoch 1383: training loss 55.9139\n",
            "2023-08-08 16:28:33 [INFO]: epoch 1384: training loss 47.0725\n",
            "2023-08-08 16:28:34 [INFO]: epoch 1385: training loss 55.2893\n",
            "2023-08-08 16:28:34 [INFO]: epoch 1386: training loss 47.8592\n",
            "2023-08-08 16:28:35 [INFO]: epoch 1387: training loss 46.4388\n",
            "2023-08-08 16:28:35 [INFO]: epoch 1388: training loss 49.9731\n",
            "2023-08-08 16:28:36 [INFO]: epoch 1389: training loss 49.6719\n",
            "2023-08-08 16:28:36 [INFO]: epoch 1390: training loss 46.0275\n",
            "2023-08-08 16:28:37 [INFO]: epoch 1391: training loss 49.5872\n",
            "2023-08-08 16:28:37 [INFO]: epoch 1392: training loss 42.8939\n",
            "2023-08-08 16:28:38 [INFO]: epoch 1393: training loss 48.2091\n",
            "2023-08-08 16:28:38 [INFO]: epoch 1394: training loss 53.4536\n",
            "2023-08-08 16:28:39 [INFO]: epoch 1395: training loss 45.7126\n",
            "2023-08-08 16:28:39 [INFO]: epoch 1396: training loss 41.5527\n",
            "2023-08-08 16:28:40 [INFO]: epoch 1397: training loss 45.4100\n",
            "2023-08-08 16:28:40 [INFO]: epoch 1398: training loss 49.8290\n",
            "2023-08-08 16:28:40 [INFO]: epoch 1399: training loss 51.4392\n",
            "2023-08-08 16:28:41 [INFO]: epoch 1400: training loss 61.9270\n",
            "2023-08-08 16:28:41 [INFO]: epoch 1401: training loss 58.2431\n",
            "2023-08-08 16:28:42 [INFO]: epoch 1402: training loss 55.9623\n",
            "2023-08-08 16:28:42 [INFO]: epoch 1403: training loss 57.1356\n",
            "2023-08-08 16:28:43 [INFO]: epoch 1404: training loss 46.7477\n",
            "2023-08-08 16:28:43 [INFO]: epoch 1405: training loss 52.7812\n",
            "2023-08-08 16:28:44 [INFO]: epoch 1406: training loss 50.9969\n",
            "2023-08-08 16:28:44 [INFO]: epoch 1407: training loss 44.6801\n",
            "2023-08-08 16:28:45 [INFO]: epoch 1408: training loss 44.6368\n",
            "2023-08-08 16:28:46 [INFO]: epoch 1409: training loss 44.9943\n",
            "2023-08-08 16:28:46 [INFO]: epoch 1410: training loss 43.6255\n",
            "2023-08-08 16:28:47 [INFO]: epoch 1411: training loss 44.6156\n",
            "2023-08-08 16:28:48 [INFO]: epoch 1412: training loss 48.9106\n",
            "2023-08-08 16:28:48 [INFO]: epoch 1413: training loss 46.5348\n",
            "2023-08-08 16:28:49 [INFO]: epoch 1414: training loss 65.0489\n",
            "2023-08-08 16:28:49 [INFO]: epoch 1415: training loss 66.1218\n",
            "2023-08-08 16:28:50 [INFO]: epoch 1416: training loss 46.8540\n",
            "2023-08-08 16:28:50 [INFO]: epoch 1417: training loss 53.3782\n",
            "2023-08-08 16:28:51 [INFO]: epoch 1418: training loss 44.7235\n",
            "2023-08-08 16:28:51 [INFO]: epoch 1419: training loss 42.2545\n",
            "2023-08-08 16:28:52 [INFO]: epoch 1420: training loss 47.3831\n",
            "2023-08-08 16:28:52 [INFO]: epoch 1421: training loss 51.8337\n",
            "2023-08-08 16:28:53 [INFO]: epoch 1422: training loss 44.8500\n",
            "2023-08-08 16:28:53 [INFO]: epoch 1423: training loss 40.8006\n",
            "2023-08-08 16:28:54 [INFO]: epoch 1424: training loss 47.5654\n",
            "2023-08-08 16:28:54 [INFO]: epoch 1425: training loss 47.6327\n",
            "2023-08-08 16:28:54 [INFO]: epoch 1426: training loss 53.7911\n",
            "2023-08-08 16:28:55 [INFO]: epoch 1427: training loss 52.3515\n",
            "2023-08-08 16:28:55 [INFO]: epoch 1428: training loss 55.0888\n",
            "2023-08-08 16:28:56 [INFO]: epoch 1429: training loss 50.8019\n",
            "2023-08-08 16:28:56 [INFO]: epoch 1430: training loss 47.0818\n",
            "2023-08-08 16:28:57 [INFO]: epoch 1431: training loss 48.2649\n",
            "2023-08-08 16:28:57 [INFO]: epoch 1432: training loss 45.6215\n",
            "2023-08-08 16:28:58 [INFO]: epoch 1433: training loss 51.0057\n",
            "2023-08-08 16:28:59 [INFO]: epoch 1434: training loss 45.7831\n",
            "2023-08-08 16:28:59 [INFO]: epoch 1435: training loss 42.3677\n",
            "2023-08-08 16:29:00 [INFO]: epoch 1436: training loss 49.8904\n",
            "2023-08-08 16:29:01 [INFO]: epoch 1437: training loss 52.5183\n",
            "2023-08-08 16:29:01 [INFO]: epoch 1438: training loss 54.1948\n",
            "2023-08-08 16:29:02 [INFO]: epoch 1439: training loss 45.2254\n",
            "2023-08-08 16:29:02 [INFO]: epoch 1440: training loss 54.8473\n",
            "2023-08-08 16:29:03 [INFO]: epoch 1441: training loss 56.6230\n",
            "2023-08-08 16:29:03 [INFO]: epoch 1442: training loss 51.0077\n",
            "2023-08-08 16:29:04 [INFO]: epoch 1443: training loss 46.8773\n",
            "2023-08-08 16:29:04 [INFO]: epoch 1444: training loss 45.7324\n",
            "2023-08-08 16:29:05 [INFO]: epoch 1445: training loss 49.3813\n",
            "2023-08-08 16:29:05 [INFO]: epoch 1446: training loss 42.4928\n",
            "2023-08-08 16:29:06 [INFO]: epoch 1447: training loss 42.6684\n",
            "2023-08-08 16:29:06 [INFO]: epoch 1448: training loss 56.1363\n",
            "2023-08-08 16:29:07 [INFO]: epoch 1449: training loss 45.7106\n",
            "2023-08-08 16:29:07 [INFO]: epoch 1450: training loss 58.8586\n",
            "2023-08-08 16:29:08 [INFO]: epoch 1451: training loss 44.4565\n",
            "2023-08-08 16:29:08 [INFO]: epoch 1452: training loss 43.7816\n",
            "2023-08-08 16:29:09 [INFO]: epoch 1453: training loss 42.3452\n",
            "2023-08-08 16:29:09 [INFO]: epoch 1454: training loss 39.2024\n",
            "2023-08-08 16:29:10 [INFO]: epoch 1455: training loss 46.9052\n",
            "2023-08-08 16:29:10 [INFO]: epoch 1456: training loss 48.7263\n",
            "2023-08-08 16:29:10 [INFO]: epoch 1457: training loss 61.4891\n",
            "2023-08-08 16:29:11 [INFO]: epoch 1458: training loss 50.6209\n",
            "2023-08-08 16:29:12 [INFO]: epoch 1459: training loss 47.7178\n",
            "2023-08-08 16:29:12 [INFO]: epoch 1460: training loss 43.7994\n",
            "2023-08-08 16:29:13 [INFO]: epoch 1461: training loss 45.2266\n",
            "2023-08-08 16:29:14 [INFO]: epoch 1462: training loss 47.4108\n",
            "2023-08-08 16:29:14 [INFO]: epoch 1463: training loss 42.8940\n",
            "2023-08-08 16:29:15 [INFO]: epoch 1464: training loss 48.5522\n",
            "2023-08-08 16:29:15 [INFO]: epoch 1465: training loss 44.7910\n",
            "2023-08-08 16:29:16 [INFO]: epoch 1466: training loss 47.2051\n",
            "2023-08-08 16:29:16 [INFO]: epoch 1467: training loss 46.4009\n",
            "2023-08-08 16:29:17 [INFO]: epoch 1468: training loss 44.6022\n",
            "2023-08-08 16:29:17 [INFO]: epoch 1469: training loss 42.4514\n",
            "2023-08-08 16:29:18 [INFO]: epoch 1470: training loss 45.9645\n",
            "2023-08-08 16:29:18 [INFO]: epoch 1471: training loss 43.3385\n",
            "2023-08-08 16:29:19 [INFO]: epoch 1472: training loss 43.9531\n",
            "2023-08-08 16:29:19 [INFO]: epoch 1473: training loss 54.9316\n",
            "2023-08-08 16:29:20 [INFO]: epoch 1474: training loss 49.8697\n",
            "2023-08-08 16:29:20 [INFO]: epoch 1475: training loss 59.5521\n",
            "2023-08-08 16:29:21 [INFO]: epoch 1476: training loss 55.5562\n",
            "2023-08-08 16:29:21 [INFO]: epoch 1477: training loss 53.5412\n",
            "2023-08-08 16:29:22 [INFO]: epoch 1478: training loss 54.9127\n",
            "2023-08-08 16:29:22 [INFO]: epoch 1479: training loss 56.6944\n",
            "2023-08-08 16:29:23 [INFO]: epoch 1480: training loss 48.9973\n",
            "2023-08-08 16:29:23 [INFO]: epoch 1481: training loss 46.4176\n",
            "2023-08-08 16:29:23 [INFO]: epoch 1482: training loss 44.9679\n",
            "2023-08-08 16:29:24 [INFO]: epoch 1483: training loss 44.1550\n",
            "2023-08-08 16:29:25 [INFO]: epoch 1484: training loss 46.6679\n",
            "2023-08-08 16:29:25 [INFO]: epoch 1485: training loss 45.1566\n",
            "2023-08-08 16:29:26 [INFO]: epoch 1486: training loss 55.2231\n",
            "2023-08-08 16:29:27 [INFO]: epoch 1487: training loss 65.7432\n",
            "2023-08-08 16:29:27 [INFO]: epoch 1488: training loss 62.9651\n",
            "2023-08-08 16:29:28 [INFO]: epoch 1489: training loss 57.5727\n",
            "2023-08-08 16:29:28 [INFO]: epoch 1490: training loss 46.4235\n",
            "2023-08-08 16:29:29 [INFO]: epoch 1491: training loss 47.0045\n",
            "2023-08-08 16:29:29 [INFO]: epoch 1492: training loss 63.5890\n",
            "2023-08-08 16:29:30 [INFO]: epoch 1493: training loss 58.1190\n",
            "2023-08-08 16:29:30 [INFO]: epoch 1494: training loss 51.4271\n",
            "2023-08-08 16:29:31 [INFO]: epoch 1495: training loss 54.5309\n",
            "2023-08-08 16:29:31 [INFO]: epoch 1496: training loss 49.4477\n",
            "2023-08-08 16:29:32 [INFO]: epoch 1497: training loss 51.2214\n",
            "2023-08-08 16:29:32 [INFO]: epoch 1498: training loss 63.0704\n",
            "2023-08-08 16:29:33 [INFO]: epoch 1499: training loss 51.6372\n",
            "2023-08-08 16:29:33 [INFO]: epoch 1500: training loss 53.7310\n",
            "2023-08-08 16:29:34 [INFO]: epoch 1501: training loss 50.6907\n",
            "2023-08-08 16:29:34 [INFO]: epoch 1502: training loss 43.7773\n",
            "2023-08-08 16:29:35 [INFO]: epoch 1503: training loss 44.4960\n",
            "2023-08-08 16:29:35 [INFO]: epoch 1504: training loss 47.4795\n",
            "2023-08-08 16:29:35 [INFO]: epoch 1505: training loss 43.7543\n",
            "2023-08-08 16:29:36 [INFO]: epoch 1506: training loss 51.6743\n",
            "2023-08-08 16:29:36 [INFO]: epoch 1507: training loss 46.5728\n",
            "2023-08-08 16:29:37 [INFO]: epoch 1508: training loss 44.0681\n",
            "2023-08-08 16:29:37 [INFO]: epoch 1509: training loss 44.2350\n",
            "2023-08-08 16:29:38 [INFO]: epoch 1510: training loss 60.1585\n",
            "2023-08-08 16:29:39 [INFO]: epoch 1511: training loss 55.7008\n",
            "2023-08-08 16:29:39 [INFO]: epoch 1512: training loss 45.5577\n",
            "2023-08-08 16:29:40 [INFO]: epoch 1513: training loss 50.4769\n",
            "2023-08-08 16:29:41 [INFO]: epoch 1514: training loss 46.7308\n",
            "2023-08-08 16:29:41 [INFO]: epoch 1515: training loss 44.4894\n",
            "2023-08-08 16:29:42 [INFO]: epoch 1516: training loss 49.5762\n",
            "2023-08-08 16:29:42 [INFO]: epoch 1517: training loss 51.9103\n",
            "2023-08-08 16:29:43 [INFO]: epoch 1518: training loss 45.2857\n",
            "2023-08-08 16:29:43 [INFO]: epoch 1519: training loss 52.9733\n",
            "2023-08-08 16:29:44 [INFO]: epoch 1520: training loss 47.6071\n",
            "2023-08-08 16:29:44 [INFO]: epoch 1521: training loss 44.1712\n",
            "2023-08-08 16:29:45 [INFO]: epoch 1522: training loss 51.6378\n",
            "2023-08-08 16:29:45 [INFO]: epoch 1523: training loss 54.0492\n",
            "2023-08-08 16:29:46 [INFO]: epoch 1524: training loss 69.1081\n",
            "2023-08-08 16:29:46 [INFO]: epoch 1525: training loss 50.0397\n",
            "2023-08-08 16:29:46 [INFO]: epoch 1526: training loss 50.4912\n",
            "2023-08-08 16:29:47 [INFO]: epoch 1527: training loss 47.1871\n",
            "2023-08-08 16:29:47 [INFO]: epoch 1528: training loss 58.4490\n",
            "2023-08-08 16:29:48 [INFO]: epoch 1529: training loss 61.0763\n",
            "2023-08-08 16:29:48 [INFO]: epoch 1530: training loss 57.5794\n",
            "2023-08-08 16:29:49 [INFO]: epoch 1531: training loss 48.9725\n",
            "2023-08-08 16:29:49 [INFO]: epoch 1532: training loss 46.3352\n",
            "2023-08-08 16:29:50 [INFO]: epoch 1533: training loss 46.5173\n",
            "2023-08-08 16:29:50 [INFO]: epoch 1534: training loss 56.8911\n",
            "2023-08-08 16:29:51 [INFO]: epoch 1535: training loss 46.9918\n",
            "2023-08-08 16:29:52 [INFO]: epoch 1536: training loss 52.2496\n",
            "2023-08-08 16:29:52 [INFO]: epoch 1537: training loss 46.2250\n",
            "2023-08-08 16:29:53 [INFO]: epoch 1538: training loss 50.8644\n",
            "2023-08-08 16:29:54 [INFO]: epoch 1539: training loss 58.4705\n",
            "2023-08-08 16:29:54 [INFO]: epoch 1540: training loss 47.1479\n",
            "2023-08-08 16:29:55 [INFO]: epoch 1541: training loss 48.9427\n",
            "2023-08-08 16:29:55 [INFO]: epoch 1542: training loss 46.2428\n",
            "2023-08-08 16:29:56 [INFO]: epoch 1543: training loss 45.9224\n",
            "2023-08-08 16:29:56 [INFO]: epoch 1544: training loss 40.3178\n",
            "2023-08-08 16:29:57 [INFO]: epoch 1545: training loss 42.3302\n",
            "2023-08-08 16:29:57 [INFO]: epoch 1546: training loss 42.8164\n",
            "2023-08-08 16:29:58 [INFO]: epoch 1547: training loss 43.8461\n",
            "2023-08-08 16:29:58 [INFO]: epoch 1548: training loss 46.2001\n",
            "2023-08-08 16:29:58 [INFO]: epoch 1549: training loss 45.1837\n",
            "2023-08-08 16:29:59 [INFO]: epoch 1550: training loss 45.9799\n",
            "2023-08-08 16:29:59 [INFO]: epoch 1551: training loss 50.9637\n",
            "2023-08-08 16:30:00 [INFO]: epoch 1552: training loss 53.3870\n",
            "2023-08-08 16:30:00 [INFO]: epoch 1553: training loss 46.2161\n",
            "2023-08-08 16:30:01 [INFO]: epoch 1554: training loss 45.9209\n",
            "2023-08-08 16:30:01 [INFO]: epoch 1555: training loss 47.1117\n",
            "2023-08-08 16:30:02 [INFO]: epoch 1556: training loss 50.9826\n",
            "2023-08-08 16:30:02 [INFO]: epoch 1557: training loss 49.2715\n",
            "2023-08-08 16:30:03 [INFO]: epoch 1558: training loss 51.2144\n",
            "2023-08-08 16:30:03 [INFO]: epoch 1559: training loss 49.6330\n",
            "2023-08-08 16:30:04 [INFO]: epoch 1560: training loss 60.5337\n",
            "2023-08-08 16:30:04 [INFO]: epoch 1561: training loss 54.7085\n",
            "2023-08-08 16:30:05 [INFO]: epoch 1562: training loss 49.0702\n",
            "2023-08-08 16:30:06 [INFO]: epoch 1563: training loss 46.1923\n",
            "2023-08-08 16:30:06 [INFO]: epoch 1564: training loss 53.6120\n",
            "2023-08-08 16:30:07 [INFO]: epoch 1565: training loss 46.9876\n",
            "2023-08-08 16:30:08 [INFO]: epoch 1566: training loss 46.5283\n",
            "2023-08-08 16:30:08 [INFO]: epoch 1567: training loss 51.3682\n",
            "2023-08-08 16:30:09 [INFO]: epoch 1568: training loss 50.9074\n",
            "2023-08-08 16:30:09 [INFO]: epoch 1569: training loss 53.1432\n",
            "2023-08-08 16:30:10 [INFO]: epoch 1570: training loss 47.1075\n",
            "2023-08-08 16:30:10 [INFO]: epoch 1571: training loss 44.0313\n",
            "2023-08-08 16:30:11 [INFO]: epoch 1572: training loss 43.9301\n",
            "2023-08-08 16:30:11 [INFO]: epoch 1573: training loss 49.4536\n",
            "2023-08-08 16:30:11 [INFO]: epoch 1574: training loss 53.2603\n",
            "2023-08-08 16:30:12 [INFO]: epoch 1575: training loss 46.1986\n",
            "2023-08-08 16:30:12 [INFO]: epoch 1576: training loss 51.0686\n",
            "2023-08-08 16:30:13 [INFO]: epoch 1577: training loss 46.8641\n",
            "2023-08-08 16:30:13 [INFO]: epoch 1578: training loss 43.0723\n",
            "2023-08-08 16:30:14 [INFO]: epoch 1579: training loss 53.2073\n",
            "2023-08-08 16:30:14 [INFO]: epoch 1580: training loss 42.8916\n",
            "2023-08-08 16:30:15 [INFO]: epoch 1581: training loss 43.9475\n",
            "2023-08-08 16:30:15 [INFO]: epoch 1582: training loss 43.0333\n",
            "2023-08-08 16:30:16 [INFO]: epoch 1583: training loss 44.8225\n",
            "2023-08-08 16:30:16 [INFO]: epoch 1584: training loss 43.5897\n",
            "2023-08-08 16:30:17 [INFO]: epoch 1585: training loss 54.4404\n",
            "2023-08-08 16:30:17 [INFO]: epoch 1586: training loss 51.6021\n",
            "2023-08-08 16:30:18 [INFO]: epoch 1587: training loss 62.8865\n",
            "2023-08-08 16:30:19 [INFO]: epoch 1588: training loss 59.0522\n",
            "2023-08-08 16:30:19 [INFO]: epoch 1589: training loss 42.3671\n",
            "2023-08-08 16:30:20 [INFO]: epoch 1590: training loss 42.0817\n",
            "2023-08-08 16:30:21 [INFO]: epoch 1591: training loss 53.0111\n",
            "2023-08-08 16:30:21 [INFO]: epoch 1592: training loss 56.8798\n",
            "2023-08-08 16:30:22 [INFO]: epoch 1593: training loss 58.4408\n",
            "2023-08-08 16:30:22 [INFO]: epoch 1594: training loss 42.3597\n",
            "2023-08-08 16:30:23 [INFO]: epoch 1595: training loss 56.9613\n",
            "2023-08-08 16:30:23 [INFO]: epoch 1596: training loss 57.7894\n",
            "2023-08-08 16:30:24 [INFO]: epoch 1597: training loss 49.8495\n",
            "2023-08-08 16:30:24 [INFO]: epoch 1598: training loss 57.8273\n",
            "2023-08-08 16:30:24 [INFO]: epoch 1599: training loss 49.1983\n",
            "2023-08-08 16:30:25 [INFO]: epoch 1600: training loss 49.3572\n",
            "2023-08-08 16:30:25 [INFO]: epoch 1601: training loss 47.5217\n",
            "2023-08-08 16:30:26 [INFO]: epoch 1602: training loss 51.0278\n",
            "2023-08-08 16:30:26 [INFO]: epoch 1603: training loss 44.1867\n",
            "2023-08-08 16:30:27 [INFO]: epoch 1604: training loss 47.6441\n",
            "2023-08-08 16:30:27 [INFO]: epoch 1605: training loss 45.8777\n",
            "2023-08-08 16:30:28 [INFO]: epoch 1606: training loss 48.0795\n",
            "2023-08-08 16:30:28 [INFO]: epoch 1607: training loss 56.2470\n",
            "2023-08-08 16:30:29 [INFO]: epoch 1608: training loss 40.6056\n",
            "2023-08-08 16:30:29 [INFO]: epoch 1609: training loss 48.1069\n",
            "2023-08-08 16:30:30 [INFO]: epoch 1610: training loss 46.5127\n",
            "2023-08-08 16:30:30 [INFO]: epoch 1611: training loss 43.5566\n",
            "2023-08-08 16:30:31 [INFO]: epoch 1612: training loss 50.1711\n",
            "2023-08-08 16:30:31 [INFO]: epoch 1613: training loss 45.1304\n",
            "2023-08-08 16:30:32 [INFO]: epoch 1614: training loss 44.1368\n",
            "2023-08-08 16:30:33 [INFO]: epoch 1615: training loss 45.6213\n",
            "2023-08-08 16:30:34 [INFO]: epoch 1616: training loss 50.3018\n",
            "2023-08-08 16:30:34 [INFO]: epoch 1617: training loss 41.3242\n",
            "2023-08-08 16:30:35 [INFO]: epoch 1618: training loss 48.7149\n",
            "2023-08-08 16:30:35 [INFO]: epoch 1619: training loss 44.6512\n",
            "2023-08-08 16:30:36 [INFO]: epoch 1620: training loss 50.8048\n",
            "2023-08-08 16:30:36 [INFO]: epoch 1621: training loss 47.0575\n",
            "2023-08-08 16:30:37 [INFO]: epoch 1622: training loss 46.1499\n",
            "2023-08-08 16:30:37 [INFO]: epoch 1623: training loss 44.3942\n",
            "2023-08-08 16:30:37 [INFO]: epoch 1624: training loss 47.0456\n",
            "2023-08-08 16:30:38 [INFO]: epoch 1625: training loss 42.1552\n",
            "2023-08-08 16:30:38 [INFO]: epoch 1626: training loss 42.8794\n",
            "2023-08-08 16:30:39 [INFO]: epoch 1627: training loss 50.7105\n",
            "2023-08-08 16:30:39 [INFO]: epoch 1628: training loss 50.6360\n",
            "2023-08-08 16:30:40 [INFO]: epoch 1629: training loss 41.0532\n",
            "2023-08-08 16:30:40 [INFO]: epoch 1630: training loss 43.2449\n",
            "2023-08-08 16:30:41 [INFO]: epoch 1631: training loss 42.9180\n",
            "2023-08-08 16:30:41 [INFO]: epoch 1632: training loss 52.6238\n",
            "2023-08-08 16:30:42 [INFO]: epoch 1633: training loss 67.8741\n",
            "2023-08-08 16:30:42 [INFO]: epoch 1634: training loss 56.0661\n",
            "2023-08-08 16:30:43 [INFO]: epoch 1635: training loss 43.9928\n",
            "2023-08-08 16:30:43 [INFO]: epoch 1636: training loss 49.7584\n",
            "2023-08-08 16:30:44 [INFO]: epoch 1637: training loss 42.0403\n",
            "2023-08-08 16:30:44 [INFO]: epoch 1638: training loss 45.4900\n",
            "2023-08-08 16:30:45 [INFO]: epoch 1639: training loss 49.4814\n",
            "2023-08-08 16:30:46 [INFO]: epoch 1640: training loss 41.1774\n",
            "2023-08-08 16:30:46 [INFO]: epoch 1641: training loss 42.3732\n",
            "2023-08-08 16:30:47 [INFO]: epoch 1642: training loss 46.1323\n",
            "2023-08-08 16:30:48 [INFO]: epoch 1643: training loss 54.3791\n",
            "2023-08-08 16:30:48 [INFO]: epoch 1644: training loss 67.1861\n",
            "2023-08-08 16:30:48 [INFO]: epoch 1645: training loss 57.5304\n",
            "2023-08-08 16:30:49 [INFO]: epoch 1646: training loss 54.2830\n",
            "2023-08-08 16:30:49 [INFO]: epoch 1647: training loss 46.5130\n",
            "2023-08-08 16:30:50 [INFO]: epoch 1648: training loss 45.1930\n",
            "2023-08-08 16:30:50 [INFO]: epoch 1649: training loss 42.3205\n",
            "2023-08-08 16:30:51 [INFO]: epoch 1650: training loss 38.7512\n",
            "2023-08-08 16:30:51 [INFO]: epoch 1651: training loss 46.9316\n",
            "2023-08-08 16:30:52 [INFO]: epoch 1652: training loss 52.6579\n",
            "2023-08-08 16:30:52 [INFO]: epoch 1653: training loss 45.5859\n",
            "2023-08-08 16:30:53 [INFO]: epoch 1654: training loss 41.7534\n",
            "2023-08-08 16:30:53 [INFO]: epoch 1655: training loss 52.9783\n",
            "2023-08-08 16:30:54 [INFO]: epoch 1656: training loss 50.0891\n",
            "2023-08-08 16:30:54 [INFO]: epoch 1657: training loss 43.6130\n",
            "2023-08-08 16:30:55 [INFO]: epoch 1658: training loss 47.8448\n",
            "2023-08-08 16:30:55 [INFO]: epoch 1659: training loss 50.3718\n",
            "2023-08-08 16:30:56 [INFO]: epoch 1660: training loss 46.1221\n",
            "2023-08-08 16:30:56 [INFO]: epoch 1661: training loss 49.1472\n",
            "2023-08-08 16:30:57 [INFO]: epoch 1662: training loss 43.3709\n",
            "2023-08-08 16:30:57 [INFO]: epoch 1663: training loss 42.9945\n",
            "2023-08-08 16:30:58 [INFO]: epoch 1664: training loss 57.4030\n",
            "2023-08-08 16:30:58 [INFO]: epoch 1665: training loss 45.4802\n",
            "2023-08-08 16:30:59 [INFO]: epoch 1666: training loss 52.0892\n",
            "2023-08-08 16:31:00 [INFO]: epoch 1667: training loss 50.1045\n",
            "2023-08-08 16:31:01 [INFO]: epoch 1668: training loss 45.7170\n",
            "2023-08-08 16:31:01 [INFO]: epoch 1669: training loss 51.8098\n",
            "2023-08-08 16:31:02 [INFO]: epoch 1670: training loss 46.6057\n",
            "2023-08-08 16:31:02 [INFO]: epoch 1671: training loss 41.4103\n",
            "2023-08-08 16:31:03 [INFO]: epoch 1672: training loss 42.0496\n",
            "2023-08-08 16:31:03 [INFO]: epoch 1673: training loss 43.5189\n",
            "2023-08-08 16:31:04 [INFO]: epoch 1674: training loss 43.8098\n",
            "2023-08-08 16:31:04 [INFO]: epoch 1675: training loss 45.1677\n",
            "2023-08-08 16:31:04 [INFO]: epoch 1676: training loss 44.3765\n",
            "2023-08-08 16:31:05 [INFO]: epoch 1677: training loss 44.4860\n",
            "2023-08-08 16:31:05 [INFO]: epoch 1678: training loss 48.1608\n",
            "2023-08-08 16:31:06 [INFO]: epoch 1679: training loss 51.1232\n",
            "2023-08-08 16:31:06 [INFO]: epoch 1680: training loss 44.5126\n",
            "2023-08-08 16:31:07 [INFO]: epoch 1681: training loss 42.4755\n",
            "2023-08-08 16:31:07 [INFO]: epoch 1682: training loss 59.4555\n",
            "2023-08-08 16:31:08 [INFO]: epoch 1683: training loss 48.8068\n",
            "2023-08-08 16:31:08 [INFO]: epoch 1684: training loss 48.3833\n",
            "2023-08-08 16:31:09 [INFO]: epoch 1685: training loss 46.9083\n",
            "2023-08-08 16:31:09 [INFO]: epoch 1686: training loss 45.6630\n",
            "2023-08-08 16:31:10 [INFO]: epoch 1687: training loss 43.1148\n",
            "2023-08-08 16:31:10 [INFO]: epoch 1688: training loss 52.8890\n",
            "2023-08-08 16:31:11 [INFO]: epoch 1689: training loss 50.2685\n",
            "2023-08-08 16:31:12 [INFO]: epoch 1690: training loss 50.5226\n",
            "2023-08-08 16:31:12 [INFO]: epoch 1691: training loss 47.1087\n",
            "2023-08-08 16:31:13 [INFO]: epoch 1692: training loss 54.1896\n",
            "2023-08-08 16:31:14 [INFO]: epoch 1693: training loss 47.8914\n",
            "2023-08-08 16:31:14 [INFO]: epoch 1694: training loss 53.8577\n",
            "2023-08-08 16:31:15 [INFO]: epoch 1695: training loss 62.6104\n",
            "2023-08-08 16:31:15 [INFO]: epoch 1696: training loss 52.0371\n",
            "2023-08-08 16:31:16 [INFO]: epoch 1697: training loss 53.4069\n",
            "2023-08-08 16:31:16 [INFO]: epoch 1698: training loss 51.2171\n",
            "2023-08-08 16:31:17 [INFO]: epoch 1699: training loss 44.6694\n",
            "2023-08-08 16:31:17 [INFO]: epoch 1700: training loss 50.2587\n",
            "2023-08-08 16:31:18 [INFO]: epoch 1701: training loss 45.3934\n",
            "2023-08-08 16:31:18 [INFO]: epoch 1702: training loss 39.6909\n",
            "2023-08-08 16:31:19 [INFO]: epoch 1703: training loss 41.2499\n",
            "2023-08-08 16:31:19 [INFO]: epoch 1704: training loss 40.2372\n",
            "2023-08-08 16:31:20 [INFO]: epoch 1705: training loss 39.1749\n",
            "2023-08-08 16:31:20 [INFO]: epoch 1706: training loss 44.3268\n",
            "2023-08-08 16:31:20 [INFO]: epoch 1707: training loss 44.3516\n",
            "2023-08-08 16:31:21 [INFO]: epoch 1708: training loss 44.9678\n",
            "2023-08-08 16:31:21 [INFO]: epoch 1709: training loss 50.0122\n",
            "2023-08-08 16:31:22 [INFO]: epoch 1710: training loss 49.3840\n",
            "2023-08-08 16:31:22 [INFO]: epoch 1711: training loss 42.3921\n",
            "2023-08-08 16:31:23 [INFO]: epoch 1712: training loss 44.0532\n",
            "2023-08-08 16:31:23 [INFO]: epoch 1713: training loss 49.3392\n",
            "2023-08-08 16:31:24 [INFO]: epoch 1714: training loss 55.9004\n",
            "2023-08-08 16:31:25 [INFO]: epoch 1715: training loss 44.6329\n",
            "2023-08-08 16:31:25 [INFO]: epoch 1716: training loss 54.6748\n",
            "2023-08-08 16:31:26 [INFO]: epoch 1717: training loss 75.7510\n",
            "2023-08-08 16:31:27 [INFO]: epoch 1718: training loss 60.0155\n",
            "2023-08-08 16:31:27 [INFO]: epoch 1719: training loss 48.7022\n",
            "2023-08-08 16:31:28 [INFO]: epoch 1720: training loss 42.8320\n",
            "2023-08-08 16:31:28 [INFO]: epoch 1721: training loss 46.5103\n",
            "2023-08-08 16:31:29 [INFO]: epoch 1722: training loss 48.7515\n",
            "2023-08-08 16:31:29 [INFO]: epoch 1723: training loss 56.1000\n",
            "2023-08-08 16:31:30 [INFO]: epoch 1724: training loss 45.2297\n",
            "2023-08-08 16:31:30 [INFO]: epoch 1725: training loss 51.2482\n",
            "2023-08-08 16:31:31 [INFO]: epoch 1726: training loss 46.5943\n",
            "2023-08-08 16:31:31 [INFO]: epoch 1727: training loss 51.2344\n",
            "2023-08-08 16:31:32 [INFO]: epoch 1728: training loss 47.5637\n",
            "2023-08-08 16:31:32 [INFO]: epoch 1729: training loss 43.7767\n",
            "2023-08-08 16:31:32 [INFO]: epoch 1730: training loss 56.6989\n",
            "2023-08-08 16:31:33 [INFO]: epoch 1731: training loss 48.0050\n",
            "2023-08-08 16:31:33 [INFO]: epoch 1732: training loss 49.5008\n",
            "2023-08-08 16:31:34 [INFO]: epoch 1733: training loss 54.1454\n",
            "2023-08-08 16:31:34 [INFO]: epoch 1734: training loss 46.7427\n",
            "2023-08-08 16:31:35 [INFO]: epoch 1735: training loss 48.6436\n",
            "2023-08-08 16:31:35 [INFO]: epoch 1736: training loss 51.1086\n",
            "2023-08-08 16:31:36 [INFO]: epoch 1737: training loss 43.6236\n",
            "2023-08-08 16:31:36 [INFO]: epoch 1738: training loss 41.1616\n",
            "2023-08-08 16:31:37 [INFO]: epoch 1739: training loss 46.7107\n",
            "2023-08-08 16:31:38 [INFO]: epoch 1740: training loss 58.6794\n",
            "2023-08-08 16:31:38 [INFO]: epoch 1741: training loss 45.6550\n",
            "2023-08-08 16:31:39 [INFO]: epoch 1742: training loss 42.8223\n",
            "2023-08-08 16:31:40 [INFO]: epoch 1743: training loss 46.8152\n",
            "2023-08-08 16:31:40 [INFO]: epoch 1744: training loss 42.6273\n",
            "2023-08-08 16:31:41 [INFO]: epoch 1745: training loss 40.8851\n",
            "2023-08-08 16:31:41 [INFO]: epoch 1746: training loss 44.8813\n",
            "2023-08-08 16:31:42 [INFO]: epoch 1747: training loss 45.9184\n",
            "2023-08-08 16:31:42 [INFO]: epoch 1748: training loss 43.7833\n",
            "2023-08-08 16:31:43 [INFO]: epoch 1749: training loss 47.0563\n",
            "2023-08-08 16:31:43 [INFO]: epoch 1750: training loss 49.9988\n",
            "2023-08-08 16:31:44 [INFO]: epoch 1751: training loss 50.4277\n",
            "2023-08-08 16:31:44 [INFO]: epoch 1752: training loss 47.5362\n",
            "2023-08-08 16:31:45 [INFO]: epoch 1753: training loss 45.6250\n",
            "2023-08-08 16:31:45 [INFO]: epoch 1754: training loss 45.8863\n",
            "2023-08-08 16:31:46 [INFO]: epoch 1755: training loss 43.6615\n",
            "2023-08-08 16:31:46 [INFO]: epoch 1756: training loss 41.3192\n",
            "2023-08-08 16:31:47 [INFO]: epoch 1757: training loss 44.0495\n",
            "2023-08-08 16:31:47 [INFO]: epoch 1758: training loss 46.8567\n",
            "2023-08-08 16:31:48 [INFO]: epoch 1759: training loss 48.6464\n",
            "2023-08-08 16:31:48 [INFO]: epoch 1760: training loss 47.9304\n",
            "2023-08-08 16:31:48 [INFO]: epoch 1761: training loss 46.6020\n",
            "2023-08-08 16:31:49 [INFO]: epoch 1762: training loss 43.1835\n",
            "2023-08-08 16:31:49 [INFO]: epoch 1763: training loss 46.9644\n",
            "2023-08-08 16:31:50 [INFO]: epoch 1764: training loss 58.5665\n",
            "2023-08-08 16:31:50 [INFO]: epoch 1765: training loss 47.3193\n",
            "2023-08-08 16:31:51 [INFO]: epoch 1766: training loss 55.6807\n",
            "2023-08-08 16:31:52 [INFO]: epoch 1767: training loss 51.8126\n",
            "2023-08-08 16:31:53 [INFO]: epoch 1768: training loss 44.8334\n",
            "2023-08-08 16:31:53 [INFO]: epoch 1769: training loss 41.0177\n",
            "2023-08-08 16:31:54 [INFO]: epoch 1770: training loss 43.3306\n",
            "2023-08-08 16:31:54 [INFO]: epoch 1771: training loss 56.9946\n",
            "2023-08-08 16:31:55 [INFO]: epoch 1772: training loss 49.0524\n",
            "2023-08-08 16:31:55 [INFO]: epoch 1773: training loss 47.4720\n",
            "2023-08-08 16:31:56 [INFO]: epoch 1774: training loss 55.1077\n",
            "2023-08-08 16:31:56 [INFO]: epoch 1775: training loss 47.0439\n",
            "2023-08-08 16:31:57 [INFO]: epoch 1776: training loss 49.3531\n",
            "2023-08-08 16:31:57 [INFO]: epoch 1777: training loss 45.6373\n",
            "2023-08-08 16:31:58 [INFO]: epoch 1778: training loss 43.8335\n",
            "2023-08-08 16:31:58 [INFO]: epoch 1779: training loss 44.9792\n",
            "2023-08-08 16:31:59 [INFO]: epoch 1780: training loss 47.0018\n",
            "2023-08-08 16:31:59 [INFO]: epoch 1781: training loss 50.8833\n",
            "2023-08-08 16:32:00 [INFO]: epoch 1782: training loss 44.4398\n",
            "2023-08-08 16:32:00 [INFO]: epoch 1783: training loss 45.6993\n",
            "2023-08-08 16:32:01 [INFO]: epoch 1784: training loss 46.6180\n",
            "2023-08-08 16:32:01 [INFO]: epoch 1785: training loss 46.1248\n",
            "2023-08-08 16:32:02 [INFO]: epoch 1786: training loss 43.9903\n",
            "2023-08-08 16:32:02 [INFO]: epoch 1787: training loss 47.8803\n",
            "2023-08-08 16:32:03 [INFO]: epoch 1788: training loss 53.9199\n",
            "2023-08-08 16:32:03 [INFO]: epoch 1789: training loss 43.5065\n",
            "2023-08-08 16:32:04 [INFO]: epoch 1790: training loss 45.7108\n",
            "2023-08-08 16:32:04 [INFO]: epoch 1791: training loss 49.5885\n",
            "2023-08-08 16:32:05 [INFO]: epoch 1792: training loss 62.7919\n",
            "2023-08-08 16:32:06 [INFO]: epoch 1793: training loss 61.7282\n",
            "2023-08-08 16:32:06 [INFO]: epoch 1794: training loss 51.9927\n",
            "2023-08-08 16:32:07 [INFO]: epoch 1795: training loss 41.9076\n",
            "2023-08-08 16:32:07 [INFO]: epoch 1796: training loss 40.7991\n",
            "2023-08-08 16:32:08 [INFO]: epoch 1797: training loss 47.1394\n",
            "2023-08-08 16:32:08 [INFO]: epoch 1798: training loss 44.3541\n",
            "2023-08-08 16:32:09 [INFO]: epoch 1799: training loss 44.1120\n",
            "2023-08-08 16:32:09 [INFO]: epoch 1800: training loss 48.1522\n",
            "2023-08-08 16:32:10 [INFO]: epoch 1801: training loss 45.9793\n",
            "2023-08-08 16:32:10 [INFO]: epoch 1802: training loss 48.4730\n",
            "2023-08-08 16:32:11 [INFO]: epoch 1803: training loss 47.0112\n",
            "2023-08-08 16:32:12 [INFO]: epoch 1804: training loss 47.1280\n",
            "2023-08-08 16:32:12 [INFO]: epoch 1805: training loss 41.7162\n",
            "2023-08-08 16:32:13 [INFO]: epoch 1806: training loss 44.2089\n",
            "2023-08-08 16:32:14 [INFO]: epoch 1807: training loss 46.0511\n",
            "2023-08-08 16:32:14 [INFO]: epoch 1808: training loss 50.2231\n",
            "2023-08-08 16:32:15 [INFO]: epoch 1809: training loss 51.3514\n",
            "2023-08-08 16:32:15 [INFO]: epoch 1810: training loss 49.4867\n",
            "2023-08-08 16:32:16 [INFO]: epoch 1811: training loss 39.6142\n",
            "2023-08-08 16:32:16 [INFO]: epoch 1812: training loss 47.0958\n",
            "2023-08-08 16:32:17 [INFO]: epoch 1813: training loss 41.3461\n",
            "2023-08-08 16:32:17 [INFO]: epoch 1814: training loss 47.0031\n",
            "2023-08-08 16:32:18 [INFO]: epoch 1815: training loss 49.2487\n",
            "2023-08-08 16:32:19 [INFO]: epoch 1816: training loss 43.1437\n",
            "2023-08-08 16:32:19 [INFO]: epoch 1817: training loss 39.8779\n",
            "2023-08-08 16:32:20 [INFO]: epoch 1818: training loss 46.4351\n",
            "2023-08-08 16:32:21 [INFO]: epoch 1819: training loss 44.1938\n",
            "2023-08-08 16:32:21 [INFO]: epoch 1820: training loss 53.6406\n",
            "2023-08-08 16:32:22 [INFO]: epoch 1821: training loss 43.6978\n",
            "2023-08-08 16:32:22 [INFO]: epoch 1822: training loss 47.3809\n",
            "2023-08-08 16:32:23 [INFO]: epoch 1823: training loss 46.2817\n",
            "2023-08-08 16:32:23 [INFO]: epoch 1824: training loss 54.0822\n",
            "2023-08-08 16:32:23 [INFO]: epoch 1825: training loss 51.2761\n",
            "2023-08-08 16:32:24 [INFO]: epoch 1826: training loss 44.4185\n",
            "2023-08-08 16:32:24 [INFO]: epoch 1827: training loss 56.9161\n",
            "2023-08-08 16:32:25 [INFO]: epoch 1828: training loss 47.8417\n",
            "2023-08-08 16:32:25 [INFO]: epoch 1829: training loss 51.7582\n",
            "2023-08-08 16:32:26 [INFO]: epoch 1830: training loss 52.1028\n",
            "2023-08-08 16:32:26 [INFO]: epoch 1831: training loss 44.8917\n",
            "2023-08-08 16:32:27 [INFO]: epoch 1832: training loss 43.9460\n",
            "2023-08-08 16:32:27 [INFO]: epoch 1833: training loss 47.1597\n",
            "2023-08-08 16:32:28 [INFO]: epoch 1834: training loss 40.5821\n",
            "2023-08-08 16:32:28 [INFO]: epoch 1835: training loss 45.7677\n",
            "2023-08-08 16:32:29 [INFO]: epoch 1836: training loss 47.2843\n",
            "2023-08-08 16:32:29 [INFO]: epoch 1837: training loss 47.6582\n",
            "2023-08-08 16:32:30 [INFO]: epoch 1838: training loss 50.5915\n",
            "2023-08-08 16:32:30 [INFO]: epoch 1839: training loss 49.3875\n",
            "2023-08-08 16:32:31 [INFO]: epoch 1840: training loss 45.6651\n",
            "2023-08-08 16:32:32 [INFO]: epoch 1841: training loss 45.5212\n",
            "2023-08-08 16:32:32 [INFO]: epoch 1842: training loss 45.6971\n",
            "2023-08-08 16:32:33 [INFO]: epoch 1843: training loss 49.5036\n",
            "2023-08-08 16:32:34 [INFO]: epoch 1844: training loss 47.3907\n",
            "2023-08-08 16:32:34 [INFO]: epoch 1845: training loss 44.4175\n",
            "2023-08-08 16:32:35 [INFO]: epoch 1846: training loss 43.6077\n",
            "2023-08-08 16:32:35 [INFO]: epoch 1847: training loss 45.0555\n",
            "2023-08-08 16:32:36 [INFO]: epoch 1848: training loss 43.7329\n",
            "2023-08-08 16:32:36 [INFO]: epoch 1849: training loss 46.0722\n",
            "2023-08-08 16:32:37 [INFO]: epoch 1850: training loss 48.8557\n",
            "2023-08-08 16:32:37 [INFO]: epoch 1851: training loss 44.5920\n",
            "2023-08-08 16:32:38 [INFO]: epoch 1852: training loss 43.3957\n",
            "2023-08-08 16:32:38 [INFO]: epoch 1853: training loss 50.1843\n",
            "2023-08-08 16:32:39 [INFO]: epoch 1854: training loss 46.1894\n",
            "2023-08-08 16:32:39 [INFO]: epoch 1855: training loss 58.4691\n",
            "2023-08-08 16:32:40 [INFO]: epoch 1856: training loss 49.2826\n",
            "2023-08-08 16:32:40 [INFO]: epoch 1857: training loss 43.1371\n",
            "2023-08-08 16:32:41 [INFO]: epoch 1858: training loss 39.6021\n",
            "2023-08-08 16:32:41 [INFO]: epoch 1859: training loss 41.7357\n",
            "2023-08-08 16:32:42 [INFO]: epoch 1860: training loss 45.9685\n",
            "2023-08-08 16:32:42 [INFO]: epoch 1861: training loss 51.6258\n",
            "2023-08-08 16:32:43 [INFO]: epoch 1862: training loss 43.5720\n",
            "2023-08-08 16:32:43 [INFO]: epoch 1863: training loss 45.1206\n",
            "2023-08-08 16:32:44 [INFO]: epoch 1864: training loss 43.9026\n",
            "2023-08-08 16:32:44 [INFO]: epoch 1865: training loss 44.5367\n",
            "2023-08-08 16:32:45 [INFO]: epoch 1866: training loss 41.6871\n",
            "2023-08-08 16:32:46 [INFO]: epoch 1867: training loss 50.2987\n",
            "2023-08-08 16:32:46 [INFO]: epoch 1868: training loss 46.8706\n",
            "2023-08-08 16:32:47 [INFO]: epoch 1869: training loss 47.5795\n",
            "2023-08-08 16:32:48 [INFO]: epoch 1870: training loss 50.6349\n",
            "2023-08-08 16:32:48 [INFO]: epoch 1871: training loss 58.1940\n",
            "2023-08-08 16:32:49 [INFO]: epoch 1872: training loss 46.2475\n",
            "2023-08-08 16:32:49 [INFO]: epoch 1873: training loss 54.9673\n",
            "2023-08-08 16:32:49 [INFO]: epoch 1874: training loss 46.3833\n",
            "2023-08-08 16:32:50 [INFO]: epoch 1875: training loss 41.2568\n",
            "2023-08-08 16:32:50 [INFO]: epoch 1876: training loss 46.0519\n",
            "2023-08-08 16:32:51 [INFO]: epoch 1877: training loss 44.7737\n",
            "2023-08-08 16:32:51 [INFO]: epoch 1878: training loss 45.4420\n",
            "2023-08-08 16:32:52 [INFO]: epoch 1879: training loss 42.3031\n",
            "2023-08-08 16:32:52 [INFO]: epoch 1880: training loss 43.5561\n",
            "2023-08-08 16:32:53 [INFO]: epoch 1881: training loss 40.7826\n",
            "2023-08-08 16:32:53 [INFO]: epoch 1882: training loss 56.8858\n",
            "2023-08-08 16:32:54 [INFO]: epoch 1883: training loss 39.8368\n",
            "2023-08-08 16:32:54 [INFO]: epoch 1884: training loss 42.8868\n",
            "2023-08-08 16:32:55 [INFO]: epoch 1885: training loss 50.3430\n",
            "2023-08-08 16:32:55 [INFO]: epoch 1886: training loss 50.4376\n",
            "2023-08-08 16:32:56 [INFO]: epoch 1887: training loss 55.0617\n",
            "2023-08-08 16:32:56 [INFO]: epoch 1888: training loss 56.4948\n",
            "2023-08-08 16:32:57 [INFO]: epoch 1889: training loss 49.4116\n",
            "2023-08-08 16:32:58 [INFO]: epoch 1890: training loss 42.4437\n",
            "2023-08-08 16:32:58 [INFO]: epoch 1891: training loss 42.4685\n",
            "2023-08-08 16:32:59 [INFO]: epoch 1892: training loss 44.2250\n",
            "2023-08-08 16:33:00 [INFO]: epoch 1893: training loss 42.6545\n",
            "2023-08-08 16:33:00 [INFO]: epoch 1894: training loss 45.0740\n",
            "2023-08-08 16:33:01 [INFO]: epoch 1895: training loss 54.0414\n",
            "2023-08-08 16:33:01 [INFO]: epoch 1896: training loss 49.9584\n",
            "2023-08-08 16:33:02 [INFO]: epoch 1897: training loss 43.9126\n",
            "2023-08-08 16:33:02 [INFO]: epoch 1898: training loss 46.1025\n",
            "2023-08-08 16:33:03 [INFO]: epoch 1899: training loss 52.0721\n",
            "2023-08-08 16:33:03 [INFO]: epoch 1900: training loss 45.3404\n",
            "2023-08-08 16:33:04 [INFO]: epoch 1901: training loss 42.2890\n",
            "2023-08-08 16:33:04 [INFO]: epoch 1902: training loss 48.5760\n",
            "2023-08-08 16:33:05 [INFO]: epoch 1903: training loss 46.1859\n",
            "2023-08-08 16:33:05 [INFO]: epoch 1904: training loss 49.7272\n",
            "2023-08-08 16:33:06 [INFO]: epoch 1905: training loss 47.6421\n",
            "2023-08-08 16:33:06 [INFO]: epoch 1906: training loss 44.4992\n",
            "2023-08-08 16:33:07 [INFO]: epoch 1907: training loss 47.4741\n",
            "2023-08-08 16:33:07 [INFO]: epoch 1908: training loss 50.9776\n",
            "2023-08-08 16:33:08 [INFO]: epoch 1909: training loss 43.1700\n",
            "2023-08-08 16:33:08 [INFO]: epoch 1910: training loss 40.5914\n",
            "2023-08-08 16:33:09 [INFO]: epoch 1911: training loss 39.2504\n",
            "2023-08-08 16:33:09 [INFO]: epoch 1912: training loss 44.1092\n",
            "2023-08-08 16:33:10 [INFO]: epoch 1913: training loss 51.0152\n",
            "2023-08-08 16:33:10 [INFO]: epoch 1914: training loss 54.4032\n",
            "2023-08-08 16:33:11 [INFO]: epoch 1915: training loss 48.0333\n",
            "2023-08-08 16:33:12 [INFO]: epoch 1916: training loss 45.1409\n",
            "2023-08-08 16:33:12 [INFO]: epoch 1917: training loss 45.0223\n",
            "2023-08-08 16:33:13 [INFO]: epoch 1918: training loss 39.7461\n",
            "2023-08-08 16:33:14 [INFO]: epoch 1919: training loss 39.4003\n",
            "2023-08-08 16:33:14 [INFO]: epoch 1920: training loss 42.9480\n",
            "2023-08-08 16:33:15 [INFO]: epoch 1921: training loss 46.3286\n",
            "2023-08-08 16:33:15 [INFO]: epoch 1922: training loss 41.3032\n",
            "2023-08-08 16:33:16 [INFO]: epoch 1923: training loss 45.5805\n",
            "2023-08-08 16:33:16 [INFO]: epoch 1924: training loss 57.3833\n",
            "2023-08-08 16:33:17 [INFO]: epoch 1925: training loss 46.7611\n",
            "2023-08-08 16:33:17 [INFO]: epoch 1926: training loss 51.8508\n",
            "2023-08-08 16:33:18 [INFO]: epoch 1927: training loss 53.3770\n",
            "2023-08-08 16:33:18 [INFO]: epoch 1928: training loss 54.6974\n",
            "2023-08-08 16:33:19 [INFO]: epoch 1929: training loss 52.0850\n",
            "2023-08-08 16:33:19 [INFO]: epoch 1930: training loss 41.7837\n",
            "2023-08-08 16:33:20 [INFO]: epoch 1931: training loss 43.9631\n",
            "2023-08-08 16:33:20 [INFO]: epoch 1932: training loss 45.5031\n",
            "2023-08-08 16:33:20 [INFO]: epoch 1933: training loss 47.1582\n",
            "2023-08-08 16:33:21 [INFO]: epoch 1934: training loss 46.5957\n",
            "2023-08-08 16:33:21 [INFO]: epoch 1935: training loss 44.4632\n",
            "2023-08-08 16:33:22 [INFO]: epoch 1936: training loss 66.9436\n",
            "2023-08-08 16:33:22 [INFO]: epoch 1937: training loss 55.1169\n",
            "2023-08-08 16:33:23 [INFO]: epoch 1938: training loss 54.8346\n",
            "2023-08-08 16:33:23 [INFO]: epoch 1939: training loss 47.1203\n",
            "2023-08-08 16:33:24 [INFO]: epoch 1940: training loss 49.5687\n",
            "2023-08-08 16:33:25 [INFO]: epoch 1941: training loss 51.6308\n",
            "2023-08-08 16:33:25 [INFO]: epoch 1942: training loss 51.7182\n",
            "2023-08-08 16:33:26 [INFO]: epoch 1943: training loss 48.7582\n",
            "2023-08-08 16:33:27 [INFO]: epoch 1944: training loss 42.9947\n",
            "2023-08-08 16:33:27 [INFO]: epoch 1945: training loss 45.2251\n",
            "2023-08-08 16:33:28 [INFO]: epoch 1946: training loss 45.1785\n",
            "2023-08-08 16:33:28 [INFO]: epoch 1947: training loss 47.3898\n",
            "2023-08-08 16:33:29 [INFO]: epoch 1948: training loss 53.6283\n",
            "2023-08-08 16:33:29 [INFO]: epoch 1949: training loss 54.5851\n",
            "2023-08-08 16:33:30 [INFO]: epoch 1950: training loss 45.3248\n",
            "2023-08-08 16:33:30 [INFO]: epoch 1951: training loss 43.5972\n",
            "2023-08-08 16:33:31 [INFO]: epoch 1952: training loss 41.7301\n",
            "2023-08-08 16:33:31 [INFO]: epoch 1953: training loss 43.6887\n",
            "2023-08-08 16:33:32 [INFO]: epoch 1954: training loss 44.3725\n",
            "2023-08-08 16:33:32 [INFO]: epoch 1955: training loss 45.0774\n",
            "2023-08-08 16:33:33 [INFO]: epoch 1956: training loss 46.6386\n",
            "2023-08-08 16:33:33 [INFO]: epoch 1957: training loss 45.6164\n",
            "2023-08-08 16:33:34 [INFO]: epoch 1958: training loss 46.4397\n",
            "2023-08-08 16:33:34 [INFO]: epoch 1959: training loss 53.3048\n",
            "2023-08-08 16:33:35 [INFO]: epoch 1960: training loss 55.9234\n",
            "2023-08-08 16:33:35 [INFO]: epoch 1961: training loss 52.4315\n",
            "2023-08-08 16:33:36 [INFO]: epoch 1962: training loss 50.6482\n",
            "2023-08-08 16:33:36 [INFO]: epoch 1963: training loss 45.7359\n",
            "2023-08-08 16:33:36 [INFO]: epoch 1964: training loss 41.1811\n",
            "2023-08-08 16:33:37 [INFO]: epoch 1965: training loss 45.2300\n",
            "2023-08-08 16:33:38 [INFO]: epoch 1966: training loss 41.6706\n",
            "2023-08-08 16:33:39 [INFO]: epoch 1967: training loss 42.8338\n",
            "2023-08-08 16:33:39 [INFO]: epoch 1968: training loss 52.5252\n",
            "2023-08-08 16:33:40 [INFO]: epoch 1969: training loss 43.7532\n",
            "2023-08-08 16:33:40 [INFO]: epoch 1970: training loss 42.9280\n",
            "2023-08-08 16:33:41 [INFO]: epoch 1971: training loss 53.7830\n",
            "2023-08-08 16:33:41 [INFO]: epoch 1972: training loss 39.9638\n",
            "2023-08-08 16:33:42 [INFO]: epoch 1973: training loss 45.4056\n",
            "2023-08-08 16:33:42 [INFO]: epoch 1974: training loss 42.0270\n",
            "2023-08-08 16:33:43 [INFO]: epoch 1975: training loss 61.9857\n",
            "2023-08-08 16:33:43 [INFO]: epoch 1976: training loss 54.4073\n",
            "2023-08-08 16:33:44 [INFO]: epoch 1977: training loss 52.1930\n",
            "2023-08-08 16:33:44 [INFO]: epoch 1978: training loss 49.3110\n",
            "2023-08-08 16:33:45 [INFO]: epoch 1979: training loss 40.9961\n",
            "2023-08-08 16:33:45 [INFO]: epoch 1980: training loss 42.4456\n",
            "2023-08-08 16:33:46 [INFO]: epoch 1981: training loss 44.3417\n",
            "2023-08-08 16:33:46 [INFO]: epoch 1982: training loss 42.1318\n",
            "2023-08-08 16:33:47 [INFO]: epoch 1983: training loss 42.9910\n",
            "2023-08-08 16:33:47 [INFO]: epoch 1984: training loss 43.5763\n",
            "2023-08-08 16:33:48 [INFO]: epoch 1985: training loss 48.6724\n",
            "2023-08-08 16:33:48 [INFO]: epoch 1986: training loss 44.7163\n",
            "2023-08-08 16:33:49 [INFO]: epoch 1987: training loss 45.4161\n",
            "2023-08-08 16:33:49 [INFO]: epoch 1988: training loss 46.4353\n",
            "2023-08-08 16:33:50 [INFO]: epoch 1989: training loss 52.3120\n",
            "2023-08-08 16:33:50 [INFO]: epoch 1990: training loss 49.3384\n",
            "2023-08-08 16:33:51 [INFO]: epoch 1991: training loss 51.4535\n",
            "2023-08-08 16:33:52 [INFO]: epoch 1992: training loss 51.8156\n",
            "2023-08-08 16:33:52 [INFO]: epoch 1993: training loss 56.0046\n",
            "2023-08-08 16:33:53 [INFO]: epoch 1994: training loss 51.2628\n",
            "2023-08-08 16:33:54 [INFO]: epoch 1995: training loss 45.9176\n",
            "2023-08-08 16:33:54 [INFO]: epoch 1996: training loss 40.6468\n",
            "2023-08-08 16:33:55 [INFO]: epoch 1997: training loss 43.0573\n",
            "2023-08-08 16:33:55 [INFO]: epoch 1998: training loss 44.7575\n",
            "2023-08-08 16:33:56 [INFO]: epoch 1999: training loss 39.9761\n",
            "2023-08-08 16:33:56 [INFO]: Finished training.\n"
          ]
        }
      ]
    },
    {
      "cell_type": "code",
      "source": [
        "# FSPM (Fusion ) model\n",
        "\n",
        "def partition_dataset(sequence_length, data):\n",
        "    data = StandardScaler().fit_transform(data)\n",
        "    x, y = [], []\n",
        "    data_len = data.shape[0]\n",
        "    for i in range(sequence_length, data_len):\n",
        "        x.append(data[i-sequence_length:i,:]) #contains sequence_length values 0-sequence_length * columsn\n",
        "        y.append(data[i, 0]) #contains the prediction values for validation,  for single-step prediction\n",
        "\n",
        "    # Convert the x and y to numpy arrays\n",
        "    x = np.array(x)\n",
        "    y = np.array(y)\n",
        "    return x, y\n",
        "\n",
        "# Generate training data and test data\n",
        "x_train, y_train = partition_dataset(20, df_unattacked)\n",
        "\n",
        "# Configure the neural network model\n",
        "model = Sequential()\n",
        "\n",
        "# Model with n_neurons = inputshape Timestamps, each with x_train.shape[2] variables\n",
        "n_neurons = x_train.shape[1] * x_train.shape[2]\n",
        "print(n_neurons, x_train.shape[1], x_train.shape[2])\n",
        "model.add(LSTM(n_neurons, return_sequences=True, input_shape=(x_train.shape[1], x_train.shape[2])))\n",
        "model.add(LSTM(n_neurons, return_sequences=False))\n",
        "model.add(Dense(5))\n",
        "model.add(Dense(1))\n",
        "\n",
        "# Compile the model\n",
        "model.compile(optimizer='adam', loss='mse')\n",
        "\n",
        "\n",
        "# Training the model\n",
        "epochs = 500\n",
        "batch_size = 64\n",
        "early_stop = EarlyStopping(monitor='loss', patience=5, verbose=1)\n",
        "history = model.fit(x_train, y_train,\n",
        "                    batch_size=batch_size,\n",
        "                    epochs=epochs,\n",
        "                    validation_split=0.1,\n",
        "                    callbacks=[early_stop]\n",
        "                   )\n",
        "\n",
        "                    #callbacks=[early_stop])"
      ],
      "metadata": {
        "colab": {
          "base_uri": "https://localhost:8080/"
        },
        "id": "f3jlL3B3vJNv",
        "outputId": "d0d30aa0-071a-46d9-a0fb-057a8fea75ca"
      },
      "execution_count": 16,
      "outputs": [
        {
          "output_type": "stream",
          "name": "stdout",
          "text": [
            "820 20 41\n",
            "Epoch 1/500\n",
            "6/6 [==============================] - 16s 2s/step - loss: 9.8849 - val_loss: 1.9616\n",
            "Epoch 2/500\n",
            "6/6 [==============================] - 11s 2s/step - loss: 0.3201 - val_loss: 0.4575\n",
            "Epoch 3/500\n",
            "6/6 [==============================] - 11s 2s/step - loss: 0.0753 - val_loss: 0.2865\n",
            "Epoch 4/500\n",
            "6/6 [==============================] - 11s 2s/step - loss: 0.0338 - val_loss: 0.1402\n",
            "Epoch 5/500\n",
            "6/6 [==============================] - 10s 2s/step - loss: 0.0335 - val_loss: 0.0038\n",
            "Epoch 6/500\n",
            "6/6 [==============================] - 11s 2s/step - loss: 0.0114 - val_loss: 0.0278\n",
            "Epoch 7/500\n",
            "6/6 [==============================] - 11s 2s/step - loss: 0.0063 - val_loss: 0.0114\n",
            "Epoch 8/500\n",
            "6/6 [==============================] - 11s 2s/step - loss: 0.0065 - val_loss: 9.6252e-04\n",
            "Epoch 9/500\n",
            "6/6 [==============================] - 11s 2s/step - loss: 0.0027 - val_loss: 0.0011\n",
            "Epoch 10/500\n",
            "6/6 [==============================] - 10s 2s/step - loss: 0.0016 - val_loss: 0.0024\n",
            "Epoch 11/500\n",
            "6/6 [==============================] - 11s 2s/step - loss: 0.0019 - val_loss: 3.8807e-05\n",
            "Epoch 12/500\n",
            "6/6 [==============================] - 11s 2s/step - loss: 0.0012 - val_loss: 3.1357e-04\n",
            "Epoch 13/500\n",
            "6/6 [==============================] - 11s 2s/step - loss: 0.0010 - val_loss: 5.2278e-04\n",
            "Epoch 14/500\n",
            "6/6 [==============================] - 11s 2s/step - loss: 9.0747e-04 - val_loss: 1.6674e-06\n",
            "Epoch 15/500\n",
            "6/6 [==============================] - 10s 2s/step - loss: 8.2213e-04 - val_loss: 9.0157e-06\n",
            "Epoch 16/500\n",
            "6/6 [==============================] - 12s 2s/step - loss: 6.8289e-04 - val_loss: 5.7658e-05\n",
            "Epoch 17/500\n",
            "6/6 [==============================] - 11s 2s/step - loss: 6.4836e-04 - val_loss: 1.1247e-04\n",
            "Epoch 18/500\n",
            "6/6 [==============================] - 11s 2s/step - loss: 5.8989e-04 - val_loss: 3.5235e-05\n",
            "Epoch 19/500\n",
            "6/6 [==============================] - 11s 2s/step - loss: 5.4476e-04 - val_loss: 2.1197e-06\n",
            "Epoch 20/500\n",
            "6/6 [==============================] - 15s 3s/step - loss: 5.3266e-04 - val_loss: 4.8415e-05\n",
            "Epoch 21/500\n",
            "6/6 [==============================] - 11s 2s/step - loss: 4.8033e-04 - val_loss: 2.8964e-05\n",
            "Epoch 22/500\n",
            "6/6 [==============================] - 10s 2s/step - loss: 4.2895e-04 - val_loss: 1.8827e-04\n",
            "Epoch 23/500\n",
            "6/6 [==============================] - 11s 2s/step - loss: 3.9900e-04 - val_loss: 5.4129e-05\n",
            "Epoch 24/500\n",
            "6/6 [==============================] - 11s 2s/step - loss: 3.7856e-04 - val_loss: 1.0331e-04\n",
            "Epoch 25/500\n",
            "6/6 [==============================] - 11s 2s/step - loss: 3.5356e-04 - val_loss: 1.5622e-04\n",
            "Epoch 26/500\n",
            "6/6 [==============================] - 11s 2s/step - loss: 3.3467e-04 - val_loss: 1.7327e-04\n",
            "Epoch 27/500\n",
            "6/6 [==============================] - 10s 2s/step - loss: 3.1886e-04 - val_loss: 1.3396e-04\n",
            "Epoch 28/500\n",
            "6/6 [==============================] - 11s 2s/step - loss: 3.0289e-04 - val_loss: 2.6520e-04\n",
            "Epoch 29/500\n",
            "6/6 [==============================] - 11s 2s/step - loss: 2.8859e-04 - val_loss: 1.2028e-04\n",
            "Epoch 30/500\n",
            "6/6 [==============================] - 11s 2s/step - loss: 2.8319e-04 - val_loss: 2.4910e-04\n",
            "Epoch 31/500\n",
            "6/6 [==============================] - 11s 2s/step - loss: 2.6787e-04 - val_loss: 2.2550e-04\n",
            "Epoch 32/500\n",
            "6/6 [==============================] - 10s 2s/step - loss: 2.5870e-04 - val_loss: 1.9989e-04\n",
            "Epoch 33/500\n",
            "6/6 [==============================] - 11s 2s/step - loss: 2.5133e-04 - val_loss: 1.8079e-04\n",
            "Epoch 34/500\n",
            "6/6 [==============================] - 11s 2s/step - loss: 2.4725e-04 - val_loss: 3.2850e-04\n",
            "Epoch 35/500\n",
            "6/6 [==============================] - 11s 2s/step - loss: 2.3471e-04 - val_loss: 1.5771e-04\n",
            "Epoch 36/500\n",
            "6/6 [==============================] - 11s 2s/step - loss: 2.2858e-04 - val_loss: 2.2181e-04\n",
            "Epoch 37/500\n",
            "6/6 [==============================] - 10s 2s/step - loss: 2.2199e-04 - val_loss: 2.1123e-04\n",
            "Epoch 38/500\n",
            "6/6 [==============================] - 11s 2s/step - loss: 2.1178e-04 - val_loss: 2.3705e-04\n",
            "Epoch 39/500\n",
            "6/6 [==============================] - 11s 2s/step - loss: 2.0743e-04 - val_loss: 1.0785e-04\n",
            "Epoch 40/500\n",
            "6/6 [==============================] - 13s 2s/step - loss: 2.0322e-04 - val_loss: 2.8893e-04\n",
            "Epoch 41/500\n",
            "6/6 [==============================] - 11s 2s/step - loss: 1.9551e-04 - val_loss: 2.0757e-04\n",
            "Epoch 42/500\n",
            "6/6 [==============================] - 10s 2s/step - loss: 1.8765e-04 - val_loss: 1.6804e-04\n",
            "Epoch 43/500\n",
            "6/6 [==============================] - 11s 2s/step - loss: 1.8007e-04 - val_loss: 1.8980e-04\n",
            "Epoch 44/500\n",
            "6/6 [==============================] - 11s 2s/step - loss: 1.7702e-04 - val_loss: 1.5339e-04\n",
            "Epoch 45/500\n",
            "6/6 [==============================] - 11s 2s/step - loss: 1.7038e-04 - val_loss: 2.1576e-04\n",
            "Epoch 46/500\n",
            "6/6 [==============================] - 11s 2s/step - loss: 1.6403e-04 - val_loss: 1.1629e-04\n",
            "Epoch 47/500\n",
            "6/6 [==============================] - 10s 2s/step - loss: 1.5930e-04 - val_loss: 1.0604e-04\n",
            "Epoch 48/500\n",
            "6/6 [==============================] - 11s 2s/step - loss: 1.5501e-04 - val_loss: 2.1297e-04\n",
            "Epoch 49/500\n",
            "6/6 [==============================] - 11s 2s/step - loss: 1.5489e-04 - val_loss: 4.2566e-05\n",
            "Epoch 50/500\n",
            "6/6 [==============================] - 11s 2s/step - loss: 1.4624e-04 - val_loss: 1.4683e-04\n",
            "Epoch 51/500\n",
            "6/6 [==============================] - 12s 2s/step - loss: 1.4011e-04 - val_loss: 1.3267e-04\n",
            "Epoch 52/500\n",
            "6/6 [==============================] - 11s 2s/step - loss: 1.3448e-04 - val_loss: 6.8853e-05\n",
            "Epoch 53/500\n",
            "6/6 [==============================] - 10s 2s/step - loss: 1.2901e-04 - val_loss: 1.3492e-04\n",
            "Epoch 54/500\n",
            "6/6 [==============================] - 11s 2s/step - loss: 1.2596e-04 - val_loss: 4.4227e-05\n",
            "Epoch 55/500\n",
            "6/6 [==============================] - 11s 2s/step - loss: 1.2246e-04 - val_loss: 1.0561e-04\n",
            "Epoch 56/500\n",
            "6/6 [==============================] - 11s 2s/step - loss: 1.2120e-04 - val_loss: 1.0660e-04\n",
            "Epoch 57/500\n",
            "6/6 [==============================] - 11s 2s/step - loss: 1.1583e-04 - val_loss: 2.3201e-05\n",
            "Epoch 58/500\n",
            "6/6 [==============================] - 10s 2s/step - loss: 1.1564e-04 - val_loss: 9.0969e-05\n",
            "Epoch 59/500\n",
            "6/6 [==============================] - 11s 2s/step - loss: 1.1102e-04 - val_loss: 9.0958e-05\n",
            "Epoch 60/500\n",
            "6/6 [==============================] - 11s 2s/step - loss: 1.0497e-04 - val_loss: 2.3042e-05\n",
            "Epoch 61/500\n",
            "6/6 [==============================] - 11s 2s/step - loss: 1.0497e-04 - val_loss: 7.9331e-05\n",
            "Epoch 62/500\n",
            "6/6 [==============================] - 11s 2s/step - loss: 1.0614e-04 - val_loss: 3.9459e-05\n",
            "Epoch 63/500\n",
            "6/6 [==============================] - 13s 2s/step - loss: 9.6606e-05 - val_loss: 2.1607e-05\n",
            "Epoch 64/500\n",
            "6/6 [==============================] - 10s 2s/step - loss: 9.2149e-05 - val_loss: 5.9672e-05\n",
            "Epoch 65/500\n",
            "6/6 [==============================] - 11s 2s/step - loss: 9.1007e-05 - val_loss: 1.5293e-05\n",
            "Epoch 66/500\n",
            "6/6 [==============================] - 11s 2s/step - loss: 8.4685e-05 - val_loss: 2.5945e-05\n",
            "Epoch 67/500\n",
            "6/6 [==============================] - 11s 2s/step - loss: 8.2775e-05 - val_loss: 1.9616e-05\n",
            "Epoch 68/500\n",
            "6/6 [==============================] - 11s 2s/step - loss: 8.0620e-05 - val_loss: 1.3636e-05\n",
            "Epoch 69/500\n",
            "6/6 [==============================] - 10s 2s/step - loss: 7.7783e-05 - val_loss: 1.0007e-05\n",
            "Epoch 70/500\n",
            "6/6 [==============================] - 11s 2s/step - loss: 7.6981e-05 - val_loss: 4.1891e-07\n",
            "Epoch 71/500\n",
            "6/6 [==============================] - 11s 2s/step - loss: 7.7383e-05 - val_loss: 3.4418e-05\n",
            "Epoch 72/500\n",
            "6/6 [==============================] - 11s 2s/step - loss: 7.3911e-05 - val_loss: 3.3769e-06\n",
            "Epoch 73/500\n",
            "6/6 [==============================] - 11s 2s/step - loss: 6.9857e-05 - val_loss: 1.0696e-05\n",
            "Epoch 74/500\n",
            "6/6 [==============================] - 10s 2s/step - loss: 7.2240e-05 - val_loss: 4.5227e-06\n",
            "Epoch 75/500\n",
            "6/6 [==============================] - 11s 2s/step - loss: 6.9808e-05 - val_loss: 8.4750e-05\n",
            "Epoch 76/500\n",
            "6/6 [==============================] - 11s 2s/step - loss: 7.5855e-05 - val_loss: 2.0026e-06\n",
            "Epoch 77/500\n",
            "6/6 [==============================] - 11s 2s/step - loss: 6.9362e-05 - val_loss: 1.3869e-05\n",
            "Epoch 78/500\n",
            "6/6 [==============================] - 11s 2s/step - loss: 7.5297e-05 - val_loss: 2.3887e-05\n",
            "Epoch 79/500\n",
            "6/6 [==============================] - 10s 2s/step - loss: 6.9035e-05 - val_loss: 1.6197e-05\n",
            "Epoch 80/500\n",
            "6/6 [==============================] - 11s 2s/step - loss: 6.7381e-05 - val_loss: 5.6258e-06\n",
            "Epoch 81/500\n",
            "6/6 [==============================] - 11s 2s/step - loss: 6.0625e-05 - val_loss: 5.3593e-07\n",
            "Epoch 82/500\n",
            "6/6 [==============================] - 11s 2s/step - loss: 5.7773e-05 - val_loss: 1.3958e-06\n",
            "Epoch 83/500\n",
            "6/6 [==============================] - 11s 2s/step - loss: 5.5138e-05 - val_loss: 6.8403e-07\n",
            "Epoch 84/500\n",
            "6/6 [==============================] - 10s 2s/step - loss: 5.6130e-05 - val_loss: 9.8777e-06\n",
            "Epoch 85/500\n",
            "6/6 [==============================] - 11s 2s/step - loss: 5.7611e-05 - val_loss: 1.9731e-06\n",
            "Epoch 86/500\n",
            "6/6 [==============================] - 12s 2s/step - loss: 5.7724e-05 - val_loss: 3.6021e-05\n",
            "Epoch 87/500\n",
            "6/6 [==============================] - 12s 2s/step - loss: 5.4983e-05 - val_loss: 8.8741e-07\n",
            "Epoch 88/500\n",
            "6/6 [==============================] - 11s 2s/step - loss: 5.6802e-05 - val_loss: 4.9803e-07\n",
            "Epoch 89/500\n",
            "6/6 [==============================] - 11s 2s/step - loss: 5.5627e-05 - val_loss: 4.1626e-06\n",
            "Epoch 90/500\n",
            "6/6 [==============================] - 10s 2s/step - loss: 5.1653e-05 - val_loss: 2.3327e-05\n",
            "Epoch 91/500\n",
            "6/6 [==============================] - 11s 2s/step - loss: 6.2984e-05 - val_loss: 4.6638e-05\n",
            "Epoch 92/500\n",
            "6/6 [==============================] - 11s 2s/step - loss: 6.9047e-05 - val_loss: 2.7077e-06\n",
            "Epoch 93/500\n",
            "6/6 [==============================] - 11s 2s/step - loss: 5.9841e-05 - val_loss: 1.3657e-05\n",
            "Epoch 94/500\n",
            "6/6 [==============================] - 11s 2s/step - loss: 6.1102e-05 - val_loss: 2.4887e-06\n",
            "Epoch 95/500\n",
            "6/6 [==============================] - 11s 2s/step - loss: 5.3109e-05 - val_loss: 4.8416e-05\n",
            "Epoch 95: early stopping\n"
          ]
        }
      ]
    },
    {
      "cell_type": "code",
      "source": [
        "df = df_x.copy(deep=True)\n",
        "  # df = df.drop(columns = ['time'])\n",
        "for i in range(1, len(df)+1):\n",
        "\n",
        "\n",
        "  timestep = df[i-1:i]\n",
        "\n",
        "  old_stdout = sys.stdout # backup current stdout\n",
        "  sys.stdout = open(os.devnull, \"w\")\n",
        "  # label_attack = get_difference_and_remove_margin_value(np.array(df[i-1:i]).flatten(), percentile_level = 0.95)[1]\n",
        "  label_attack = get_difference_and_remove_margin_value_training(np.array(df_unattacked[0:1]).flatten(), np.array(df[i-1:i]).flatten(), 90)[1]\n",
        "  label_attack_95 = list(map(lambda l : l + 1, label_attack))\n",
        "\n",
        "  # label_attack = find_attacked_sensor(np.array(df[1:2]).flatten(), np.array(df[i:i+1]).flatten(), np.array(df[1:2]).flatten()[0], mean=0, std=0.1, sample_size1=7, sample_size2=7, percentile_level=0.95)[2]\n",
        "  # label_attack = label_attack + label_attack_95\n",
        "  sys.stdout = old_stdout # reset old stdout\n",
        "  m = list(set(range(1,40)).difference(label_attack_95))\n",
        "\n",
        "  df[i-1:i].iloc[:, m] = np.nan\n",
        "\n",
        "  # Imputing Nan with SAITs\n",
        "  if i % timesteps == 0 :\n",
        "    X = df[i-timesteps:i].to_numpy()\n",
        "\n",
        "    X = X[:1 * timesteps, :].reshape(1, timesteps, features)\n",
        "\n",
        "    dataset = {\"X\": X}\n",
        "    imputation = saits.impute(dataset)\n",
        "\n",
        "    df[i-timesteps:i] = pd.DataFrame(imputation.reshape(-1, X.shape[-1]))\n",
        "\n"
      ],
      "metadata": {
        "colab": {
          "base_uri": "https://localhost:8080/"
        },
        "id": "UdlDv7lgiIyK",
        "outputId": "df9cc7bf-07b5-4eef-abec-98b7f0ad307e"
      },
      "execution_count": 22,
      "outputs": [
        {
          "output_type": "stream",
          "name": "stderr",
          "text": [
            "<ipython-input-22-308062085277>:19: SettingWithCopyWarning: \n",
            "A value is trying to be set on a copy of a slice from a DataFrame\n",
            "\n",
            "See the caveats in the documentation: https://pandas.pydata.org/pandas-docs/stable/user_guide/indexing.html#returning-a-view-versus-a-copy\n",
            "  df[i-1:i].iloc[:, m] = np.nan\n"
          ]
        }
      ]
    },
    {
      "cell_type": "code",
      "source": [
        "# Plot each noise column\n",
        "for column in df.columns:\n",
        "  # color_values = df['vehicle_id'].map({'red': 'r', 'green': 'g', 'blue': 'b'})\n",
        "  plt.plot(range(0, len(df)), df[column], label=column)\n",
        "\n",
        "# Add labels and legend\n",
        "plt.xlabel('time')\n",
        "plt.ylabel('x')\n",
        "# plt.legend()\n",
        "\n",
        "# Show the plot\n",
        "plt.show()"
      ],
      "metadata": {
        "colab": {
          "base_uri": "https://localhost:8080/",
          "height": 449
        },
        "id": "G40XxXsriTLl",
        "outputId": "8b3efa4c-6815-44e6-f1e2-caf9460a4f0f"
      },
      "execution_count": 23,
      "outputs": [
        {
          "output_type": "display_data",
          "data": {
            "text/plain": [
              "<Figure size 640x480 with 1 Axes>"
            ],
            "image/png": "[encoded data removed]"
          },
          "metadata": {}
        }
      ]
    },
    {
      "cell_type": "code",
      "source": [
        "# End to End point prediction\n",
        "\n",
        "def fspm(data = df_x):\n",
        "\n",
        "  df = data.copy(deep=True)\n",
        "  # df = df.drop(columns = ['time'])\n",
        "  for i in range(1, len(df)+1):\n",
        "\n",
        "\n",
        "    timestep = df[i-1:i]\n",
        "\n",
        "    old_stdout = sys.stdout # backup current stdout\n",
        "    sys.stdout = open(os.devnull, \"w\")\n",
        "    # label_attack = get_difference_and_remove_margin_value(np.array(df[i-1:i]).flatten(), percentile_level = 0.95)[1]\n",
        "    label_attack = get_difference_and_remove_margin_value_training(np.array(df_unattacked[0:1]).flatten(), np.array(df[i-1:i]).flatten(), 95)[1]\n",
        "    label_attack_95 = list(map(lambda l : l + 1, label_attack))\n",
        "\n",
        "    # label_attack = find_attacked_sensor(np.array(df[1:2]).flatten(), np.array(df[i:i+1]).flatten(), np.array(df[1:2]).flatten()[0], mean=0, std=0.1, sample_size1=7, sample_size2=7, percentile_level=0.95)[2]\n",
        "    # label_attack = label_attack + label_attack_95\n",
        "    sys.stdout = old_stdout # reset old stdout\n",
        "    m = list(set(range(1,40)).difference(label_attack_95))\n",
        "\n",
        "    df[i-1:i].iloc[:, m] = np.nan\n",
        "\n",
        "    # df_after_attack_iden = df.copy(deep=True)\n",
        "\n",
        "    # Imputing Nan with SAITs\n",
        "    if i % timesteps == 0 :\n",
        "      X = df[i-timesteps:i].to_numpy()\n",
        "\n",
        "      X = X[:1 * timesteps, :].reshape(1, timesteps, features)\n",
        "\n",
        "      dataset = {\"X\": X}\n",
        "      imputation = saits.impute(dataset)\n",
        "\n",
        "      df[i-timesteps:i] = pd.DataFrame(imputation.reshape(-1, X.shape[-1]))\n",
        "\n",
        "  df_after_missing_value_imp = df.copy(deep=True)\n",
        "\n",
        "  # Create scaled df for FSPM\n",
        "  x_test, y_test = partition_dataset(20, df)\n",
        "  # Make Predictions\n",
        "  pred = model.predict(x_test)\n",
        "  # Create the scaler object\n",
        "  scaler = StandardScaler()\n",
        "  # Fit the scaler to your original data to compute the mean and standard deviation\n",
        "  scaler.fit(df)\n",
        "  pred_reshaped = np.repeat(pred, df.shape[1], axis=1)\n",
        "  # Use the inverse_transform() method to obtain the original values from the scaled data\n",
        "  data_original = scaler.inverse_transform(pred_reshaped)\n",
        "\n",
        "  final_predictions = pd.DataFrame(data_original).iloc[:,0]\n",
        "\n",
        "  return df_after_missing_value_imp , final_predictions\n",
        "  # return df"
      ],
      "metadata": {
        "id": "-e4W91tRuWD5"
      },
      "execution_count": 25,
      "outputs": []
    },
    {
      "cell_type": "code",
      "source": [
        "# df_after_attack_iden, df_after_missing_value_imp, final_predictions = fspm(data = df_x)\n",
        "df_after_missing_value_imp , final_predictions = fspm(data = df_x)"
      ],
      "metadata": {
        "colab": {
          "base_uri": "https://localhost:8080/"
        },
        "id": "aeWevxAW4HZK",
        "outputId": "9eb50335-963c-4549-8f52-21e553cdc7f7"
      },
      "execution_count": 26,
      "outputs": [
        {
          "output_type": "stream",
          "name": "stderr",
          "text": [
            "<ipython-input-25-6b857bf310c0>:23: SettingWithCopyWarning: \n",
            "A value is trying to be set on a copy of a slice from a DataFrame\n",
            "\n",
            "See the caveats in the documentation: https://pandas.pydata.org/pandas-docs/stable/user_guide/indexing.html#returning-a-view-versus-a-copy\n",
            "  df[i-1:i].iloc[:, m] = np.nan\n"
          ]
        },
        {
          "output_type": "stream",
          "name": "stdout",
          "text": [
            "13/13 [==============================] - 4s 289ms/step\n"
          ]
        }
      ]
    },
    {
      "cell_type": "markdown",
      "source": [
        "#### Make multiple estimate for different instances of attacks using a single path"
      ],
      "metadata": {
        "id": "RGBIqb4dxpqE"
      }
    },
    {
      "cell_type": "code",
      "source": [
        "monte_carlo_runs = 10\n",
        "estimations = pd.DataFrame()"
      ],
      "metadata": {
        "id": "zlIpqtMOyMq1"
      },
      "execution_count": 27,
      "outputs": []
    },
    {
      "cell_type": "code",
      "source": [
        "for i in range(1, monte_carlo_runs):\n",
        "  df_un, df_unattacked, df_x = create_sensor_data()\n",
        "  df_after_missing_value_imp, final_predictions = fspm(data = df_x)\n",
        "\n",
        "  estimations = estimations.append(final_predictions)"
      ],
      "metadata": {
        "colab": {
          "base_uri": "https://localhost:8080/"
        },
        "id": "vVKyR3ibxl0h",
        "outputId": "e9fc9e42-6d4d-46a8-d156-0decff46d4dc"
      },
      "execution_count": 28,
      "outputs": [
        {
          "output_type": "stream",
          "name": "stderr",
          "text": [
            "<ipython-input-6-8c634d9f69b6>:32: SettingWithCopyWarning: \n",
            "A value is trying to be set on a copy of a slice from a DataFrame.\n",
            "Try using .loc[row_indexer,col_indexer] = value instead\n",
            "\n",
            "See the caveats in the documentation: https://pandas.pydata.org/pandas-docs/stable/user_guide/indexing.html#returning-a-view-versus-a-copy\n",
            "  df_un[column_name] = df_un['x'] + noise\n",
            "<ipython-input-6-8c634d9f69b6>:32: SettingWithCopyWarning: \n",
            "A value is trying to be set on a copy of a slice from a DataFrame.\n",
            "Try using .loc[row_indexer,col_indexer] = value instead\n",
            "\n",
            "See the caveats in the documentation: https://pandas.pydata.org/pandas-docs/stable/user_guide/indexing.html#returning-a-view-versus-a-copy\n",
            "  df_un[column_name] = df_un['x'] + noise\n",
            "<ipython-input-25-6b857bf310c0>:23: SettingWithCopyWarning: \n",
            "A value is trying to be set on a copy of a slice from a DataFrame\n",
            "\n",
            "See the caveats in the documentation: https://pandas.pydata.org/pandas-docs/stable/user_guide/indexing.html#returning-a-view-versus-a-copy\n",
            "  df[i-1:i].iloc[:, m] = np.nan\n"
          ]
        },
        {
          "output_type": "stream",
          "name": "stdout",
          "text": [
            "13/13 [==============================] - 4s 280ms/step\n"
          ]
        },
        {
          "output_type": "stream",
          "name": "stderr",
          "text": [
            "<ipython-input-28-0ba02c70f7e9>:5: FutureWarning: The frame.append method is deprecated and will be removed from pandas in a future version. Use pandas.concat instead.\n",
            "  estimations = estimations.append(final_predictions)\n",
            "<ipython-input-6-8c634d9f69b6>:32: SettingWithCopyWarning: \n",
            "A value is trying to be set on a copy of a slice from a DataFrame.\n",
            "Try using .loc[row_indexer,col_indexer] = value instead\n",
            "\n",
            "See the caveats in the documentation: https://pandas.pydata.org/pandas-docs/stable/user_guide/indexing.html#returning-a-view-versus-a-copy\n",
            "  df_un[column_name] = df_un['x'] + noise\n",
            "<ipython-input-6-8c634d9f69b6>:32: SettingWithCopyWarning: \n",
            "A value is trying to be set on a copy of a slice from a DataFrame.\n",
            "Try using .loc[row_indexer,col_indexer] = value instead\n",
            "\n",
            "See the caveats in the documentation: https://pandas.pydata.org/pandas-docs/stable/user_guide/indexing.html#returning-a-view-versus-a-copy\n",
            "  df_un[column_name] = df_un['x'] + noise\n",
            "<ipython-input-25-6b857bf310c0>:23: SettingWithCopyWarning: \n",
            "A value is trying to be set on a copy of a slice from a DataFrame\n",
            "\n",
            "See the caveats in the documentation: https://pandas.pydata.org/pandas-docs/stable/user_guide/indexing.html#returning-a-view-versus-a-copy\n",
            "  df[i-1:i].iloc[:, m] = np.nan\n"
          ]
        },
        {
          "output_type": "stream",
          "name": "stdout",
          "text": [
            "13/13 [==============================] - 5s 390ms/step\n"
          ]
        },
        {
          "output_type": "stream",
          "name": "stderr",
          "text": [
            "<ipython-input-28-0ba02c70f7e9>:5: FutureWarning: The frame.append method is deprecated and will be removed from pandas in a future version. Use pandas.concat instead.\n",
            "  estimations = estimations.append(final_predictions)\n",
            "<ipython-input-6-8c634d9f69b6>:32: SettingWithCopyWarning: \n",
            "A value is trying to be set on a copy of a slice from a DataFrame.\n",
            "Try using .loc[row_indexer,col_indexer] = value instead\n",
            "\n",
            "See the caveats in the documentation: https://pandas.pydata.org/pandas-docs/stable/user_guide/indexing.html#returning-a-view-versus-a-copy\n",
            "  df_un[column_name] = df_un['x'] + noise\n",
            "<ipython-input-6-8c634d9f69b6>:32: SettingWithCopyWarning: \n",
            "A value is trying to be set on a copy of a slice from a DataFrame.\n",
            "Try using .loc[row_indexer,col_indexer] = value instead\n",
            "\n",
            "See the caveats in the documentation: https://pandas.pydata.org/pandas-docs/stable/user_guide/indexing.html#returning-a-view-versus-a-copy\n",
            "  df_un[column_name] = df_un['x'] + noise\n",
            "<ipython-input-25-6b857bf310c0>:23: SettingWithCopyWarning: \n",
            "A value is trying to be set on a copy of a slice from a DataFrame\n",
            "\n",
            "See the caveats in the documentation: https://pandas.pydata.org/pandas-docs/stable/user_guide/indexing.html#returning-a-view-versus-a-copy\n",
            "  df[i-1:i].iloc[:, m] = np.nan\n"
          ]
        },
        {
          "output_type": "stream",
          "name": "stdout",
          "text": [
            "13/13 [==============================] - 6s 455ms/step\n"
          ]
        },
        {
          "output_type": "stream",
          "name": "stderr",
          "text": [
            "<ipython-input-28-0ba02c70f7e9>:5: FutureWarning: The frame.append method is deprecated and will be removed from pandas in a future version. Use pandas.concat instead.\n",
            "  estimations = estimations.append(final_predictions)\n",
            "<ipython-input-6-8c634d9f69b6>:32: SettingWithCopyWarning: \n",
            "A value is trying to be set on a copy of a slice from a DataFrame.\n",
            "Try using .loc[row_indexer,col_indexer] = value instead\n",
            "\n",
            "See the caveats in the documentation: https://pandas.pydata.org/pandas-docs/stable/user_guide/indexing.html#returning-a-view-versus-a-copy\n",
            "  df_un[column_name] = df_un['x'] + noise\n",
            "<ipython-input-6-8c634d9f69b6>:32: SettingWithCopyWarning: \n",
            "A value is trying to be set on a copy of a slice from a DataFrame.\n",
            "Try using .loc[row_indexer,col_indexer] = value instead\n",
            "\n",
            "See the caveats in the documentation: https://pandas.pydata.org/pandas-docs/stable/user_guide/indexing.html#returning-a-view-versus-a-copy\n",
            "  df_un[column_name] = df_un['x'] + noise\n",
            "<ipython-input-25-6b857bf310c0>:23: SettingWithCopyWarning: \n",
            "A value is trying to be set on a copy of a slice from a DataFrame\n",
            "\n",
            "See the caveats in the documentation: https://pandas.pydata.org/pandas-docs/stable/user_guide/indexing.html#returning-a-view-versus-a-copy\n",
            "  df[i-1:i].iloc[:, m] = np.nan\n"
          ]
        },
        {
          "output_type": "stream",
          "name": "stdout",
          "text": [
            "13/13 [==============================] - 4s 330ms/step\n"
          ]
        },
        {
          "output_type": "stream",
          "name": "stderr",
          "text": [
            "<ipython-input-28-0ba02c70f7e9>:5: FutureWarning: The frame.append method is deprecated and will be removed from pandas in a future version. Use pandas.concat instead.\n",
            "  estimations = estimations.append(final_predictions)\n",
            "<ipython-input-6-8c634d9f69b6>:32: SettingWithCopyWarning: \n",
            "A value is trying to be set on a copy of a slice from a DataFrame.\n",
            "Try using .loc[row_indexer,col_indexer] = value instead\n",
            "\n",
            "See the caveats in the documentation: https://pandas.pydata.org/pandas-docs/stable/user_guide/indexing.html#returning-a-view-versus-a-copy\n",
            "  df_un[column_name] = df_un['x'] + noise\n",
            "<ipython-input-6-8c634d9f69b6>:32: SettingWithCopyWarning: \n",
            "A value is trying to be set on a copy of a slice from a DataFrame.\n",
            "Try using .loc[row_indexer,col_indexer] = value instead\n",
            "\n",
            "See the caveats in the documentation: https://pandas.pydata.org/pandas-docs/stable/user_guide/indexing.html#returning-a-view-versus-a-copy\n",
            "  df_un[column_name] = df_un['x'] + noise\n",
            "<ipython-input-25-6b857bf310c0>:23: SettingWithCopyWarning: \n",
            "A value is trying to be set on a copy of a slice from a DataFrame\n",
            "\n",
            "See the caveats in the documentation: https://pandas.pydata.org/pandas-docs/stable/user_guide/indexing.html#returning-a-view-versus-a-copy\n",
            "  df[i-1:i].iloc[:, m] = np.nan\n"
          ]
        },
        {
          "output_type": "stream",
          "name": "stdout",
          "text": [
            "13/13 [==============================] - 4s 276ms/step\n"
          ]
        },
        {
          "output_type": "stream",
          "name": "stderr",
          "text": [
            "<ipython-input-28-0ba02c70f7e9>:5: FutureWarning: The frame.append method is deprecated and will be removed from pandas in a future version. Use pandas.concat instead.\n",
            "  estimations = estimations.append(final_predictions)\n",
            "<ipython-input-6-8c634d9f69b6>:32: SettingWithCopyWarning: \n",
            "A value is trying to be set on a copy of a slice from a DataFrame.\n",
            "Try using .loc[row_indexer,col_indexer] = value instead\n",
            "\n",
            "See the caveats in the documentation: https://pandas.pydata.org/pandas-docs/stable/user_guide/indexing.html#returning-a-view-versus-a-copy\n",
            "  df_un[column_name] = df_un['x'] + noise\n",
            "<ipython-input-6-8c634d9f69b6>:32: SettingWithCopyWarning: \n",
            "A value is trying to be set on a copy of a slice from a DataFrame.\n",
            "Try using .loc[row_indexer,col_indexer] = value instead\n",
            "\n",
            "See the caveats in the documentation: https://pandas.pydata.org/pandas-docs/stable/user_guide/indexing.html#returning-a-view-versus-a-copy\n",
            "  df_un[column_name] = df_un['x'] + noise\n",
            "<ipython-input-25-6b857bf310c0>:23: SettingWithCopyWarning: \n",
            "A value is trying to be set on a copy of a slice from a DataFrame\n",
            "\n",
            "See the caveats in the documentation: https://pandas.pydata.org/pandas-docs/stable/user_guide/indexing.html#returning-a-view-versus-a-copy\n",
            "  df[i-1:i].iloc[:, m] = np.nan\n"
          ]
        },
        {
          "output_type": "stream",
          "name": "stdout",
          "text": [
            "13/13 [==============================] - 6s 457ms/step\n"
          ]
        },
        {
          "output_type": "stream",
          "name": "stderr",
          "text": [
            "<ipython-input-28-0ba02c70f7e9>:5: FutureWarning: The frame.append method is deprecated and will be removed from pandas in a future version. Use pandas.concat instead.\n",
            "  estimations = estimations.append(final_predictions)\n",
            "<ipython-input-6-8c634d9f69b6>:32: SettingWithCopyWarning: \n",
            "A value is trying to be set on a copy of a slice from a DataFrame.\n",
            "Try using .loc[row_indexer,col_indexer] = value instead\n",
            "\n",
            "See the caveats in the documentation: https://pandas.pydata.org/pandas-docs/stable/user_guide/indexing.html#returning-a-view-versus-a-copy\n",
            "  df_un[column_name] = df_un['x'] + noise\n",
            "<ipython-input-6-8c634d9f69b6>:32: SettingWithCopyWarning: \n",
            "A value is trying to be set on a copy of a slice from a DataFrame.\n",
            "Try using .loc[row_indexer,col_indexer] = value instead\n",
            "\n",
            "See the caveats in the documentation: https://pandas.pydata.org/pandas-docs/stable/user_guide/indexing.html#returning-a-view-versus-a-copy\n",
            "  df_un[column_name] = df_un['x'] + noise\n",
            "<ipython-input-25-6b857bf310c0>:23: SettingWithCopyWarning: \n",
            "A value is trying to be set on a copy of a slice from a DataFrame\n",
            "\n",
            "See the caveats in the documentation: https://pandas.pydata.org/pandas-docs/stable/user_guide/indexing.html#returning-a-view-versus-a-copy\n",
            "  df[i-1:i].iloc[:, m] = np.nan\n"
          ]
        },
        {
          "output_type": "stream",
          "name": "stdout",
          "text": [
            "13/13 [==============================] - 4s 304ms/step\n"
          ]
        },
        {
          "output_type": "stream",
          "name": "stderr",
          "text": [
            "<ipython-input-28-0ba02c70f7e9>:5: FutureWarning: The frame.append method is deprecated and will be removed from pandas in a future version. Use pandas.concat instead.\n",
            "  estimations = estimations.append(final_predictions)\n",
            "<ipython-input-6-8c634d9f69b6>:32: SettingWithCopyWarning: \n",
            "A value is trying to be set on a copy of a slice from a DataFrame.\n",
            "Try using .loc[row_indexer,col_indexer] = value instead\n",
            "\n",
            "See the caveats in the documentation: https://pandas.pydata.org/pandas-docs/stable/user_guide/indexing.html#returning-a-view-versus-a-copy\n",
            "  df_un[column_name] = df_un['x'] + noise\n",
            "<ipython-input-6-8c634d9f69b6>:32: SettingWithCopyWarning: \n",
            "A value is trying to be set on a copy of a slice from a DataFrame.\n",
            "Try using .loc[row_indexer,col_indexer] = value instead\n",
            "\n",
            "See the caveats in the documentation: https://pandas.pydata.org/pandas-docs/stable/user_guide/indexing.html#returning-a-view-versus-a-copy\n",
            "  df_un[column_name] = df_un['x'] + noise\n",
            "<ipython-input-25-6b857bf310c0>:23: SettingWithCopyWarning: \n",
            "A value is trying to be set on a copy of a slice from a DataFrame\n",
            "\n",
            "See the caveats in the documentation: https://pandas.pydata.org/pandas-docs/stable/user_guide/indexing.html#returning-a-view-versus-a-copy\n",
            "  df[i-1:i].iloc[:, m] = np.nan\n"
          ]
        },
        {
          "output_type": "stream",
          "name": "stdout",
          "text": [
            "13/13 [==============================] - 4s 284ms/step\n"
          ]
        },
        {
          "output_type": "stream",
          "name": "stderr",
          "text": [
            "<ipython-input-28-0ba02c70f7e9>:5: FutureWarning: The frame.append method is deprecated and will be removed from pandas in a future version. Use pandas.concat instead.\n",
            "  estimations = estimations.append(final_predictions)\n",
            "<ipython-input-6-8c634d9f69b6>:32: SettingWithCopyWarning: \n",
            "A value is trying to be set on a copy of a slice from a DataFrame.\n",
            "Try using .loc[row_indexer,col_indexer] = value instead\n",
            "\n",
            "See the caveats in the documentation: https://pandas.pydata.org/pandas-docs/stable/user_guide/indexing.html#returning-a-view-versus-a-copy\n",
            "  df_un[column_name] = df_un['x'] + noise\n",
            "<ipython-input-6-8c634d9f69b6>:32: SettingWithCopyWarning: \n",
            "A value is trying to be set on a copy of a slice from a DataFrame.\n",
            "Try using .loc[row_indexer,col_indexer] = value instead\n",
            "\n",
            "See the caveats in the documentation: https://pandas.pydata.org/pandas-docs/stable/user_guide/indexing.html#returning-a-view-versus-a-copy\n",
            "  df_un[column_name] = df_un['x'] + noise\n",
            "<ipython-input-25-6b857bf310c0>:23: SettingWithCopyWarning: \n",
            "A value is trying to be set on a copy of a slice from a DataFrame\n",
            "\n",
            "See the caveats in the documentation: https://pandas.pydata.org/pandas-docs/stable/user_guide/indexing.html#returning-a-view-versus-a-copy\n",
            "  df[i-1:i].iloc[:, m] = np.nan\n"
          ]
        },
        {
          "output_type": "stream",
          "name": "stdout",
          "text": [
            "13/13 [==============================] - 6s 463ms/step\n"
          ]
        },
        {
          "output_type": "stream",
          "name": "stderr",
          "text": [
            "<ipython-input-28-0ba02c70f7e9>:5: FutureWarning: The frame.append method is deprecated and will be removed from pandas in a future version. Use pandas.concat instead.\n",
            "  estimations = estimations.append(final_predictions)\n"
          ]
        }
      ]
    },
    {
      "cell_type": "code",
      "source": [
        "predictions = estimations.transpose()"
      ],
      "metadata": {
        "id": "GcAgPLGW7w8t"
      },
      "execution_count": 29,
      "outputs": []
    },
    {
      "cell_type": "code",
      "source": [
        "predictions.shape"
      ],
      "metadata": {
        "colab": {
          "base_uri": "https://localhost:8080/"
        },
        "id": "wARSTg510Aks",
        "outputId": "3911c5c3-612d-4d7c-e2d4-7ad71731c29d"
      },
      "execution_count": 30,
      "outputs": [
        {
          "output_type": "execute_result",
          "data": {
            "text/plain": [
              "(405, 9)"
            ]
          },
          "metadata": {},
          "execution_count": 30
        }
      ]
    },
    {
      "cell_type": "code",
      "source": [
        "plt.plot(range(0, len(predictions.iloc[:,0])), predictions.iloc[:,0], label=column)\n",
        "# Add labels and legend\n",
        "plt.xlabel('time')\n",
        "plt.ylabel('x')\n",
        "# plt.legend()\n",
        "\n",
        "# Show the plot\n",
        "plt.show()"
      ],
      "metadata": {
        "colab": {
          "base_uri": "https://localhost:8080/",
          "height": 449
        },
        "id": "p2rnwsBhAcJa",
        "outputId": "af921ae2-89ca-435b-d3d0-714ff4bc4c9e"
      },
      "execution_count": 31,
      "outputs": [
        {
          "output_type": "display_data",
          "data": {
            "text/plain": [
              "<Figure size 640x480 with 1 Axes>"
            ],
            "image/png": "[encoded data removed]"
          },
          "metadata": {}
        }
      ]
    },
    {
      "cell_type": "code",
      "source": [
        "# Plot each noise column\n",
        "for column in predictions.columns:\n",
        "  # color_values = df['vehicle_id'].map({'red': 'r', 'green': 'g', 'blue': 'b'})\n",
        "  # plt.figure()\n",
        "  plt.plot(range(0, len(predictions)), predictions[column], label=column)\n",
        "  # Add labels and legend\n",
        "\n",
        "plt.xlabel('time')\n",
        "plt.ylabel('x')\n",
        "# plt.legend()\n",
        "\n",
        "# Show the plot\n",
        "plt.show()\n",
        ""
      ],
      "metadata": {
        "colab": {
          "base_uri": "https://localhost:8080/",
          "height": 449
        },
        "id": "VcZPJrZW1upY",
        "outputId": "9658a873-54ac-49aa-a155-0157ed8d0c6c"
      },
      "execution_count": 32,
      "outputs": [
        {
          "output_type": "display_data",
          "data": {
            "text/plain": [
              "<Figure size 640x480 with 1 Axes>"
            ],
            "image/png": "[encoded data removed]"
          },
          "metadata": {}
        }
      ]
    },
    {
      "cell_type": "markdown",
      "source": [
        "#### Generate predicted paths after missing value imputation and fspm for multiple paths, create 100 estimations for each path"
      ],
      "metadata": {
        "id": "yIV8QnXgFntj"
      }
    },
    {
      "cell_type": "code",
      "source": [
        "ids = data['vehicle_id'].unique()\n"
      ],
      "metadata": {
        "id": "wmzwxsMINtbx"
      },
      "execution_count": 48,
      "outputs": []
    },
    {
      "cell_type": "code",
      "source": [
        "ids"
      ],
      "metadata": {
        "colab": {
          "base_uri": "https://localhost:8080/"
        },
        "id": "bDmOvZhyOnej",
        "outputId": "36337095-6d5b-4191-98b1-f71e17aaaa85"
      },
      "execution_count": 49,
      "outputs": [
        {
          "output_type": "execute_result",
          "data": {
            "text/plain": [
              "array([  0,   2,   3,   4,   6,   7,   8,   9,  10,  11,  12,  13,  14,\n",
              "        15,  16,  17,  18,  19,  20,  21,  22,  23,  24,  26,  27,  28,\n",
              "        29,  30,  31,  32,  33,  34,  35,  36,  37,  38,  39,  40,  41,\n",
              "        42,  43,  44,  45,  47,  48,  49,  50,  51,  52,  53,  54,  55,\n",
              "        56,  57,  58,  59,  60,  61,  62,  63,  64,  65,  66,  67,  68,\n",
              "        69,  71,  72,  70,  73,  74,  75,  76,  77,  79,  80,  81,  82,\n",
              "        83,  84,  85,  86,  87,  88,  89,  90,  91,  94,  95,  96,  97,\n",
              "        98,  99, 100, 101, 102, 103, 104, 105, 106, 107, 108, 109, 110,\n",
              "       111, 112, 113, 114, 115, 116, 117, 118, 119, 120, 121, 123, 124,\n",
              "       125, 126, 127, 128, 129, 130, 131, 132, 133, 134, 135, 136, 137,\n",
              "       138, 139, 140, 141, 142, 143, 144, 145, 146, 147, 148, 149, 150,\n",
              "       151, 153, 152, 154, 155, 156, 157, 158, 159, 160, 161, 162, 163,\n",
              "       164, 165, 166, 167, 168, 169, 170, 171, 172, 173, 174, 175, 176,\n",
              "       177, 178, 179, 180, 181, 182, 183, 185, 186, 187, 188, 190, 191,\n",
              "       192, 193, 194, 195, 196, 197, 198, 199])"
            ]
          },
          "metadata": {},
          "execution_count": 49
        }
      ]
    },
    {
      "cell_type": "code",
      "source": [
        "df_x0"
      ],
      "metadata": {
        "colab": {
          "base_uri": "https://localhost:8080/",
          "height": 423
        },
        "id": "5AA3QnvkP5zo",
        "outputId": "f6ba9587-2726-47ad-c709-ffe921e81a78"
      },
      "execution_count": 58,
      "outputs": [
        {
          "output_type": "execute_result",
          "data": {
            "text/plain": [
              "        time  vehicle_id        x        y  speed    pos\n",
              "5        2.0           2  2905.27  3173.40   0.00   5.10\n",
              "7        2.5           2  2905.76  3173.66   1.10   5.65\n",
              "9        3.0           2  2906.69  3174.15   2.11   6.70\n",
              "12       3.5           2  2908.00  3174.85   2.97   8.19\n",
              "15       4.0           2  2909.73  3175.77   3.92  10.15\n",
              "...      ...         ...      ...      ...    ...    ...\n",
              "46576  228.0           2  4665.08  4420.28  12.85  42.51\n",
              "46743  228.5           2  4668.90  4425.33  12.67  48.84\n",
              "46910  229.0           2  4672.78  4430.46  12.86  55.27\n",
              "47077  229.5           2  4676.65  4435.58  12.85  61.70\n",
              "47242  230.0           2  4680.51  4440.68  12.79  68.09\n",
              "\n",
              "[457 rows x 6 columns]"
            ],
            "text/html": [
              "\n",
              "\n",
              "  <div id=\"df-6617dc36-8902-4b72-bb34-5b4e654fd6fe\">\n",
              "    <div class=\"colab-df-container\">\n",
              "      <div>\n",
              "<style scoped>\n",
              "    .dataframe tbody tr th:only-of-type {\n",
              "        vertical-align: middle;\n",
              "    }\n",
              "\n",
              "    .dataframe tbody tr th {\n",
              "        vertical-align: top;\n",
              "    }\n",
              "\n",
              "    .dataframe thead th {\n",
              "        text-align: right;\n",
              "    }\n",
              "</style>\n",
              "<table border=\"1\" class=\"dataframe\">\n",
              "  <thead>\n",
              "    <tr style=\"text-align: right;\">\n",
              "      <th></th>\n",
              "      <th>time</th>\n",
              "      <th>vehicle_id</th>\n",
              "      <th>x</th>\n",
              "      <th>y</th>\n",
              "      <th>speed</th>\n",
              "      <th>pos</th>\n",
              "    </tr>\n",
              "  </thead>\n",
              "  <tbody>\n",
              "    <tr>\n",
              "      <th>5</th>\n",
              "      <td>2.0</td>\n",
              "      <td>2</td>\n",
              "      <td>2905.27</td>\n",
              "      <td>3173.40</td>\n",
              "      <td>0.00</td>\n",
              "      <td>5.10</td>\n",
              "    </tr>\n",
              "    <tr>\n",
              "      <th>7</th>\n",
              "      <td>2.5</td>\n",
              "      <td>2</td>\n",
              "      <td>2905.76</td>\n",
              "      <td>3173.66</td>\n",
              "      <td>1.10</td>\n",
              "      <td>5.65</td>\n",
              "    </tr>\n",
              "    <tr>\n",
              "      <th>9</th>\n",
              "      <td>3.0</td>\n",
              "      <td>2</td>\n",
              "      <td>2906.69</td>\n",
              "      <td>3174.15</td>\n",
              "      <td>2.11</td>\n",
              "      <td>6.70</td>\n",
              "    </tr>\n",
              "    <tr>\n",
              "      <th>12</th>\n",
              "      <td>3.5</td>\n",
              "      <td>2</td>\n",
              "      <td>2908.00</td>\n",
              "      <td>3174.85</td>\n",
              "      <td>2.97</td>\n",
              "      <td>8.19</td>\n",
              "    </tr>\n",
              "    <tr>\n",
              "      <th>15</th>\n",
              "      <td>4.0</td>\n",
              "      <td>2</td>\n",
              "      <td>2909.73</td>\n",
              "      <td>3175.77</td>\n",
              "      <td>3.92</td>\n",
              "      <td>10.15</td>\n",
              "    </tr>\n",
              "    <tr>\n",
              "      <th>...</th>\n",
              "      <td>...</td>\n",
              "      <td>...</td>\n",
              "      <td>...</td>\n",
              "      <td>...</td>\n",
              "      <td>...</td>\n",
              "      <td>...</td>\n",
              "    </tr>\n",
              "    <tr>\n",
              "      <th>46576</th>\n",
              "      <td>228.0</td>\n",
              "      <td>2</td>\n",
              "      <td>4665.08</td>\n",
              "      <td>4420.28</td>\n",
              "      <td>12.85</td>\n",
              "      <td>42.51</td>\n",
              "    </tr>\n",
              "    <tr>\n",
              "      <th>46743</th>\n",
              "      <td>228.5</td>\n",
              "      <td>2</td>\n",
              "      <td>4668.90</td>\n",
              "      <td>4425.33</td>\n",
              "      <td>12.67</td>\n",
              "      <td>48.84</td>\n",
              "    </tr>\n",
              "    <tr>\n",
              "      <th>46910</th>\n",
              "      <td>229.0</td>\n",
              "      <td>2</td>\n",
              "      <td>4672.78</td>\n",
              "      <td>4430.46</td>\n",
              "      <td>12.86</td>\n",
              "      <td>55.27</td>\n",
              "    </tr>\n",
              "    <tr>\n",
              "      <th>47077</th>\n",
              "      <td>229.5</td>\n",
              "      <td>2</td>\n",
              "      <td>4676.65</td>\n",
              "      <td>4435.58</td>\n",
              "      <td>12.85</td>\n",
              "      <td>61.70</td>\n",
              "    </tr>\n",
              "    <tr>\n",
              "      <th>47242</th>\n",
              "      <td>230.0</td>\n",
              "      <td>2</td>\n",
              "      <td>4680.51</td>\n",
              "      <td>4440.68</td>\n",
              "      <td>12.79</td>\n",
              "      <td>68.09</td>\n",
              "    </tr>\n",
              "  </tbody>\n",
              "</table>\n",
              "<p>457 rows × 6 columns</p>\n",
              "</div>\n",
              "      <button class=\"colab-df-convert\" onclick=\"convertToInteractive('df-6617dc36-8902-4b72-bb34-5b4e654fd6fe')\"\n",
              "              title=\"Convert this dataframe to an interactive table.\"\n",
              "              style=\"display:none;\">\n",
              "\n",
              "  <svg xmlns=\"http://www.w3.org/2000/svg\" height=\"24px\"viewBox=\"0 0 24 24\"\n",
              "       width=\"24px\">\n",
              "    <path d=\"M0 0h24v24H0V0z\" fill=\"none\"/>\n",
              "    <path d=\"M18.56 5.44l.94 2.06.94-2.06 2.06-.94-2.06-.94-.94-2.06-.94 2.06-2.06.94zm-11 1L8.5 8.5l.94-2.06 2.06-.94-2.06-.94L8.5 2.5l-.94 2.06-2.06.94zm10 10l.94 2.06.94-2.06 2.06-.94-2.06-.94-.94-2.06-.94 2.06-2.06.94z\"/><path d=\"M17.41 7.96l-1.37-1.37c-.4-.4-.92-.59-1.43-.59-.52 0-1.04.2-1.43.59L10.3 9.45l-7.72 7.72c-.78.78-.78 2.05 0 2.83L4 21.41c.39.39.9.59 1.41.59.51 0 1.02-.2 1.41-.59l7.78-7.78 2.81-2.81c.8-.78.8-2.07 0-2.86zM5.41 20L4 18.59l7.72-7.72 1.47 1.35L5.41 20z\"/>\n",
              "  </svg>\n",
              "      </button>\n",
              "\n",
              "\n",
              "\n",
              "    <div id=\"df-242e478c-4745-46ce-a956-03b44055dbbb\">\n",
              "      <button class=\"colab-df-quickchart\" onclick=\"quickchart('df-242e478c-4745-46ce-a956-03b44055dbbb')\"\n",
              "              title=\"Suggest charts.\"\n",
              "              style=\"display:none;\">\n",
              "\n",
              "<svg xmlns=\"http://www.w3.org/2000/svg\" height=\"24px\"viewBox=\"0 0 24 24\"\n",
              "     width=\"24px\">\n",
              "    <g>\n",
              "        <path d=\"M19 3H5c-1.1 0-2 .9-2 2v14c0 1.1.9 2 2 2h14c1.1 0 2-.9 2-2V5c0-1.1-.9-2-2-2zM9 17H7v-7h2v7zm4 0h-2V7h2v10zm4 0h-2v-4h2v4z\"/>\n",
              "    </g>\n",
              "</svg>\n",
              "      </button>\n",
              "    </div>\n",
              "\n",
              "<style>\n",
              "  .colab-df-quickchart {\n",
              "    background-color: #E8F0FE;\n",
              "    border: none;\n",
              "    border-radius: 50%;\n",
              "    cursor: pointer;\n",
              "    display: none;\n",
              "    fill: #1967D2;\n",
              "    height: 32px;\n",
              "    padding: 0 0 0 0;\n",
              "    width: 32px;\n",
              "  }\n",
              "\n",
              "  .colab-df-quickchart:hover {\n",
              "    background-color: #E2EBFA;\n",
              "    box-shadow: 0px 1px 2px rgba(60, 64, 67, 0.3), 0px 1px 3px 1px rgba(60, 64, 67, 0.15);\n",
              "    fill: #174EA6;\n",
              "  }\n",
              "\n",
              "  [theme=dark] .colab-df-quickchart {\n",
              "    background-color: #3B4455;\n",
              "    fill: #D2E3FC;\n",
              "  }\n",
              "\n",
              "  [theme=dark] .colab-df-quickchart:hover {\n",
              "    background-color: #434B5C;\n",
              "    box-shadow: 0px 1px 3px 1px rgba(0, 0, 0, 0.15);\n",
              "    filter: drop-shadow(0px 1px 2px rgba(0, 0, 0, 0.3));\n",
              "    fill: #FFFFFF;\n",
              "  }\n",
              "</style>\n",
              "\n",
              "    <script>\n",
              "      async function quickchart(key) {\n",
              "        const containerElement = document.querySelector('#' + key);\n",
              "        const charts = await google.colab.kernel.invokeFunction(\n",
              "            'suggestCharts', [key], {});\n",
              "      }\n",
              "    </script>\n",
              "\n",
              "      <script>\n",
              "\n",
              "function displayQuickchartButton(domScope) {\n",
              "  let quickchartButtonEl =\n",
              "    domScope.querySelector('#df-242e478c-4745-46ce-a956-03b44055dbbb button.colab-df-quickchart');\n",
              "  quickchartButtonEl.style.display =\n",
              "    google.colab.kernel.accessAllowed ? 'block' : 'none';\n",
              "}\n",
              "\n",
              "        displayQuickchartButton(document);\n",
              "      </script>\n",
              "      <style>\n",
              "    .colab-df-container {\n",
              "      display:flex;\n",
              "      flex-wrap:wrap;\n",
              "      gap: 12px;\n",
              "    }\n",
              "\n",
              "    .colab-df-convert {\n",
              "      background-color: #E8F0FE;\n",
              "      border: none;\n",
              "      border-radius: 50%;\n",
              "      cursor: pointer;\n",
              "      display: none;\n",
              "      fill: #1967D2;\n",
              "      height: 32px;\n",
              "      padding: 0 0 0 0;\n",
              "      width: 32px;\n",
              "    }\n",
              "\n",
              "    .colab-df-convert:hover {\n",
              "      background-color: #E2EBFA;\n",
              "      box-shadow: 0px 1px 2px rgba(60, 64, 67, 0.3), 0px 1px 3px 1px rgba(60, 64, 67, 0.15);\n",
              "      fill: #174EA6;\n",
              "    }\n",
              "\n",
              "    [theme=dark] .colab-df-convert {\n",
              "      background-color: #3B4455;\n",
              "      fill: #D2E3FC;\n",
              "    }\n",
              "\n",
              "    [theme=dark] .colab-df-convert:hover {\n",
              "      background-color: #434B5C;\n",
              "      box-shadow: 0px 1px 3px 1px rgba(0, 0, 0, 0.15);\n",
              "      filter: drop-shadow(0px 1px 2px rgba(0, 0, 0, 0.3));\n",
              "      fill: #FFFFFF;\n",
              "    }\n",
              "  </style>\n",
              "\n",
              "      <script>\n",
              "        const buttonEl =\n",
              "          document.querySelector('#df-6617dc36-8902-4b72-bb34-5b4e654fd6fe button.colab-df-convert');\n",
              "        buttonEl.style.display =\n",
              "          google.colab.kernel.accessAllowed ? 'block' : 'none';\n",
              "\n",
              "        async function convertToInteractive(key) {\n",
              "          const element = document.querySelector('#df-6617dc36-8902-4b72-bb34-5b4e654fd6fe');\n",
              "          const dataTable =\n",
              "            await google.colab.kernel.invokeFunction('convertToInteractive',\n",
              "                                                     [key], {});\n",
              "          if (!dataTable) return;\n",
              "\n",
              "          const docLinkHtml = 'Like what you see? Visit the ' +\n",
              "            '<a target=\"_blank\" href=https://colab.research.google.com/notebooks/data_table.ipynb>data table notebook</a>'\n",
              "            + ' to learn more about interactive tables.';\n",
              "          element.innerHTML = '';\n",
              "          dataTable['output_type'] = 'display_data';\n",
              "          await google.colab.output.renderOutput(dataTable, element);\n",
              "          const docLink = document.createElement('div');\n",
              "          docLink.innerHTML = docLinkHtml;\n",
              "          element.appendChild(docLink);\n",
              "        }\n",
              "      </script>\n",
              "    </div>\n",
              "  </div>\n"
            ]
          },
          "metadata": {},
          "execution_count": 58
        }
      ]
    },
    {
      "cell_type": "code",
      "source": [
        "df_un, df_unattacked, df_x = create_sensor_data(num_attacked=20, data=df_x0)"
      ],
      "metadata": {
        "id": "FuM8GgKzQIXP"
      },
      "execution_count": null,
      "outputs": []
    },
    {
      "cell_type": "code",
      "source": [
        "for z in ids[1:]:\n",
        "  folder_path = '/content/drive/MyDrive/Rick- Anomaly Detection/Data/SUMO/Results'\n",
        "  os.makedirs(f'/content/drive/MyDrive/Rick- Anomaly Detection/Data/SUMO/Results/{z}', exist_ok=True)\n",
        "  df_x0 = df[df['vehicle_id'] == z]\n",
        "\n",
        "  monte_carlo_runs = 10\n",
        "  estimations = pd.DataFrame()\n",
        "\n",
        "  for i in range(1, monte_carlo_runs):\n",
        "    try:\n",
        "      df_un, df_unattacked, df_x = create_sensor_data(num_attacked=20, data=df_x0)\n",
        "    except:\n",
        "      pass\n",
        "    df_after_missing_value_imp, final_predictions = fspm(data = df_x)\n",
        "\n",
        "    estimations = estimations.append(final_predictions)\n",
        "\n",
        "\n",
        "  for column in predictions.columns:\n",
        "    # color_values = df['vehicle_id'].map({'red': 'r', 'green': 'g', 'blue': 'b'})\n",
        "    # plt.figure()\n",
        "    plt.plot(range(0, len(predictions)), predictions[column], label=column)\n",
        "    # Add labels and legend\n",
        "\n",
        "  # plt.plot(range(0, len(df_un['x'])), df_un['x'])\n",
        "  plt.xlabel('time')\n",
        "  plt.ylabel('x')\n",
        "  # plt.legend()\n",
        "\n",
        "  # Show the plot\n",
        "  plt.savefig(f'/content/drive/MyDrive/Rick- Anomaly Detection/Data/SUMO/Results/{z}_path_pred_est')\n",
        "  plt.figure()\n",
        "\n",
        "  for column in df_after_missing_value_imp.columns:\n",
        "    # color_values = df['vehicle_id'].map({'red': 'r', 'green': 'g', 'blue': 'b'})\n",
        "    # plt.figure()\n",
        "    plt.plot(range(0, len(df_after_missing_value_imp)), df_after_missing_value_imp[column], label=column)\n",
        "    # Add labels and legend\n",
        "\n",
        "  plt.xlabel('time')\n",
        "  plt.ylabel('x')\n",
        "  # plt.legend()\n",
        "  plt.savefig(f'/content/drive/MyDrive/Rick- Anomaly Detection/Data/SUMO/Results/{z}_miss_val_imp')\n",
        "  plt.figure()\n",
        "\n",
        "\n"
      ],
      "metadata": {
        "colab": {
          "base_uri": "https://localhost:8080/"
        },
        "id": "SyunueSM8wdj",
        "outputId": "7f6e719a-b02b-4c45-ad1e-1fdedd5bb88e"
      },
      "execution_count": null,
      "outputs": [
        {
          "metadata": {
            "tags": null
          },
          "name": "stderr",
          "output_type": "stream",
          "text": [
            "<ipython-input-186-53997450bf65>:32: SettingWithCopyWarning: \n",
            "A value is trying to be set on a copy of a slice from a DataFrame.\n",
            "Try using .loc[row_indexer,col_indexer] = value instead\n",
            "\n",
            "See the caveats in the documentation: https://pandas.pydata.org/pandas-docs/stable/user_guide/indexing.html#returning-a-view-versus-a-copy\n",
            "  df_un[column_name] = df_un['x'] + noise\n",
            "<ipython-input-186-53997450bf65>:32: SettingWithCopyWarning: \n",
            "A value is trying to be set on a copy of a slice from a DataFrame.\n",
            "Try using .loc[row_indexer,col_indexer] = value instead\n",
            "\n",
            "See the caveats in the documentation: https://pandas.pydata.org/pandas-docs/stable/user_guide/indexing.html#returning-a-view-versus-a-copy\n",
            "  df_un[column_name] = df_un['x'] + noise\n",
            "<ipython-input-25-6b857bf310c0>:23: SettingWithCopyWarning: \n",
            "A value is trying to be set on a copy of a slice from a DataFrame\n",
            "\n",
            "See the caveats in the documentation: https://pandas.pydata.org/pandas-docs/stable/user_guide/indexing.html#returning-a-view-versus-a-copy\n",
            "  df[i-1:i].iloc[:, m] = np.nan\n"
          ]
        },
        {
          "metadata": {
            "tags": null
          },
          "name": "stdout",
          "output_type": "stream",
          "text": [
            "14/14 [==============================] - 10s 668ms/step\n"
          ]
        },
        {
          "metadata": {
            "tags": null
          },
          "name": "stderr",
          "output_type": "stream",
          "text": [
            "<ipython-input-190-a058d8cb0168>:16: FutureWarning: The frame.append method is deprecated and will be removed from pandas in a future version. Use pandas.concat instead.\n",
            "  estimations = estimations.append(final_predictions)\n",
            "<ipython-input-186-53997450bf65>:32: SettingWithCopyWarning: \n",
            "A value is trying to be set on a copy of a slice from a DataFrame.\n",
            "Try using .loc[row_indexer,col_indexer] = value instead\n",
            "\n",
            "See the caveats in the documentation: https://pandas.pydata.org/pandas-docs/stable/user_guide/indexing.html#returning-a-view-versus-a-copy\n",
            "  df_un[column_name] = df_un['x'] + noise\n",
            "<ipython-input-186-53997450bf65>:32: SettingWithCopyWarning: \n",
            "A value is trying to be set on a copy of a slice from a DataFrame.\n",
            "Try using .loc[row_indexer,col_indexer] = value instead\n",
            "\n",
            "See the caveats in the documentation: https://pandas.pydata.org/pandas-docs/stable/user_guide/indexing.html#returning-a-view-versus-a-copy\n",
            "  df_un[column_name] = df_un['x'] + noise\n",
            "<ipython-input-25-6b857bf310c0>:23: SettingWithCopyWarning: \n",
            "A value is trying to be set on a copy of a slice from a DataFrame\n",
            "\n",
            "See the caveats in the documentation: https://pandas.pydata.org/pandas-docs/stable/user_guide/indexing.html#returning-a-view-versus-a-copy\n",
            "  df[i-1:i].iloc[:, m] = np.nan\n"
          ]
        },
        {
          "metadata": {
            "tags": null
          },
          "name": "stdout",
          "output_type": "stream",
          "text": [
            "14/14 [==============================] - 4s 292ms/step\n"
          ]
        },
        {
          "metadata": {
            "tags": null
          },
          "name": "stderr",
          "output_type": "stream",
          "text": [
            "<ipython-input-190-a058d8cb0168>:16: FutureWarning: The frame.append method is deprecated and will be removed from pandas in a future version. Use pandas.concat instead.\n",
            "  estimations = estimations.append(final_predictions)\n",
            "<ipython-input-186-53997450bf65>:32: SettingWithCopyWarning: \n",
            "A value is trying to be set on a copy of a slice from a DataFrame.\n",
            "Try using .loc[row_indexer,col_indexer] = value instead\n",
            "\n",
            "See the caveats in the documentation: https://pandas.pydata.org/pandas-docs/stable/user_guide/indexing.html#returning-a-view-versus-a-copy\n",
            "  df_un[column_name] = df_un['x'] + noise\n",
            "<ipython-input-186-53997450bf65>:32: SettingWithCopyWarning: \n",
            "A value is trying to be set on a copy of a slice from a DataFrame.\n",
            "Try using .loc[row_indexer,col_indexer] = value instead\n",
            "\n",
            "See the caveats in the documentation: https://pandas.pydata.org/pandas-docs/stable/user_guide/indexing.html#returning-a-view-versus-a-copy\n",
            "  df_un[column_name] = df_un['x'] + noise\n",
            "<ipython-input-25-6b857bf310c0>:23: SettingWithCopyWarning: \n",
            "A value is trying to be set on a copy of a slice from a DataFrame\n",
            "\n",
            "See the caveats in the documentation: https://pandas.pydata.org/pandas-docs/stable/user_guide/indexing.html#returning-a-view-versus-a-copy\n",
            "  df[i-1:i].iloc[:, m] = np.nan\n"
          ]
        },
        {
          "metadata": {
            "tags": null
          },
          "name": "stdout",
          "output_type": "stream",
          "text": [
            "14/14 [==============================] - 4s 275ms/step\n"
          ]
        },
        {
          "metadata": {
            "tags": null
          },
          "name": "stderr",
          "output_type": "stream",
          "text": [
            "<ipython-input-190-a058d8cb0168>:16: FutureWarning: The frame.append method is deprecated and will be removed from pandas in a future version. Use pandas.concat instead.\n",
            "  estimations = estimations.append(final_predictions)\n",
            "<ipython-input-186-53997450bf65>:32: SettingWithCopyWarning: \n",
            "A value is trying to be set on a copy of a slice from a DataFrame.\n",
            "Try using .loc[row_indexer,col_indexer] = value instead\n",
            "\n",
            "See the caveats in the documentation: https://pandas.pydata.org/pandas-docs/stable/user_guide/indexing.html#returning-a-view-versus-a-copy\n",
            "  df_un[column_name] = df_un['x'] + noise\n",
            "<ipython-input-186-53997450bf65>:32: SettingWithCopyWarning: \n",
            "A value is trying to be set on a copy of a slice from a DataFrame.\n",
            "Try using .loc[row_indexer,col_indexer] = value instead\n",
            "\n",
            "See the caveats in the documentation: https://pandas.pydata.org/pandas-docs/stable/user_guide/indexing.html#returning-a-view-versus-a-copy\n",
            "  df_un[column_name] = df_un['x'] + noise\n",
            "<ipython-input-25-6b857bf310c0>:23: SettingWithCopyWarning: \n",
            "A value is trying to be set on a copy of a slice from a DataFrame\n",
            "\n",
            "See the caveats in the documentation: https://pandas.pydata.org/pandas-docs/stable/user_guide/indexing.html#returning-a-view-versus-a-copy\n",
            "  df[i-1:i].iloc[:, m] = np.nan\n"
          ]
        },
        {
          "metadata": {
            "tags": null
          },
          "name": "stdout",
          "output_type": "stream",
          "text": [
            "14/14 [==============================] - 6s 436ms/step\n"
          ]
        },
        {
          "metadata": {
            "tags": null
          },
          "name": "stderr",
          "output_type": "stream",
          "text": [
            "<ipython-input-190-a058d8cb0168>:16: FutureWarning: The frame.append method is deprecated and will be removed from pandas in a future version. Use pandas.concat instead.\n",
            "  estimations = estimations.append(final_predictions)\n",
            "<ipython-input-186-53997450bf65>:32: SettingWithCopyWarning: \n",
            "A value is trying to be set on a copy of a slice from a DataFrame.\n",
            "Try using .loc[row_indexer,col_indexer] = value instead\n",
            "\n",
            "See the caveats in the documentation: https://pandas.pydata.org/pandas-docs/stable/user_guide/indexing.html#returning-a-view-versus-a-copy\n",
            "  df_un[column_name] = df_un['x'] + noise\n",
            "<ipython-input-186-53997450bf65>:32: SettingWithCopyWarning: \n",
            "A value is trying to be set on a copy of a slice from a DataFrame.\n",
            "Try using .loc[row_indexer,col_indexer] = value instead\n",
            "\n",
            "See the caveats in the documentation: https://pandas.pydata.org/pandas-docs/stable/user_guide/indexing.html#returning-a-view-versus-a-copy\n",
            "  df_un[column_name] = df_un['x'] + noise\n",
            "<ipython-input-25-6b857bf310c0>:23: SettingWithCopyWarning: \n",
            "A value is trying to be set on a copy of a slice from a DataFrame\n",
            "\n",
            "See the caveats in the documentation: https://pandas.pydata.org/pandas-docs/stable/user_guide/indexing.html#returning-a-view-versus-a-copy\n",
            "  df[i-1:i].iloc[:, m] = np.nan\n"
          ]
        },
        {
          "metadata": {
            "tags": null
          },
          "name": "stdout",
          "output_type": "stream",
          "text": [
            "14/14 [==============================] - 7s 527ms/step\n"
          ]
        },
        {
          "metadata": {
            "tags": null
          },
          "name": "stderr",
          "output_type": "stream",
          "text": [
            "<ipython-input-190-a058d8cb0168>:16: FutureWarning: The frame.append method is deprecated and will be removed from pandas in a future version. Use pandas.concat instead.\n",
            "  estimations = estimations.append(final_predictions)\n",
            "<ipython-input-186-53997450bf65>:32: SettingWithCopyWarning: \n",
            "A value is trying to be set on a copy of a slice from a DataFrame.\n",
            "Try using .loc[row_indexer,col_indexer] = value instead\n",
            "\n",
            "See the caveats in the documentation: https://pandas.pydata.org/pandas-docs/stable/user_guide/indexing.html#returning-a-view-versus-a-copy\n",
            "  df_un[column_name] = df_un['x'] + noise\n",
            "<ipython-input-186-53997450bf65>:32: SettingWithCopyWarning: \n",
            "A value is trying to be set on a copy of a slice from a DataFrame.\n",
            "Try using .loc[row_indexer,col_indexer] = value instead\n",
            "\n",
            "See the caveats in the documentation: https://pandas.pydata.org/pandas-docs/stable/user_guide/indexing.html#returning-a-view-versus-a-copy\n",
            "  df_un[column_name] = df_un['x'] + noise\n",
            "<ipython-input-25-6b857bf310c0>:23: SettingWithCopyWarning: \n",
            "A value is trying to be set on a copy of a slice from a DataFrame\n",
            "\n",
            "See the caveats in the documentation: https://pandas.pydata.org/pandas-docs/stable/user_guide/indexing.html#returning-a-view-versus-a-copy\n",
            "  df[i-1:i].iloc[:, m] = np.nan\n"
          ]
        },
        {
          "metadata": {
            "tags": null
          },
          "name": "stdout",
          "output_type": "stream",
          "text": [
            "14/14 [==============================] - 4s 273ms/step\n"
          ]
        },
        {
          "metadata": {
            "tags": null
          },
          "name": "stderr",
          "output_type": "stream",
          "text": [
            "<ipython-input-190-a058d8cb0168>:16: FutureWarning: The frame.append method is deprecated and will be removed from pandas in a future version. Use pandas.concat instead.\n",
            "  estimations = estimations.append(final_predictions)\n",
            "<ipython-input-186-53997450bf65>:32: SettingWithCopyWarning: \n",
            "A value is trying to be set on a copy of a slice from a DataFrame.\n",
            "Try using .loc[row_indexer,col_indexer] = value instead\n",
            "\n",
            "See the caveats in the documentation: https://pandas.pydata.org/pandas-docs/stable/user_guide/indexing.html#returning-a-view-versus-a-copy\n",
            "  df_un[column_name] = df_un['x'] + noise\n",
            "<ipython-input-186-53997450bf65>:32: SettingWithCopyWarning: \n",
            "A value is trying to be set on a copy of a slice from a DataFrame.\n",
            "Try using .loc[row_indexer,col_indexer] = value instead\n",
            "\n",
            "See the caveats in the documentation: https://pandas.pydata.org/pandas-docs/stable/user_guide/indexing.html#returning-a-view-versus-a-copy\n",
            "  df_un[column_name] = df_un['x'] + noise\n",
            "<ipython-input-25-6b857bf310c0>:23: SettingWithCopyWarning: \n",
            "A value is trying to be set on a copy of a slice from a DataFrame\n",
            "\n",
            "See the caveats in the documentation: https://pandas.pydata.org/pandas-docs/stable/user_guide/indexing.html#returning-a-view-versus-a-copy\n",
            "  df[i-1:i].iloc[:, m] = np.nan\n"
          ]
        },
        {
          "metadata": {
            "tags": null
          },
          "name": "stdout",
          "output_type": "stream",
          "text": [
            "14/14 [==============================] - 5s 315ms/step\n"
          ]
        },
        {
          "metadata": {
            "tags": null
          },
          "name": "stderr",
          "output_type": "stream",
          "text": [
            "<ipython-input-190-a058d8cb0168>:16: FutureWarning: The frame.append method is deprecated and will be removed from pandas in a future version. Use pandas.concat instead.\n",
            "  estimations = estimations.append(final_predictions)\n",
            "<ipython-input-186-53997450bf65>:32: SettingWithCopyWarning: \n",
            "A value is trying to be set on a copy of a slice from a DataFrame.\n",
            "Try using .loc[row_indexer,col_indexer] = value instead\n",
            "\n",
            "See the caveats in the documentation: https://pandas.pydata.org/pandas-docs/stable/user_guide/indexing.html#returning-a-view-versus-a-copy\n",
            "  df_un[column_name] = df_un['x'] + noise\n",
            "<ipython-input-186-53997450bf65>:32: SettingWithCopyWarning: \n",
            "A value is trying to be set on a copy of a slice from a DataFrame.\n",
            "Try using .loc[row_indexer,col_indexer] = value instead\n",
            "\n",
            "See the caveats in the documentation: https://pandas.pydata.org/pandas-docs/stable/user_guide/indexing.html#returning-a-view-versus-a-copy\n",
            "  df_un[column_name] = df_un['x'] + noise\n",
            "<ipython-input-25-6b857bf310c0>:23: SettingWithCopyWarning: \n",
            "A value is trying to be set on a copy of a slice from a DataFrame\n",
            "\n",
            "See the caveats in the documentation: https://pandas.pydata.org/pandas-docs/stable/user_guide/indexing.html#returning-a-view-versus-a-copy\n",
            "  df[i-1:i].iloc[:, m] = np.nan\n"
          ]
        },
        {
          "metadata": {
            "tags": null
          },
          "name": "stdout",
          "output_type": "stream",
          "text": [
            "14/14 [==============================] - 4s 270ms/step\n"
          ]
        },
        {
          "metadata": {
            "tags": null
          },
          "name": "stderr",
          "output_type": "stream",
          "text": [
            "<ipython-input-190-a058d8cb0168>:16: FutureWarning: The frame.append method is deprecated and will be removed from pandas in a future version. Use pandas.concat instead.\n",
            "  estimations = estimations.append(final_predictions)\n",
            "<ipython-input-186-53997450bf65>:32: SettingWithCopyWarning: \n",
            "A value is trying to be set on a copy of a slice from a DataFrame.\n",
            "Try using .loc[row_indexer,col_indexer] = value instead\n",
            "\n",
            "See the caveats in the documentation: https://pandas.pydata.org/pandas-docs/stable/user_guide/indexing.html#returning-a-view-versus-a-copy\n",
            "  df_un[column_name] = df_un['x'] + noise\n",
            "<ipython-input-186-53997450bf65>:32: SettingWithCopyWarning: \n",
            "A value is trying to be set on a copy of a slice from a DataFrame.\n",
            "Try using .loc[row_indexer,col_indexer] = value instead\n",
            "\n",
            "See the caveats in the documentation: https://pandas.pydata.org/pandas-docs/stable/user_guide/indexing.html#returning-a-view-versus-a-copy\n",
            "  df_un[column_name] = df_un['x'] + noise\n",
            "<ipython-input-25-6b857bf310c0>:23: SettingWithCopyWarning: \n",
            "A value is trying to be set on a copy of a slice from a DataFrame\n",
            "\n",
            "See the caveats in the documentation: https://pandas.pydata.org/pandas-docs/stable/user_guide/indexing.html#returning-a-view-versus-a-copy\n",
            "  df[i-1:i].iloc[:, m] = np.nan\n"
          ]
        },
        {
          "metadata": {
            "tags": null
          },
          "name": "stdout",
          "output_type": "stream",
          "text": [
            "14/14 [==============================] - 4s 271ms/step\n"
          ]
        },
        {
          "metadata": {
            "tags": null
          },
          "name": "stderr",
          "output_type": "stream",
          "text": [
            "<ipython-input-190-a058d8cb0168>:16: FutureWarning: The frame.append method is deprecated and will be removed from pandas in a future version. Use pandas.concat instead.\n",
            "  estimations = estimations.append(final_predictions)\n",
            "<ipython-input-186-53997450bf65>:32: SettingWithCopyWarning: \n",
            "A value is trying to be set on a copy of a slice from a DataFrame.\n",
            "Try using .loc[row_indexer,col_indexer] = value instead\n",
            "\n",
            "See the caveats in the documentation: https://pandas.pydata.org/pandas-docs/stable/user_guide/indexing.html#returning-a-view-versus-a-copy\n",
            "  df_un[column_name] = df_un['x'] + noise\n",
            "<ipython-input-186-53997450bf65>:32: SettingWithCopyWarning: \n",
            "A value is trying to be set on a copy of a slice from a DataFrame.\n",
            "Try using .loc[row_indexer,col_indexer] = value instead\n",
            "\n",
            "See the caveats in the documentation: https://pandas.pydata.org/pandas-docs/stable/user_guide/indexing.html#returning-a-view-versus-a-copy\n",
            "  df_un[column_name] = df_un['x'] + noise\n",
            "<ipython-input-25-6b857bf310c0>:23: SettingWithCopyWarning: \n",
            "A value is trying to be set on a copy of a slice from a DataFrame\n",
            "\n",
            "See the caveats in the documentation: https://pandas.pydata.org/pandas-docs/stable/user_guide/indexing.html#returning-a-view-versus-a-copy\n",
            "  df[i-1:i].iloc[:, m] = np.nan\n"
          ]
        },
        {
          "metadata": {
            "tags": null
          },
          "name": "stdout",
          "output_type": "stream",
          "text": [
            "24/24 [==============================] - 9s 376ms/step\n"
          ]
        },
        {
          "metadata": {
            "tags": null
          },
          "name": "stderr",
          "output_type": "stream",
          "text": [
            "<ipython-input-190-a058d8cb0168>:16: FutureWarning: The frame.append method is deprecated and will be removed from pandas in a future version. Use pandas.concat instead.\n",
            "  estimations = estimations.append(final_predictions)\n",
            "<ipython-input-186-53997450bf65>:32: SettingWithCopyWarning: \n",
            "A value is trying to be set on a copy of a slice from a DataFrame.\n",
            "Try using .loc[row_indexer,col_indexer] = value instead\n",
            "\n",
            "See the caveats in the documentation: https://pandas.pydata.org/pandas-docs/stable/user_guide/indexing.html#returning-a-view-versus-a-copy\n",
            "  df_un[column_name] = df_un['x'] + noise\n",
            "<ipython-input-186-53997450bf65>:32: SettingWithCopyWarning: \n",
            "A value is trying to be set on a copy of a slice from a DataFrame.\n",
            "Try using .loc[row_indexer,col_indexer] = value instead\n",
            "\n",
            "See the caveats in the documentation: https://pandas.pydata.org/pandas-docs/stable/user_guide/indexing.html#returning-a-view-versus-a-copy\n",
            "  df_un[column_name] = df_un['x'] + noise\n",
            "<ipython-input-25-6b857bf310c0>:23: SettingWithCopyWarning: \n",
            "A value is trying to be set on a copy of a slice from a DataFrame\n",
            "\n",
            "See the caveats in the documentation: https://pandas.pydata.org/pandas-docs/stable/user_guide/indexing.html#returning-a-view-versus-a-copy\n",
            "  df[i-1:i].iloc[:, m] = np.nan\n"
          ]
        },
        {
          "metadata": {
            "tags": null
          },
          "name": "stdout",
          "output_type": "stream",
          "text": [
            "24/24 [==============================] - 9s 378ms/step\n"
          ]
        },
        {
          "metadata": {
            "tags": null
          },
          "name": "stderr",
          "output_type": "stream",
          "text": [
            "<ipython-input-190-a058d8cb0168>:16: FutureWarning: The frame.append method is deprecated and will be removed from pandas in a future version. Use pandas.concat instead.\n",
            "  estimations = estimations.append(final_predictions)\n",
            "<ipython-input-186-53997450bf65>:32: SettingWithCopyWarning: \n",
            "A value is trying to be set on a copy of a slice from a DataFrame.\n",
            "Try using .loc[row_indexer,col_indexer] = value instead\n",
            "\n",
            "See the caveats in the documentation: https://pandas.pydata.org/pandas-docs/stable/user_guide/indexing.html#returning-a-view-versus-a-copy\n",
            "  df_un[column_name] = df_un['x'] + noise\n",
            "<ipython-input-186-53997450bf65>:32: SettingWithCopyWarning: \n",
            "A value is trying to be set on a copy of a slice from a DataFrame.\n",
            "Try using .loc[row_indexer,col_indexer] = value instead\n",
            "\n",
            "See the caveats in the documentation: https://pandas.pydata.org/pandas-docs/stable/user_guide/indexing.html#returning-a-view-versus-a-copy\n",
            "  df_un[column_name] = df_un['x'] + noise\n",
            "<ipython-input-25-6b857bf310c0>:23: SettingWithCopyWarning: \n",
            "A value is trying to be set on a copy of a slice from a DataFrame\n",
            "\n",
            "See the caveats in the documentation: https://pandas.pydata.org/pandas-docs/stable/user_guide/indexing.html#returning-a-view-versus-a-copy\n",
            "  df[i-1:i].iloc[:, m] = np.nan\n"
          ]
        },
        {
          "metadata": {
            "tags": null
          },
          "name": "stdout",
          "output_type": "stream",
          "text": [
            "24/24 [==============================] - 10s 375ms/step\n"
          ]
        },
        {
          "metadata": {
            "tags": null
          },
          "name": "stderr",
          "output_type": "stream",
          "text": [
            "<ipython-input-190-a058d8cb0168>:16: FutureWarning: The frame.append method is deprecated and will be removed from pandas in a future version. Use pandas.concat instead.\n",
            "  estimations = estimations.append(final_predictions)\n",
            "<ipython-input-186-53997450bf65>:32: SettingWithCopyWarning: \n",
            "A value is trying to be set on a copy of a slice from a DataFrame.\n",
            "Try using .loc[row_indexer,col_indexer] = value instead\n",
            "\n",
            "See the caveats in the documentation: https://pandas.pydata.org/pandas-docs/stable/user_guide/indexing.html#returning-a-view-versus-a-copy\n",
            "  df_un[column_name] = df_un['x'] + noise\n",
            "<ipython-input-186-53997450bf65>:32: SettingWithCopyWarning: \n",
            "A value is trying to be set on a copy of a slice from a DataFrame.\n",
            "Try using .loc[row_indexer,col_indexer] = value instead\n",
            "\n",
            "See the caveats in the documentation: https://pandas.pydata.org/pandas-docs/stable/user_guide/indexing.html#returning-a-view-versus-a-copy\n",
            "  df_un[column_name] = df_un['x'] + noise\n",
            "<ipython-input-25-6b857bf310c0>:23: SettingWithCopyWarning: \n",
            "A value is trying to be set on a copy of a slice from a DataFrame\n",
            "\n",
            "See the caveats in the documentation: https://pandas.pydata.org/pandas-docs/stable/user_guide/indexing.html#returning-a-view-versus-a-copy\n",
            "  df[i-1:i].iloc[:, m] = np.nan\n"
          ]
        },
        {
          "metadata": {
            "tags": null
          },
          "name": "stdout",
          "output_type": "stream",
          "text": [
            "24/24 [==============================] - 10s 414ms/step\n"
          ]
        },
        {
          "metadata": {
            "tags": null
          },
          "name": "stderr",
          "output_type": "stream",
          "text": [
            "<ipython-input-190-a058d8cb0168>:16: FutureWarning: The frame.append method is deprecated and will be removed from pandas in a future version. Use pandas.concat instead.\n",
            "  estimations = estimations.append(final_predictions)\n",
            "<ipython-input-186-53997450bf65>:32: SettingWithCopyWarning: \n",
            "A value is trying to be set on a copy of a slice from a DataFrame.\n",
            "Try using .loc[row_indexer,col_indexer] = value instead\n",
            "\n",
            "See the caveats in the documentation: https://pandas.pydata.org/pandas-docs/stable/user_guide/indexing.html#returning-a-view-versus-a-copy\n",
            "  df_un[column_name] = df_un['x'] + noise\n",
            "<ipython-input-186-53997450bf65>:32: SettingWithCopyWarning: \n",
            "A value is trying to be set on a copy of a slice from a DataFrame.\n",
            "Try using .loc[row_indexer,col_indexer] = value instead\n",
            "\n",
            "See the caveats in the documentation: https://pandas.pydata.org/pandas-docs/stable/user_guide/indexing.html#returning-a-view-versus-a-copy\n",
            "  df_un[column_name] = df_un['x'] + noise\n",
            "<ipython-input-25-6b857bf310c0>:23: SettingWithCopyWarning: \n",
            "A value is trying to be set on a copy of a slice from a DataFrame\n",
            "\n",
            "See the caveats in the documentation: https://pandas.pydata.org/pandas-docs/stable/user_guide/indexing.html#returning-a-view-versus-a-copy\n",
            "  df[i-1:i].iloc[:, m] = np.nan\n"
          ]
        },
        {
          "metadata": {
            "tags": null
          },
          "name": "stdout",
          "output_type": "stream",
          "text": [
            "24/24 [==============================] - 9s 394ms/step\n"
          ]
        },
        {
          "metadata": {
            "tags": null
          },
          "name": "stderr",
          "output_type": "stream",
          "text": [
            "<ipython-input-190-a058d8cb0168>:16: FutureWarning: The frame.append method is deprecated and will be removed from pandas in a future version. Use pandas.concat instead.\n",
            "  estimations = estimations.append(final_predictions)\n",
            "<ipython-input-186-53997450bf65>:32: SettingWithCopyWarning: \n",
            "A value is trying to be set on a copy of a slice from a DataFrame.\n",
            "Try using .loc[row_indexer,col_indexer] = value instead\n",
            "\n",
            "See the caveats in the documentation: https://pandas.pydata.org/pandas-docs/stable/user_guide/indexing.html#returning-a-view-versus-a-copy\n",
            "  df_un[column_name] = df_un['x'] + noise\n",
            "<ipython-input-186-53997450bf65>:32: SettingWithCopyWarning: \n",
            "A value is trying to be set on a copy of a slice from a DataFrame.\n",
            "Try using .loc[row_indexer,col_indexer] = value instead\n",
            "\n",
            "See the caveats in the documentation: https://pandas.pydata.org/pandas-docs/stable/user_guide/indexing.html#returning-a-view-versus-a-copy\n",
            "  df_un[column_name] = df_un['x'] + noise\n",
            "<ipython-input-25-6b857bf310c0>:23: SettingWithCopyWarning: \n",
            "A value is trying to be set on a copy of a slice from a DataFrame\n",
            "\n",
            "See the caveats in the documentation: https://pandas.pydata.org/pandas-docs/stable/user_guide/indexing.html#returning-a-view-versus-a-copy\n",
            "  df[i-1:i].iloc[:, m] = np.nan\n"
          ]
        },
        {
          "metadata": {
            "tags": null
          },
          "name": "stdout",
          "output_type": "stream",
          "text": [
            "24/24 [==============================] - 9s 372ms/step\n"
          ]
        },
        {
          "metadata": {
            "tags": null
          },
          "name": "stderr",
          "output_type": "stream",
          "text": [
            "<ipython-input-190-a058d8cb0168>:16: FutureWarning: The frame.append method is deprecated and will be removed from pandas in a future version. Use pandas.concat instead.\n",
            "  estimations = estimations.append(final_predictions)\n",
            "<ipython-input-186-53997450bf65>:32: SettingWithCopyWarning: \n",
            "A value is trying to be set on a copy of a slice from a DataFrame.\n",
            "Try using .loc[row_indexer,col_indexer] = value instead\n",
            "\n",
            "See the caveats in the documentation: https://pandas.pydata.org/pandas-docs/stable/user_guide/indexing.html#returning-a-view-versus-a-copy\n",
            "  df_un[column_name] = df_un['x'] + noise\n",
            "<ipython-input-186-53997450bf65>:32: SettingWithCopyWarning: \n",
            "A value is trying to be set on a copy of a slice from a DataFrame.\n",
            "Try using .loc[row_indexer,col_indexer] = value instead\n",
            "\n",
            "See the caveats in the documentation: https://pandas.pydata.org/pandas-docs/stable/user_guide/indexing.html#returning-a-view-versus-a-copy\n",
            "  df_un[column_name] = df_un['x'] + noise\n",
            "<ipython-input-25-6b857bf310c0>:23: SettingWithCopyWarning: \n",
            "A value is trying to be set on a copy of a slice from a DataFrame\n",
            "\n",
            "See the caveats in the documentation: https://pandas.pydata.org/pandas-docs/stable/user_guide/indexing.html#returning-a-view-versus-a-copy\n",
            "  df[i-1:i].iloc[:, m] = np.nan\n"
          ]
        },
        {
          "metadata": {
            "tags": null
          },
          "name": "stdout",
          "output_type": "stream",
          "text": [
            "24/24 [==============================] - 9s 372ms/step\n"
          ]
        },
        {
          "metadata": {
            "tags": null
          },
          "name": "stderr",
          "output_type": "stream",
          "text": [
            "<ipython-input-190-a058d8cb0168>:16: FutureWarning: The frame.append method is deprecated and will be removed from pandas in a future version. Use pandas.concat instead.\n",
            "  estimations = estimations.append(final_predictions)\n",
            "<ipython-input-186-53997450bf65>:32: SettingWithCopyWarning: \n",
            "A value is trying to be set on a copy of a slice from a DataFrame.\n",
            "Try using .loc[row_indexer,col_indexer] = value instead\n",
            "\n",
            "See the caveats in the documentation: https://pandas.pydata.org/pandas-docs/stable/user_guide/indexing.html#returning-a-view-versus-a-copy\n",
            "  df_un[column_name] = df_un['x'] + noise\n",
            "<ipython-input-186-53997450bf65>:32: SettingWithCopyWarning: \n",
            "A value is trying to be set on a copy of a slice from a DataFrame.\n",
            "Try using .loc[row_indexer,col_indexer] = value instead\n",
            "\n",
            "See the caveats in the documentation: https://pandas.pydata.org/pandas-docs/stable/user_guide/indexing.html#returning-a-view-versus-a-copy\n",
            "  df_un[column_name] = df_un['x'] + noise\n",
            "<ipython-input-25-6b857bf310c0>:23: SettingWithCopyWarning: \n",
            "A value is trying to be set on a copy of a slice from a DataFrame\n",
            "\n",
            "See the caveats in the documentation: https://pandas.pydata.org/pandas-docs/stable/user_guide/indexing.html#returning-a-view-versus-a-copy\n",
            "  df[i-1:i].iloc[:, m] = np.nan\n"
          ]
        },
        {
          "metadata": {
            "tags": null
          },
          "name": "stdout",
          "output_type": "stream",
          "text": [
            "24/24 [==============================] - 9s 376ms/step\n"
          ]
        },
        {
          "metadata": {
            "tags": null
          },
          "name": "stderr",
          "output_type": "stream",
          "text": [
            "<ipython-input-190-a058d8cb0168>:16: FutureWarning: The frame.append method is deprecated and will be removed from pandas in a future version. Use pandas.concat instead.\n",
            "  estimations = estimations.append(final_predictions)\n",
            "<ipython-input-186-53997450bf65>:32: SettingWithCopyWarning: \n",
            "A value is trying to be set on a copy of a slice from a DataFrame.\n",
            "Try using .loc[row_indexer,col_indexer] = value instead\n",
            "\n",
            "See the caveats in the documentation: https://pandas.pydata.org/pandas-docs/stable/user_guide/indexing.html#returning-a-view-versus-a-copy\n",
            "  df_un[column_name] = df_un['x'] + noise\n",
            "<ipython-input-186-53997450bf65>:32: SettingWithCopyWarning: \n",
            "A value is trying to be set on a copy of a slice from a DataFrame.\n",
            "Try using .loc[row_indexer,col_indexer] = value instead\n",
            "\n",
            "See the caveats in the documentation: https://pandas.pydata.org/pandas-docs/stable/user_guide/indexing.html#returning-a-view-versus-a-copy\n",
            "  df_un[column_name] = df_un['x'] + noise\n",
            "<ipython-input-25-6b857bf310c0>:23: SettingWithCopyWarning: \n",
            "A value is trying to be set on a copy of a slice from a DataFrame\n",
            "\n",
            "See the caveats in the documentation: https://pandas.pydata.org/pandas-docs/stable/user_guide/indexing.html#returning-a-view-versus-a-copy\n",
            "  df[i-1:i].iloc[:, m] = np.nan\n"
          ]
        },
        {
          "metadata": {
            "tags": null
          },
          "name": "stdout",
          "output_type": "stream",
          "text": [
            "24/24 [==============================] - 8s 330ms/step\n"
          ]
        },
        {
          "metadata": {
            "tags": null
          },
          "name": "stderr",
          "output_type": "stream",
          "text": [
            "<ipython-input-190-a058d8cb0168>:16: FutureWarning: The frame.append method is deprecated and will be removed from pandas in a future version. Use pandas.concat instead.\n",
            "  estimations = estimations.append(final_predictions)\n",
            "<ipython-input-186-53997450bf65>:32: SettingWithCopyWarning: \n",
            "A value is trying to be set on a copy of a slice from a DataFrame.\n",
            "Try using .loc[row_indexer,col_indexer] = value instead\n",
            "\n",
            "See the caveats in the documentation: https://pandas.pydata.org/pandas-docs/stable/user_guide/indexing.html#returning-a-view-versus-a-copy\n",
            "  df_un[column_name] = df_un['x'] + noise\n",
            "<ipython-input-186-53997450bf65>:32: SettingWithCopyWarning: \n",
            "A value is trying to be set on a copy of a slice from a DataFrame.\n",
            "Try using .loc[row_indexer,col_indexer] = value instead\n",
            "\n",
            "See the caveats in the documentation: https://pandas.pydata.org/pandas-docs/stable/user_guide/indexing.html#returning-a-view-versus-a-copy\n",
            "  df_un[column_name] = df_un['x'] + noise\n",
            "<ipython-input-25-6b857bf310c0>:23: SettingWithCopyWarning: \n",
            "A value is trying to be set on a copy of a slice from a DataFrame\n",
            "\n",
            "See the caveats in the documentation: https://pandas.pydata.org/pandas-docs/stable/user_guide/indexing.html#returning-a-view-versus-a-copy\n",
            "  df[i-1:i].iloc[:, m] = np.nan\n"
          ]
        },
        {
          "metadata": {
            "tags": null
          },
          "name": "stdout",
          "output_type": "stream",
          "text": [
            "24/24 [==============================] - 9s 359ms/step\n"
          ]
        },
        {
          "metadata": {
            "tags": null
          },
          "name": "stderr",
          "output_type": "stream",
          "text": [
            "<ipython-input-190-a058d8cb0168>:16: FutureWarning: The frame.append method is deprecated and will be removed from pandas in a future version. Use pandas.concat instead.\n",
            "  estimations = estimations.append(final_predictions)\n",
            "<ipython-input-186-53997450bf65>:32: SettingWithCopyWarning: \n",
            "A value is trying to be set on a copy of a slice from a DataFrame.\n",
            "Try using .loc[row_indexer,col_indexer] = value instead\n",
            "\n",
            "See the caveats in the documentation: https://pandas.pydata.org/pandas-docs/stable/user_guide/indexing.html#returning-a-view-versus-a-copy\n",
            "  df_un[column_name] = df_un['x'] + noise\n",
            "<ipython-input-186-53997450bf65>:32: SettingWithCopyWarning: \n",
            "A value is trying to be set on a copy of a slice from a DataFrame.\n",
            "Try using .loc[row_indexer,col_indexer] = value instead\n",
            "\n",
            "See the caveats in the documentation: https://pandas.pydata.org/pandas-docs/stable/user_guide/indexing.html#returning-a-view-versus-a-copy\n",
            "  df_un[column_name] = df_un['x'] + noise\n",
            "<ipython-input-25-6b857bf310c0>:23: SettingWithCopyWarning: \n",
            "A value is trying to be set on a copy of a slice from a DataFrame\n",
            "\n",
            "See the caveats in the documentation: https://pandas.pydata.org/pandas-docs/stable/user_guide/indexing.html#returning-a-view-versus-a-copy\n",
            "  df[i-1:i].iloc[:, m] = np.nan\n"
          ]
        },
        {
          "metadata": {
            "tags": null
          },
          "name": "stdout",
          "output_type": "stream",
          "text": [
            "30/30 [==============================] - 10s 350ms/step\n"
          ]
        },
        {
          "metadata": {
            "tags": null
          },
          "name": "stderr",
          "output_type": "stream",
          "text": [
            "<ipython-input-190-a058d8cb0168>:16: FutureWarning: The frame.append method is deprecated and will be removed from pandas in a future version. Use pandas.concat instead.\n",
            "  estimations = estimations.append(final_predictions)\n",
            "<ipython-input-186-53997450bf65>:32: SettingWithCopyWarning: \n",
            "A value is trying to be set on a copy of a slice from a DataFrame.\n",
            "Try using .loc[row_indexer,col_indexer] = value instead\n",
            "\n",
            "See the caveats in the documentation: https://pandas.pydata.org/pandas-docs/stable/user_guide/indexing.html#returning-a-view-versus-a-copy\n",
            "  df_un[column_name] = df_un['x'] + noise\n",
            "<ipython-input-186-53997450bf65>:32: SettingWithCopyWarning: \n",
            "A value is trying to be set on a copy of a slice from a DataFrame.\n",
            "Try using .loc[row_indexer,col_indexer] = value instead\n",
            "\n",
            "See the caveats in the documentation: https://pandas.pydata.org/pandas-docs/stable/user_guide/indexing.html#returning-a-view-versus-a-copy\n",
            "  df_un[column_name] = df_un['x'] + noise\n",
            "<ipython-input-25-6b857bf310c0>:23: SettingWithCopyWarning: \n",
            "A value is trying to be set on a copy of a slice from a DataFrame\n",
            "\n",
            "See the caveats in the documentation: https://pandas.pydata.org/pandas-docs/stable/user_guide/indexing.html#returning-a-view-versus-a-copy\n",
            "  df[i-1:i].iloc[:, m] = np.nan\n"
          ]
        },
        {
          "metadata": {
            "tags": null
          },
          "name": "stdout",
          "output_type": "stream",
          "text": [
            "30/30 [==============================] - 12s 394ms/step\n"
          ]
        },
        {
          "metadata": {
            "tags": null
          },
          "name": "stderr",
          "output_type": "stream",
          "text": [
            "<ipython-input-190-a058d8cb0168>:16: FutureWarning: The frame.append method is deprecated and will be removed from pandas in a future version. Use pandas.concat instead.\n",
            "  estimations = estimations.append(final_predictions)\n",
            "<ipython-input-186-53997450bf65>:32: SettingWithCopyWarning: \n",
            "A value is trying to be set on a copy of a slice from a DataFrame.\n",
            "Try using .loc[row_indexer,col_indexer] = value instead\n",
            "\n",
            "See the caveats in the documentation: https://pandas.pydata.org/pandas-docs/stable/user_guide/indexing.html#returning-a-view-versus-a-copy\n",
            "  df_un[column_name] = df_un['x'] + noise\n",
            "<ipython-input-186-53997450bf65>:32: SettingWithCopyWarning: \n",
            "A value is trying to be set on a copy of a slice from a DataFrame.\n",
            "Try using .loc[row_indexer,col_indexer] = value instead\n",
            "\n",
            "See the caveats in the documentation: https://pandas.pydata.org/pandas-docs/stable/user_guide/indexing.html#returning-a-view-versus-a-copy\n",
            "  df_un[column_name] = df_un['x'] + noise\n",
            "<ipython-input-25-6b857bf310c0>:23: SettingWithCopyWarning: \n",
            "A value is trying to be set on a copy of a slice from a DataFrame\n",
            "\n",
            "See the caveats in the documentation: https://pandas.pydata.org/pandas-docs/stable/user_guide/indexing.html#returning-a-view-versus-a-copy\n",
            "  df[i-1:i].iloc[:, m] = np.nan\n"
          ]
        },
        {
          "metadata": {
            "tags": null
          },
          "name": "stdout",
          "output_type": "stream",
          "text": [
            "30/30 [==============================] - 10s 339ms/step\n"
          ]
        },
        {
          "metadata": {
            "tags": null
          },
          "name": "stderr",
          "output_type": "stream",
          "text": [
            "<ipython-input-190-a058d8cb0168>:16: FutureWarning: The frame.append method is deprecated and will be removed from pandas in a future version. Use pandas.concat instead.\n",
            "  estimations = estimations.append(final_predictions)\n",
            "<ipython-input-186-53997450bf65>:32: SettingWithCopyWarning: \n",
            "A value is trying to be set on a copy of a slice from a DataFrame.\n",
            "Try using .loc[row_indexer,col_indexer] = value instead\n",
            "\n",
            "See the caveats in the documentation: https://pandas.pydata.org/pandas-docs/stable/user_guide/indexing.html#returning-a-view-versus-a-copy\n",
            "  df_un[column_name] = df_un['x'] + noise\n",
            "<ipython-input-186-53997450bf65>:32: SettingWithCopyWarning: \n",
            "A value is trying to be set on a copy of a slice from a DataFrame.\n",
            "Try using .loc[row_indexer,col_indexer] = value instead\n",
            "\n",
            "See the caveats in the documentation: https://pandas.pydata.org/pandas-docs/stable/user_guide/indexing.html#returning-a-view-versus-a-copy\n",
            "  df_un[column_name] = df_un['x'] + noise\n",
            "<ipython-input-25-6b857bf310c0>:23: SettingWithCopyWarning: \n",
            "A value is trying to be set on a copy of a slice from a DataFrame\n",
            "\n",
            "See the caveats in the documentation: https://pandas.pydata.org/pandas-docs/stable/user_guide/indexing.html#returning-a-view-versus-a-copy\n",
            "  df[i-1:i].iloc[:, m] = np.nan\n"
          ]
        },
        {
          "metadata": {
            "tags": null
          },
          "name": "stdout",
          "output_type": "stream",
          "text": [
            "30/30 [==============================] - 10s 341ms/step\n"
          ]
        },
        {
          "metadata": {
            "tags": null
          },
          "name": "stderr",
          "output_type": "stream",
          "text": [
            "<ipython-input-190-a058d8cb0168>:16: FutureWarning: The frame.append method is deprecated and will be removed from pandas in a future version. Use pandas.concat instead.\n",
            "  estimations = estimations.append(final_predictions)\n",
            "<ipython-input-186-53997450bf65>:32: SettingWithCopyWarning: \n",
            "A value is trying to be set on a copy of a slice from a DataFrame.\n",
            "Try using .loc[row_indexer,col_indexer] = value instead\n",
            "\n",
            "See the caveats in the documentation: https://pandas.pydata.org/pandas-docs/stable/user_guide/indexing.html#returning-a-view-versus-a-copy\n",
            "  df_un[column_name] = df_un['x'] + noise\n",
            "<ipython-input-186-53997450bf65>:32: SettingWithCopyWarning: \n",
            "A value is trying to be set on a copy of a slice from a DataFrame.\n",
            "Try using .loc[row_indexer,col_indexer] = value instead\n",
            "\n",
            "See the caveats in the documentation: https://pandas.pydata.org/pandas-docs/stable/user_guide/indexing.html#returning-a-view-versus-a-copy\n",
            "  df_un[column_name] = df_un['x'] + noise\n",
            "<ipython-input-25-6b857bf310c0>:23: SettingWithCopyWarning: \n",
            "A value is trying to be set on a copy of a slice from a DataFrame\n",
            "\n",
            "See the caveats in the documentation: https://pandas.pydata.org/pandas-docs/stable/user_guide/indexing.html#returning-a-view-versus-a-copy\n",
            "  df[i-1:i].iloc[:, m] = np.nan\n"
          ]
        },
        {
          "metadata": {
            "tags": null
          },
          "name": "stdout",
          "output_type": "stream",
          "text": [
            "30/30 [==============================] - 10s 312ms/step\n"
          ]
        },
        {
          "metadata": {
            "tags": null
          },
          "name": "stderr",
          "output_type": "stream",
          "text": [
            "<ipython-input-190-a058d8cb0168>:16: FutureWarning: The frame.append method is deprecated and will be removed from pandas in a future version. Use pandas.concat instead.\n",
            "  estimations = estimations.append(final_predictions)\n",
            "<ipython-input-186-53997450bf65>:32: SettingWithCopyWarning: \n",
            "A value is trying to be set on a copy of a slice from a DataFrame.\n",
            "Try using .loc[row_indexer,col_indexer] = value instead\n",
            "\n",
            "See the caveats in the documentation: https://pandas.pydata.org/pandas-docs/stable/user_guide/indexing.html#returning-a-view-versus-a-copy\n",
            "  df_un[column_name] = df_un['x'] + noise\n",
            "<ipython-input-186-53997450bf65>:32: SettingWithCopyWarning: \n",
            "A value is trying to be set on a copy of a slice from a DataFrame.\n",
            "Try using .loc[row_indexer,col_indexer] = value instead\n",
            "\n",
            "See the caveats in the documentation: https://pandas.pydata.org/pandas-docs/stable/user_guide/indexing.html#returning-a-view-versus-a-copy\n",
            "  df_un[column_name] = df_un['x'] + noise\n",
            "<ipython-input-25-6b857bf310c0>:23: SettingWithCopyWarning: \n",
            "A value is trying to be set on a copy of a slice from a DataFrame\n",
            "\n",
            "See the caveats in the documentation: https://pandas.pydata.org/pandas-docs/stable/user_guide/indexing.html#returning-a-view-versus-a-copy\n",
            "  df[i-1:i].iloc[:, m] = np.nan\n"
          ]
        },
        {
          "metadata": {
            "tags": null
          },
          "name": "stdout",
          "output_type": "stream",
          "text": [
            "30/30 [==============================] - 9s 288ms/step\n"
          ]
        },
        {
          "metadata": {
            "tags": null
          },
          "name": "stderr",
          "output_type": "stream",
          "text": [
            "<ipython-input-190-a058d8cb0168>:16: FutureWarning: The frame.append method is deprecated and will be removed from pandas in a future version. Use pandas.concat instead.\n",
            "  estimations = estimations.append(final_predictions)\n",
            "<ipython-input-186-53997450bf65>:32: SettingWithCopyWarning: \n",
            "A value is trying to be set on a copy of a slice from a DataFrame.\n",
            "Try using .loc[row_indexer,col_indexer] = value instead\n",
            "\n",
            "See the caveats in the documentation: https://pandas.pydata.org/pandas-docs/stable/user_guide/indexing.html#returning-a-view-versus-a-copy\n",
            "  df_un[column_name] = df_un['x'] + noise\n",
            "<ipython-input-186-53997450bf65>:32: SettingWithCopyWarning: \n",
            "A value is trying to be set on a copy of a slice from a DataFrame.\n",
            "Try using .loc[row_indexer,col_indexer] = value instead\n",
            "\n",
            "See the caveats in the documentation: https://pandas.pydata.org/pandas-docs/stable/user_guide/indexing.html#returning-a-view-versus-a-copy\n",
            "  df_un[column_name] = df_un['x'] + noise\n",
            "<ipython-input-25-6b857bf310c0>:23: SettingWithCopyWarning: \n",
            "A value is trying to be set on a copy of a slice from a DataFrame\n",
            "\n",
            "See the caveats in the documentation: https://pandas.pydata.org/pandas-docs/stable/user_guide/indexing.html#returning-a-view-versus-a-copy\n",
            "  df[i-1:i].iloc[:, m] = np.nan\n"
          ]
        },
        {
          "metadata": {
            "tags": null
          },
          "name": "stdout",
          "output_type": "stream",
          "text": [
            "30/30 [==============================] - 10s 345ms/step\n"
          ]
        },
        {
          "metadata": {
            "tags": null
          },
          "name": "stderr",
          "output_type": "stream",
          "text": [
            "<ipython-input-190-a058d8cb0168>:16: FutureWarning: The frame.append method is deprecated and will be removed from pandas in a future version. Use pandas.concat instead.\n",
            "  estimations = estimations.append(final_predictions)\n",
            "<ipython-input-186-53997450bf65>:32: SettingWithCopyWarning: \n",
            "A value is trying to be set on a copy of a slice from a DataFrame.\n",
            "Try using .loc[row_indexer,col_indexer] = value instead\n",
            "\n",
            "See the caveats in the documentation: https://pandas.pydata.org/pandas-docs/stable/user_guide/indexing.html#returning-a-view-versus-a-copy\n",
            "  df_un[column_name] = df_un['x'] + noise\n",
            "<ipython-input-186-53997450bf65>:32: SettingWithCopyWarning: \n",
            "A value is trying to be set on a copy of a slice from a DataFrame.\n",
            "Try using .loc[row_indexer,col_indexer] = value instead\n",
            "\n",
            "See the caveats in the documentation: https://pandas.pydata.org/pandas-docs/stable/user_guide/indexing.html#returning-a-view-versus-a-copy\n",
            "  df_un[column_name] = df_un['x'] + noise\n",
            "<ipython-input-25-6b857bf310c0>:23: SettingWithCopyWarning: \n",
            "A value is trying to be set on a copy of a slice from a DataFrame\n",
            "\n",
            "See the caveats in the documentation: https://pandas.pydata.org/pandas-docs/stable/user_guide/indexing.html#returning-a-view-versus-a-copy\n",
            "  df[i-1:i].iloc[:, m] = np.nan\n"
          ]
        },
        {
          "metadata": {
            "tags": null
          },
          "name": "stdout",
          "output_type": "stream",
          "text": [
            "30/30 [==============================] - 10s 338ms/step\n"
          ]
        },
        {
          "metadata": {
            "tags": null
          },
          "name": "stderr",
          "output_type": "stream",
          "text": [
            "<ipython-input-190-a058d8cb0168>:16: FutureWarning: The frame.append method is deprecated and will be removed from pandas in a future version. Use pandas.concat instead.\n",
            "  estimations = estimations.append(final_predictions)\n",
            "<ipython-input-186-53997450bf65>:32: SettingWithCopyWarning: \n",
            "A value is trying to be set on a copy of a slice from a DataFrame.\n",
            "Try using .loc[row_indexer,col_indexer] = value instead\n",
            "\n",
            "See the caveats in the documentation: https://pandas.pydata.org/pandas-docs/stable/user_guide/indexing.html#returning-a-view-versus-a-copy\n",
            "  df_un[column_name] = df_un['x'] + noise\n",
            "<ipython-input-186-53997450bf65>:32: SettingWithCopyWarning: \n",
            "A value is trying to be set on a copy of a slice from a DataFrame.\n",
            "Try using .loc[row_indexer,col_indexer] = value instead\n",
            "\n",
            "See the caveats in the documentation: https://pandas.pydata.org/pandas-docs/stable/user_guide/indexing.html#returning-a-view-versus-a-copy\n",
            "  df_un[column_name] = df_un['x'] + noise\n",
            "<ipython-input-25-6b857bf310c0>:23: SettingWithCopyWarning: \n",
            "A value is trying to be set on a copy of a slice from a DataFrame\n",
            "\n",
            "See the caveats in the documentation: https://pandas.pydata.org/pandas-docs/stable/user_guide/indexing.html#returning-a-view-versus-a-copy\n",
            "  df[i-1:i].iloc[:, m] = np.nan\n"
          ]
        },
        {
          "metadata": {
            "tags": null
          },
          "name": "stdout",
          "output_type": "stream",
          "text": [
            "15/15 [==============================] - 5s 317ms/step\n"
          ]
        },
        {
          "metadata": {
            "tags": null
          },
          "name": "stderr",
          "output_type": "stream",
          "text": [
            "<ipython-input-190-a058d8cb0168>:16: FutureWarning: The frame.append method is deprecated and will be removed from pandas in a future version. Use pandas.concat instead.\n",
            "  estimations = estimations.append(final_predictions)\n",
            "<ipython-input-186-53997450bf65>:32: SettingWithCopyWarning: \n",
            "A value is trying to be set on a copy of a slice from a DataFrame.\n",
            "Try using .loc[row_indexer,col_indexer] = value instead\n",
            "\n",
            "See the caveats in the documentation: https://pandas.pydata.org/pandas-docs/stable/user_guide/indexing.html#returning-a-view-versus-a-copy\n",
            "  df_un[column_name] = df_un['x'] + noise\n",
            "<ipython-input-186-53997450bf65>:32: SettingWithCopyWarning: \n",
            "A value is trying to be set on a copy of a slice from a DataFrame.\n",
            "Try using .loc[row_indexer,col_indexer] = value instead\n",
            "\n",
            "See the caveats in the documentation: https://pandas.pydata.org/pandas-docs/stable/user_guide/indexing.html#returning-a-view-versus-a-copy\n",
            "  df_un[column_name] = df_un['x'] + noise\n",
            "<ipython-input-25-6b857bf310c0>:23: SettingWithCopyWarning: \n",
            "A value is trying to be set on a copy of a slice from a DataFrame\n",
            "\n",
            "See the caveats in the documentation: https://pandas.pydata.org/pandas-docs/stable/user_guide/indexing.html#returning-a-view-versus-a-copy\n",
            "  df[i-1:i].iloc[:, m] = np.nan\n"
          ]
        },
        {
          "metadata": {
            "tags": null
          },
          "name": "stdout",
          "output_type": "stream",
          "text": [
            "15/15 [==============================] - 4s 275ms/step\n"
          ]
        },
        {
          "metadata": {
            "tags": null
          },
          "name": "stderr",
          "output_type": "stream",
          "text": [
            "<ipython-input-190-a058d8cb0168>:16: FutureWarning: The frame.append method is deprecated and will be removed from pandas in a future version. Use pandas.concat instead.\n",
            "  estimations = estimations.append(final_predictions)\n",
            "<ipython-input-186-53997450bf65>:32: SettingWithCopyWarning: \n",
            "A value is trying to be set on a copy of a slice from a DataFrame.\n",
            "Try using .loc[row_indexer,col_indexer] = value instead\n",
            "\n",
            "See the caveats in the documentation: https://pandas.pydata.org/pandas-docs/stable/user_guide/indexing.html#returning-a-view-versus-a-copy\n",
            "  df_un[column_name] = df_un['x'] + noise\n",
            "<ipython-input-186-53997450bf65>:32: SettingWithCopyWarning: \n",
            "A value is trying to be set on a copy of a slice from a DataFrame.\n",
            "Try using .loc[row_indexer,col_indexer] = value instead\n",
            "\n",
            "See the caveats in the documentation: https://pandas.pydata.org/pandas-docs/stable/user_guide/indexing.html#returning-a-view-versus-a-copy\n",
            "  df_un[column_name] = df_un['x'] + noise\n",
            "<ipython-input-25-6b857bf310c0>:23: SettingWithCopyWarning: \n",
            "A value is trying to be set on a copy of a slice from a DataFrame\n",
            "\n",
            "See the caveats in the documentation: https://pandas.pydata.org/pandas-docs/stable/user_guide/indexing.html#returning-a-view-versus-a-copy\n",
            "  df[i-1:i].iloc[:, m] = np.nan\n"
          ]
        },
        {
          "metadata": {
            "tags": null
          },
          "name": "stdout",
          "output_type": "stream",
          "text": [
            "15/15 [==============================] - 6s 392ms/step\n"
          ]
        },
        {
          "metadata": {
            "tags": null
          },
          "name": "stderr",
          "output_type": "stream",
          "text": [
            "<ipython-input-190-a058d8cb0168>:16: FutureWarning: The frame.append method is deprecated and will be removed from pandas in a future version. Use pandas.concat instead.\n",
            "  estimations = estimations.append(final_predictions)\n",
            "<ipython-input-186-53997450bf65>:32: SettingWithCopyWarning: \n",
            "A value is trying to be set on a copy of a slice from a DataFrame.\n",
            "Try using .loc[row_indexer,col_indexer] = value instead\n",
            "\n",
            "See the caveats in the documentation: https://pandas.pydata.org/pandas-docs/stable/user_guide/indexing.html#returning-a-view-versus-a-copy\n",
            "  df_un[column_name] = df_un['x'] + noise\n",
            "<ipython-input-186-53997450bf65>:32: SettingWithCopyWarning: \n",
            "A value is trying to be set on a copy of a slice from a DataFrame.\n",
            "Try using .loc[row_indexer,col_indexer] = value instead\n",
            "\n",
            "See the caveats in the documentation: https://pandas.pydata.org/pandas-docs/stable/user_guide/indexing.html#returning-a-view-versus-a-copy\n",
            "  df_un[column_name] = df_un['x'] + noise\n",
            "<ipython-input-25-6b857bf310c0>:23: SettingWithCopyWarning: \n",
            "A value is trying to be set on a copy of a slice from a DataFrame\n",
            "\n",
            "See the caveats in the documentation: https://pandas.pydata.org/pandas-docs/stable/user_guide/indexing.html#returning-a-view-versus-a-copy\n",
            "  df[i-1:i].iloc[:, m] = np.nan\n"
          ]
        },
        {
          "metadata": {
            "tags": null
          },
          "name": "stdout",
          "output_type": "stream",
          "text": [
            "15/15 [==============================] - 4s 269ms/step\n"
          ]
        },
        {
          "metadata": {
            "tags": null
          },
          "name": "stderr",
          "output_type": "stream",
          "text": [
            "<ipython-input-190-a058d8cb0168>:16: FutureWarning: The frame.append method is deprecated and will be removed from pandas in a future version. Use pandas.concat instead.\n",
            "  estimations = estimations.append(final_predictions)\n",
            "<ipython-input-186-53997450bf65>:32: SettingWithCopyWarning: \n",
            "A value is trying to be set on a copy of a slice from a DataFrame.\n",
            "Try using .loc[row_indexer,col_indexer] = value instead\n",
            "\n",
            "See the caveats in the documentation: https://pandas.pydata.org/pandas-docs/stable/user_guide/indexing.html#returning-a-view-versus-a-copy\n",
            "  df_un[column_name] = df_un['x'] + noise\n",
            "<ipython-input-186-53997450bf65>:32: SettingWithCopyWarning: \n",
            "A value is trying to be set on a copy of a slice from a DataFrame.\n",
            "Try using .loc[row_indexer,col_indexer] = value instead\n",
            "\n",
            "See the caveats in the documentation: https://pandas.pydata.org/pandas-docs/stable/user_guide/indexing.html#returning-a-view-versus-a-copy\n",
            "  df_un[column_name] = df_un['x'] + noise\n",
            "<ipython-input-25-6b857bf310c0>:23: SettingWithCopyWarning: \n",
            "A value is trying to be set on a copy of a slice from a DataFrame\n",
            "\n",
            "See the caveats in the documentation: https://pandas.pydata.org/pandas-docs/stable/user_guide/indexing.html#returning-a-view-versus-a-copy\n",
            "  df[i-1:i].iloc[:, m] = np.nan\n"
          ]
        },
        {
          "metadata": {
            "tags": null
          },
          "name": "stdout",
          "output_type": "stream",
          "text": [
            "15/15 [==============================] - 5s 296ms/step\n"
          ]
        },
        {
          "metadata": {
            "tags": null
          },
          "name": "stderr",
          "output_type": "stream",
          "text": [
            "<ipython-input-190-a058d8cb0168>:16: FutureWarning: The frame.append method is deprecated and will be removed from pandas in a future version. Use pandas.concat instead.\n",
            "  estimations = estimations.append(final_predictions)\n",
            "<ipython-input-186-53997450bf65>:32: SettingWithCopyWarning: \n",
            "A value is trying to be set on a copy of a slice from a DataFrame.\n",
            "Try using .loc[row_indexer,col_indexer] = value instead\n",
            "\n",
            "See the caveats in the documentation: https://pandas.pydata.org/pandas-docs/stable/user_guide/indexing.html#returning-a-view-versus-a-copy\n",
            "  df_un[column_name] = df_un['x'] + noise\n",
            "<ipython-input-186-53997450bf65>:32: SettingWithCopyWarning: \n",
            "A value is trying to be set on a copy of a slice from a DataFrame.\n",
            "Try using .loc[row_indexer,col_indexer] = value instead\n",
            "\n",
            "See the caveats in the documentation: https://pandas.pydata.org/pandas-docs/stable/user_guide/indexing.html#returning-a-view-versus-a-copy\n",
            "  df_un[column_name] = df_un['x'] + noise\n",
            "<ipython-input-25-6b857bf310c0>:23: SettingWithCopyWarning: \n",
            "A value is trying to be set on a copy of a slice from a DataFrame\n",
            "\n",
            "See the caveats in the documentation: https://pandas.pydata.org/pandas-docs/stable/user_guide/indexing.html#returning-a-view-versus-a-copy\n",
            "  df[i-1:i].iloc[:, m] = np.nan\n"
          ]
        },
        {
          "metadata": {
            "tags": null
          },
          "name": "stdout",
          "output_type": "stream",
          "text": [
            "15/15 [==============================] - 4s 282ms/step\n"
          ]
        },
        {
          "metadata": {
            "tags": null
          },
          "name": "stderr",
          "output_type": "stream",
          "text": [
            "<ipython-input-190-a058d8cb0168>:16: FutureWarning: The frame.append method is deprecated and will be removed from pandas in a future version. Use pandas.concat instead.\n",
            "  estimations = estimations.append(final_predictions)\n",
            "<ipython-input-186-53997450bf65>:32: SettingWithCopyWarning: \n",
            "A value is trying to be set on a copy of a slice from a DataFrame.\n",
            "Try using .loc[row_indexer,col_indexer] = value instead\n",
            "\n",
            "See the caveats in the documentation: https://pandas.pydata.org/pandas-docs/stable/user_guide/indexing.html#returning-a-view-versus-a-copy\n",
            "  df_un[column_name] = df_un['x'] + noise\n",
            "<ipython-input-186-53997450bf65>:32: SettingWithCopyWarning: \n",
            "A value is trying to be set on a copy of a slice from a DataFrame.\n",
            "Try using .loc[row_indexer,col_indexer] = value instead\n",
            "\n",
            "See the caveats in the documentation: https://pandas.pydata.org/pandas-docs/stable/user_guide/indexing.html#returning-a-view-versus-a-copy\n",
            "  df_un[column_name] = df_un['x'] + noise\n",
            "<ipython-input-25-6b857bf310c0>:23: SettingWithCopyWarning: \n",
            "A value is trying to be set on a copy of a slice from a DataFrame\n",
            "\n",
            "See the caveats in the documentation: https://pandas.pydata.org/pandas-docs/stable/user_guide/indexing.html#returning-a-view-versus-a-copy\n",
            "  df[i-1:i].iloc[:, m] = np.nan\n"
          ]
        },
        {
          "metadata": {
            "tags": null
          },
          "name": "stdout",
          "output_type": "stream",
          "text": [
            "15/15 [==============================] - 4s 271ms/step\n"
          ]
        },
        {
          "metadata": {
            "tags": null
          },
          "name": "stderr",
          "output_type": "stream",
          "text": [
            "<ipython-input-190-a058d8cb0168>:16: FutureWarning: The frame.append method is deprecated and will be removed from pandas in a future version. Use pandas.concat instead.\n",
            "  estimations = estimations.append(final_predictions)\n",
            "<ipython-input-186-53997450bf65>:32: SettingWithCopyWarning: \n",
            "A value is trying to be set on a copy of a slice from a DataFrame.\n",
            "Try using .loc[row_indexer,col_indexer] = value instead\n",
            "\n",
            "See the caveats in the documentation: https://pandas.pydata.org/pandas-docs/stable/user_guide/indexing.html#returning-a-view-versus-a-copy\n",
            "  df_un[column_name] = df_un['x'] + noise\n",
            "<ipython-input-186-53997450bf65>:32: SettingWithCopyWarning: \n",
            "A value is trying to be set on a copy of a slice from a DataFrame.\n",
            "Try using .loc[row_indexer,col_indexer] = value instead\n",
            "\n",
            "See the caveats in the documentation: https://pandas.pydata.org/pandas-docs/stable/user_guide/indexing.html#returning-a-view-versus-a-copy\n",
            "  df_un[column_name] = df_un['x'] + noise\n",
            "<ipython-input-25-6b857bf310c0>:23: SettingWithCopyWarning: \n",
            "A value is trying to be set on a copy of a slice from a DataFrame\n",
            "\n",
            "See the caveats in the documentation: https://pandas.pydata.org/pandas-docs/stable/user_guide/indexing.html#returning-a-view-versus-a-copy\n",
            "  df[i-1:i].iloc[:, m] = np.nan\n"
          ]
        },
        {
          "metadata": {
            "tags": null
          },
          "name": "stdout",
          "output_type": "stream",
          "text": [
            "15/15 [==============================] - 5s 340ms/step\n"
          ]
        },
        {
          "metadata": {
            "tags": null
          },
          "name": "stderr",
          "output_type": "stream",
          "text": [
            "<ipython-input-190-a058d8cb0168>:16: FutureWarning: The frame.append method is deprecated and will be removed from pandas in a future version. Use pandas.concat instead.\n",
            "  estimations = estimations.append(final_predictions)\n",
            "<ipython-input-186-53997450bf65>:32: SettingWithCopyWarning: \n",
            "A value is trying to be set on a copy of a slice from a DataFrame.\n",
            "Try using .loc[row_indexer,col_indexer] = value instead\n",
            "\n",
            "See the caveats in the documentation: https://pandas.pydata.org/pandas-docs/stable/user_guide/indexing.html#returning-a-view-versus-a-copy\n",
            "  df_un[column_name] = df_un['x'] + noise\n",
            "<ipython-input-186-53997450bf65>:32: SettingWithCopyWarning: \n",
            "A value is trying to be set on a copy of a slice from a DataFrame.\n",
            "Try using .loc[row_indexer,col_indexer] = value instead\n",
            "\n",
            "See the caveats in the documentation: https://pandas.pydata.org/pandas-docs/stable/user_guide/indexing.html#returning-a-view-versus-a-copy\n",
            "  df_un[column_name] = df_un['x'] + noise\n",
            "<ipython-input-25-6b857bf310c0>:23: SettingWithCopyWarning: \n",
            "A value is trying to be set on a copy of a slice from a DataFrame\n",
            "\n",
            "See the caveats in the documentation: https://pandas.pydata.org/pandas-docs/stable/user_guide/indexing.html#returning-a-view-versus-a-copy\n",
            "  df[i-1:i].iloc[:, m] = np.nan\n"
          ]
        },
        {
          "metadata": {
            "tags": null
          },
          "name": "stdout",
          "output_type": "stream",
          "text": [
            "15/15 [==============================] - 4s 274ms/step\n"
          ]
        },
        {
          "metadata": {
            "tags": null
          },
          "name": "stderr",
          "output_type": "stream",
          "text": [
            "<ipython-input-190-a058d8cb0168>:16: FutureWarning: The frame.append method is deprecated and will be removed from pandas in a future version. Use pandas.concat instead.\n",
            "  estimations = estimations.append(final_predictions)\n",
            "<ipython-input-186-53997450bf65>:32: SettingWithCopyWarning: \n",
            "A value is trying to be set on a copy of a slice from a DataFrame.\n",
            "Try using .loc[row_indexer,col_indexer] = value instead\n",
            "\n",
            "See the caveats in the documentation: https://pandas.pydata.org/pandas-docs/stable/user_guide/indexing.html#returning-a-view-versus-a-copy\n",
            "  df_un[column_name] = df_un['x'] + noise\n",
            "<ipython-input-186-53997450bf65>:32: SettingWithCopyWarning: \n",
            "A value is trying to be set on a copy of a slice from a DataFrame.\n",
            "Try using .loc[row_indexer,col_indexer] = value instead\n",
            "\n",
            "See the caveats in the documentation: https://pandas.pydata.org/pandas-docs/stable/user_guide/indexing.html#returning-a-view-versus-a-copy\n",
            "  df_un[column_name] = df_un['x'] + noise\n",
            "<ipython-input-25-6b857bf310c0>:23: SettingWithCopyWarning: \n",
            "A value is trying to be set on a copy of a slice from a DataFrame\n",
            "\n",
            "See the caveats in the documentation: https://pandas.pydata.org/pandas-docs/stable/user_guide/indexing.html#returning-a-view-versus-a-copy\n",
            "  df[i-1:i].iloc[:, m] = np.nan\n"
          ]
        },
        {
          "metadata": {
            "tags": null
          },
          "name": "stdout",
          "output_type": "stream",
          "text": [
            "25/25 [==============================] - 9s 331ms/step\n"
          ]
        },
        {
          "metadata": {
            "tags": null
          },
          "name": "stderr",
          "output_type": "stream",
          "text": [
            "<ipython-input-190-a058d8cb0168>:16: FutureWarning: The frame.append method is deprecated and will be removed from pandas in a future version. Use pandas.concat instead.\n",
            "  estimations = estimations.append(final_predictions)\n",
            "<ipython-input-186-53997450bf65>:32: SettingWithCopyWarning: \n",
            "A value is trying to be set on a copy of a slice from a DataFrame.\n",
            "Try using .loc[row_indexer,col_indexer] = value instead\n",
            "\n",
            "See the caveats in the documentation: https://pandas.pydata.org/pandas-docs/stable/user_guide/indexing.html#returning-a-view-versus-a-copy\n",
            "  df_un[column_name] = df_un['x'] + noise\n",
            "<ipython-input-186-53997450bf65>:32: SettingWithCopyWarning: \n",
            "A value is trying to be set on a copy of a slice from a DataFrame.\n",
            "Try using .loc[row_indexer,col_indexer] = value instead\n",
            "\n",
            "See the caveats in the documentation: https://pandas.pydata.org/pandas-docs/stable/user_guide/indexing.html#returning-a-view-versus-a-copy\n",
            "  df_un[column_name] = df_un['x'] + noise\n",
            "<ipython-input-25-6b857bf310c0>:23: SettingWithCopyWarning: \n",
            "A value is trying to be set on a copy of a slice from a DataFrame\n",
            "\n",
            "See the caveats in the documentation: https://pandas.pydata.org/pandas-docs/stable/user_guide/indexing.html#returning-a-view-versus-a-copy\n",
            "  df[i-1:i].iloc[:, m] = np.nan\n"
          ]
        },
        {
          "metadata": {
            "tags": null
          },
          "name": "stdout",
          "output_type": "stream",
          "text": [
            "25/25 [==============================] - 8s 299ms/step\n"
          ]
        },
        {
          "metadata": {
            "tags": null
          },
          "name": "stderr",
          "output_type": "stream",
          "text": [
            "<ipython-input-190-a058d8cb0168>:16: FutureWarning: The frame.append method is deprecated and will be removed from pandas in a future version. Use pandas.concat instead.\n",
            "  estimations = estimations.append(final_predictions)\n",
            "<ipython-input-186-53997450bf65>:32: SettingWithCopyWarning: \n",
            "A value is trying to be set on a copy of a slice from a DataFrame.\n",
            "Try using .loc[row_indexer,col_indexer] = value instead\n",
            "\n",
            "See the caveats in the documentation: https://pandas.pydata.org/pandas-docs/stable/user_guide/indexing.html#returning-a-view-versus-a-copy\n",
            "  df_un[column_name] = df_un['x'] + noise\n",
            "<ipython-input-186-53997450bf65>:32: SettingWithCopyWarning: \n",
            "A value is trying to be set on a copy of a slice from a DataFrame.\n",
            "Try using .loc[row_indexer,col_indexer] = value instead\n",
            "\n",
            "See the caveats in the documentation: https://pandas.pydata.org/pandas-docs/stable/user_guide/indexing.html#returning-a-view-versus-a-copy\n",
            "  df_un[column_name] = df_un['x'] + noise\n",
            "<ipython-input-25-6b857bf310c0>:23: SettingWithCopyWarning: \n",
            "A value is trying to be set on a copy of a slice from a DataFrame\n",
            "\n",
            "See the caveats in the documentation: https://pandas.pydata.org/pandas-docs/stable/user_guide/indexing.html#returning-a-view-versus-a-copy\n",
            "  df[i-1:i].iloc[:, m] = np.nan\n"
          ]
        },
        {
          "metadata": {
            "tags": null
          },
          "name": "stdout",
          "output_type": "stream",
          "text": [
            "25/25 [==============================] - 7s 283ms/step\n"
          ]
        },
        {
          "metadata": {
            "tags": null
          },
          "name": "stderr",
          "output_type": "stream",
          "text": [
            "<ipython-input-190-a058d8cb0168>:16: FutureWarning: The frame.append method is deprecated and will be removed from pandas in a future version. Use pandas.concat instead.\n",
            "  estimations = estimations.append(final_predictions)\n",
            "<ipython-input-186-53997450bf65>:32: SettingWithCopyWarning: \n",
            "A value is trying to be set on a copy of a slice from a DataFrame.\n",
            "Try using .loc[row_indexer,col_indexer] = value instead\n",
            "\n",
            "See the caveats in the documentation: https://pandas.pydata.org/pandas-docs/stable/user_guide/indexing.html#returning-a-view-versus-a-copy\n",
            "  df_un[column_name] = df_un['x'] + noise\n",
            "<ipython-input-186-53997450bf65>:32: SettingWithCopyWarning: \n",
            "A value is trying to be set on a copy of a slice from a DataFrame.\n",
            "Try using .loc[row_indexer,col_indexer] = value instead\n",
            "\n",
            "See the caveats in the documentation: https://pandas.pydata.org/pandas-docs/stable/user_guide/indexing.html#returning-a-view-versus-a-copy\n",
            "  df_un[column_name] = df_un['x'] + noise\n",
            "<ipython-input-25-6b857bf310c0>:23: SettingWithCopyWarning: \n",
            "A value is trying to be set on a copy of a slice from a DataFrame\n",
            "\n",
            "See the caveats in the documentation: https://pandas.pydata.org/pandas-docs/stable/user_guide/indexing.html#returning-a-view-versus-a-copy\n",
            "  df[i-1:i].iloc[:, m] = np.nan\n"
          ]
        },
        {
          "metadata": {
            "tags": null
          },
          "name": "stdout",
          "output_type": "stream",
          "text": [
            "25/25 [==============================] - 7s 281ms/step\n"
          ]
        },
        {
          "metadata": {
            "tags": null
          },
          "name": "stderr",
          "output_type": "stream",
          "text": [
            "<ipython-input-190-a058d8cb0168>:16: FutureWarning: The frame.append method is deprecated and will be removed from pandas in a future version. Use pandas.concat instead.\n",
            "  estimations = estimations.append(final_predictions)\n",
            "<ipython-input-186-53997450bf65>:32: SettingWithCopyWarning: \n",
            "A value is trying to be set on a copy of a slice from a DataFrame.\n",
            "Try using .loc[row_indexer,col_indexer] = value instead\n",
            "\n",
            "See the caveats in the documentation: https://pandas.pydata.org/pandas-docs/stable/user_guide/indexing.html#returning-a-view-versus-a-copy\n",
            "  df_un[column_name] = df_un['x'] + noise\n",
            "<ipython-input-186-53997450bf65>:32: SettingWithCopyWarning: \n",
            "A value is trying to be set on a copy of a slice from a DataFrame.\n",
            "Try using .loc[row_indexer,col_indexer] = value instead\n",
            "\n",
            "See the caveats in the documentation: https://pandas.pydata.org/pandas-docs/stable/user_guide/indexing.html#returning-a-view-versus-a-copy\n",
            "  df_un[column_name] = df_un['x'] + noise\n",
            "<ipython-input-25-6b857bf310c0>:23: SettingWithCopyWarning: \n",
            "A value is trying to be set on a copy of a slice from a DataFrame\n",
            "\n",
            "See the caveats in the documentation: https://pandas.pydata.org/pandas-docs/stable/user_guide/indexing.html#returning-a-view-versus-a-copy\n",
            "  df[i-1:i].iloc[:, m] = np.nan\n"
          ]
        },
        {
          "metadata": {
            "tags": null
          },
          "name": "stdout",
          "output_type": "stream",
          "text": [
            "25/25 [==============================] - 7s 280ms/step\n"
          ]
        },
        {
          "metadata": {
            "tags": null
          },
          "name": "stderr",
          "output_type": "stream",
          "text": [
            "<ipython-input-190-a058d8cb0168>:16: FutureWarning: The frame.append method is deprecated and will be removed from pandas in a future version. Use pandas.concat instead.\n",
            "  estimations = estimations.append(final_predictions)\n",
            "<ipython-input-186-53997450bf65>:32: SettingWithCopyWarning: \n",
            "A value is trying to be set on a copy of a slice from a DataFrame.\n",
            "Try using .loc[row_indexer,col_indexer] = value instead\n",
            "\n",
            "See the caveats in the documentation: https://pandas.pydata.org/pandas-docs/stable/user_guide/indexing.html#returning-a-view-versus-a-copy\n",
            "  df_un[column_name] = df_un['x'] + noise\n",
            "<ipython-input-186-53997450bf65>:32: SettingWithCopyWarning: \n",
            "A value is trying to be set on a copy of a slice from a DataFrame.\n",
            "Try using .loc[row_indexer,col_indexer] = value instead\n",
            "\n",
            "See the caveats in the documentation: https://pandas.pydata.org/pandas-docs/stable/user_guide/indexing.html#returning-a-view-versus-a-copy\n",
            "  df_un[column_name] = df_un['x'] + noise\n",
            "<ipython-input-25-6b857bf310c0>:23: SettingWithCopyWarning: \n",
            "A value is trying to be set on a copy of a slice from a DataFrame\n",
            "\n",
            "See the caveats in the documentation: https://pandas.pydata.org/pandas-docs/stable/user_guide/indexing.html#returning-a-view-versus-a-copy\n",
            "  df[i-1:i].iloc[:, m] = np.nan\n"
          ]
        },
        {
          "metadata": {
            "tags": null
          },
          "name": "stdout",
          "output_type": "stream",
          "text": [
            "25/25 [==============================] - 7s 278ms/step\n"
          ]
        },
        {
          "metadata": {
            "tags": null
          },
          "name": "stderr",
          "output_type": "stream",
          "text": [
            "<ipython-input-190-a058d8cb0168>:16: FutureWarning: The frame.append method is deprecated and will be removed from pandas in a future version. Use pandas.concat instead.\n",
            "  estimations = estimations.append(final_predictions)\n",
            "<ipython-input-186-53997450bf65>:32: SettingWithCopyWarning: \n",
            "A value is trying to be set on a copy of a slice from a DataFrame.\n",
            "Try using .loc[row_indexer,col_indexer] = value instead\n",
            "\n",
            "See the caveats in the documentation: https://pandas.pydata.org/pandas-docs/stable/user_guide/indexing.html#returning-a-view-versus-a-copy\n",
            "  df_un[column_name] = df_un['x'] + noise\n",
            "<ipython-input-186-53997450bf65>:32: SettingWithCopyWarning: \n",
            "A value is trying to be set on a copy of a slice from a DataFrame.\n",
            "Try using .loc[row_indexer,col_indexer] = value instead\n",
            "\n",
            "See the caveats in the documentation: https://pandas.pydata.org/pandas-docs/stable/user_guide/indexing.html#returning-a-view-versus-a-copy\n",
            "  df_un[column_name] = df_un['x'] + noise\n",
            "<ipython-input-25-6b857bf310c0>:23: SettingWithCopyWarning: \n",
            "A value is trying to be set on a copy of a slice from a DataFrame\n",
            "\n",
            "See the caveats in the documentation: https://pandas.pydata.org/pandas-docs/stable/user_guide/indexing.html#returning-a-view-versus-a-copy\n",
            "  df[i-1:i].iloc[:, m] = np.nan\n"
          ]
        },
        {
          "metadata": {
            "tags": null
          },
          "name": "stdout",
          "output_type": "stream",
          "text": [
            "25/25 [==============================] - 9s 358ms/step\n"
          ]
        },
        {
          "metadata": {
            "tags": null
          },
          "name": "stderr",
          "output_type": "stream",
          "text": [
            "<ipython-input-190-a058d8cb0168>:16: FutureWarning: The frame.append method is deprecated and will be removed from pandas in a future version. Use pandas.concat instead.\n",
            "  estimations = estimations.append(final_predictions)\n",
            "<ipython-input-186-53997450bf65>:32: SettingWithCopyWarning: \n",
            "A value is trying to be set on a copy of a slice from a DataFrame.\n",
            "Try using .loc[row_indexer,col_indexer] = value instead\n",
            "\n",
            "See the caveats in the documentation: https://pandas.pydata.org/pandas-docs/stable/user_guide/indexing.html#returning-a-view-versus-a-copy\n",
            "  df_un[column_name] = df_un['x'] + noise\n",
            "<ipython-input-186-53997450bf65>:32: SettingWithCopyWarning: \n",
            "A value is trying to be set on a copy of a slice from a DataFrame.\n",
            "Try using .loc[row_indexer,col_indexer] = value instead\n",
            "\n",
            "See the caveats in the documentation: https://pandas.pydata.org/pandas-docs/stable/user_guide/indexing.html#returning-a-view-versus-a-copy\n",
            "  df_un[column_name] = df_un['x'] + noise\n",
            "<ipython-input-25-6b857bf310c0>:23: SettingWithCopyWarning: \n",
            "A value is trying to be set on a copy of a slice from a DataFrame\n",
            "\n",
            "See the caveats in the documentation: https://pandas.pydata.org/pandas-docs/stable/user_guide/indexing.html#returning-a-view-versus-a-copy\n",
            "  df[i-1:i].iloc[:, m] = np.nan\n"
          ]
        },
        {
          "metadata": {
            "tags": null
          },
          "name": "stdout",
          "output_type": "stream",
          "text": [
            "25/25 [==============================] - 9s 354ms/step\n"
          ]
        },
        {
          "metadata": {
            "tags": null
          },
          "name": "stderr",
          "output_type": "stream",
          "text": [
            "<ipython-input-190-a058d8cb0168>:16: FutureWarning: The frame.append method is deprecated and will be removed from pandas in a future version. Use pandas.concat instead.\n",
            "  estimations = estimations.append(final_predictions)\n",
            "<ipython-input-186-53997450bf65>:32: SettingWithCopyWarning: \n",
            "A value is trying to be set on a copy of a slice from a DataFrame.\n",
            "Try using .loc[row_indexer,col_indexer] = value instead\n",
            "\n",
            "See the caveats in the documentation: https://pandas.pydata.org/pandas-docs/stable/user_guide/indexing.html#returning-a-view-versus-a-copy\n",
            "  df_un[column_name] = df_un['x'] + noise\n",
            "<ipython-input-186-53997450bf65>:32: SettingWithCopyWarning: \n",
            "A value is trying to be set on a copy of a slice from a DataFrame.\n",
            "Try using .loc[row_indexer,col_indexer] = value instead\n",
            "\n",
            "See the caveats in the documentation: https://pandas.pydata.org/pandas-docs/stable/user_guide/indexing.html#returning-a-view-versus-a-copy\n",
            "  df_un[column_name] = df_un['x'] + noise\n",
            "<ipython-input-25-6b857bf310c0>:23: SettingWithCopyWarning: \n",
            "A value is trying to be set on a copy of a slice from a DataFrame\n",
            "\n",
            "See the caveats in the documentation: https://pandas.pydata.org/pandas-docs/stable/user_guide/indexing.html#returning-a-view-versus-a-copy\n",
            "  df[i-1:i].iloc[:, m] = np.nan\n"
          ]
        },
        {
          "metadata": {
            "tags": null
          },
          "name": "stdout",
          "output_type": "stream",
          "text": [
            "25/25 [==============================] - 9s 353ms/step\n"
          ]
        },
        {
          "metadata": {
            "tags": null
          },
          "name": "stderr",
          "output_type": "stream",
          "text": [
            "<ipython-input-190-a058d8cb0168>:16: FutureWarning: The frame.append method is deprecated and will be removed from pandas in a future version. Use pandas.concat instead.\n",
            "  estimations = estimations.append(final_predictions)\n",
            "<ipython-input-186-53997450bf65>:32: SettingWithCopyWarning: \n",
            "A value is trying to be set on a copy of a slice from a DataFrame.\n",
            "Try using .loc[row_indexer,col_indexer] = value instead\n",
            "\n",
            "See the caveats in the documentation: https://pandas.pydata.org/pandas-docs/stable/user_guide/indexing.html#returning-a-view-versus-a-copy\n",
            "  df_un[column_name] = df_un['x'] + noise\n",
            "<ipython-input-186-53997450bf65>:32: SettingWithCopyWarning: \n",
            "A value is trying to be set on a copy of a slice from a DataFrame.\n",
            "Try using .loc[row_indexer,col_indexer] = value instead\n",
            "\n",
            "See the caveats in the documentation: https://pandas.pydata.org/pandas-docs/stable/user_guide/indexing.html#returning-a-view-versus-a-copy\n",
            "  df_un[column_name] = df_un['x'] + noise\n",
            "<ipython-input-25-6b857bf310c0>:23: SettingWithCopyWarning: \n",
            "A value is trying to be set on a copy of a slice from a DataFrame\n",
            "\n",
            "See the caveats in the documentation: https://pandas.pydata.org/pandas-docs/stable/user_guide/indexing.html#returning-a-view-versus-a-copy\n",
            "  df[i-1:i].iloc[:, m] = np.nan\n"
          ]
        },
        {
          "metadata": {
            "tags": null
          },
          "name": "stdout",
          "output_type": "stream",
          "text": [
            "25/25 [==============================] - 10s 388ms/step\n"
          ]
        },
        {
          "metadata": {
            "tags": null
          },
          "name": "stderr",
          "output_type": "stream",
          "text": [
            "<ipython-input-190-a058d8cb0168>:16: FutureWarning: The frame.append method is deprecated and will be removed from pandas in a future version. Use pandas.concat instead.\n",
            "  estimations = estimations.append(final_predictions)\n",
            "<ipython-input-186-53997450bf65>:32: SettingWithCopyWarning: \n",
            "A value is trying to be set on a copy of a slice from a DataFrame.\n",
            "Try using .loc[row_indexer,col_indexer] = value instead\n",
            "\n",
            "See the caveats in the documentation: https://pandas.pydata.org/pandas-docs/stable/user_guide/indexing.html#returning-a-view-versus-a-copy\n",
            "  df_un[column_name] = df_un['x'] + noise\n",
            "<ipython-input-186-53997450bf65>:32: SettingWithCopyWarning: \n",
            "A value is trying to be set on a copy of a slice from a DataFrame.\n",
            "Try using .loc[row_indexer,col_indexer] = value instead\n",
            "\n",
            "See the caveats in the documentation: https://pandas.pydata.org/pandas-docs/stable/user_guide/indexing.html#returning-a-view-versus-a-copy\n",
            "  df_un[column_name] = df_un['x'] + noise\n",
            "<ipython-input-25-6b857bf310c0>:23: SettingWithCopyWarning: \n",
            "A value is trying to be set on a copy of a slice from a DataFrame\n",
            "\n",
            "See the caveats in the documentation: https://pandas.pydata.org/pandas-docs/stable/user_guide/indexing.html#returning-a-view-versus-a-copy\n",
            "  df[i-1:i].iloc[:, m] = np.nan\n"
          ]
        },
        {
          "metadata": {
            "tags": null
          },
          "name": "stdout",
          "output_type": "stream",
          "text": [
            "25/25 [==============================] - 9s 353ms/step\n"
          ]
        },
        {
          "metadata": {
            "tags": null
          },
          "name": "stderr",
          "output_type": "stream",
          "text": [
            "<ipython-input-190-a058d8cb0168>:16: FutureWarning: The frame.append method is deprecated and will be removed from pandas in a future version. Use pandas.concat instead.\n",
            "  estimations = estimations.append(final_predictions)\n",
            "<ipython-input-186-53997450bf65>:32: SettingWithCopyWarning: \n",
            "A value is trying to be set on a copy of a slice from a DataFrame.\n",
            "Try using .loc[row_indexer,col_indexer] = value instead\n",
            "\n",
            "See the caveats in the documentation: https://pandas.pydata.org/pandas-docs/stable/user_guide/indexing.html#returning-a-view-versus-a-copy\n",
            "  df_un[column_name] = df_un['x'] + noise\n",
            "<ipython-input-186-53997450bf65>:32: SettingWithCopyWarning: \n",
            "A value is trying to be set on a copy of a slice from a DataFrame.\n",
            "Try using .loc[row_indexer,col_indexer] = value instead\n",
            "\n",
            "See the caveats in the documentation: https://pandas.pydata.org/pandas-docs/stable/user_guide/indexing.html#returning-a-view-versus-a-copy\n",
            "  df_un[column_name] = df_un['x'] + noise\n",
            "<ipython-input-25-6b857bf310c0>:23: SettingWithCopyWarning: \n",
            "A value is trying to be set on a copy of a slice from a DataFrame\n",
            "\n",
            "See the caveats in the documentation: https://pandas.pydata.org/pandas-docs/stable/user_guide/indexing.html#returning-a-view-versus-a-copy\n",
            "  df[i-1:i].iloc[:, m] = np.nan\n"
          ]
        },
        {
          "metadata": {
            "tags": null
          },
          "name": "stdout",
          "output_type": "stream",
          "text": [
            "25/25 [==============================] - 9s 349ms/step\n"
          ]
        },
        {
          "metadata": {
            "tags": null
          },
          "name": "stderr",
          "output_type": "stream",
          "text": [
            "<ipython-input-190-a058d8cb0168>:16: FutureWarning: The frame.append method is deprecated and will be removed from pandas in a future version. Use pandas.concat instead.\n",
            "  estimations = estimations.append(final_predictions)\n",
            "<ipython-input-186-53997450bf65>:32: SettingWithCopyWarning: \n",
            "A value is trying to be set on a copy of a slice from a DataFrame.\n",
            "Try using .loc[row_indexer,col_indexer] = value instead\n",
            "\n",
            "See the caveats in the documentation: https://pandas.pydata.org/pandas-docs/stable/user_guide/indexing.html#returning-a-view-versus-a-copy\n",
            "  df_un[column_name] = df_un['x'] + noise\n",
            "<ipython-input-186-53997450bf65>:32: SettingWithCopyWarning: \n",
            "A value is trying to be set on a copy of a slice from a DataFrame.\n",
            "Try using .loc[row_indexer,col_indexer] = value instead\n",
            "\n",
            "See the caveats in the documentation: https://pandas.pydata.org/pandas-docs/stable/user_guide/indexing.html#returning-a-view-versus-a-copy\n",
            "  df_un[column_name] = df_un['x'] + noise\n",
            "<ipython-input-25-6b857bf310c0>:23: SettingWithCopyWarning: \n",
            "A value is trying to be set on a copy of a slice from a DataFrame\n",
            "\n",
            "See the caveats in the documentation: https://pandas.pydata.org/pandas-docs/stable/user_guide/indexing.html#returning-a-view-versus-a-copy\n",
            "  df[i-1:i].iloc[:, m] = np.nan\n"
          ]
        },
        {
          "metadata": {
            "tags": null
          },
          "name": "stdout",
          "output_type": "stream",
          "text": [
            "25/25 [==============================] - 9s 349ms/step\n"
          ]
        },
        {
          "metadata": {
            "tags": null
          },
          "name": "stderr",
          "output_type": "stream",
          "text": [
            "<ipython-input-190-a058d8cb0168>:16: FutureWarning: The frame.append method is deprecated and will be removed from pandas in a future version. Use pandas.concat instead.\n",
            "  estimations = estimations.append(final_predictions)\n",
            "<ipython-input-186-53997450bf65>:32: SettingWithCopyWarning: \n",
            "A value is trying to be set on a copy of a slice from a DataFrame.\n",
            "Try using .loc[row_indexer,col_indexer] = value instead\n",
            "\n",
            "See the caveats in the documentation: https://pandas.pydata.org/pandas-docs/stable/user_guide/indexing.html#returning-a-view-versus-a-copy\n",
            "  df_un[column_name] = df_un['x'] + noise\n",
            "<ipython-input-186-53997450bf65>:32: SettingWithCopyWarning: \n",
            "A value is trying to be set on a copy of a slice from a DataFrame.\n",
            "Try using .loc[row_indexer,col_indexer] = value instead\n",
            "\n",
            "See the caveats in the documentation: https://pandas.pydata.org/pandas-docs/stable/user_guide/indexing.html#returning-a-view-versus-a-copy\n",
            "  df_un[column_name] = df_un['x'] + noise\n",
            "<ipython-input-25-6b857bf310c0>:23: SettingWithCopyWarning: \n",
            "A value is trying to be set on a copy of a slice from a DataFrame\n",
            "\n",
            "See the caveats in the documentation: https://pandas.pydata.org/pandas-docs/stable/user_guide/indexing.html#returning-a-view-versus-a-copy\n",
            "  df[i-1:i].iloc[:, m] = np.nan\n"
          ]
        },
        {
          "metadata": {
            "tags": null
          },
          "name": "stdout",
          "output_type": "stream",
          "text": [
            "25/25 [==============================] - 9s 360ms/step\n"
          ]
        },
        {
          "metadata": {
            "tags": null
          },
          "name": "stderr",
          "output_type": "stream",
          "text": [
            "<ipython-input-190-a058d8cb0168>:16: FutureWarning: The frame.append method is deprecated and will be removed from pandas in a future version. Use pandas.concat instead.\n",
            "  estimations = estimations.append(final_predictions)\n",
            "<ipython-input-186-53997450bf65>:32: SettingWithCopyWarning: \n",
            "A value is trying to be set on a copy of a slice from a DataFrame.\n",
            "Try using .loc[row_indexer,col_indexer] = value instead\n",
            "\n",
            "See the caveats in the documentation: https://pandas.pydata.org/pandas-docs/stable/user_guide/indexing.html#returning-a-view-versus-a-copy\n",
            "  df_un[column_name] = df_un['x'] + noise\n",
            "<ipython-input-186-53997450bf65>:32: SettingWithCopyWarning: \n",
            "A value is trying to be set on a copy of a slice from a DataFrame.\n",
            "Try using .loc[row_indexer,col_indexer] = value instead\n",
            "\n",
            "See the caveats in the documentation: https://pandas.pydata.org/pandas-docs/stable/user_guide/indexing.html#returning-a-view-versus-a-copy\n",
            "  df_un[column_name] = df_un['x'] + noise\n",
            "<ipython-input-25-6b857bf310c0>:23: SettingWithCopyWarning: \n",
            "A value is trying to be set on a copy of a slice from a DataFrame\n",
            "\n",
            "See the caveats in the documentation: https://pandas.pydata.org/pandas-docs/stable/user_guide/indexing.html#returning-a-view-versus-a-copy\n",
            "  df[i-1:i].iloc[:, m] = np.nan\n"
          ]
        },
        {
          "metadata": {
            "tags": null
          },
          "name": "stdout",
          "output_type": "stream",
          "text": [
            "25/25 [==============================] - 9s 357ms/step\n"
          ]
        },
        {
          "metadata": {
            "tags": null
          },
          "name": "stderr",
          "output_type": "stream",
          "text": [
            "<ipython-input-190-a058d8cb0168>:16: FutureWarning: The frame.append method is deprecated and will be removed from pandas in a future version. Use pandas.concat instead.\n",
            "  estimations = estimations.append(final_predictions)\n",
            "<ipython-input-186-53997450bf65>:32: SettingWithCopyWarning: \n",
            "A value is trying to be set on a copy of a slice from a DataFrame.\n",
            "Try using .loc[row_indexer,col_indexer] = value instead\n",
            "\n",
            "See the caveats in the documentation: https://pandas.pydata.org/pandas-docs/stable/user_guide/indexing.html#returning-a-view-versus-a-copy\n",
            "  df_un[column_name] = df_un['x'] + noise\n",
            "<ipython-input-186-53997450bf65>:32: SettingWithCopyWarning: \n",
            "A value is trying to be set on a copy of a slice from a DataFrame.\n",
            "Try using .loc[row_indexer,col_indexer] = value instead\n",
            "\n",
            "See the caveats in the documentation: https://pandas.pydata.org/pandas-docs/stable/user_guide/indexing.html#returning-a-view-versus-a-copy\n",
            "  df_un[column_name] = df_un['x'] + noise\n",
            "<ipython-input-25-6b857bf310c0>:23: SettingWithCopyWarning: \n",
            "A value is trying to be set on a copy of a slice from a DataFrame\n",
            "\n",
            "See the caveats in the documentation: https://pandas.pydata.org/pandas-docs/stable/user_guide/indexing.html#returning-a-view-versus-a-copy\n",
            "  df[i-1:i].iloc[:, m] = np.nan\n"
          ]
        },
        {
          "metadata": {
            "tags": null
          },
          "name": "stdout",
          "output_type": "stream",
          "text": [
            "25/25 [==============================] - 9s 359ms/step\n"
          ]
        },
        {
          "metadata": {
            "tags": null
          },
          "name": "stderr",
          "output_type": "stream",
          "text": [
            "<ipython-input-190-a058d8cb0168>:16: FutureWarning: The frame.append method is deprecated and will be removed from pandas in a future version. Use pandas.concat instead.\n",
            "  estimations = estimations.append(final_predictions)\n",
            "<ipython-input-186-53997450bf65>:32: SettingWithCopyWarning: \n",
            "A value is trying to be set on a copy of a slice from a DataFrame.\n",
            "Try using .loc[row_indexer,col_indexer] = value instead\n",
            "\n",
            "See the caveats in the documentation: https://pandas.pydata.org/pandas-docs/stable/user_guide/indexing.html#returning-a-view-versus-a-copy\n",
            "  df_un[column_name] = df_un['x'] + noise\n",
            "<ipython-input-186-53997450bf65>:32: SettingWithCopyWarning: \n",
            "A value is trying to be set on a copy of a slice from a DataFrame.\n",
            "Try using .loc[row_indexer,col_indexer] = value instead\n",
            "\n",
            "See the caveats in the documentation: https://pandas.pydata.org/pandas-docs/stable/user_guide/indexing.html#returning-a-view-versus-a-copy\n",
            "  df_un[column_name] = df_un['x'] + noise\n",
            "<ipython-input-25-6b857bf310c0>:23: SettingWithCopyWarning: \n",
            "A value is trying to be set on a copy of a slice from a DataFrame\n",
            "\n",
            "See the caveats in the documentation: https://pandas.pydata.org/pandas-docs/stable/user_guide/indexing.html#returning-a-view-versus-a-copy\n",
            "  df[i-1:i].iloc[:, m] = np.nan\n"
          ]
        },
        {
          "metadata": {
            "tags": null
          },
          "name": "stdout",
          "output_type": "stream",
          "text": [
            "25/25 [==============================] - 9s 359ms/step\n"
          ]
        },
        {
          "metadata": {
            "tags": null
          },
          "name": "stderr",
          "output_type": "stream",
          "text": [
            "<ipython-input-190-a058d8cb0168>:16: FutureWarning: The frame.append method is deprecated and will be removed from pandas in a future version. Use pandas.concat instead.\n",
            "  estimations = estimations.append(final_predictions)\n",
            "<ipython-input-186-53997450bf65>:32: SettingWithCopyWarning: \n",
            "A value is trying to be set on a copy of a slice from a DataFrame.\n",
            "Try using .loc[row_indexer,col_indexer] = value instead\n",
            "\n",
            "See the caveats in the documentation: https://pandas.pydata.org/pandas-docs/stable/user_guide/indexing.html#returning-a-view-versus-a-copy\n",
            "  df_un[column_name] = df_un['x'] + noise\n",
            "<ipython-input-186-53997450bf65>:32: SettingWithCopyWarning: \n",
            "A value is trying to be set on a copy of a slice from a DataFrame.\n",
            "Try using .loc[row_indexer,col_indexer] = value instead\n",
            "\n",
            "See the caveats in the documentation: https://pandas.pydata.org/pandas-docs/stable/user_guide/indexing.html#returning-a-view-versus-a-copy\n",
            "  df_un[column_name] = df_un['x'] + noise\n",
            "<ipython-input-25-6b857bf310c0>:23: SettingWithCopyWarning: \n",
            "A value is trying to be set on a copy of a slice from a DataFrame\n",
            "\n",
            "See the caveats in the documentation: https://pandas.pydata.org/pandas-docs/stable/user_guide/indexing.html#returning-a-view-versus-a-copy\n",
            "  df[i-1:i].iloc[:, m] = np.nan\n"
          ]
        },
        {
          "metadata": {
            "tags": null
          },
          "name": "stdout",
          "output_type": "stream",
          "text": [
            "25/25 [==============================] - 9s 365ms/step\n"
          ]
        },
        {
          "metadata": {
            "tags": null
          },
          "name": "stderr",
          "output_type": "stream",
          "text": [
            "<ipython-input-190-a058d8cb0168>:16: FutureWarning: The frame.append method is deprecated and will be removed from pandas in a future version. Use pandas.concat instead.\n",
            "  estimations = estimations.append(final_predictions)\n",
            "<ipython-input-186-53997450bf65>:32: SettingWithCopyWarning: \n",
            "A value is trying to be set on a copy of a slice from a DataFrame.\n",
            "Try using .loc[row_indexer,col_indexer] = value instead\n",
            "\n",
            "See the caveats in the documentation: https://pandas.pydata.org/pandas-docs/stable/user_guide/indexing.html#returning-a-view-versus-a-copy\n",
            "  df_un[column_name] = df_un['x'] + noise\n",
            "<ipython-input-186-53997450bf65>:32: SettingWithCopyWarning: \n",
            "A value is trying to be set on a copy of a slice from a DataFrame.\n",
            "Try using .loc[row_indexer,col_indexer] = value instead\n",
            "\n",
            "See the caveats in the documentation: https://pandas.pydata.org/pandas-docs/stable/user_guide/indexing.html#returning-a-view-versus-a-copy\n",
            "  df_un[column_name] = df_un['x'] + noise\n",
            "<ipython-input-25-6b857bf310c0>:23: SettingWithCopyWarning: \n",
            "A value is trying to be set on a copy of a slice from a DataFrame\n",
            "\n",
            "See the caveats in the documentation: https://pandas.pydata.org/pandas-docs/stable/user_guide/indexing.html#returning-a-view-versus-a-copy\n",
            "  df[i-1:i].iloc[:, m] = np.nan\n"
          ]
        },
        {
          "metadata": {
            "tags": null
          },
          "name": "stdout",
          "output_type": "stream",
          "text": [
            "28/28 [==============================] - 11s 413ms/step\n"
          ]
        },
        {
          "metadata": {
            "tags": null
          },
          "name": "stderr",
          "output_type": "stream",
          "text": [
            "<ipython-input-190-a058d8cb0168>:16: FutureWarning: The frame.append method is deprecated and will be removed from pandas in a future version. Use pandas.concat instead.\n",
            "  estimations = estimations.append(final_predictions)\n",
            "<ipython-input-186-53997450bf65>:32: SettingWithCopyWarning: \n",
            "A value is trying to be set on a copy of a slice from a DataFrame.\n",
            "Try using .loc[row_indexer,col_indexer] = value instead\n",
            "\n",
            "See the caveats in the documentation: https://pandas.pydata.org/pandas-docs/stable/user_guide/indexing.html#returning-a-view-versus-a-copy\n",
            "  df_un[column_name] = df_un['x'] + noise\n",
            "<ipython-input-186-53997450bf65>:32: SettingWithCopyWarning: \n",
            "A value is trying to be set on a copy of a slice from a DataFrame.\n",
            "Try using .loc[row_indexer,col_indexer] = value instead\n",
            "\n",
            "See the caveats in the documentation: https://pandas.pydata.org/pandas-docs/stable/user_guide/indexing.html#returning-a-view-versus-a-copy\n",
            "  df_un[column_name] = df_un['x'] + noise\n",
            "<ipython-input-25-6b857bf310c0>:23: SettingWithCopyWarning: \n",
            "A value is trying to be set on a copy of a slice from a DataFrame\n",
            "\n",
            "See the caveats in the documentation: https://pandas.pydata.org/pandas-docs/stable/user_guide/indexing.html#returning-a-view-versus-a-copy\n",
            "  df[i-1:i].iloc[:, m] = np.nan\n"
          ]
        },
        {
          "metadata": {
            "tags": null
          },
          "name": "stdout",
          "output_type": "stream",
          "text": [
            "28/28 [==============================] - 10s 347ms/step\n"
          ]
        },
        {
          "metadata": {
            "tags": null
          },
          "name": "stderr",
          "output_type": "stream",
          "text": [
            "<ipython-input-190-a058d8cb0168>:16: FutureWarning: The frame.append method is deprecated and will be removed from pandas in a future version. Use pandas.concat instead.\n",
            "  estimations = estimations.append(final_predictions)\n",
            "<ipython-input-186-53997450bf65>:32: SettingWithCopyWarning: \n",
            "A value is trying to be set on a copy of a slice from a DataFrame.\n",
            "Try using .loc[row_indexer,col_indexer] = value instead\n",
            "\n",
            "See the caveats in the documentation: https://pandas.pydata.org/pandas-docs/stable/user_guide/indexing.html#returning-a-view-versus-a-copy\n",
            "  df_un[column_name] = df_un['x'] + noise\n",
            "<ipython-input-186-53997450bf65>:32: SettingWithCopyWarning: \n",
            "A value is trying to be set on a copy of a slice from a DataFrame.\n",
            "Try using .loc[row_indexer,col_indexer] = value instead\n",
            "\n",
            "See the caveats in the documentation: https://pandas.pydata.org/pandas-docs/stable/user_guide/indexing.html#returning-a-view-versus-a-copy\n",
            "  df_un[column_name] = df_un['x'] + noise\n",
            "<ipython-input-25-6b857bf310c0>:23: SettingWithCopyWarning: \n",
            "A value is trying to be set on a copy of a slice from a DataFrame\n",
            "\n",
            "See the caveats in the documentation: https://pandas.pydata.org/pandas-docs/stable/user_guide/indexing.html#returning-a-view-versus-a-copy\n",
            "  df[i-1:i].iloc[:, m] = np.nan\n"
          ]
        },
        {
          "metadata": {
            "tags": null
          },
          "name": "stdout",
          "output_type": "stream",
          "text": [
            "28/28 [==============================] - 10s 347ms/step\n"
          ]
        },
        {
          "metadata": {
            "tags": null
          },
          "name": "stderr",
          "output_type": "stream",
          "text": [
            "<ipython-input-190-a058d8cb0168>:16: FutureWarning: The frame.append method is deprecated and will be removed from pandas in a future version. Use pandas.concat instead.\n",
            "  estimations = estimations.append(final_predictions)\n",
            "<ipython-input-186-53997450bf65>:32: SettingWithCopyWarning: \n",
            "A value is trying to be set on a copy of a slice from a DataFrame.\n",
            "Try using .loc[row_indexer,col_indexer] = value instead\n",
            "\n",
            "See the caveats in the documentation: https://pandas.pydata.org/pandas-docs/stable/user_guide/indexing.html#returning-a-view-versus-a-copy\n",
            "  df_un[column_name] = df_un['x'] + noise\n",
            "<ipython-input-186-53997450bf65>:32: SettingWithCopyWarning: \n",
            "A value is trying to be set on a copy of a slice from a DataFrame.\n",
            "Try using .loc[row_indexer,col_indexer] = value instead\n",
            "\n",
            "See the caveats in the documentation: https://pandas.pydata.org/pandas-docs/stable/user_guide/indexing.html#returning-a-view-versus-a-copy\n",
            "  df_un[column_name] = df_un['x'] + noise\n",
            "<ipython-input-25-6b857bf310c0>:23: SettingWithCopyWarning: \n",
            "A value is trying to be set on a copy of a slice from a DataFrame\n",
            "\n",
            "See the caveats in the documentation: https://pandas.pydata.org/pandas-docs/stable/user_guide/indexing.html#returning-a-view-versus-a-copy\n",
            "  df[i-1:i].iloc[:, m] = np.nan\n"
          ]
        },
        {
          "metadata": {
            "tags": null
          },
          "name": "stdout",
          "output_type": "stream",
          "text": [
            "28/28 [==============================] - 10s 345ms/step\n"
          ]
        },
        {
          "metadata": {
            "tags": null
          },
          "name": "stderr",
          "output_type": "stream",
          "text": [
            "<ipython-input-190-a058d8cb0168>:16: FutureWarning: The frame.append method is deprecated and will be removed from pandas in a future version. Use pandas.concat instead.\n",
            "  estimations = estimations.append(final_predictions)\n",
            "<ipython-input-186-53997450bf65>:32: SettingWithCopyWarning: \n",
            "A value is trying to be set on a copy of a slice from a DataFrame.\n",
            "Try using .loc[row_indexer,col_indexer] = value instead\n",
            "\n",
            "See the caveats in the documentation: https://pandas.pydata.org/pandas-docs/stable/user_guide/indexing.html#returning-a-view-versus-a-copy\n",
            "  df_un[column_name] = df_un['x'] + noise\n",
            "<ipython-input-186-53997450bf65>:32: SettingWithCopyWarning: \n",
            "A value is trying to be set on a copy of a slice from a DataFrame.\n",
            "Try using .loc[row_indexer,col_indexer] = value instead\n",
            "\n",
            "See the caveats in the documentation: https://pandas.pydata.org/pandas-docs/stable/user_guide/indexing.html#returning-a-view-versus-a-copy\n",
            "  df_un[column_name] = df_un['x'] + noise\n",
            "<ipython-input-25-6b857bf310c0>:23: SettingWithCopyWarning: \n",
            "A value is trying to be set on a copy of a slice from a DataFrame\n",
            "\n",
            "See the caveats in the documentation: https://pandas.pydata.org/pandas-docs/stable/user_guide/indexing.html#returning-a-view-versus-a-copy\n",
            "  df[i-1:i].iloc[:, m] = np.nan\n"
          ]
        },
        {
          "metadata": {
            "tags": null
          },
          "name": "stdout",
          "output_type": "stream",
          "text": [
            "28/28 [==============================] - 10s 344ms/step\n"
          ]
        },
        {
          "metadata": {
            "tags": null
          },
          "name": "stderr",
          "output_type": "stream",
          "text": [
            "<ipython-input-190-a058d8cb0168>:16: FutureWarning: The frame.append method is deprecated and will be removed from pandas in a future version. Use pandas.concat instead.\n",
            "  estimations = estimations.append(final_predictions)\n",
            "<ipython-input-186-53997450bf65>:32: SettingWithCopyWarning: \n",
            "A value is trying to be set on a copy of a slice from a DataFrame.\n",
            "Try using .loc[row_indexer,col_indexer] = value instead\n",
            "\n",
            "See the caveats in the documentation: https://pandas.pydata.org/pandas-docs/stable/user_guide/indexing.html#returning-a-view-versus-a-copy\n",
            "  df_un[column_name] = df_un['x'] + noise\n",
            "<ipython-input-186-53997450bf65>:32: SettingWithCopyWarning: \n",
            "A value is trying to be set on a copy of a slice from a DataFrame.\n",
            "Try using .loc[row_indexer,col_indexer] = value instead\n",
            "\n",
            "See the caveats in the documentation: https://pandas.pydata.org/pandas-docs/stable/user_guide/indexing.html#returning-a-view-versus-a-copy\n",
            "  df_un[column_name] = df_un['x'] + noise\n",
            "<ipython-input-25-6b857bf310c0>:23: SettingWithCopyWarning: \n",
            "A value is trying to be set on a copy of a slice from a DataFrame\n",
            "\n",
            "See the caveats in the documentation: https://pandas.pydata.org/pandas-docs/stable/user_guide/indexing.html#returning-a-view-versus-a-copy\n",
            "  df[i-1:i].iloc[:, m] = np.nan\n"
          ]
        },
        {
          "metadata": {
            "tags": null
          },
          "name": "stdout",
          "output_type": "stream",
          "text": [
            "28/28 [==============================] - 10s 346ms/step\n"
          ]
        },
        {
          "metadata": {
            "tags": null
          },
          "name": "stderr",
          "output_type": "stream",
          "text": [
            "<ipython-input-190-a058d8cb0168>:16: FutureWarning: The frame.append method is deprecated and will be removed from pandas in a future version. Use pandas.concat instead.\n",
            "  estimations = estimations.append(final_predictions)\n",
            "<ipython-input-186-53997450bf65>:32: SettingWithCopyWarning: \n",
            "A value is trying to be set on a copy of a slice from a DataFrame.\n",
            "Try using .loc[row_indexer,col_indexer] = value instead\n",
            "\n",
            "See the caveats in the documentation: https://pandas.pydata.org/pandas-docs/stable/user_guide/indexing.html#returning-a-view-versus-a-copy\n",
            "  df_un[column_name] = df_un['x'] + noise\n",
            "<ipython-input-186-53997450bf65>:32: SettingWithCopyWarning: \n",
            "A value is trying to be set on a copy of a slice from a DataFrame.\n",
            "Try using .loc[row_indexer,col_indexer] = value instead\n",
            "\n",
            "See the caveats in the documentation: https://pandas.pydata.org/pandas-docs/stable/user_guide/indexing.html#returning-a-view-versus-a-copy\n",
            "  df_un[column_name] = df_un['x'] + noise\n",
            "<ipython-input-25-6b857bf310c0>:23: SettingWithCopyWarning: \n",
            "A value is trying to be set on a copy of a slice from a DataFrame\n",
            "\n",
            "See the caveats in the documentation: https://pandas.pydata.org/pandas-docs/stable/user_guide/indexing.html#returning-a-view-versus-a-copy\n",
            "  df[i-1:i].iloc[:, m] = np.nan\n"
          ]
        },
        {
          "metadata": {
            "tags": null
          },
          "name": "stdout",
          "output_type": "stream",
          "text": [
            "28/28 [==============================] - 10s 342ms/step\n"
          ]
        },
        {
          "metadata": {
            "tags": null
          },
          "name": "stderr",
          "output_type": "stream",
          "text": [
            "<ipython-input-190-a058d8cb0168>:16: FutureWarning: The frame.append method is deprecated and will be removed from pandas in a future version. Use pandas.concat instead.\n",
            "  estimations = estimations.append(final_predictions)\n",
            "<ipython-input-186-53997450bf65>:32: SettingWithCopyWarning: \n",
            "A value is trying to be set on a copy of a slice from a DataFrame.\n",
            "Try using .loc[row_indexer,col_indexer] = value instead\n",
            "\n",
            "See the caveats in the documentation: https://pandas.pydata.org/pandas-docs/stable/user_guide/indexing.html#returning-a-view-versus-a-copy\n",
            "  df_un[column_name] = df_un['x'] + noise\n",
            "<ipython-input-186-53997450bf65>:32: SettingWithCopyWarning: \n",
            "A value is trying to be set on a copy of a slice from a DataFrame.\n",
            "Try using .loc[row_indexer,col_indexer] = value instead\n",
            "\n",
            "See the caveats in the documentation: https://pandas.pydata.org/pandas-docs/stable/user_guide/indexing.html#returning-a-view-versus-a-copy\n",
            "  df_un[column_name] = df_un['x'] + noise\n",
            "<ipython-input-25-6b857bf310c0>:23: SettingWithCopyWarning: \n",
            "A value is trying to be set on a copy of a slice from a DataFrame\n",
            "\n",
            "See the caveats in the documentation: https://pandas.pydata.org/pandas-docs/stable/user_guide/indexing.html#returning-a-view-versus-a-copy\n",
            "  df[i-1:i].iloc[:, m] = np.nan\n"
          ]
        },
        {
          "metadata": {
            "tags": null
          },
          "name": "stdout",
          "output_type": "stream",
          "text": [
            "28/28 [==============================] - 9s 310ms/step\n"
          ]
        },
        {
          "metadata": {
            "tags": null
          },
          "name": "stderr",
          "output_type": "stream",
          "text": [
            "<ipython-input-190-a058d8cb0168>:16: FutureWarning: The frame.append method is deprecated and will be removed from pandas in a future version. Use pandas.concat instead.\n",
            "  estimations = estimations.append(final_predictions)\n",
            "<ipython-input-186-53997450bf65>:32: SettingWithCopyWarning: \n",
            "A value is trying to be set on a copy of a slice from a DataFrame.\n",
            "Try using .loc[row_indexer,col_indexer] = value instead\n",
            "\n",
            "See the caveats in the documentation: https://pandas.pydata.org/pandas-docs/stable/user_guide/indexing.html#returning-a-view-versus-a-copy\n",
            "  df_un[column_name] = df_un['x'] + noise\n",
            "<ipython-input-186-53997450bf65>:32: SettingWithCopyWarning: \n",
            "A value is trying to be set on a copy of a slice from a DataFrame.\n",
            "Try using .loc[row_indexer,col_indexer] = value instead\n",
            "\n",
            "See the caveats in the documentation: https://pandas.pydata.org/pandas-docs/stable/user_guide/indexing.html#returning-a-view-versus-a-copy\n",
            "  df_un[column_name] = df_un['x'] + noise\n",
            "<ipython-input-25-6b857bf310c0>:23: SettingWithCopyWarning: \n",
            "A value is trying to be set on a copy of a slice from a DataFrame\n",
            "\n",
            "See the caveats in the documentation: https://pandas.pydata.org/pandas-docs/stable/user_guide/indexing.html#returning-a-view-versus-a-copy\n",
            "  df[i-1:i].iloc[:, m] = np.nan\n"
          ]
        },
        {
          "metadata": {
            "tags": null
          },
          "name": "stdout",
          "output_type": "stream",
          "text": [
            "28/28 [==============================] - 8s 282ms/step\n"
          ]
        },
        {
          "metadata": {
            "tags": null
          },
          "name": "stderr",
          "output_type": "stream",
          "text": [
            "<ipython-input-190-a058d8cb0168>:16: FutureWarning: The frame.append method is deprecated and will be removed from pandas in a future version. Use pandas.concat instead.\n",
            "  estimations = estimations.append(final_predictions)\n",
            "<ipython-input-186-53997450bf65>:32: SettingWithCopyWarning: \n",
            "A value is trying to be set on a copy of a slice from a DataFrame.\n",
            "Try using .loc[row_indexer,col_indexer] = value instead\n",
            "\n",
            "See the caveats in the documentation: https://pandas.pydata.org/pandas-docs/stable/user_guide/indexing.html#returning-a-view-versus-a-copy\n",
            "  df_un[column_name] = df_un['x'] + noise\n",
            "<ipython-input-186-53997450bf65>:32: SettingWithCopyWarning: \n",
            "A value is trying to be set on a copy of a slice from a DataFrame.\n",
            "Try using .loc[row_indexer,col_indexer] = value instead\n",
            "\n",
            "See the caveats in the documentation: https://pandas.pydata.org/pandas-docs/stable/user_guide/indexing.html#returning-a-view-versus-a-copy\n",
            "  df_un[column_name] = df_un['x'] + noise\n",
            "<ipython-input-25-6b857bf310c0>:23: SettingWithCopyWarning: \n",
            "A value is trying to be set on a copy of a slice from a DataFrame\n",
            "\n",
            "See the caveats in the documentation: https://pandas.pydata.org/pandas-docs/stable/user_guide/indexing.html#returning-a-view-versus-a-copy\n",
            "  df[i-1:i].iloc[:, m] = np.nan\n"
          ]
        },
        {
          "metadata": {
            "tags": null
          },
          "name": "stdout",
          "output_type": "stream",
          "text": [
            "19/19 [==============================] - 6s 312ms/step\n"
          ]
        },
        {
          "metadata": {
            "tags": null
          },
          "name": "stderr",
          "output_type": "stream",
          "text": [
            "<ipython-input-190-a058d8cb0168>:16: FutureWarning: The frame.append method is deprecated and will be removed from pandas in a future version. Use pandas.concat instead.\n",
            "  estimations = estimations.append(final_predictions)\n",
            "<ipython-input-186-53997450bf65>:32: SettingWithCopyWarning: \n",
            "A value is trying to be set on a copy of a slice from a DataFrame.\n",
            "Try using .loc[row_indexer,col_indexer] = value instead\n",
            "\n",
            "See the caveats in the documentation: https://pandas.pydata.org/pandas-docs/stable/user_guide/indexing.html#returning-a-view-versus-a-copy\n",
            "  df_un[column_name] = df_un['x'] + noise\n",
            "<ipython-input-186-53997450bf65>:32: SettingWithCopyWarning: \n",
            "A value is trying to be set on a copy of a slice from a DataFrame.\n",
            "Try using .loc[row_indexer,col_indexer] = value instead\n",
            "\n",
            "See the caveats in the documentation: https://pandas.pydata.org/pandas-docs/stable/user_guide/indexing.html#returning-a-view-versus-a-copy\n",
            "  df_un[column_name] = df_un['x'] + noise\n",
            "<ipython-input-25-6b857bf310c0>:23: SettingWithCopyWarning: \n",
            "A value is trying to be set on a copy of a slice from a DataFrame\n",
            "\n",
            "See the caveats in the documentation: https://pandas.pydata.org/pandas-docs/stable/user_guide/indexing.html#returning-a-view-versus-a-copy\n",
            "  df[i-1:i].iloc[:, m] = np.nan\n"
          ]
        },
        {
          "metadata": {
            "tags": null
          },
          "name": "stdout",
          "output_type": "stream",
          "text": [
            "19/19 [==============================] - 5s 277ms/step\n"
          ]
        },
        {
          "metadata": {
            "tags": null
          },
          "name": "stderr",
          "output_type": "stream",
          "text": [
            "<ipython-input-190-a058d8cb0168>:16: FutureWarning: The frame.append method is deprecated and will be removed from pandas in a future version. Use pandas.concat instead.\n",
            "  estimations = estimations.append(final_predictions)\n",
            "<ipython-input-186-53997450bf65>:32: SettingWithCopyWarning: \n",
            "A value is trying to be set on a copy of a slice from a DataFrame.\n",
            "Try using .loc[row_indexer,col_indexer] = value instead\n",
            "\n",
            "See the caveats in the documentation: https://pandas.pydata.org/pandas-docs/stable/user_guide/indexing.html#returning-a-view-versus-a-copy\n",
            "  df_un[column_name] = df_un['x'] + noise\n",
            "<ipython-input-186-53997450bf65>:32: SettingWithCopyWarning: \n",
            "A value is trying to be set on a copy of a slice from a DataFrame.\n",
            "Try using .loc[row_indexer,col_indexer] = value instead\n",
            "\n",
            "See the caveats in the documentation: https://pandas.pydata.org/pandas-docs/stable/user_guide/indexing.html#returning-a-view-versus-a-copy\n",
            "  df_un[column_name] = df_un['x'] + noise\n",
            "<ipython-input-25-6b857bf310c0>:23: SettingWithCopyWarning: \n",
            "A value is trying to be set on a copy of a slice from a DataFrame\n",
            "\n",
            "See the caveats in the documentation: https://pandas.pydata.org/pandas-docs/stable/user_guide/indexing.html#returning-a-view-versus-a-copy\n",
            "  df[i-1:i].iloc[:, m] = np.nan\n"
          ]
        },
        {
          "metadata": {
            "tags": null
          },
          "name": "stdout",
          "output_type": "stream",
          "text": [
            "19/19 [==============================] - 7s 354ms/step\n"
          ]
        },
        {
          "metadata": {
            "tags": null
          },
          "name": "stderr",
          "output_type": "stream",
          "text": [
            "<ipython-input-190-a058d8cb0168>:16: FutureWarning: The frame.append method is deprecated and will be removed from pandas in a future version. Use pandas.concat instead.\n",
            "  estimations = estimations.append(final_predictions)\n",
            "<ipython-input-186-53997450bf65>:32: SettingWithCopyWarning: \n",
            "A value is trying to be set on a copy of a slice from a DataFrame.\n",
            "Try using .loc[row_indexer,col_indexer] = value instead\n",
            "\n",
            "See the caveats in the documentation: https://pandas.pydata.org/pandas-docs/stable/user_guide/indexing.html#returning-a-view-versus-a-copy\n",
            "  df_un[column_name] = df_un['x'] + noise\n",
            "<ipython-input-186-53997450bf65>:32: SettingWithCopyWarning: \n",
            "A value is trying to be set on a copy of a slice from a DataFrame.\n",
            "Try using .loc[row_indexer,col_indexer] = value instead\n",
            "\n",
            "See the caveats in the documentation: https://pandas.pydata.org/pandas-docs/stable/user_guide/indexing.html#returning-a-view-versus-a-copy\n",
            "  df_un[column_name] = df_un['x'] + noise\n",
            "<ipython-input-25-6b857bf310c0>:23: SettingWithCopyWarning: \n",
            "A value is trying to be set on a copy of a slice from a DataFrame\n",
            "\n",
            "See the caveats in the documentation: https://pandas.pydata.org/pandas-docs/stable/user_guide/indexing.html#returning-a-view-versus-a-copy\n",
            "  df[i-1:i].iloc[:, m] = np.nan\n"
          ]
        },
        {
          "metadata": {
            "tags": null
          },
          "name": "stdout",
          "output_type": "stream",
          "text": [
            "19/19 [==============================] - 7s 359ms/step\n"
          ]
        },
        {
          "metadata": {
            "tags": null
          },
          "name": "stderr",
          "output_type": "stream",
          "text": [
            "<ipython-input-190-a058d8cb0168>:16: FutureWarning: The frame.append method is deprecated and will be removed from pandas in a future version. Use pandas.concat instead.\n",
            "  estimations = estimations.append(final_predictions)\n",
            "<ipython-input-186-53997450bf65>:32: SettingWithCopyWarning: \n",
            "A value is trying to be set on a copy of a slice from a DataFrame.\n",
            "Try using .loc[row_indexer,col_indexer] = value instead\n",
            "\n",
            "See the caveats in the documentation: https://pandas.pydata.org/pandas-docs/stable/user_guide/indexing.html#returning-a-view-versus-a-copy\n",
            "  df_un[column_name] = df_un['x'] + noise\n",
            "<ipython-input-186-53997450bf65>:32: SettingWithCopyWarning: \n",
            "A value is trying to be set on a copy of a slice from a DataFrame.\n",
            "Try using .loc[row_indexer,col_indexer] = value instead\n",
            "\n",
            "See the caveats in the documentation: https://pandas.pydata.org/pandas-docs/stable/user_guide/indexing.html#returning-a-view-versus-a-copy\n",
            "  df_un[column_name] = df_un['x'] + noise\n",
            "<ipython-input-25-6b857bf310c0>:23: SettingWithCopyWarning: \n",
            "A value is trying to be set on a copy of a slice from a DataFrame\n",
            "\n",
            "See the caveats in the documentation: https://pandas.pydata.org/pandas-docs/stable/user_guide/indexing.html#returning-a-view-versus-a-copy\n",
            "  df[i-1:i].iloc[:, m] = np.nan\n"
          ]
        },
        {
          "metadata": {
            "tags": null
          },
          "name": "stdout",
          "output_type": "stream",
          "text": [
            "19/19 [==============================] - 5s 284ms/step\n"
          ]
        },
        {
          "metadata": {
            "tags": null
          },
          "name": "stderr",
          "output_type": "stream",
          "text": [
            "<ipython-input-190-a058d8cb0168>:16: FutureWarning: The frame.append method is deprecated and will be removed from pandas in a future version. Use pandas.concat instead.\n",
            "  estimations = estimations.append(final_predictions)\n",
            "<ipython-input-186-53997450bf65>:32: SettingWithCopyWarning: \n",
            "A value is trying to be set on a copy of a slice from a DataFrame.\n",
            "Try using .loc[row_indexer,col_indexer] = value instead\n",
            "\n",
            "See the caveats in the documentation: https://pandas.pydata.org/pandas-docs/stable/user_guide/indexing.html#returning-a-view-versus-a-copy\n",
            "  df_un[column_name] = df_un['x'] + noise\n",
            "<ipython-input-186-53997450bf65>:32: SettingWithCopyWarning: \n",
            "A value is trying to be set on a copy of a slice from a DataFrame.\n",
            "Try using .loc[row_indexer,col_indexer] = value instead\n",
            "\n",
            "See the caveats in the documentation: https://pandas.pydata.org/pandas-docs/stable/user_guide/indexing.html#returning-a-view-versus-a-copy\n",
            "  df_un[column_name] = df_un['x'] + noise\n",
            "<ipython-input-25-6b857bf310c0>:23: SettingWithCopyWarning: \n",
            "A value is trying to be set on a copy of a slice from a DataFrame\n",
            "\n",
            "See the caveats in the documentation: https://pandas.pydata.org/pandas-docs/stable/user_guide/indexing.html#returning-a-view-versus-a-copy\n",
            "  df[i-1:i].iloc[:, m] = np.nan\n"
          ]
        },
        {
          "metadata": {
            "tags": null
          },
          "name": "stdout",
          "output_type": "stream",
          "text": [
            "19/19 [==============================] - 5s 278ms/step\n"
          ]
        },
        {
          "metadata": {
            "tags": null
          },
          "name": "stderr",
          "output_type": "stream",
          "text": [
            "<ipython-input-190-a058d8cb0168>:16: FutureWarning: The frame.append method is deprecated and will be removed from pandas in a future version. Use pandas.concat instead.\n",
            "  estimations = estimations.append(final_predictions)\n",
            "<ipython-input-186-53997450bf65>:32: SettingWithCopyWarning: \n",
            "A value is trying to be set on a copy of a slice from a DataFrame.\n",
            "Try using .loc[row_indexer,col_indexer] = value instead\n",
            "\n",
            "See the caveats in the documentation: https://pandas.pydata.org/pandas-docs/stable/user_guide/indexing.html#returning-a-view-versus-a-copy\n",
            "  df_un[column_name] = df_un['x'] + noise\n",
            "<ipython-input-186-53997450bf65>:32: SettingWithCopyWarning: \n",
            "A value is trying to be set on a copy of a slice from a DataFrame.\n",
            "Try using .loc[row_indexer,col_indexer] = value instead\n",
            "\n",
            "See the caveats in the documentation: https://pandas.pydata.org/pandas-docs/stable/user_guide/indexing.html#returning-a-view-versus-a-copy\n",
            "  df_un[column_name] = df_un['x'] + noise\n",
            "<ipython-input-25-6b857bf310c0>:23: SettingWithCopyWarning: \n",
            "A value is trying to be set on a copy of a slice from a DataFrame\n",
            "\n",
            "See the caveats in the documentation: https://pandas.pydata.org/pandas-docs/stable/user_guide/indexing.html#returning-a-view-versus-a-copy\n",
            "  df[i-1:i].iloc[:, m] = np.nan\n"
          ]
        },
        {
          "metadata": {
            "tags": null
          },
          "name": "stdout",
          "output_type": "stream",
          "text": [
            "19/19 [==============================] - 6s 330ms/step\n"
          ]
        },
        {
          "metadata": {
            "tags": null
          },
          "name": "stderr",
          "output_type": "stream",
          "text": [
            "<ipython-input-190-a058d8cb0168>:16: FutureWarning: The frame.append method is deprecated and will be removed from pandas in a future version. Use pandas.concat instead.\n",
            "  estimations = estimations.append(final_predictions)\n",
            "<ipython-input-186-53997450bf65>:32: SettingWithCopyWarning: \n",
            "A value is trying to be set on a copy of a slice from a DataFrame.\n",
            "Try using .loc[row_indexer,col_indexer] = value instead\n",
            "\n",
            "See the caveats in the documentation: https://pandas.pydata.org/pandas-docs/stable/user_guide/indexing.html#returning-a-view-versus-a-copy\n",
            "  df_un[column_name] = df_un['x'] + noise\n",
            "<ipython-input-186-53997450bf65>:32: SettingWithCopyWarning: \n",
            "A value is trying to be set on a copy of a slice from a DataFrame.\n",
            "Try using .loc[row_indexer,col_indexer] = value instead\n",
            "\n",
            "See the caveats in the documentation: https://pandas.pydata.org/pandas-docs/stable/user_guide/indexing.html#returning-a-view-versus-a-copy\n",
            "  df_un[column_name] = df_un['x'] + noise\n",
            "<ipython-input-25-6b857bf310c0>:23: SettingWithCopyWarning: \n",
            "A value is trying to be set on a copy of a slice from a DataFrame\n",
            "\n",
            "See the caveats in the documentation: https://pandas.pydata.org/pandas-docs/stable/user_guide/indexing.html#returning-a-view-versus-a-copy\n",
            "  df[i-1:i].iloc[:, m] = np.nan\n"
          ]
        },
        {
          "metadata": {
            "tags": null
          },
          "name": "stdout",
          "output_type": "stream",
          "text": [
            "19/19 [==============================] - 6s 342ms/step\n"
          ]
        },
        {
          "metadata": {
            "tags": null
          },
          "name": "stderr",
          "output_type": "stream",
          "text": [
            "<ipython-input-190-a058d8cb0168>:16: FutureWarning: The frame.append method is deprecated and will be removed from pandas in a future version. Use pandas.concat instead.\n",
            "  estimations = estimations.append(final_predictions)\n",
            "<ipython-input-186-53997450bf65>:32: SettingWithCopyWarning: \n",
            "A value is trying to be set on a copy of a slice from a DataFrame.\n",
            "Try using .loc[row_indexer,col_indexer] = value instead\n",
            "\n",
            "See the caveats in the documentation: https://pandas.pydata.org/pandas-docs/stable/user_guide/indexing.html#returning-a-view-versus-a-copy\n",
            "  df_un[column_name] = df_un['x'] + noise\n",
            "<ipython-input-186-53997450bf65>:32: SettingWithCopyWarning: \n",
            "A value is trying to be set on a copy of a slice from a DataFrame.\n",
            "Try using .loc[row_indexer,col_indexer] = value instead\n",
            "\n",
            "See the caveats in the documentation: https://pandas.pydata.org/pandas-docs/stable/user_guide/indexing.html#returning-a-view-versus-a-copy\n",
            "  df_un[column_name] = df_un['x'] + noise\n",
            "<ipython-input-25-6b857bf310c0>:23: SettingWithCopyWarning: \n",
            "A value is trying to be set on a copy of a slice from a DataFrame\n",
            "\n",
            "See the caveats in the documentation: https://pandas.pydata.org/pandas-docs/stable/user_guide/indexing.html#returning-a-view-versus-a-copy\n",
            "  df[i-1:i].iloc[:, m] = np.nan\n"
          ]
        },
        {
          "metadata": {
            "tags": null
          },
          "name": "stdout",
          "output_type": "stream",
          "text": [
            "19/19 [==============================] - 5s 282ms/step\n"
          ]
        },
        {
          "metadata": {
            "tags": null
          },
          "name": "stderr",
          "output_type": "stream",
          "text": [
            "<ipython-input-190-a058d8cb0168>:16: FutureWarning: The frame.append method is deprecated and will be removed from pandas in a future version. Use pandas.concat instead.\n",
            "  estimations = estimations.append(final_predictions)\n",
            "<ipython-input-186-53997450bf65>:32: SettingWithCopyWarning: \n",
            "A value is trying to be set on a copy of a slice from a DataFrame.\n",
            "Try using .loc[row_indexer,col_indexer] = value instead\n",
            "\n",
            "See the caveats in the documentation: https://pandas.pydata.org/pandas-docs/stable/user_guide/indexing.html#returning-a-view-versus-a-copy\n",
            "  df_un[column_name] = df_un['x'] + noise\n",
            "<ipython-input-186-53997450bf65>:32: SettingWithCopyWarning: \n",
            "A value is trying to be set on a copy of a slice from a DataFrame.\n",
            "Try using .loc[row_indexer,col_indexer] = value instead\n",
            "\n",
            "See the caveats in the documentation: https://pandas.pydata.org/pandas-docs/stable/user_guide/indexing.html#returning-a-view-versus-a-copy\n",
            "  df_un[column_name] = df_un['x'] + noise\n",
            "<ipython-input-25-6b857bf310c0>:23: SettingWithCopyWarning: \n",
            "A value is trying to be set on a copy of a slice from a DataFrame\n",
            "\n",
            "See the caveats in the documentation: https://pandas.pydata.org/pandas-docs/stable/user_guide/indexing.html#returning-a-view-versus-a-copy\n",
            "  df[i-1:i].iloc[:, m] = np.nan\n"
          ]
        },
        {
          "metadata": {
            "tags": null
          },
          "name": "stdout",
          "output_type": "stream",
          "text": [
            "10/10 [==============================] - 4s 424ms/step\n"
          ]
        },
        {
          "metadata": {
            "tags": null
          },
          "name": "stderr",
          "output_type": "stream",
          "text": [
            "<ipython-input-190-a058d8cb0168>:16: FutureWarning: The frame.append method is deprecated and will be removed from pandas in a future version. Use pandas.concat instead.\n",
            "  estimations = estimations.append(final_predictions)\n",
            "<ipython-input-186-53997450bf65>:32: SettingWithCopyWarning: \n",
            "A value is trying to be set on a copy of a slice from a DataFrame.\n",
            "Try using .loc[row_indexer,col_indexer] = value instead\n",
            "\n",
            "See the caveats in the documentation: https://pandas.pydata.org/pandas-docs/stable/user_guide/indexing.html#returning-a-view-versus-a-copy\n",
            "  df_un[column_name] = df_un['x'] + noise\n",
            "<ipython-input-186-53997450bf65>:32: SettingWithCopyWarning: \n",
            "A value is trying to be set on a copy of a slice from a DataFrame.\n",
            "Try using .loc[row_indexer,col_indexer] = value instead\n",
            "\n",
            "See the caveats in the documentation: https://pandas.pydata.org/pandas-docs/stable/user_guide/indexing.html#returning-a-view-versus-a-copy\n",
            "  df_un[column_name] = df_un['x'] + noise\n",
            "<ipython-input-25-6b857bf310c0>:23: SettingWithCopyWarning: \n",
            "A value is trying to be set on a copy of a slice from a DataFrame\n",
            "\n",
            "See the caveats in the documentation: https://pandas.pydata.org/pandas-docs/stable/user_guide/indexing.html#returning-a-view-versus-a-copy\n",
            "  df[i-1:i].iloc[:, m] = np.nan\n"
          ]
        },
        {
          "metadata": {
            "tags": null
          },
          "name": "stdout",
          "output_type": "stream",
          "text": [
            "10/10 [==============================] - 3s 277ms/step\n"
          ]
        },
        {
          "metadata": {
            "tags": null
          },
          "name": "stderr",
          "output_type": "stream",
          "text": [
            "<ipython-input-190-a058d8cb0168>:16: FutureWarning: The frame.append method is deprecated and will be removed from pandas in a future version. Use pandas.concat instead.\n",
            "  estimations = estimations.append(final_predictions)\n",
            "<ipython-input-186-53997450bf65>:32: SettingWithCopyWarning: \n",
            "A value is trying to be set on a copy of a slice from a DataFrame.\n",
            "Try using .loc[row_indexer,col_indexer] = value instead\n",
            "\n",
            "See the caveats in the documentation: https://pandas.pydata.org/pandas-docs/stable/user_guide/indexing.html#returning-a-view-versus-a-copy\n",
            "  df_un[column_name] = df_un['x'] + noise\n",
            "<ipython-input-186-53997450bf65>:32: SettingWithCopyWarning: \n",
            "A value is trying to be set on a copy of a slice from a DataFrame.\n",
            "Try using .loc[row_indexer,col_indexer] = value instead\n",
            "\n",
            "See the caveats in the documentation: https://pandas.pydata.org/pandas-docs/stable/user_guide/indexing.html#returning-a-view-versus-a-copy\n",
            "  df_un[column_name] = df_un['x'] + noise\n",
            "<ipython-input-25-6b857bf310c0>:23: SettingWithCopyWarning: \n",
            "A value is trying to be set on a copy of a slice from a DataFrame\n",
            "\n",
            "See the caveats in the documentation: https://pandas.pydata.org/pandas-docs/stable/user_guide/indexing.html#returning-a-view-versus-a-copy\n",
            "  df[i-1:i].iloc[:, m] = np.nan\n"
          ]
        },
        {
          "metadata": {
            "tags": null
          },
          "name": "stdout",
          "output_type": "stream",
          "text": [
            "10/10 [==============================] - 3s 354ms/step\n"
          ]
        },
        {
          "metadata": {
            "tags": null
          },
          "name": "stderr",
          "output_type": "stream",
          "text": [
            "<ipython-input-190-a058d8cb0168>:16: FutureWarning: The frame.append method is deprecated and will be removed from pandas in a future version. Use pandas.concat instead.\n",
            "  estimations = estimations.append(final_predictions)\n",
            "<ipython-input-186-53997450bf65>:32: SettingWithCopyWarning: \n",
            "A value is trying to be set on a copy of a slice from a DataFrame.\n",
            "Try using .loc[row_indexer,col_indexer] = value instead\n",
            "\n",
            "See the caveats in the documentation: https://pandas.pydata.org/pandas-docs/stable/user_guide/indexing.html#returning-a-view-versus-a-copy\n",
            "  df_un[column_name] = df_un['x'] + noise\n",
            "<ipython-input-186-53997450bf65>:32: SettingWithCopyWarning: \n",
            "A value is trying to be set on a copy of a slice from a DataFrame.\n",
            "Try using .loc[row_indexer,col_indexer] = value instead\n",
            "\n",
            "See the caveats in the documentation: https://pandas.pydata.org/pandas-docs/stable/user_guide/indexing.html#returning-a-view-versus-a-copy\n",
            "  df_un[column_name] = df_un['x'] + noise\n",
            "<ipython-input-25-6b857bf310c0>:23: SettingWithCopyWarning: \n",
            "A value is trying to be set on a copy of a slice from a DataFrame\n",
            "\n",
            "See the caveats in the documentation: https://pandas.pydata.org/pandas-docs/stable/user_guide/indexing.html#returning-a-view-versus-a-copy\n",
            "  df[i-1:i].iloc[:, m] = np.nan\n"
          ]
        },
        {
          "metadata": {
            "tags": null
          },
          "name": "stdout",
          "output_type": "stream",
          "text": [
            "10/10 [==============================] - 3s 272ms/step\n"
          ]
        },
        {
          "metadata": {
            "tags": null
          },
          "name": "stderr",
          "output_type": "stream",
          "text": [
            "<ipython-input-190-a058d8cb0168>:16: FutureWarning: The frame.append method is deprecated and will be removed from pandas in a future version. Use pandas.concat instead.\n",
            "  estimations = estimations.append(final_predictions)\n",
            "<ipython-input-186-53997450bf65>:32: SettingWithCopyWarning: \n",
            "A value is trying to be set on a copy of a slice from a DataFrame.\n",
            "Try using .loc[row_indexer,col_indexer] = value instead\n",
            "\n",
            "See the caveats in the documentation: https://pandas.pydata.org/pandas-docs/stable/user_guide/indexing.html#returning-a-view-versus-a-copy\n",
            "  df_un[column_name] = df_un['x'] + noise\n",
            "<ipython-input-186-53997450bf65>:32: SettingWithCopyWarning: \n",
            "A value is trying to be set on a copy of a slice from a DataFrame.\n",
            "Try using .loc[row_indexer,col_indexer] = value instead\n",
            "\n",
            "See the caveats in the documentation: https://pandas.pydata.org/pandas-docs/stable/user_guide/indexing.html#returning-a-view-versus-a-copy\n",
            "  df_un[column_name] = df_un['x'] + noise\n",
            "<ipython-input-25-6b857bf310c0>:23: SettingWithCopyWarning: \n",
            "A value is trying to be set on a copy of a slice from a DataFrame\n",
            "\n",
            "See the caveats in the documentation: https://pandas.pydata.org/pandas-docs/stable/user_guide/indexing.html#returning-a-view-versus-a-copy\n",
            "  df[i-1:i].iloc[:, m] = np.nan\n"
          ]
        },
        {
          "metadata": {
            "tags": null
          },
          "name": "stdout",
          "output_type": "stream",
          "text": [
            "10/10 [==============================] - 3s 270ms/step\n"
          ]
        },
        {
          "metadata": {
            "tags": null
          },
          "name": "stderr",
          "output_type": "stream",
          "text": [
            "<ipython-input-190-a058d8cb0168>:16: FutureWarning: The frame.append method is deprecated and will be removed from pandas in a future version. Use pandas.concat instead.\n",
            "  estimations = estimations.append(final_predictions)\n",
            "<ipython-input-186-53997450bf65>:32: SettingWithCopyWarning: \n",
            "A value is trying to be set on a copy of a slice from a DataFrame.\n",
            "Try using .loc[row_indexer,col_indexer] = value instead\n",
            "\n",
            "See the caveats in the documentation: https://pandas.pydata.org/pandas-docs/stable/user_guide/indexing.html#returning-a-view-versus-a-copy\n",
            "  df_un[column_name] = df_un['x'] + noise\n",
            "<ipython-input-186-53997450bf65>:32: SettingWithCopyWarning: \n",
            "A value is trying to be set on a copy of a slice from a DataFrame.\n",
            "Try using .loc[row_indexer,col_indexer] = value instead\n",
            "\n",
            "See the caveats in the documentation: https://pandas.pydata.org/pandas-docs/stable/user_guide/indexing.html#returning-a-view-versus-a-copy\n",
            "  df_un[column_name] = df_un['x'] + noise\n",
            "<ipython-input-25-6b857bf310c0>:23: SettingWithCopyWarning: \n",
            "A value is trying to be set on a copy of a slice from a DataFrame\n",
            "\n",
            "See the caveats in the documentation: https://pandas.pydata.org/pandas-docs/stable/user_guide/indexing.html#returning-a-view-versus-a-copy\n",
            "  df[i-1:i].iloc[:, m] = np.nan\n"
          ]
        },
        {
          "metadata": {
            "tags": null
          },
          "name": "stdout",
          "output_type": "stream",
          "text": [
            "10/10 [==============================] - 3s 279ms/step\n"
          ]
        },
        {
          "metadata": {
            "tags": null
          },
          "name": "stderr",
          "output_type": "stream",
          "text": [
            "<ipython-input-190-a058d8cb0168>:16: FutureWarning: The frame.append method is deprecated and will be removed from pandas in a future version. Use pandas.concat instead.\n",
            "  estimations = estimations.append(final_predictions)\n",
            "<ipython-input-186-53997450bf65>:32: SettingWithCopyWarning: \n",
            "A value is trying to be set on a copy of a slice from a DataFrame.\n",
            "Try using .loc[row_indexer,col_indexer] = value instead\n",
            "\n",
            "See the caveats in the documentation: https://pandas.pydata.org/pandas-docs/stable/user_guide/indexing.html#returning-a-view-versus-a-copy\n",
            "  df_un[column_name] = df_un['x'] + noise\n",
            "<ipython-input-186-53997450bf65>:32: SettingWithCopyWarning: \n",
            "A value is trying to be set on a copy of a slice from a DataFrame.\n",
            "Try using .loc[row_indexer,col_indexer] = value instead\n",
            "\n",
            "See the caveats in the documentation: https://pandas.pydata.org/pandas-docs/stable/user_guide/indexing.html#returning-a-view-versus-a-copy\n",
            "  df_un[column_name] = df_un['x'] + noise\n",
            "<ipython-input-25-6b857bf310c0>:23: SettingWithCopyWarning: \n",
            "A value is trying to be set on a copy of a slice from a DataFrame\n",
            "\n",
            "See the caveats in the documentation: https://pandas.pydata.org/pandas-docs/stable/user_guide/indexing.html#returning-a-view-versus-a-copy\n",
            "  df[i-1:i].iloc[:, m] = np.nan\n"
          ]
        },
        {
          "metadata": {
            "tags": null
          },
          "name": "stdout",
          "output_type": "stream",
          "text": [
            "10/10 [==============================] - 3s 272ms/step\n"
          ]
        },
        {
          "metadata": {
            "tags": null
          },
          "name": "stderr",
          "output_type": "stream",
          "text": [
            "<ipython-input-190-a058d8cb0168>:16: FutureWarning: The frame.append method is deprecated and will be removed from pandas in a future version. Use pandas.concat instead.\n",
            "  estimations = estimations.append(final_predictions)\n",
            "<ipython-input-186-53997450bf65>:32: SettingWithCopyWarning: \n",
            "A value is trying to be set on a copy of a slice from a DataFrame.\n",
            "Try using .loc[row_indexer,col_indexer] = value instead\n",
            "\n",
            "See the caveats in the documentation: https://pandas.pydata.org/pandas-docs/stable/user_guide/indexing.html#returning-a-view-versus-a-copy\n",
            "  df_un[column_name] = df_un['x'] + noise\n",
            "<ipython-input-186-53997450bf65>:32: SettingWithCopyWarning: \n",
            "A value is trying to be set on a copy of a slice from a DataFrame.\n",
            "Try using .loc[row_indexer,col_indexer] = value instead\n",
            "\n",
            "See the caveats in the documentation: https://pandas.pydata.org/pandas-docs/stable/user_guide/indexing.html#returning-a-view-versus-a-copy\n",
            "  df_un[column_name] = df_un['x'] + noise\n",
            "<ipython-input-25-6b857bf310c0>:23: SettingWithCopyWarning: \n",
            "A value is trying to be set on a copy of a slice from a DataFrame\n",
            "\n",
            "See the caveats in the documentation: https://pandas.pydata.org/pandas-docs/stable/user_guide/indexing.html#returning-a-view-versus-a-copy\n",
            "  df[i-1:i].iloc[:, m] = np.nan\n"
          ]
        },
        {
          "metadata": {
            "tags": null
          },
          "name": "stdout",
          "output_type": "stream",
          "text": [
            "10/10 [==============================] - 4s 358ms/step\n"
          ]
        },
        {
          "metadata": {
            "tags": null
          },
          "name": "stderr",
          "output_type": "stream",
          "text": [
            "<ipython-input-190-a058d8cb0168>:16: FutureWarning: The frame.append method is deprecated and will be removed from pandas in a future version. Use pandas.concat instead.\n",
            "  estimations = estimations.append(final_predictions)\n",
            "<ipython-input-186-53997450bf65>:32: SettingWithCopyWarning: \n",
            "A value is trying to be set on a copy of a slice from a DataFrame.\n",
            "Try using .loc[row_indexer,col_indexer] = value instead\n",
            "\n",
            "See the caveats in the documentation: https://pandas.pydata.org/pandas-docs/stable/user_guide/indexing.html#returning-a-view-versus-a-copy\n",
            "  df_un[column_name] = df_un['x'] + noise\n",
            "<ipython-input-186-53997450bf65>:32: SettingWithCopyWarning: \n",
            "A value is trying to be set on a copy of a slice from a DataFrame.\n",
            "Try using .loc[row_indexer,col_indexer] = value instead\n",
            "\n",
            "See the caveats in the documentation: https://pandas.pydata.org/pandas-docs/stable/user_guide/indexing.html#returning-a-view-versus-a-copy\n",
            "  df_un[column_name] = df_un['x'] + noise\n",
            "<ipython-input-25-6b857bf310c0>:23: SettingWithCopyWarning: \n",
            "A value is trying to be set on a copy of a slice from a DataFrame\n",
            "\n",
            "See the caveats in the documentation: https://pandas.pydata.org/pandas-docs/stable/user_guide/indexing.html#returning-a-view-versus-a-copy\n",
            "  df[i-1:i].iloc[:, m] = np.nan\n"
          ]
        },
        {
          "metadata": {
            "tags": null
          },
          "name": "stdout",
          "output_type": "stream",
          "text": [
            "10/10 [==============================] - 3s 273ms/step\n"
          ]
        },
        {
          "metadata": {
            "tags": null
          },
          "name": "stderr",
          "output_type": "stream",
          "text": [
            "<ipython-input-190-a058d8cb0168>:16: FutureWarning: The frame.append method is deprecated and will be removed from pandas in a future version. Use pandas.concat instead.\n",
            "  estimations = estimations.append(final_predictions)\n",
            "<ipython-input-186-53997450bf65>:32: SettingWithCopyWarning: \n",
            "A value is trying to be set on a copy of a slice from a DataFrame.\n",
            "Try using .loc[row_indexer,col_indexer] = value instead\n",
            "\n",
            "See the caveats in the documentation: https://pandas.pydata.org/pandas-docs/stable/user_guide/indexing.html#returning-a-view-versus-a-copy\n",
            "  df_un[column_name] = df_un['x'] + noise\n",
            "<ipython-input-186-53997450bf65>:32: SettingWithCopyWarning: \n",
            "A value is trying to be set on a copy of a slice from a DataFrame.\n",
            "Try using .loc[row_indexer,col_indexer] = value instead\n",
            "\n",
            "See the caveats in the documentation: https://pandas.pydata.org/pandas-docs/stable/user_guide/indexing.html#returning-a-view-versus-a-copy\n",
            "  df_un[column_name] = df_un['x'] + noise\n",
            "<ipython-input-25-6b857bf310c0>:23: SettingWithCopyWarning: \n",
            "A value is trying to be set on a copy of a slice from a DataFrame\n",
            "\n",
            "See the caveats in the documentation: https://pandas.pydata.org/pandas-docs/stable/user_guide/indexing.html#returning-a-view-versus-a-copy\n",
            "  df[i-1:i].iloc[:, m] = np.nan\n"
          ]
        },
        {
          "metadata": {
            "tags": null
          },
          "name": "stdout",
          "output_type": "stream",
          "text": [
            "25/25 [==============================] - 7s 293ms/step\n"
          ]
        },
        {
          "metadata": {
            "tags": null
          },
          "name": "stderr",
          "output_type": "stream",
          "text": [
            "<ipython-input-190-a058d8cb0168>:16: FutureWarning: The frame.append method is deprecated and will be removed from pandas in a future version. Use pandas.concat instead.\n",
            "  estimations = estimations.append(final_predictions)\n",
            "<ipython-input-186-53997450bf65>:32: SettingWithCopyWarning: \n",
            "A value is trying to be set on a copy of a slice from a DataFrame.\n",
            "Try using .loc[row_indexer,col_indexer] = value instead\n",
            "\n",
            "See the caveats in the documentation: https://pandas.pydata.org/pandas-docs/stable/user_guide/indexing.html#returning-a-view-versus-a-copy\n",
            "  df_un[column_name] = df_un['x'] + noise\n",
            "<ipython-input-186-53997450bf65>:32: SettingWithCopyWarning: \n",
            "A value is trying to be set on a copy of a slice from a DataFrame.\n",
            "Try using .loc[row_indexer,col_indexer] = value instead\n",
            "\n",
            "See the caveats in the documentation: https://pandas.pydata.org/pandas-docs/stable/user_guide/indexing.html#returning-a-view-versus-a-copy\n",
            "  df_un[column_name] = df_un['x'] + noise\n",
            "<ipython-input-25-6b857bf310c0>:23: SettingWithCopyWarning: \n",
            "A value is trying to be set on a copy of a slice from a DataFrame\n",
            "\n",
            "See the caveats in the documentation: https://pandas.pydata.org/pandas-docs/stable/user_guide/indexing.html#returning-a-view-versus-a-copy\n",
            "  df[i-1:i].iloc[:, m] = np.nan\n"
          ]
        },
        {
          "metadata": {
            "tags": null
          },
          "name": "stdout",
          "output_type": "stream",
          "text": [
            "25/25 [==============================] - 11s 428ms/step\n"
          ]
        },
        {
          "metadata": {
            "tags": null
          },
          "name": "stderr",
          "output_type": "stream",
          "text": [
            "<ipython-input-190-a058d8cb0168>:16: FutureWarning: The frame.append method is deprecated and will be removed from pandas in a future version. Use pandas.concat instead.\n",
            "  estimations = estimations.append(final_predictions)\n",
            "<ipython-input-186-53997450bf65>:32: SettingWithCopyWarning: \n",
            "A value is trying to be set on a copy of a slice from a DataFrame.\n",
            "Try using .loc[row_indexer,col_indexer] = value instead\n",
            "\n",
            "See the caveats in the documentation: https://pandas.pydata.org/pandas-docs/stable/user_guide/indexing.html#returning-a-view-versus-a-copy\n",
            "  df_un[column_name] = df_un['x'] + noise\n",
            "<ipython-input-186-53997450bf65>:32: SettingWithCopyWarning: \n",
            "A value is trying to be set on a copy of a slice from a DataFrame.\n",
            "Try using .loc[row_indexer,col_indexer] = value instead\n",
            "\n",
            "See the caveats in the documentation: https://pandas.pydata.org/pandas-docs/stable/user_guide/indexing.html#returning-a-view-versus-a-copy\n",
            "  df_un[column_name] = df_un['x'] + noise\n",
            "<ipython-input-25-6b857bf310c0>:23: SettingWithCopyWarning: \n",
            "A value is trying to be set on a copy of a slice from a DataFrame\n",
            "\n",
            "See the caveats in the documentation: https://pandas.pydata.org/pandas-docs/stable/user_guide/indexing.html#returning-a-view-versus-a-copy\n",
            "  df[i-1:i].iloc[:, m] = np.nan\n"
          ]
        },
        {
          "metadata": {
            "tags": null
          },
          "name": "stdout",
          "output_type": "stream",
          "text": [
            "25/25 [==============================] - 9s 355ms/step\n"
          ]
        },
        {
          "metadata": {
            "tags": null
          },
          "name": "stderr",
          "output_type": "stream",
          "text": [
            "<ipython-input-190-a058d8cb0168>:16: FutureWarning: The frame.append method is deprecated and will be removed from pandas in a future version. Use pandas.concat instead.\n",
            "  estimations = estimations.append(final_predictions)\n",
            "<ipython-input-186-53997450bf65>:32: SettingWithCopyWarning: \n",
            "A value is trying to be set on a copy of a slice from a DataFrame.\n",
            "Try using .loc[row_indexer,col_indexer] = value instead\n",
            "\n",
            "See the caveats in the documentation: https://pandas.pydata.org/pandas-docs/stable/user_guide/indexing.html#returning-a-view-versus-a-copy\n",
            "  df_un[column_name] = df_un['x'] + noise\n",
            "<ipython-input-186-53997450bf65>:32: SettingWithCopyWarning: \n",
            "A value is trying to be set on a copy of a slice from a DataFrame.\n",
            "Try using .loc[row_indexer,col_indexer] = value instead\n",
            "\n",
            "See the caveats in the documentation: https://pandas.pydata.org/pandas-docs/stable/user_guide/indexing.html#returning-a-view-versus-a-copy\n",
            "  df_un[column_name] = df_un['x'] + noise\n",
            "<ipython-input-25-6b857bf310c0>:23: SettingWithCopyWarning: \n",
            "A value is trying to be set on a copy of a slice from a DataFrame\n",
            "\n",
            "See the caveats in the documentation: https://pandas.pydata.org/pandas-docs/stable/user_guide/indexing.html#returning-a-view-versus-a-copy\n",
            "  df[i-1:i].iloc[:, m] = np.nan\n"
          ]
        },
        {
          "metadata": {
            "tags": null
          },
          "name": "stdout",
          "output_type": "stream",
          "text": [
            "25/25 [==============================] - 8s 339ms/step\n"
          ]
        },
        {
          "metadata": {
            "tags": null
          },
          "name": "stderr",
          "output_type": "stream",
          "text": [
            "<ipython-input-190-a058d8cb0168>:16: FutureWarning: The frame.append method is deprecated and will be removed from pandas in a future version. Use pandas.concat instead.\n",
            "  estimations = estimations.append(final_predictions)\n",
            "<ipython-input-186-53997450bf65>:32: SettingWithCopyWarning: \n",
            "A value is trying to be set on a copy of a slice from a DataFrame.\n",
            "Try using .loc[row_indexer,col_indexer] = value instead\n",
            "\n",
            "See the caveats in the documentation: https://pandas.pydata.org/pandas-docs/stable/user_guide/indexing.html#returning-a-view-versus-a-copy\n",
            "  df_un[column_name] = df_un['x'] + noise\n",
            "<ipython-input-186-53997450bf65>:32: SettingWithCopyWarning: \n",
            "A value is trying to be set on a copy of a slice from a DataFrame.\n",
            "Try using .loc[row_indexer,col_indexer] = value instead\n",
            "\n",
            "See the caveats in the documentation: https://pandas.pydata.org/pandas-docs/stable/user_guide/indexing.html#returning-a-view-versus-a-copy\n",
            "  df_un[column_name] = df_un['x'] + noise\n",
            "<ipython-input-25-6b857bf310c0>:23: SettingWithCopyWarning: \n",
            "A value is trying to be set on a copy of a slice from a DataFrame\n",
            "\n",
            "See the caveats in the documentation: https://pandas.pydata.org/pandas-docs/stable/user_guide/indexing.html#returning-a-view-versus-a-copy\n",
            "  df[i-1:i].iloc[:, m] = np.nan\n"
          ]
        },
        {
          "output_type": "stream",
          "name": "stdout",
          "text": [
            "25/25 [==============================] - 8s 315ms/step\n"
          ]
        },
        {
          "output_type": "stream",
          "name": "stderr",
          "text": [
            "<ipython-input-190-a058d8cb0168>:16: FutureWarning: The frame.append method is deprecated and will be removed from pandas in a future version. Use pandas.concat instead.\n",
            "  estimations = estimations.append(final_predictions)\n",
            "<ipython-input-186-53997450bf65>:32: SettingWithCopyWarning: \n",
            "A value is trying to be set on a copy of a slice from a DataFrame.\n",
            "Try using .loc[row_indexer,col_indexer] = value instead\n",
            "\n",
            "See the caveats in the documentation: https://pandas.pydata.org/pandas-docs/stable/user_guide/indexing.html#returning-a-view-versus-a-copy\n",
            "  df_un[column_name] = df_un['x'] + noise\n",
            "<ipython-input-186-53997450bf65>:32: SettingWithCopyWarning: \n",
            "A value is trying to be set on a copy of a slice from a DataFrame.\n",
            "Try using .loc[row_indexer,col_indexer] = value instead\n",
            "\n",
            "See the caveats in the documentation: https://pandas.pydata.org/pandas-docs/stable/user_guide/indexing.html#returning-a-view-versus-a-copy\n",
            "  df_un[column_name] = df_un['x'] + noise\n",
            "<ipython-input-25-6b857bf310c0>:23: SettingWithCopyWarning: \n",
            "A value is trying to be set on a copy of a slice from a DataFrame\n",
            "\n",
            "See the caveats in the documentation: https://pandas.pydata.org/pandas-docs/stable/user_guide/indexing.html#returning-a-view-versus-a-copy\n",
            "  df[i-1:i].iloc[:, m] = np.nan\n"
          ]
        },
        {
          "output_type": "stream",
          "name": "stdout",
          "text": [
            "25/25 [==============================] - 9s 372ms/step\n"
          ]
        },
        {
          "output_type": "stream",
          "name": "stderr",
          "text": [
            "<ipython-input-190-a058d8cb0168>:16: FutureWarning: The frame.append method is deprecated and will be removed from pandas in a future version. Use pandas.concat instead.\n",
            "  estimations = estimations.append(final_predictions)\n",
            "<ipython-input-186-53997450bf65>:32: SettingWithCopyWarning: \n",
            "A value is trying to be set on a copy of a slice from a DataFrame.\n",
            "Try using .loc[row_indexer,col_indexer] = value instead\n",
            "\n",
            "See the caveats in the documentation: https://pandas.pydata.org/pandas-docs/stable/user_guide/indexing.html#returning-a-view-versus-a-copy\n",
            "  df_un[column_name] = df_un['x'] + noise\n",
            "<ipython-input-186-53997450bf65>:32: SettingWithCopyWarning: \n",
            "A value is trying to be set on a copy of a slice from a DataFrame.\n",
            "Try using .loc[row_indexer,col_indexer] = value instead\n",
            "\n",
            "See the caveats in the documentation: https://pandas.pydata.org/pandas-docs/stable/user_guide/indexing.html#returning-a-view-versus-a-copy\n",
            "  df_un[column_name] = df_un['x'] + noise\n",
            "<ipython-input-25-6b857bf310c0>:23: SettingWithCopyWarning: \n",
            "A value is trying to be set on a copy of a slice from a DataFrame\n",
            "\n",
            "See the caveats in the documentation: https://pandas.pydata.org/pandas-docs/stable/user_guide/indexing.html#returning-a-view-versus-a-copy\n",
            "  df[i-1:i].iloc[:, m] = np.nan\n"
          ]
        },
        {
          "output_type": "stream",
          "name": "stdout",
          "text": [
            "25/25 [==============================] - 9s 372ms/step\n"
          ]
        },
        {
          "output_type": "stream",
          "name": "stderr",
          "text": [
            "<ipython-input-190-a058d8cb0168>:16: FutureWarning: The frame.append method is deprecated and will be removed from pandas in a future version. Use pandas.concat instead.\n",
            "  estimations = estimations.append(final_predictions)\n",
            "<ipython-input-186-53997450bf65>:32: SettingWithCopyWarning: \n",
            "A value is trying to be set on a copy of a slice from a DataFrame.\n",
            "Try using .loc[row_indexer,col_indexer] = value instead\n",
            "\n",
            "See the caveats in the documentation: https://pandas.pydata.org/pandas-docs/stable/user_guide/indexing.html#returning-a-view-versus-a-copy\n",
            "  df_un[column_name] = df_un['x'] + noise\n",
            "<ipython-input-186-53997450bf65>:32: SettingWithCopyWarning: \n",
            "A value is trying to be set on a copy of a slice from a DataFrame.\n",
            "Try using .loc[row_indexer,col_indexer] = value instead\n",
            "\n",
            "See the caveats in the documentation: https://pandas.pydata.org/pandas-docs/stable/user_guide/indexing.html#returning-a-view-versus-a-copy\n",
            "  df_un[column_name] = df_un['x'] + noise\n",
            "<ipython-input-25-6b857bf310c0>:23: SettingWithCopyWarning: \n",
            "A value is trying to be set on a copy of a slice from a DataFrame\n",
            "\n",
            "See the caveats in the documentation: https://pandas.pydata.org/pandas-docs/stable/user_guide/indexing.html#returning-a-view-versus-a-copy\n",
            "  df[i-1:i].iloc[:, m] = np.nan\n"
          ]
        },
        {
          "output_type": "stream",
          "name": "stdout",
          "text": [
            "25/25 [==============================] - 9s 360ms/step\n"
          ]
        },
        {
          "output_type": "stream",
          "name": "stderr",
          "text": [
            "<ipython-input-190-a058d8cb0168>:16: FutureWarning: The frame.append method is deprecated and will be removed from pandas in a future version. Use pandas.concat instead.\n",
            "  estimations = estimations.append(final_predictions)\n",
            "<ipython-input-186-53997450bf65>:32: SettingWithCopyWarning: \n",
            "A value is trying to be set on a copy of a slice from a DataFrame.\n",
            "Try using .loc[row_indexer,col_indexer] = value instead\n",
            "\n",
            "See the caveats in the documentation: https://pandas.pydata.org/pandas-docs/stable/user_guide/indexing.html#returning-a-view-versus-a-copy\n",
            "  df_un[column_name] = df_un['x'] + noise\n",
            "<ipython-input-186-53997450bf65>:32: SettingWithCopyWarning: \n",
            "A value is trying to be set on a copy of a slice from a DataFrame.\n",
            "Try using .loc[row_indexer,col_indexer] = value instead\n",
            "\n",
            "See the caveats in the documentation: https://pandas.pydata.org/pandas-docs/stable/user_guide/indexing.html#returning-a-view-versus-a-copy\n",
            "  df_un[column_name] = df_un['x'] + noise\n",
            "<ipython-input-25-6b857bf310c0>:23: SettingWithCopyWarning: \n",
            "A value is trying to be set on a copy of a slice from a DataFrame\n",
            "\n",
            "See the caveats in the documentation: https://pandas.pydata.org/pandas-docs/stable/user_guide/indexing.html#returning-a-view-versus-a-copy\n",
            "  df[i-1:i].iloc[:, m] = np.nan\n"
          ]
        },
        {
          "output_type": "stream",
          "name": "stdout",
          "text": [
            "25/25 [==============================] - 9s 353ms/step\n"
          ]
        },
        {
          "output_type": "stream",
          "name": "stderr",
          "text": [
            "<ipython-input-190-a058d8cb0168>:16: FutureWarning: The frame.append method is deprecated and will be removed from pandas in a future version. Use pandas.concat instead.\n",
            "  estimations = estimations.append(final_predictions)\n",
            "<ipython-input-190-a058d8cb0168>:44: RuntimeWarning: More than 20 figures have been opened. Figures created through the pyplot interface (`matplotlib.pyplot.figure`) are retained until explicitly closed and may consume too much memory. (To control this warning, see the rcParam `figure.max_open_warning`). Consider using `matplotlib.pyplot.close()`.\n",
            "  plt.figure()\n",
            "<ipython-input-186-53997450bf65>:32: SettingWithCopyWarning: \n",
            "A value is trying to be set on a copy of a slice from a DataFrame.\n",
            "Try using .loc[row_indexer,col_indexer] = value instead\n",
            "\n",
            "See the caveats in the documentation: https://pandas.pydata.org/pandas-docs/stable/user_guide/indexing.html#returning-a-view-versus-a-copy\n",
            "  df_un[column_name] = df_un['x'] + noise\n",
            "<ipython-input-186-53997450bf65>:32: SettingWithCopyWarning: \n",
            "A value is trying to be set on a copy of a slice from a DataFrame.\n",
            "Try using .loc[row_indexer,col_indexer] = value instead\n",
            "\n",
            "See the caveats in the documentation: https://pandas.pydata.org/pandas-docs/stable/user_guide/indexing.html#returning-a-view-versus-a-copy\n",
            "  df_un[column_name] = df_un['x'] + noise\n",
            "<ipython-input-25-6b857bf310c0>:23: SettingWithCopyWarning: \n",
            "A value is trying to be set on a copy of a slice from a DataFrame\n",
            "\n",
            "See the caveats in the documentation: https://pandas.pydata.org/pandas-docs/stable/user_guide/indexing.html#returning-a-view-versus-a-copy\n",
            "  df[i-1:i].iloc[:, m] = np.nan\n"
          ]
        },
        {
          "output_type": "stream",
          "name": "stdout",
          "text": [
            "25/25 [==============================] - 9s 354ms/step\n"
          ]
        },
        {
          "output_type": "stream",
          "name": "stderr",
          "text": [
            "<ipython-input-190-a058d8cb0168>:16: FutureWarning: The frame.append method is deprecated and will be removed from pandas in a future version. Use pandas.concat instead.\n",
            "  estimations = estimations.append(final_predictions)\n",
            "<ipython-input-186-53997450bf65>:32: SettingWithCopyWarning: \n",
            "A value is trying to be set on a copy of a slice from a DataFrame.\n",
            "Try using .loc[row_indexer,col_indexer] = value instead\n",
            "\n",
            "See the caveats in the documentation: https://pandas.pydata.org/pandas-docs/stable/user_guide/indexing.html#returning-a-view-versus-a-copy\n",
            "  df_un[column_name] = df_un['x'] + noise\n",
            "<ipython-input-186-53997450bf65>:32: SettingWithCopyWarning: \n",
            "A value is trying to be set on a copy of a slice from a DataFrame.\n",
            "Try using .loc[row_indexer,col_indexer] = value instead\n",
            "\n",
            "See the caveats in the documentation: https://pandas.pydata.org/pandas-docs/stable/user_guide/indexing.html#returning-a-view-versus-a-copy\n",
            "  df_un[column_name] = df_un['x'] + noise\n",
            "<ipython-input-25-6b857bf310c0>:23: SettingWithCopyWarning: \n",
            "A value is trying to be set on a copy of a slice from a DataFrame\n",
            "\n",
            "See the caveats in the documentation: https://pandas.pydata.org/pandas-docs/stable/user_guide/indexing.html#returning-a-view-versus-a-copy\n",
            "  df[i-1:i].iloc[:, m] = np.nan\n"
          ]
        },
        {
          "output_type": "stream",
          "name": "stdout",
          "text": [
            "25/25 [==============================] - 9s 353ms/step\n"
          ]
        },
        {
          "output_type": "stream",
          "name": "stderr",
          "text": [
            "<ipython-input-190-a058d8cb0168>:16: FutureWarning: The frame.append method is deprecated and will be removed from pandas in a future version. Use pandas.concat instead.\n",
            "  estimations = estimations.append(final_predictions)\n",
            "<ipython-input-186-53997450bf65>:32: SettingWithCopyWarning: \n",
            "A value is trying to be set on a copy of a slice from a DataFrame.\n",
            "Try using .loc[row_indexer,col_indexer] = value instead\n",
            "\n",
            "See the caveats in the documentation: https://pandas.pydata.org/pandas-docs/stable/user_guide/indexing.html#returning-a-view-versus-a-copy\n",
            "  df_un[column_name] = df_un['x'] + noise\n",
            "<ipython-input-186-53997450bf65>:32: SettingWithCopyWarning: \n",
            "A value is trying to be set on a copy of a slice from a DataFrame.\n",
            "Try using .loc[row_indexer,col_indexer] = value instead\n",
            "\n",
            "See the caveats in the documentation: https://pandas.pydata.org/pandas-docs/stable/user_guide/indexing.html#returning-a-view-versus-a-copy\n",
            "  df_un[column_name] = df_un['x'] + noise\n",
            "<ipython-input-25-6b857bf310c0>:23: SettingWithCopyWarning: \n",
            "A value is trying to be set on a copy of a slice from a DataFrame\n",
            "\n",
            "See the caveats in the documentation: https://pandas.pydata.org/pandas-docs/stable/user_guide/indexing.html#returning-a-view-versus-a-copy\n",
            "  df[i-1:i].iloc[:, m] = np.nan\n"
          ]
        },
        {
          "output_type": "stream",
          "name": "stdout",
          "text": [
            "3/3 [==============================] - 1s 231ms/step\n"
          ]
        },
        {
          "output_type": "stream",
          "name": "stderr",
          "text": [
            "<ipython-input-190-a058d8cb0168>:16: FutureWarning: The frame.append method is deprecated and will be removed from pandas in a future version. Use pandas.concat instead.\n",
            "  estimations = estimations.append(final_predictions)\n",
            "<ipython-input-186-53997450bf65>:32: SettingWithCopyWarning: \n",
            "A value is trying to be set on a copy of a slice from a DataFrame.\n",
            "Try using .loc[row_indexer,col_indexer] = value instead\n",
            "\n",
            "See the caveats in the documentation: https://pandas.pydata.org/pandas-docs/stable/user_guide/indexing.html#returning-a-view-versus-a-copy\n",
            "  df_un[column_name] = df_un['x'] + noise\n",
            "<ipython-input-186-53997450bf65>:32: SettingWithCopyWarning: \n",
            "A value is trying to be set on a copy of a slice from a DataFrame.\n",
            "Try using .loc[row_indexer,col_indexer] = value instead\n",
            "\n",
            "See the caveats in the documentation: https://pandas.pydata.org/pandas-docs/stable/user_guide/indexing.html#returning-a-view-versus-a-copy\n",
            "  df_un[column_name] = df_un['x'] + noise\n",
            "<ipython-input-25-6b857bf310c0>:23: SettingWithCopyWarning: \n",
            "A value is trying to be set on a copy of a slice from a DataFrame\n",
            "\n",
            "See the caveats in the documentation: https://pandas.pydata.org/pandas-docs/stable/user_guide/indexing.html#returning-a-view-versus-a-copy\n",
            "  df[i-1:i].iloc[:, m] = np.nan\n"
          ]
        },
        {
          "output_type": "stream",
          "name": "stdout",
          "text": [
            "3/3 [==============================] - 1s 228ms/step\n"
          ]
        },
        {
          "output_type": "stream",
          "name": "stderr",
          "text": [
            "<ipython-input-190-a058d8cb0168>:16: FutureWarning: The frame.append method is deprecated and will be removed from pandas in a future version. Use pandas.concat instead.\n",
            "  estimations = estimations.append(final_predictions)\n",
            "<ipython-input-186-53997450bf65>:32: SettingWithCopyWarning: \n",
            "A value is trying to be set on a copy of a slice from a DataFrame.\n",
            "Try using .loc[row_indexer,col_indexer] = value instead\n",
            "\n",
            "See the caveats in the documentation: https://pandas.pydata.org/pandas-docs/stable/user_guide/indexing.html#returning-a-view-versus-a-copy\n",
            "  df_un[column_name] = df_un['x'] + noise\n",
            "<ipython-input-186-53997450bf65>:32: SettingWithCopyWarning: \n",
            "A value is trying to be set on a copy of a slice from a DataFrame.\n",
            "Try using .loc[row_indexer,col_indexer] = value instead\n",
            "\n",
            "See the caveats in the documentation: https://pandas.pydata.org/pandas-docs/stable/user_guide/indexing.html#returning-a-view-versus-a-copy\n",
            "  df_un[column_name] = df_un['x'] + noise\n",
            "<ipython-input-25-6b857bf310c0>:23: SettingWithCopyWarning: \n",
            "A value is trying to be set on a copy of a slice from a DataFrame\n",
            "\n",
            "See the caveats in the documentation: https://pandas.pydata.org/pandas-docs/stable/user_guide/indexing.html#returning-a-view-versus-a-copy\n",
            "  df[i-1:i].iloc[:, m] = np.nan\n"
          ]
        },
        {
          "output_type": "stream",
          "name": "stdout",
          "text": [
            "3/3 [==============================] - 1s 235ms/step\n"
          ]
        },
        {
          "output_type": "stream",
          "name": "stderr",
          "text": [
            "<ipython-input-190-a058d8cb0168>:16: FutureWarning: The frame.append method is deprecated and will be removed from pandas in a future version. Use pandas.concat instead.\n",
            "  estimations = estimations.append(final_predictions)\n",
            "<ipython-input-186-53997450bf65>:32: SettingWithCopyWarning: \n",
            "A value is trying to be set on a copy of a slice from a DataFrame.\n",
            "Try using .loc[row_indexer,col_indexer] = value instead\n",
            "\n",
            "See the caveats in the documentation: https://pandas.pydata.org/pandas-docs/stable/user_guide/indexing.html#returning-a-view-versus-a-copy\n",
            "  df_un[column_name] = df_un['x'] + noise\n",
            "<ipython-input-186-53997450bf65>:32: SettingWithCopyWarning: \n",
            "A value is trying to be set on a copy of a slice from a DataFrame.\n",
            "Try using .loc[row_indexer,col_indexer] = value instead\n",
            "\n",
            "See the caveats in the documentation: https://pandas.pydata.org/pandas-docs/stable/user_guide/indexing.html#returning-a-view-versus-a-copy\n",
            "  df_un[column_name] = df_un['x'] + noise\n",
            "<ipython-input-25-6b857bf310c0>:23: SettingWithCopyWarning: \n",
            "A value is trying to be set on a copy of a slice from a DataFrame\n",
            "\n",
            "See the caveats in the documentation: https://pandas.pydata.org/pandas-docs/stable/user_guide/indexing.html#returning-a-view-versus-a-copy\n",
            "  df[i-1:i].iloc[:, m] = np.nan\n"
          ]
        },
        {
          "output_type": "stream",
          "name": "stdout",
          "text": [
            "3/3 [==============================] - 1s 242ms/step\n"
          ]
        },
        {
          "output_type": "stream",
          "name": "stderr",
          "text": [
            "<ipython-input-190-a058d8cb0168>:16: FutureWarning: The frame.append method is deprecated and will be removed from pandas in a future version. Use pandas.concat instead.\n",
            "  estimations = estimations.append(final_predictions)\n",
            "<ipython-input-186-53997450bf65>:32: SettingWithCopyWarning: \n",
            "A value is trying to be set on a copy of a slice from a DataFrame.\n",
            "Try using .loc[row_indexer,col_indexer] = value instead\n",
            "\n",
            "See the caveats in the documentation: https://pandas.pydata.org/pandas-docs/stable/user_guide/indexing.html#returning-a-view-versus-a-copy\n",
            "  df_un[column_name] = df_un['x'] + noise\n",
            "<ipython-input-186-53997450bf65>:32: SettingWithCopyWarning: \n",
            "A value is trying to be set on a copy of a slice from a DataFrame.\n",
            "Try using .loc[row_indexer,col_indexer] = value instead\n",
            "\n",
            "See the caveats in the documentation: https://pandas.pydata.org/pandas-docs/stable/user_guide/indexing.html#returning-a-view-versus-a-copy\n",
            "  df_un[column_name] = df_un['x'] + noise\n",
            "<ipython-input-25-6b857bf310c0>:23: SettingWithCopyWarning: \n",
            "A value is trying to be set on a copy of a slice from a DataFrame\n",
            "\n",
            "See the caveats in the documentation: https://pandas.pydata.org/pandas-docs/stable/user_guide/indexing.html#returning-a-view-versus-a-copy\n",
            "  df[i-1:i].iloc[:, m] = np.nan\n"
          ]
        },
        {
          "output_type": "stream",
          "name": "stdout",
          "text": [
            "3/3 [==============================] - 1s 437ms/step\n"
          ]
        },
        {
          "output_type": "stream",
          "name": "stderr",
          "text": [
            "<ipython-input-190-a058d8cb0168>:16: FutureWarning: The frame.append method is deprecated and will be removed from pandas in a future version. Use pandas.concat instead.\n",
            "  estimations = estimations.append(final_predictions)\n",
            "<ipython-input-186-53997450bf65>:32: SettingWithCopyWarning: \n",
            "A value is trying to be set on a copy of a slice from a DataFrame.\n",
            "Try using .loc[row_indexer,col_indexer] = value instead\n",
            "\n",
            "See the caveats in the documentation: https://pandas.pydata.org/pandas-docs/stable/user_guide/indexing.html#returning-a-view-versus-a-copy\n",
            "  df_un[column_name] = df_un['x'] + noise\n",
            "<ipython-input-186-53997450bf65>:32: SettingWithCopyWarning: \n",
            "A value is trying to be set on a copy of a slice from a DataFrame.\n",
            "Try using .loc[row_indexer,col_indexer] = value instead\n",
            "\n",
            "See the caveats in the documentation: https://pandas.pydata.org/pandas-docs/stable/user_guide/indexing.html#returning-a-view-versus-a-copy\n",
            "  df_un[column_name] = df_un['x'] + noise\n",
            "<ipython-input-25-6b857bf310c0>:23: SettingWithCopyWarning: \n",
            "A value is trying to be set on a copy of a slice from a DataFrame\n",
            "\n",
            "See the caveats in the documentation: https://pandas.pydata.org/pandas-docs/stable/user_guide/indexing.html#returning-a-view-versus-a-copy\n",
            "  df[i-1:i].iloc[:, m] = np.nan\n"
          ]
        },
        {
          "output_type": "stream",
          "name": "stdout",
          "text": [
            "3/3 [==============================] - 1s 265ms/step\n"
          ]
        },
        {
          "output_type": "stream",
          "name": "stderr",
          "text": [
            "<ipython-input-190-a058d8cb0168>:16: FutureWarning: The frame.append method is deprecated and will be removed from pandas in a future version. Use pandas.concat instead.\n",
            "  estimations = estimations.append(final_predictions)\n",
            "<ipython-input-186-53997450bf65>:32: SettingWithCopyWarning: \n",
            "A value is trying to be set on a copy of a slice from a DataFrame.\n",
            "Try using .loc[row_indexer,col_indexer] = value instead\n",
            "\n",
            "See the caveats in the documentation: https://pandas.pydata.org/pandas-docs/stable/user_guide/indexing.html#returning-a-view-versus-a-copy\n",
            "  df_un[column_name] = df_un['x'] + noise\n",
            "<ipython-input-186-53997450bf65>:32: SettingWithCopyWarning: \n",
            "A value is trying to be set on a copy of a slice from a DataFrame.\n",
            "Try using .loc[row_indexer,col_indexer] = value instead\n",
            "\n",
            "See the caveats in the documentation: https://pandas.pydata.org/pandas-docs/stable/user_guide/indexing.html#returning-a-view-versus-a-copy\n",
            "  df_un[column_name] = df_un['x'] + noise\n",
            "<ipython-input-25-6b857bf310c0>:23: SettingWithCopyWarning: \n",
            "A value is trying to be set on a copy of a slice from a DataFrame\n",
            "\n",
            "See the caveats in the documentation: https://pandas.pydata.org/pandas-docs/stable/user_guide/indexing.html#returning-a-view-versus-a-copy\n",
            "  df[i-1:i].iloc[:, m] = np.nan\n"
          ]
        },
        {
          "output_type": "stream",
          "name": "stdout",
          "text": [
            "3/3 [==============================] - 1s 237ms/step\n"
          ]
        },
        {
          "output_type": "stream",
          "name": "stderr",
          "text": [
            "<ipython-input-190-a058d8cb0168>:16: FutureWarning: The frame.append method is deprecated and will be removed from pandas in a future version. Use pandas.concat instead.\n",
            "  estimations = estimations.append(final_predictions)\n",
            "<ipython-input-186-53997450bf65>:32: SettingWithCopyWarning: \n",
            "A value is trying to be set on a copy of a slice from a DataFrame.\n",
            "Try using .loc[row_indexer,col_indexer] = value instead\n",
            "\n",
            "See the caveats in the documentation: https://pandas.pydata.org/pandas-docs/stable/user_guide/indexing.html#returning-a-view-versus-a-copy\n",
            "  df_un[column_name] = df_un['x'] + noise\n",
            "<ipython-input-186-53997450bf65>:32: SettingWithCopyWarning: \n",
            "A value is trying to be set on a copy of a slice from a DataFrame.\n",
            "Try using .loc[row_indexer,col_indexer] = value instead\n",
            "\n",
            "See the caveats in the documentation: https://pandas.pydata.org/pandas-docs/stable/user_guide/indexing.html#returning-a-view-versus-a-copy\n",
            "  df_un[column_name] = df_un['x'] + noise\n",
            "<ipython-input-25-6b857bf310c0>:23: SettingWithCopyWarning: \n",
            "A value is trying to be set on a copy of a slice from a DataFrame\n",
            "\n",
            "See the caveats in the documentation: https://pandas.pydata.org/pandas-docs/stable/user_guide/indexing.html#returning-a-view-versus-a-copy\n",
            "  df[i-1:i].iloc[:, m] = np.nan\n"
          ]
        },
        {
          "output_type": "stream",
          "name": "stdout",
          "text": [
            "9/9 [==============================] - 3s 292ms/step\n"
          ]
        },
        {
          "output_type": "stream",
          "name": "stderr",
          "text": [
            "<ipython-input-190-a058d8cb0168>:16: FutureWarning: The frame.append method is deprecated and will be removed from pandas in a future version. Use pandas.concat instead.\n",
            "  estimations = estimations.append(final_predictions)\n",
            "<ipython-input-186-53997450bf65>:32: SettingWithCopyWarning: \n",
            "A value is trying to be set on a copy of a slice from a DataFrame.\n",
            "Try using .loc[row_indexer,col_indexer] = value instead\n",
            "\n",
            "See the caveats in the documentation: https://pandas.pydata.org/pandas-docs/stable/user_guide/indexing.html#returning-a-view-versus-a-copy\n",
            "  df_un[column_name] = df_un['x'] + noise\n",
            "<ipython-input-186-53997450bf65>:32: SettingWithCopyWarning: \n",
            "A value is trying to be set on a copy of a slice from a DataFrame.\n",
            "Try using .loc[row_indexer,col_indexer] = value instead\n",
            "\n",
            "See the caveats in the documentation: https://pandas.pydata.org/pandas-docs/stable/user_guide/indexing.html#returning-a-view-versus-a-copy\n",
            "  df_un[column_name] = df_un['x'] + noise\n",
            "<ipython-input-25-6b857bf310c0>:23: SettingWithCopyWarning: \n",
            "A value is trying to be set on a copy of a slice from a DataFrame\n",
            "\n",
            "See the caveats in the documentation: https://pandas.pydata.org/pandas-docs/stable/user_guide/indexing.html#returning-a-view-versus-a-copy\n",
            "  df[i-1:i].iloc[:, m] = np.nan\n"
          ]
        },
        {
          "output_type": "stream",
          "name": "stdout",
          "text": [
            "9/9 [==============================] - 4s 496ms/step\n"
          ]
        },
        {
          "output_type": "stream",
          "name": "stderr",
          "text": [
            "<ipython-input-190-a058d8cb0168>:16: FutureWarning: The frame.append method is deprecated and will be removed from pandas in a future version. Use pandas.concat instead.\n",
            "  estimations = estimations.append(final_predictions)\n",
            "<ipython-input-186-53997450bf65>:32: SettingWithCopyWarning: \n",
            "A value is trying to be set on a copy of a slice from a DataFrame.\n",
            "Try using .loc[row_indexer,col_indexer] = value instead\n",
            "\n",
            "See the caveats in the documentation: https://pandas.pydata.org/pandas-docs/stable/user_guide/indexing.html#returning-a-view-versus-a-copy\n",
            "  df_un[column_name] = df_un['x'] + noise\n",
            "<ipython-input-186-53997450bf65>:32: SettingWithCopyWarning: \n",
            "A value is trying to be set on a copy of a slice from a DataFrame.\n",
            "Try using .loc[row_indexer,col_indexer] = value instead\n",
            "\n",
            "See the caveats in the documentation: https://pandas.pydata.org/pandas-docs/stable/user_guide/indexing.html#returning-a-view-versus-a-copy\n",
            "  df_un[column_name] = df_un['x'] + noise\n",
            "<ipython-input-25-6b857bf310c0>:23: SettingWithCopyWarning: \n",
            "A value is trying to be set on a copy of a slice from a DataFrame\n",
            "\n",
            "See the caveats in the documentation: https://pandas.pydata.org/pandas-docs/stable/user_guide/indexing.html#returning-a-view-versus-a-copy\n",
            "  df[i-1:i].iloc[:, m] = np.nan\n"
          ]
        },
        {
          "output_type": "stream",
          "name": "stdout",
          "text": [
            "9/9 [==============================] - 3s 295ms/step\n"
          ]
        },
        {
          "output_type": "stream",
          "name": "stderr",
          "text": [
            "<ipython-input-190-a058d8cb0168>:16: FutureWarning: The frame.append method is deprecated and will be removed from pandas in a future version. Use pandas.concat instead.\n",
            "  estimations = estimations.append(final_predictions)\n",
            "<ipython-input-186-53997450bf65>:32: SettingWithCopyWarning: \n",
            "A value is trying to be set on a copy of a slice from a DataFrame.\n",
            "Try using .loc[row_indexer,col_indexer] = value instead\n",
            "\n",
            "See the caveats in the documentation: https://pandas.pydata.org/pandas-docs/stable/user_guide/indexing.html#returning-a-view-versus-a-copy\n",
            "  df_un[column_name] = df_un['x'] + noise\n",
            "<ipython-input-186-53997450bf65>:32: SettingWithCopyWarning: \n",
            "A value is trying to be set on a copy of a slice from a DataFrame.\n",
            "Try using .loc[row_indexer,col_indexer] = value instead\n",
            "\n",
            "See the caveats in the documentation: https://pandas.pydata.org/pandas-docs/stable/user_guide/indexing.html#returning-a-view-versus-a-copy\n",
            "  df_un[column_name] = df_un['x'] + noise\n",
            "<ipython-input-25-6b857bf310c0>:23: SettingWithCopyWarning: \n",
            "A value is trying to be set on a copy of a slice from a DataFrame\n",
            "\n",
            "See the caveats in the documentation: https://pandas.pydata.org/pandas-docs/stable/user_guide/indexing.html#returning-a-view-versus-a-copy\n",
            "  df[i-1:i].iloc[:, m] = np.nan\n"
          ]
        },
        {
          "output_type": "stream",
          "name": "stdout",
          "text": [
            "9/9 [==============================] - 4s 503ms/step\n"
          ]
        },
        {
          "output_type": "stream",
          "name": "stderr",
          "text": [
            "<ipython-input-190-a058d8cb0168>:16: FutureWarning: The frame.append method is deprecated and will be removed from pandas in a future version. Use pandas.concat instead.\n",
            "  estimations = estimations.append(final_predictions)\n",
            "<ipython-input-186-53997450bf65>:32: SettingWithCopyWarning: \n",
            "A value is trying to be set on a copy of a slice from a DataFrame.\n",
            "Try using .loc[row_indexer,col_indexer] = value instead\n",
            "\n",
            "See the caveats in the documentation: https://pandas.pydata.org/pandas-docs/stable/user_guide/indexing.html#returning-a-view-versus-a-copy\n",
            "  df_un[column_name] = df_un['x'] + noise\n",
            "<ipython-input-186-53997450bf65>:32: SettingWithCopyWarning: \n",
            "A value is trying to be set on a copy of a slice from a DataFrame.\n",
            "Try using .loc[row_indexer,col_indexer] = value instead\n",
            "\n",
            "See the caveats in the documentation: https://pandas.pydata.org/pandas-docs/stable/user_guide/indexing.html#returning-a-view-versus-a-copy\n",
            "  df_un[column_name] = df_un['x'] + noise\n",
            "<ipython-input-25-6b857bf310c0>:23: SettingWithCopyWarning: \n",
            "A value is trying to be set on a copy of a slice from a DataFrame\n",
            "\n",
            "See the caveats in the documentation: https://pandas.pydata.org/pandas-docs/stable/user_guide/indexing.html#returning-a-view-versus-a-copy\n",
            "  df[i-1:i].iloc[:, m] = np.nan\n"
          ]
        },
        {
          "output_type": "stream",
          "name": "stdout",
          "text": [
            "9/9 [==============================] - 3s 293ms/step\n"
          ]
        },
        {
          "output_type": "stream",
          "name": "stderr",
          "text": [
            "<ipython-input-190-a058d8cb0168>:16: FutureWarning: The frame.append method is deprecated and will be removed from pandas in a future version. Use pandas.concat instead.\n",
            "  estimations = estimations.append(final_predictions)\n",
            "<ipython-input-186-53997450bf65>:32: SettingWithCopyWarning: \n",
            "A value is trying to be set on a copy of a slice from a DataFrame.\n",
            "Try using .loc[row_indexer,col_indexer] = value instead\n",
            "\n",
            "See the caveats in the documentation: https://pandas.pydata.org/pandas-docs/stable/user_guide/indexing.html#returning-a-view-versus-a-copy\n",
            "  df_un[column_name] = df_un['x'] + noise\n",
            "<ipython-input-186-53997450bf65>:32: SettingWithCopyWarning: \n",
            "A value is trying to be set on a copy of a slice from a DataFrame.\n",
            "Try using .loc[row_indexer,col_indexer] = value instead\n",
            "\n",
            "See the caveats in the documentation: https://pandas.pydata.org/pandas-docs/stable/user_guide/indexing.html#returning-a-view-versus-a-copy\n",
            "  df_un[column_name] = df_un['x'] + noise\n",
            "<ipython-input-25-6b857bf310c0>:23: SettingWithCopyWarning: \n",
            "A value is trying to be set on a copy of a slice from a DataFrame\n",
            "\n",
            "See the caveats in the documentation: https://pandas.pydata.org/pandas-docs/stable/user_guide/indexing.html#returning-a-view-versus-a-copy\n",
            "  df[i-1:i].iloc[:, m] = np.nan\n"
          ]
        },
        {
          "output_type": "stream",
          "name": "stdout",
          "text": [
            "9/9 [==============================] - 4s 490ms/step\n"
          ]
        },
        {
          "output_type": "stream",
          "name": "stderr",
          "text": [
            "<ipython-input-190-a058d8cb0168>:16: FutureWarning: The frame.append method is deprecated and will be removed from pandas in a future version. Use pandas.concat instead.\n",
            "  estimations = estimations.append(final_predictions)\n",
            "<ipython-input-186-53997450bf65>:32: SettingWithCopyWarning: \n",
            "A value is trying to be set on a copy of a slice from a DataFrame.\n",
            "Try using .loc[row_indexer,col_indexer] = value instead\n",
            "\n",
            "See the caveats in the documentation: https://pandas.pydata.org/pandas-docs/stable/user_guide/indexing.html#returning-a-view-versus-a-copy\n",
            "  df_un[column_name] = df_un['x'] + noise\n",
            "<ipython-input-186-53997450bf65>:32: SettingWithCopyWarning: \n",
            "A value is trying to be set on a copy of a slice from a DataFrame.\n",
            "Try using .loc[row_indexer,col_indexer] = value instead\n",
            "\n",
            "See the caveats in the documentation: https://pandas.pydata.org/pandas-docs/stable/user_guide/indexing.html#returning-a-view-versus-a-copy\n",
            "  df_un[column_name] = df_un['x'] + noise\n",
            "<ipython-input-25-6b857bf310c0>:23: SettingWithCopyWarning: \n",
            "A value is trying to be set on a copy of a slice from a DataFrame\n",
            "\n",
            "See the caveats in the documentation: https://pandas.pydata.org/pandas-docs/stable/user_guide/indexing.html#returning-a-view-versus-a-copy\n",
            "  df[i-1:i].iloc[:, m] = np.nan\n"
          ]
        },
        {
          "output_type": "stream",
          "name": "stdout",
          "text": [
            "9/9 [==============================] - 3s 296ms/step\n"
          ]
        },
        {
          "output_type": "stream",
          "name": "stderr",
          "text": [
            "<ipython-input-190-a058d8cb0168>:16: FutureWarning: The frame.append method is deprecated and will be removed from pandas in a future version. Use pandas.concat instead.\n",
            "  estimations = estimations.append(final_predictions)\n",
            "<ipython-input-186-53997450bf65>:32: SettingWithCopyWarning: \n",
            "A value is trying to be set on a copy of a slice from a DataFrame.\n",
            "Try using .loc[row_indexer,col_indexer] = value instead\n",
            "\n",
            "See the caveats in the documentation: https://pandas.pydata.org/pandas-docs/stable/user_guide/indexing.html#returning-a-view-versus-a-copy\n",
            "  df_un[column_name] = df_un['x'] + noise\n",
            "<ipython-input-186-53997450bf65>:32: SettingWithCopyWarning: \n",
            "A value is trying to be set on a copy of a slice from a DataFrame.\n",
            "Try using .loc[row_indexer,col_indexer] = value instead\n",
            "\n",
            "See the caveats in the documentation: https://pandas.pydata.org/pandas-docs/stable/user_guide/indexing.html#returning-a-view-versus-a-copy\n",
            "  df_un[column_name] = df_un['x'] + noise\n",
            "<ipython-input-25-6b857bf310c0>:23: SettingWithCopyWarning: \n",
            "A value is trying to be set on a copy of a slice from a DataFrame\n",
            "\n",
            "See the caveats in the documentation: https://pandas.pydata.org/pandas-docs/stable/user_guide/indexing.html#returning-a-view-versus-a-copy\n",
            "  df[i-1:i].iloc[:, m] = np.nan\n"
          ]
        },
        {
          "output_type": "stream",
          "name": "stdout",
          "text": [
            "9/9 [==============================] - 4s 501ms/step\n"
          ]
        },
        {
          "output_type": "stream",
          "name": "stderr",
          "text": [
            "<ipython-input-190-a058d8cb0168>:16: FutureWarning: The frame.append method is deprecated and will be removed from pandas in a future version. Use pandas.concat instead.\n",
            "  estimations = estimations.append(final_predictions)\n",
            "<ipython-input-186-53997450bf65>:32: SettingWithCopyWarning: \n",
            "A value is trying to be set on a copy of a slice from a DataFrame.\n",
            "Try using .loc[row_indexer,col_indexer] = value instead\n",
            "\n",
            "See the caveats in the documentation: https://pandas.pydata.org/pandas-docs/stable/user_guide/indexing.html#returning-a-view-versus-a-copy\n",
            "  df_un[column_name] = df_un['x'] + noise\n",
            "<ipython-input-186-53997450bf65>:32: SettingWithCopyWarning: \n",
            "A value is trying to be set on a copy of a slice from a DataFrame.\n",
            "Try using .loc[row_indexer,col_indexer] = value instead\n",
            "\n",
            "See the caveats in the documentation: https://pandas.pydata.org/pandas-docs/stable/user_guide/indexing.html#returning-a-view-versus-a-copy\n",
            "  df_un[column_name] = df_un['x'] + noise\n",
            "<ipython-input-25-6b857bf310c0>:23: SettingWithCopyWarning: \n",
            "A value is trying to be set on a copy of a slice from a DataFrame\n",
            "\n",
            "See the caveats in the documentation: https://pandas.pydata.org/pandas-docs/stable/user_guide/indexing.html#returning-a-view-versus-a-copy\n",
            "  df[i-1:i].iloc[:, m] = np.nan\n"
          ]
        },
        {
          "output_type": "stream",
          "name": "stdout",
          "text": [
            "9/9 [==============================] - 3s 287ms/step\n"
          ]
        },
        {
          "output_type": "stream",
          "name": "stderr",
          "text": [
            "<ipython-input-190-a058d8cb0168>:16: FutureWarning: The frame.append method is deprecated and will be removed from pandas in a future version. Use pandas.concat instead.\n",
            "  estimations = estimations.append(final_predictions)\n",
            "<ipython-input-186-53997450bf65>:32: SettingWithCopyWarning: \n",
            "A value is trying to be set on a copy of a slice from a DataFrame.\n",
            "Try using .loc[row_indexer,col_indexer] = value instead\n",
            "\n",
            "See the caveats in the documentation: https://pandas.pydata.org/pandas-docs/stable/user_guide/indexing.html#returning-a-view-versus-a-copy\n",
            "  df_un[column_name] = df_un['x'] + noise\n",
            "<ipython-input-186-53997450bf65>:32: SettingWithCopyWarning: \n",
            "A value is trying to be set on a copy of a slice from a DataFrame.\n",
            "Try using .loc[row_indexer,col_indexer] = value instead\n",
            "\n",
            "See the caveats in the documentation: https://pandas.pydata.org/pandas-docs/stable/user_guide/indexing.html#returning-a-view-versus-a-copy\n",
            "  df_un[column_name] = df_un['x'] + noise\n",
            "<ipython-input-25-6b857bf310c0>:23: SettingWithCopyWarning: \n",
            "A value is trying to be set on a copy of a slice from a DataFrame\n",
            "\n",
            "See the caveats in the documentation: https://pandas.pydata.org/pandas-docs/stable/user_guide/indexing.html#returning-a-view-versus-a-copy\n",
            "  df[i-1:i].iloc[:, m] = np.nan\n"
          ]
        },
        {
          "output_type": "stream",
          "name": "stdout",
          "text": [
            "13/13 [==============================] - 5s 416ms/step\n"
          ]
        },
        {
          "output_type": "stream",
          "name": "stderr",
          "text": [
            "<ipython-input-190-a058d8cb0168>:16: FutureWarning: The frame.append method is deprecated and will be removed from pandas in a future version. Use pandas.concat instead.\n",
            "  estimations = estimations.append(final_predictions)\n",
            "<ipython-input-186-53997450bf65>:32: SettingWithCopyWarning: \n",
            "A value is trying to be set on a copy of a slice from a DataFrame.\n",
            "Try using .loc[row_indexer,col_indexer] = value instead\n",
            "\n",
            "See the caveats in the documentation: https://pandas.pydata.org/pandas-docs/stable/user_guide/indexing.html#returning-a-view-versus-a-copy\n",
            "  df_un[column_name] = df_un['x'] + noise\n",
            "<ipython-input-186-53997450bf65>:32: SettingWithCopyWarning: \n",
            "A value is trying to be set on a copy of a slice from a DataFrame.\n",
            "Try using .loc[row_indexer,col_indexer] = value instead\n",
            "\n",
            "See the caveats in the documentation: https://pandas.pydata.org/pandas-docs/stable/user_guide/indexing.html#returning-a-view-versus-a-copy\n",
            "  df_un[column_name] = df_un['x'] + noise\n",
            "<ipython-input-25-6b857bf310c0>:23: SettingWithCopyWarning: \n",
            "A value is trying to be set on a copy of a slice from a DataFrame\n",
            "\n",
            "See the caveats in the documentation: https://pandas.pydata.org/pandas-docs/stable/user_guide/indexing.html#returning-a-view-versus-a-copy\n",
            "  df[i-1:i].iloc[:, m] = np.nan\n"
          ]
        },
        {
          "output_type": "stream",
          "name": "stdout",
          "text": [
            "13/13 [==============================] - 6s 443ms/step\n"
          ]
        },
        {
          "output_type": "stream",
          "name": "stderr",
          "text": [
            "<ipython-input-190-a058d8cb0168>:16: FutureWarning: The frame.append method is deprecated and will be removed from pandas in a future version. Use pandas.concat instead.\n",
            "  estimations = estimations.append(final_predictions)\n",
            "<ipython-input-186-53997450bf65>:32: SettingWithCopyWarning: \n",
            "A value is trying to be set on a copy of a slice from a DataFrame.\n",
            "Try using .loc[row_indexer,col_indexer] = value instead\n",
            "\n",
            "See the caveats in the documentation: https://pandas.pydata.org/pandas-docs/stable/user_guide/indexing.html#returning-a-view-versus-a-copy\n",
            "  df_un[column_name] = df_un['x'] + noise\n",
            "<ipython-input-186-53997450bf65>:32: SettingWithCopyWarning: \n",
            "A value is trying to be set on a copy of a slice from a DataFrame.\n",
            "Try using .loc[row_indexer,col_indexer] = value instead\n",
            "\n",
            "See the caveats in the documentation: https://pandas.pydata.org/pandas-docs/stable/user_guide/indexing.html#returning-a-view-versus-a-copy\n",
            "  df_un[column_name] = df_un['x'] + noise\n",
            "<ipython-input-25-6b857bf310c0>:23: SettingWithCopyWarning: \n",
            "A value is trying to be set on a copy of a slice from a DataFrame\n",
            "\n",
            "See the caveats in the documentation: https://pandas.pydata.org/pandas-docs/stable/user_guide/indexing.html#returning-a-view-versus-a-copy\n",
            "  df[i-1:i].iloc[:, m] = np.nan\n"
          ]
        },
        {
          "output_type": "stream",
          "name": "stdout",
          "text": [
            "13/13 [==============================] - 4s 281ms/step\n"
          ]
        },
        {
          "output_type": "stream",
          "name": "stderr",
          "text": [
            "<ipython-input-190-a058d8cb0168>:16: FutureWarning: The frame.append method is deprecated and will be removed from pandas in a future version. Use pandas.concat instead.\n",
            "  estimations = estimations.append(final_predictions)\n",
            "<ipython-input-186-53997450bf65>:32: SettingWithCopyWarning: \n",
            "A value is trying to be set on a copy of a slice from a DataFrame.\n",
            "Try using .loc[row_indexer,col_indexer] = value instead\n",
            "\n",
            "See the caveats in the documentation: https://pandas.pydata.org/pandas-docs/stable/user_guide/indexing.html#returning-a-view-versus-a-copy\n",
            "  df_un[column_name] = df_un['x'] + noise\n",
            "<ipython-input-186-53997450bf65>:32: SettingWithCopyWarning: \n",
            "A value is trying to be set on a copy of a slice from a DataFrame.\n",
            "Try using .loc[row_indexer,col_indexer] = value instead\n",
            "\n",
            "See the caveats in the documentation: https://pandas.pydata.org/pandas-docs/stable/user_guide/indexing.html#returning-a-view-versus-a-copy\n",
            "  df_un[column_name] = df_un['x'] + noise\n",
            "<ipython-input-25-6b857bf310c0>:23: SettingWithCopyWarning: \n",
            "A value is trying to be set on a copy of a slice from a DataFrame\n",
            "\n",
            "See the caveats in the documentation: https://pandas.pydata.org/pandas-docs/stable/user_guide/indexing.html#returning-a-view-versus-a-copy\n",
            "  df[i-1:i].iloc[:, m] = np.nan\n"
          ]
        },
        {
          "output_type": "stream",
          "name": "stdout",
          "text": [
            "13/13 [==============================] - 5s 389ms/step\n"
          ]
        },
        {
          "output_type": "stream",
          "name": "stderr",
          "text": [
            "<ipython-input-190-a058d8cb0168>:16: FutureWarning: The frame.append method is deprecated and will be removed from pandas in a future version. Use pandas.concat instead.\n",
            "  estimations = estimations.append(final_predictions)\n",
            "<ipython-input-186-53997450bf65>:32: SettingWithCopyWarning: \n",
            "A value is trying to be set on a copy of a slice from a DataFrame.\n",
            "Try using .loc[row_indexer,col_indexer] = value instead\n",
            "\n",
            "See the caveats in the documentation: https://pandas.pydata.org/pandas-docs/stable/user_guide/indexing.html#returning-a-view-versus-a-copy\n",
            "  df_un[column_name] = df_un['x'] + noise\n",
            "<ipython-input-186-53997450bf65>:32: SettingWithCopyWarning: \n",
            "A value is trying to be set on a copy of a slice from a DataFrame.\n",
            "Try using .loc[row_indexer,col_indexer] = value instead\n",
            "\n",
            "See the caveats in the documentation: https://pandas.pydata.org/pandas-docs/stable/user_guide/indexing.html#returning-a-view-versus-a-copy\n",
            "  df_un[column_name] = df_un['x'] + noise\n",
            "<ipython-input-25-6b857bf310c0>:23: SettingWithCopyWarning: \n",
            "A value is trying to be set on a copy of a slice from a DataFrame\n",
            "\n",
            "See the caveats in the documentation: https://pandas.pydata.org/pandas-docs/stable/user_guide/indexing.html#returning-a-view-versus-a-copy\n",
            "  df[i-1:i].iloc[:, m] = np.nan\n"
          ]
        },
        {
          "output_type": "stream",
          "name": "stdout",
          "text": [
            "13/13 [==============================] - 4s 282ms/step\n"
          ]
        },
        {
          "output_type": "stream",
          "name": "stderr",
          "text": [
            "<ipython-input-190-a058d8cb0168>:16: FutureWarning: The frame.append method is deprecated and will be removed from pandas in a future version. Use pandas.concat instead.\n",
            "  estimations = estimations.append(final_predictions)\n",
            "<ipython-input-186-53997450bf65>:32: SettingWithCopyWarning: \n",
            "A value is trying to be set on a copy of a slice from a DataFrame.\n",
            "Try using .loc[row_indexer,col_indexer] = value instead\n",
            "\n",
            "See the caveats in the documentation: https://pandas.pydata.org/pandas-docs/stable/user_guide/indexing.html#returning-a-view-versus-a-copy\n",
            "  df_un[column_name] = df_un['x'] + noise\n",
            "<ipython-input-186-53997450bf65>:32: SettingWithCopyWarning: \n",
            "A value is trying to be set on a copy of a slice from a DataFrame.\n",
            "Try using .loc[row_indexer,col_indexer] = value instead\n",
            "\n",
            "See the caveats in the documentation: https://pandas.pydata.org/pandas-docs/stable/user_guide/indexing.html#returning-a-view-versus-a-copy\n",
            "  df_un[column_name] = df_un['x'] + noise\n",
            "<ipython-input-25-6b857bf310c0>:23: SettingWithCopyWarning: \n",
            "A value is trying to be set on a copy of a slice from a DataFrame\n",
            "\n",
            "See the caveats in the documentation: https://pandas.pydata.org/pandas-docs/stable/user_guide/indexing.html#returning-a-view-versus-a-copy\n",
            "  df[i-1:i].iloc[:, m] = np.nan\n"
          ]
        },
        {
          "output_type": "stream",
          "name": "stdout",
          "text": [
            "13/13 [==============================] - 5s 430ms/step\n"
          ]
        },
        {
          "output_type": "stream",
          "name": "stderr",
          "text": [
            "<ipython-input-190-a058d8cb0168>:16: FutureWarning: The frame.append method is deprecated and will be removed from pandas in a future version. Use pandas.concat instead.\n",
            "  estimations = estimations.append(final_predictions)\n",
            "<ipython-input-186-53997450bf65>:32: SettingWithCopyWarning: \n",
            "A value is trying to be set on a copy of a slice from a DataFrame.\n",
            "Try using .loc[row_indexer,col_indexer] = value instead\n",
            "\n",
            "See the caveats in the documentation: https://pandas.pydata.org/pandas-docs/stable/user_guide/indexing.html#returning-a-view-versus-a-copy\n",
            "  df_un[column_name] = df_un['x'] + noise\n",
            "<ipython-input-186-53997450bf65>:32: SettingWithCopyWarning: \n",
            "A value is trying to be set on a copy of a slice from a DataFrame.\n",
            "Try using .loc[row_indexer,col_indexer] = value instead\n",
            "\n",
            "See the caveats in the documentation: https://pandas.pydata.org/pandas-docs/stable/user_guide/indexing.html#returning-a-view-versus-a-copy\n",
            "  df_un[column_name] = df_un['x'] + noise\n",
            "<ipython-input-25-6b857bf310c0>:23: SettingWithCopyWarning: \n",
            "A value is trying to be set on a copy of a slice from a DataFrame\n",
            "\n",
            "See the caveats in the documentation: https://pandas.pydata.org/pandas-docs/stable/user_guide/indexing.html#returning-a-view-versus-a-copy\n",
            "  df[i-1:i].iloc[:, m] = np.nan\n"
          ]
        },
        {
          "output_type": "stream",
          "name": "stdout",
          "text": [
            "13/13 [==============================] - 5s 420ms/step\n"
          ]
        },
        {
          "output_type": "stream",
          "name": "stderr",
          "text": [
            "<ipython-input-190-a058d8cb0168>:16: FutureWarning: The frame.append method is deprecated and will be removed from pandas in a future version. Use pandas.concat instead.\n",
            "  estimations = estimations.append(final_predictions)\n",
            "<ipython-input-186-53997450bf65>:32: SettingWithCopyWarning: \n",
            "A value is trying to be set on a copy of a slice from a DataFrame.\n",
            "Try using .loc[row_indexer,col_indexer] = value instead\n",
            "\n",
            "See the caveats in the documentation: https://pandas.pydata.org/pandas-docs/stable/user_guide/indexing.html#returning-a-view-versus-a-copy\n",
            "  df_un[column_name] = df_un['x'] + noise\n",
            "<ipython-input-186-53997450bf65>:32: SettingWithCopyWarning: \n",
            "A value is trying to be set on a copy of a slice from a DataFrame.\n",
            "Try using .loc[row_indexer,col_indexer] = value instead\n",
            "\n",
            "See the caveats in the documentation: https://pandas.pydata.org/pandas-docs/stable/user_guide/indexing.html#returning-a-view-versus-a-copy\n",
            "  df_un[column_name] = df_un['x'] + noise\n",
            "<ipython-input-25-6b857bf310c0>:23: SettingWithCopyWarning: \n",
            "A value is trying to be set on a copy of a slice from a DataFrame\n",
            "\n",
            "See the caveats in the documentation: https://pandas.pydata.org/pandas-docs/stable/user_guide/indexing.html#returning-a-view-versus-a-copy\n",
            "  df[i-1:i].iloc[:, m] = np.nan\n"
          ]
        },
        {
          "output_type": "stream",
          "name": "stdout",
          "text": [
            "13/13 [==============================] - 4s 322ms/step\n"
          ]
        },
        {
          "output_type": "stream",
          "name": "stderr",
          "text": [
            "<ipython-input-190-a058d8cb0168>:16: FutureWarning: The frame.append method is deprecated and will be removed from pandas in a future version. Use pandas.concat instead.\n",
            "  estimations = estimations.append(final_predictions)\n",
            "<ipython-input-186-53997450bf65>:32: SettingWithCopyWarning: \n",
            "A value is trying to be set on a copy of a slice from a DataFrame.\n",
            "Try using .loc[row_indexer,col_indexer] = value instead\n",
            "\n",
            "See the caveats in the documentation: https://pandas.pydata.org/pandas-docs/stable/user_guide/indexing.html#returning-a-view-versus-a-copy\n",
            "  df_un[column_name] = df_un['x'] + noise\n",
            "<ipython-input-186-53997450bf65>:32: SettingWithCopyWarning: \n",
            "A value is trying to be set on a copy of a slice from a DataFrame.\n",
            "Try using .loc[row_indexer,col_indexer] = value instead\n",
            "\n",
            "See the caveats in the documentation: https://pandas.pydata.org/pandas-docs/stable/user_guide/indexing.html#returning-a-view-versus-a-copy\n",
            "  df_un[column_name] = df_un['x'] + noise\n",
            "<ipython-input-25-6b857bf310c0>:23: SettingWithCopyWarning: \n",
            "A value is trying to be set on a copy of a slice from a DataFrame\n",
            "\n",
            "See the caveats in the documentation: https://pandas.pydata.org/pandas-docs/stable/user_guide/indexing.html#returning-a-view-versus-a-copy\n",
            "  df[i-1:i].iloc[:, m] = np.nan\n"
          ]
        },
        {
          "output_type": "stream",
          "name": "stdout",
          "text": [
            "13/13 [==============================] - 4s 294ms/step\n"
          ]
        },
        {
          "output_type": "stream",
          "name": "stderr",
          "text": [
            "<ipython-input-190-a058d8cb0168>:16: FutureWarning: The frame.append method is deprecated and will be removed from pandas in a future version. Use pandas.concat instead.\n",
            "  estimations = estimations.append(final_predictions)\n",
            "<ipython-input-186-53997450bf65>:32: SettingWithCopyWarning: \n",
            "A value is trying to be set on a copy of a slice from a DataFrame.\n",
            "Try using .loc[row_indexer,col_indexer] = value instead\n",
            "\n",
            "See the caveats in the documentation: https://pandas.pydata.org/pandas-docs/stable/user_guide/indexing.html#returning-a-view-versus-a-copy\n",
            "  df_un[column_name] = df_un['x'] + noise\n",
            "<ipython-input-186-53997450bf65>:32: SettingWithCopyWarning: \n",
            "A value is trying to be set on a copy of a slice from a DataFrame.\n",
            "Try using .loc[row_indexer,col_indexer] = value instead\n",
            "\n",
            "See the caveats in the documentation: https://pandas.pydata.org/pandas-docs/stable/user_guide/indexing.html#returning-a-view-versus-a-copy\n",
            "  df_un[column_name] = df_un['x'] + noise\n",
            "<ipython-input-25-6b857bf310c0>:23: SettingWithCopyWarning: \n",
            "A value is trying to be set on a copy of a slice from a DataFrame\n",
            "\n",
            "See the caveats in the documentation: https://pandas.pydata.org/pandas-docs/stable/user_guide/indexing.html#returning-a-view-versus-a-copy\n",
            "  df[i-1:i].iloc[:, m] = np.nan\n"
          ]
        },
        {
          "output_type": "stream",
          "name": "stdout",
          "text": [
            "31/31 [==============================] - 10s 309ms/step\n"
          ]
        },
        {
          "output_type": "stream",
          "name": "stderr",
          "text": [
            "<ipython-input-190-a058d8cb0168>:16: FutureWarning: The frame.append method is deprecated and will be removed from pandas in a future version. Use pandas.concat instead.\n",
            "  estimations = estimations.append(final_predictions)\n",
            "<ipython-input-186-53997450bf65>:32: SettingWithCopyWarning: \n",
            "A value is trying to be set on a copy of a slice from a DataFrame.\n",
            "Try using .loc[row_indexer,col_indexer] = value instead\n",
            "\n",
            "See the caveats in the documentation: https://pandas.pydata.org/pandas-docs/stable/user_guide/indexing.html#returning-a-view-versus-a-copy\n",
            "  df_un[column_name] = df_un['x'] + noise\n",
            "<ipython-input-186-53997450bf65>:32: SettingWithCopyWarning: \n",
            "A value is trying to be set on a copy of a slice from a DataFrame.\n",
            "Try using .loc[row_indexer,col_indexer] = value instead\n",
            "\n",
            "See the caveats in the documentation: https://pandas.pydata.org/pandas-docs/stable/user_guide/indexing.html#returning-a-view-versus-a-copy\n",
            "  df_un[column_name] = df_un['x'] + noise\n",
            "<ipython-input-25-6b857bf310c0>:23: SettingWithCopyWarning: \n",
            "A value is trying to be set on a copy of a slice from a DataFrame\n",
            "\n",
            "See the caveats in the documentation: https://pandas.pydata.org/pandas-docs/stable/user_guide/indexing.html#returning-a-view-versus-a-copy\n",
            "  df[i-1:i].iloc[:, m] = np.nan\n"
          ]
        },
        {
          "output_type": "stream",
          "name": "stdout",
          "text": [
            "31/31 [==============================] - 11s 345ms/step\n"
          ]
        },
        {
          "output_type": "stream",
          "name": "stderr",
          "text": [
            "<ipython-input-190-a058d8cb0168>:16: FutureWarning: The frame.append method is deprecated and will be removed from pandas in a future version. Use pandas.concat instead.\n",
            "  estimations = estimations.append(final_predictions)\n",
            "<ipython-input-186-53997450bf65>:32: SettingWithCopyWarning: \n",
            "A value is trying to be set on a copy of a slice from a DataFrame.\n",
            "Try using .loc[row_indexer,col_indexer] = value instead\n",
            "\n",
            "See the caveats in the documentation: https://pandas.pydata.org/pandas-docs/stable/user_guide/indexing.html#returning-a-view-versus-a-copy\n",
            "  df_un[column_name] = df_un['x'] + noise\n",
            "<ipython-input-186-53997450bf65>:32: SettingWithCopyWarning: \n",
            "A value is trying to be set on a copy of a slice from a DataFrame.\n",
            "Try using .loc[row_indexer,col_indexer] = value instead\n",
            "\n",
            "See the caveats in the documentation: https://pandas.pydata.org/pandas-docs/stable/user_guide/indexing.html#returning-a-view-versus-a-copy\n",
            "  df_un[column_name] = df_un['x'] + noise\n",
            "<ipython-input-25-6b857bf310c0>:23: SettingWithCopyWarning: \n",
            "A value is trying to be set on a copy of a slice from a DataFrame\n",
            "\n",
            "See the caveats in the documentation: https://pandas.pydata.org/pandas-docs/stable/user_guide/indexing.html#returning-a-view-versus-a-copy\n",
            "  df[i-1:i].iloc[:, m] = np.nan\n"
          ]
        },
        {
          "output_type": "stream",
          "name": "stdout",
          "text": [
            "31/31 [==============================] - 12s 393ms/step\n"
          ]
        },
        {
          "output_type": "stream",
          "name": "stderr",
          "text": [
            "<ipython-input-190-a058d8cb0168>:16: FutureWarning: The frame.append method is deprecated and will be removed from pandas in a future version. Use pandas.concat instead.\n",
            "  estimations = estimations.append(final_predictions)\n",
            "<ipython-input-186-53997450bf65>:32: SettingWithCopyWarning: \n",
            "A value is trying to be set on a copy of a slice from a DataFrame.\n",
            "Try using .loc[row_indexer,col_indexer] = value instead\n",
            "\n",
            "See the caveats in the documentation: https://pandas.pydata.org/pandas-docs/stable/user_guide/indexing.html#returning-a-view-versus-a-copy\n",
            "  df_un[column_name] = df_un['x'] + noise\n",
            "<ipython-input-186-53997450bf65>:32: SettingWithCopyWarning: \n",
            "A value is trying to be set on a copy of a slice from a DataFrame.\n",
            "Try using .loc[row_indexer,col_indexer] = value instead\n",
            "\n",
            "See the caveats in the documentation: https://pandas.pydata.org/pandas-docs/stable/user_guide/indexing.html#returning-a-view-versus-a-copy\n",
            "  df_un[column_name] = df_un['x'] + noise\n",
            "<ipython-input-25-6b857bf310c0>:23: SettingWithCopyWarning: \n",
            "A value is trying to be set on a copy of a slice from a DataFrame\n",
            "\n",
            "See the caveats in the documentation: https://pandas.pydata.org/pandas-docs/stable/user_guide/indexing.html#returning-a-view-versus-a-copy\n",
            "  df[i-1:i].iloc[:, m] = np.nan\n"
          ]
        },
        {
          "output_type": "stream",
          "name": "stdout",
          "text": [
            "31/31 [==============================] - 10s 316ms/step\n"
          ]
        },
        {
          "output_type": "stream",
          "name": "stderr",
          "text": [
            "<ipython-input-190-a058d8cb0168>:16: FutureWarning: The frame.append method is deprecated and will be removed from pandas in a future version. Use pandas.concat instead.\n",
            "  estimations = estimations.append(final_predictions)\n",
            "<ipython-input-186-53997450bf65>:32: SettingWithCopyWarning: \n",
            "A value is trying to be set on a copy of a slice from a DataFrame.\n",
            "Try using .loc[row_indexer,col_indexer] = value instead\n",
            "\n",
            "See the caveats in the documentation: https://pandas.pydata.org/pandas-docs/stable/user_guide/indexing.html#returning-a-view-versus-a-copy\n",
            "  df_un[column_name] = df_un['x'] + noise\n",
            "<ipython-input-186-53997450bf65>:32: SettingWithCopyWarning: \n",
            "A value is trying to be set on a copy of a slice from a DataFrame.\n",
            "Try using .loc[row_indexer,col_indexer] = value instead\n",
            "\n",
            "See the caveats in the documentation: https://pandas.pydata.org/pandas-docs/stable/user_guide/indexing.html#returning-a-view-versus-a-copy\n",
            "  df_un[column_name] = df_un['x'] + noise\n",
            "<ipython-input-25-6b857bf310c0>:23: SettingWithCopyWarning: \n",
            "A value is trying to be set on a copy of a slice from a DataFrame\n",
            "\n",
            "See the caveats in the documentation: https://pandas.pydata.org/pandas-docs/stable/user_guide/indexing.html#returning-a-view-versus-a-copy\n",
            "  df[i-1:i].iloc[:, m] = np.nan\n"
          ]
        },
        {
          "output_type": "stream",
          "name": "stdout",
          "text": [
            "31/31 [==============================] - 11s 344ms/step\n"
          ]
        },
        {
          "output_type": "stream",
          "name": "stderr",
          "text": [
            "<ipython-input-190-a058d8cb0168>:16: FutureWarning: The frame.append method is deprecated and will be removed from pandas in a future version. Use pandas.concat instead.\n",
            "  estimations = estimations.append(final_predictions)\n",
            "<ipython-input-186-53997450bf65>:32: SettingWithCopyWarning: \n",
            "A value is trying to be set on a copy of a slice from a DataFrame.\n",
            "Try using .loc[row_indexer,col_indexer] = value instead\n",
            "\n",
            "See the caveats in the documentation: https://pandas.pydata.org/pandas-docs/stable/user_guide/indexing.html#returning-a-view-versus-a-copy\n",
            "  df_un[column_name] = df_un['x'] + noise\n",
            "<ipython-input-186-53997450bf65>:32: SettingWithCopyWarning: \n",
            "A value is trying to be set on a copy of a slice from a DataFrame.\n",
            "Try using .loc[row_indexer,col_indexer] = value instead\n",
            "\n",
            "See the caveats in the documentation: https://pandas.pydata.org/pandas-docs/stable/user_guide/indexing.html#returning-a-view-versus-a-copy\n",
            "  df_un[column_name] = df_un['x'] + noise\n",
            "<ipython-input-25-6b857bf310c0>:23: SettingWithCopyWarning: \n",
            "A value is trying to be set on a copy of a slice from a DataFrame\n",
            "\n",
            "See the caveats in the documentation: https://pandas.pydata.org/pandas-docs/stable/user_guide/indexing.html#returning-a-view-versus-a-copy\n",
            "  df[i-1:i].iloc[:, m] = np.nan\n"
          ]
        }
      ]
    }
  ]
}